{
 "cells": [
  {
   "cell_type": "markdown",
   "metadata": {},
   "source": [
    "# Setup"
   ]
  },
  {
   "cell_type": "code",
   "execution_count": 1,
   "metadata": {},
   "outputs": [],
   "source": [
    "%reload_ext autoreload\n",
    "%autoreload 2\n",
    "%matplotlib inline"
   ]
  },
  {
   "cell_type": "code",
   "execution_count": 2,
   "metadata": {},
   "outputs": [],
   "source": [
    "from pathlib import Path\n",
    "from functools import partial\n",
    "import sklearn"
   ]
  },
  {
   "cell_type": "code",
   "execution_count": 3,
   "metadata": {},
   "outputs": [],
   "source": [
    "from fastai import *\n",
    "from fastai.vision import *"
   ]
  },
  {
   "cell_type": "code",
   "execution_count": 4,
   "metadata": {},
   "outputs": [
    {
     "data": {
      "text/plain": [
       "(PosixPath('/home/ubuntu/off-sample/GS'), True)"
      ]
     },
     "execution_count": 4,
     "metadata": {},
     "output_type": "execute_result"
    }
   ],
   "source": [
    "gs_path = Path('./GS')\n",
    "gs_path.absolute(), gs_path.exists()"
   ]
  },
  {
   "cell_type": "markdown",
   "metadata": {},
   "source": [
    "# Load and Prepare Data"
   ]
  },
  {
   "cell_type": "code",
   "execution_count": 5,
   "metadata": {
    "code_folding": [
     0
    ]
   },
   "outputs": [],
   "source": [
    "non_rect_ds_names = {\n",
    "    'HK_S2_N2_20um_New', '12_cylces_75um_new_submission',\n",
    "    '50um_min(focusing)_high(m_z)_dry(application)', '100um_noM2_001_Recal', '50%meoh_8cyc_75um',\n",
    "    'Servier_Ctrl_mouse_wb_lateral_plane_DHB','75um_small(focusing)_high(m_z)_dry(application)',\n",
    "    'Servier_Ctrl_rat_liver_9aa', 'servier_TT_mouse_wb_fmpts_derivatization_CHCA',\n",
    "    'Servier_Ctrl_mouse_wb_median_plane_9aa', '20171110_94T_RDAM_1b',\n",
    "    'Servier_Ctrl_mouse_wb_median_plane_DHB', 'slide077_animal121_rat_kidney - total ion count',\n",
    "    '170321_kangaroobrain-bpyn1-pos_maxof50.0_med1r', '70%meoh_8cyc_75um',\n",
    "    '75um_small(focusing)_low(m_z)_dry(application)', 'slide012_animal102_minipig_kidney- total ion count'}"
   ]
  },
  {
   "cell_type": "markdown",
   "metadata": {
    "heading_collapsed": true
   },
   "source": [
    "### Classify Using Basic Features"
   ]
  },
  {
   "cell_type": "code",
   "execution_count": 6,
   "metadata": {
    "hidden": true
   },
   "outputs": [
    {
     "data": {
      "text/html": [
       "<div>\n",
       "<style scoped>\n",
       "    .dataframe tbody tr th:only-of-type {\n",
       "        vertical-align: middle;\n",
       "    }\n",
       "\n",
       "    .dataframe tbody tr th {\n",
       "        vertical-align: top;\n",
       "    }\n",
       "\n",
       "    .dataframe thead th {\n",
       "        text-align: right;\n",
       "    }\n",
       "</style>\n",
       "<table border=\"1\" class=\"dataframe\">\n",
       "  <thead>\n",
       "    <tr style=\"text-align: right;\">\n",
       "      <th></th>\n",
       "      <th>Unnamed: 0</th>\n",
       "      <th>datasetId</th>\n",
       "      <th>dsName</th>\n",
       "      <th>sumFormula</th>\n",
       "      <th>adduct</th>\n",
       "      <th>type</th>\n",
       "    </tr>\n",
       "  </thead>\n",
       "  <tbody>\n",
       "    <tr>\n",
       "      <th>0</th>\n",
       "      <td>23322</td>\n",
       "      <td>2016-09-21_16h07m21s</td>\n",
       "      <td>UoNotreDame//Untreated_6_574</td>\n",
       "      <td>C10H11NO</td>\n",
       "      <td>+Na</td>\n",
       "      <td>on</td>\n",
       "    </tr>\n",
       "    <tr>\n",
       "      <th>1</th>\n",
       "      <td>23323</td>\n",
       "      <td>2016-09-21_16h07m21s</td>\n",
       "      <td>UoNotreDame//Untreated_6_574</td>\n",
       "      <td>C7H15NO2</td>\n",
       "      <td>+K</td>\n",
       "      <td>on</td>\n",
       "    </tr>\n",
       "    <tr>\n",
       "      <th>2</th>\n",
       "      <td>23324</td>\n",
       "      <td>2016-09-21_16h07m21s</td>\n",
       "      <td>UoNotreDame//Untreated_6_574</td>\n",
       "      <td>C8H17NO2</td>\n",
       "      <td>+K</td>\n",
       "      <td>on</td>\n",
       "    </tr>\n",
       "    <tr>\n",
       "      <th>3</th>\n",
       "      <td>23325</td>\n",
       "      <td>2016-09-21_16h07m21s</td>\n",
       "      <td>UoNotreDame//Untreated_6_574</td>\n",
       "      <td>C11H8O3</td>\n",
       "      <td>+H</td>\n",
       "      <td>off</td>\n",
       "    </tr>\n",
       "    <tr>\n",
       "      <th>4</th>\n",
       "      <td>23326</td>\n",
       "      <td>2016-09-21_16h07m21s</td>\n",
       "      <td>UoNotreDame//Untreated_6_574</td>\n",
       "      <td>C11H6O3</td>\n",
       "      <td>+H</td>\n",
       "      <td>off</td>\n",
       "    </tr>\n",
       "  </tbody>\n",
       "</table>\n",
       "</div>"
      ],
      "text/plain": [
       "   Unnamed: 0             datasetId                        dsName sumFormula  \\\n",
       "0       23322  2016-09-21_16h07m21s  UoNotreDame//Untreated_6_574   C10H11NO   \n",
       "1       23323  2016-09-21_16h07m21s  UoNotreDame//Untreated_6_574   C7H15NO2   \n",
       "2       23324  2016-09-21_16h07m21s  UoNotreDame//Untreated_6_574   C8H17NO2   \n",
       "3       23325  2016-09-21_16h07m21s  UoNotreDame//Untreated_6_574    C11H8O3   \n",
       "4       23326  2016-09-21_16h07m21s  UoNotreDame//Untreated_6_574    C11H6O3   \n",
       "\n",
       "  adduct type  \n",
       "0    +Na   on  \n",
       "1     +K   on  \n",
       "2     +K   on  \n",
       "3     +H  off  \n",
       "4     +H  off  "
      ]
     },
     "execution_count": 6,
     "metadata": {},
     "output_type": "execute_result"
    }
   ],
   "source": [
    "gs_df = pd.read_csv('GS.csv')\n",
    "gs_df.head()"
   ]
  },
  {
   "cell_type": "code",
   "execution_count": 7,
   "metadata": {
    "hidden": true
   },
   "outputs": [
    {
     "data": {
      "text/plain": [
       "adduct  type\n",
       "+Cl     off      375\n",
       "        on      1087\n",
       "+H      off     2665\n",
       "        on      2806\n",
       "+K      off     2705\n",
       "        on      2858\n",
       "+Na     off     2634\n",
       "        on      2834\n",
       "-H      off     1530\n",
       "        on      3744\n",
       "Name: sumFormula, dtype: int64"
      ]
     },
     "execution_count": 7,
     "metadata": {},
     "output_type": "execute_result"
    }
   ],
   "source": [
    "gs_df.groupby(['adduct', 'type']).sumFormula.count()"
   ]
  },
  {
   "cell_type": "code",
   "execution_count": 8,
   "metadata": {
    "hidden": true
   },
   "outputs": [
    {
     "data": {
      "text/html": [
       "<div>\n",
       "<style scoped>\n",
       "    .dataframe tbody tr th:only-of-type {\n",
       "        vertical-align: middle;\n",
       "    }\n",
       "\n",
       "    .dataframe tbody tr th {\n",
       "        vertical-align: top;\n",
       "    }\n",
       "\n",
       "    .dataframe thead th {\n",
       "        text-align: right;\n",
       "    }\n",
       "</style>\n",
       "<table border=\"1\" class=\"dataframe\">\n",
       "  <thead>\n",
       "    <tr style=\"text-align: right;\">\n",
       "      <th></th>\n",
       "      <th>negative_mode</th>\n",
       "      <th>formula_len</th>\n",
       "      <th>+Cl</th>\n",
       "      <th>+H</th>\n",
       "      <th>+K</th>\n",
       "      <th>+Na</th>\n",
       "      <th>-H</th>\n",
       "      <th>rect</th>\n",
       "    </tr>\n",
       "  </thead>\n",
       "  <tbody>\n",
       "    <tr>\n",
       "      <th>0</th>\n",
       "      <td>0</td>\n",
       "      <td>8</td>\n",
       "      <td>0</td>\n",
       "      <td>0</td>\n",
       "      <td>0</td>\n",
       "      <td>1</td>\n",
       "      <td>0</td>\n",
       "      <td>1</td>\n",
       "    </tr>\n",
       "    <tr>\n",
       "      <th>1</th>\n",
       "      <td>0</td>\n",
       "      <td>8</td>\n",
       "      <td>0</td>\n",
       "      <td>0</td>\n",
       "      <td>1</td>\n",
       "      <td>0</td>\n",
       "      <td>0</td>\n",
       "      <td>1</td>\n",
       "    </tr>\n",
       "    <tr>\n",
       "      <th>2</th>\n",
       "      <td>0</td>\n",
       "      <td>8</td>\n",
       "      <td>0</td>\n",
       "      <td>0</td>\n",
       "      <td>1</td>\n",
       "      <td>0</td>\n",
       "      <td>0</td>\n",
       "      <td>1</td>\n",
       "    </tr>\n",
       "    <tr>\n",
       "      <th>3</th>\n",
       "      <td>0</td>\n",
       "      <td>7</td>\n",
       "      <td>0</td>\n",
       "      <td>1</td>\n",
       "      <td>0</td>\n",
       "      <td>0</td>\n",
       "      <td>0</td>\n",
       "      <td>1</td>\n",
       "    </tr>\n",
       "    <tr>\n",
       "      <th>4</th>\n",
       "      <td>0</td>\n",
       "      <td>7</td>\n",
       "      <td>0</td>\n",
       "      <td>1</td>\n",
       "      <td>0</td>\n",
       "      <td>0</td>\n",
       "      <td>0</td>\n",
       "      <td>1</td>\n",
       "    </tr>\n",
       "  </tbody>\n",
       "</table>\n",
       "</div>"
      ],
      "text/plain": [
       "   negative_mode  formula_len  +Cl  +H  +K  +Na  -H  rect\n",
       "0              0            8    0   0   0    1   0     1\n",
       "1              0            8    0   0   1    0   0     1\n",
       "2              0            8    0   0   1    0   0     1\n",
       "3              0            7    0   1   0    0   0     1\n",
       "4              0            7    0   1   0    0   0     1"
      ]
     },
     "execution_count": 8,
     "metadata": {},
     "output_type": "execute_result"
    }
   ],
   "source": [
    "meta_df = pd.DataFrame()\n",
    "# meta_df['target'] = (df.type == 'off').astype(int)\n",
    "meta_df['negative_mode'] = gs_df.adduct.isin(['-H', '+Cl']).astype(int)\n",
    "# features_df['adduct'] = df.adduct\n",
    "meta_df['formula_len'] = gs_df.sumFormula.map(len)\n",
    "meta_df = meta_df.join(pd.get_dummies(gs_df.adduct))\n",
    "meta_df['rect'] = gs_df.dsName.map(lambda name: name.replace('/', '_') not in non_rect_ds_names).astype(int)\n",
    "meta_df.head()"
   ]
  },
  {
   "cell_type": "code",
   "execution_count": 9,
   "metadata": {
    "hidden": true
   },
   "outputs": [],
   "source": [
    "from sklearn.ensemble import RandomForestClassifier"
   ]
  },
  {
   "cell_type": "code",
   "execution_count": 10,
   "metadata": {
    "hidden": true
   },
   "outputs": [
    {
     "data": {
      "text/plain": [
       "((23238, 8), (23238,))"
      ]
     },
     "execution_count": 10,
     "metadata": {},
     "output_type": "execute_result"
    }
   ],
   "source": [
    "X = meta_df.values\n",
    "y = (gs_df.type == 'off').astype(int).values\n",
    "X.shape, y.shape"
   ]
  },
  {
   "cell_type": "code",
   "execution_count": 11,
   "metadata": {
    "hidden": true
   },
   "outputs": [
    {
     "data": {
      "text/plain": [
       "(23238, 4647)"
      ]
     },
     "execution_count": 11,
     "metadata": {},
     "output_type": "execute_result"
    }
   ],
   "source": [
    "n = X.shape[0]\n",
    "val_size = int(n * 0.2)\n",
    "n, val_size"
   ]
  },
  {
   "cell_type": "code",
   "execution_count": 12,
   "metadata": {
    "hidden": true
   },
   "outputs": [
    {
     "data": {
      "text/plain": [
       "((18591,), (4647,))"
      ]
     },
     "execution_count": 12,
     "metadata": {},
     "output_type": "execute_result"
    }
   ],
   "source": [
    "inds = np.arange(X.shape[0])\n",
    "np.random.shuffle(inds)\n",
    "train_inds, val_inds = inds[:-val_size], inds[-val_size:]\n",
    "train_inds.shape, val_inds.shape"
   ]
  },
  {
   "cell_type": "code",
   "execution_count": 13,
   "metadata": {
    "hidden": true
   },
   "outputs": [
    {
     "data": {
      "text/plain": [
       "0.6673122444587907"
      ]
     },
     "execution_count": 13,
     "metadata": {},
     "output_type": "execute_result"
    }
   ],
   "source": [
    "clf = RandomForestClassifier(n_estimators=100, max_depth=5)\n",
    "clf.fit(X[train_inds], y[train_inds])\n",
    "clf.score(X[val_inds], y[val_inds])"
   ]
  },
  {
   "cell_type": "code",
   "execution_count": 14,
   "metadata": {
    "hidden": true
   },
   "outputs": [],
   "source": [
    "from sklearn.metrics import roc_auc_score, f1_score"
   ]
  },
  {
   "cell_type": "code",
   "execution_count": 15,
   "metadata": {
    "hidden": true
   },
   "outputs": [
    {
     "data": {
      "text/plain": [
       "(0.7096687265635349, 0.5590416428978894)"
      ]
     },
     "execution_count": 15,
     "metadata": {},
     "output_type": "execute_result"
    }
   ],
   "source": [
    "y_pred_prob = clf.predict_proba(X[val_inds])[:,1]\n",
    "y_pred = clf.predict(X[val_inds])\n",
    "(roc_auc_score(y_true=y[val_inds], y_score=y_pred_prob),\n",
    " f1_score(y_true=y[val_inds], y_pred=y_pred))"
   ]
  },
  {
   "cell_type": "code",
   "execution_count": 16,
   "metadata": {
    "hidden": true
   },
   "outputs": [
    {
     "data": {
      "text/plain": [
       "(1562, (4647,))"
      ]
     },
     "execution_count": 16,
     "metadata": {},
     "output_type": "execute_result"
    }
   ],
   "source": [
    "y_pred.sum(), y_pred.shape"
   ]
  },
  {
   "cell_type": "markdown",
   "metadata": {
    "heading_collapsed": true
   },
   "source": [
    "## Doulble check GS images"
   ]
  },
  {
   "cell_type": "code",
   "execution_count": 17,
   "metadata": {
    "hidden": true
   },
   "outputs": [
    {
     "data": {
      "text/html": [
       "<div>\n",
       "<style scoped>\n",
       "    .dataframe tbody tr th:only-of-type {\n",
       "        vertical-align: middle;\n",
       "    }\n",
       "\n",
       "    .dataframe tbody tr th {\n",
       "        vertical-align: top;\n",
       "    }\n",
       "\n",
       "    .dataframe thead th {\n",
       "        text-align: right;\n",
       "    }\n",
       "</style>\n",
       "<table border=\"1\" class=\"dataframe\">\n",
       "  <thead>\n",
       "    <tr style=\"text-align: right;\">\n",
       "      <th></th>\n",
       "      <th>dsName</th>\n",
       "      <th>type</th>\n",
       "      <th>ion</th>\n",
       "    </tr>\n",
       "  </thead>\n",
       "  <tbody>\n",
       "    <tr>\n",
       "      <th>0</th>\n",
       "      <td>100um_noM2_001_Recal</td>\n",
       "      <td>off</td>\n",
       "      <td>C14H20N6O5S+H</td>\n",
       "    </tr>\n",
       "    <tr>\n",
       "      <th>1</th>\n",
       "      <td>100um_noM2_001_Recal</td>\n",
       "      <td>off</td>\n",
       "      <td>C15H19NO10+H</td>\n",
       "    </tr>\n",
       "    <tr>\n",
       "      <th>2</th>\n",
       "      <td>100um_noM2_001_Recal</td>\n",
       "      <td>off</td>\n",
       "      <td>C15H26N2O12+H</td>\n",
       "    </tr>\n",
       "    <tr>\n",
       "      <th>3</th>\n",
       "      <td>100um_noM2_001_Recal</td>\n",
       "      <td>off</td>\n",
       "      <td>C16H16O11S+Na</td>\n",
       "    </tr>\n",
       "    <tr>\n",
       "      <th>4</th>\n",
       "      <td>100um_noM2_001_Recal</td>\n",
       "      <td>off</td>\n",
       "      <td>C16H19N3O5S+H</td>\n",
       "    </tr>\n",
       "  </tbody>\n",
       "</table>\n",
       "</div>"
      ],
      "text/plain": [
       "                 dsName type            ion\n",
       "0  100um_noM2_001_Recal  off  C14H20N6O5S+H\n",
       "1  100um_noM2_001_Recal  off   C15H19NO10+H\n",
       "2  100um_noM2_001_Recal  off  C15H26N2O12+H\n",
       "3  100um_noM2_001_Recal  off  C16H16O11S+Na\n",
       "4  100um_noM2_001_Recal  off  C16H19N3O5S+H"
      ]
     },
     "execution_count": 17,
     "metadata": {},
     "output_type": "execute_result"
    }
   ],
   "source": [
    "gs_df = pd.read_csv('GS.csv')[['dsName', 'sumFormula', 'adduct', 'type']]\n",
    "gs_df['dsName'] = gs_df.dsName.map(lambda name: name.replace('/', '_'))\n",
    "gs_df['ion'] = gs_df.sumFormula + gs_df.adduct\n",
    "gs_df.drop(labels=['sumFormula', 'adduct'], axis=1, inplace=True)\n",
    "gs_df.sort_values(by=['dsName', 'type', 'ion'], inplace=True)\n",
    "gs_df.reset_index(drop=True, inplace=True)\n",
    "gs_df.head()"
   ]
  },
  {
   "cell_type": "code",
   "execution_count": 18,
   "metadata": {
    "hidden": true
   },
   "outputs": [],
   "source": [
    "# pd.Series(gs_df.dsName.unique()).to_csv('gs_ds_names.csv', index=False)"
   ]
  },
  {
   "cell_type": "code",
   "execution_count": 19,
   "metadata": {
    "hidden": true
   },
   "outputs": [],
   "source": [
    "rows = []\n",
    "for ds_path in gs_path.iterdir():\n",
    "    ds_name = ds_path.name\n",
    "    for t in ['on', 'off']:\n",
    "        for image_path in (ds_path / t).iterdir():\n",
    "            ion = image_path.name.split('.')[0]\n",
    "            rows.append([ds_name, t, ion])\n",
    "iso_image_df = (pd.DataFrame(rows, columns=['dsName', 'type', 'ion'])\n",
    "                .sort_values(by=['dsName', 'type', 'ion'])\n",
    "                .reset_index(drop=True))"
   ]
  },
  {
   "cell_type": "code",
   "execution_count": 20,
   "metadata": {
    "hidden": true
   },
   "outputs": [
    {
     "data": {
      "text/plain": [
       "True"
      ]
     },
     "execution_count": 20,
     "metadata": {},
     "output_type": "execute_result"
    }
   ],
   "source": [
    "np.all(gs_df == iso_image_df)"
   ]
  },
  {
   "cell_type": "markdown",
   "metadata": {
    "heading_collapsed": true
   },
   "source": [
    "## Check Non-rect Datasets"
   ]
  },
  {
   "cell_type": "code",
   "execution_count": 21,
   "metadata": {
    "hidden": true
   },
   "outputs": [
    {
     "data": {
      "text/plain": [
       "17"
      ]
     },
     "execution_count": 21,
     "metadata": {},
     "output_type": "execute_result"
    }
   ],
   "source": [
    "len(non_rect_ds_names)"
   ]
  },
  {
   "cell_type": "code",
   "execution_count": 22,
   "metadata": {
    "hidden": true
   },
   "outputs": [
    {
     "data": {
      "text/plain": [
       "['UoNotreDame__Untreated_6_574',\n",
       " 'MPIMM_021_QE_P_CB_0',\n",
       " 'MP 39',\n",
       " 'ICL__LNTO31_17_4',\n",
       " '170321_kangaroobrain-bpyn1-pos_maxof50.0_med1r',\n",
       " '20170503_ADP-JS_CD1-Brain_dan005_117x143_60x60_N',\n",
       " 'Servier_Ctrl_rat_liver_9aa',\n",
       " 'servier_TT_mouse_wb_fmpts_derivatization_CHCA',\n",
       " 'slide077_animal121_rat_kidney - total ion count',\n",
       " 'slide012_animal102_minipig_kidney- total ion count',\n",
       " '100um_noM2_001_Recal',\n",
       " 'Servier_Ctrl_mouse_wb_median_plane_9aa',\n",
       " 'Servier_Ctrl_mouse_wb_lateral_plane_DHB',\n",
       " 'Servier_Ctrl_mouse_wb_median_plane_DHB',\n",
       " '20171110_94T_RDAM_1b',\n",
       " '75um_small(focusing)_high(m_z)_dry(application)',\n",
       " '75um_small(focusing)_low(m_z)_dry(application)',\n",
       " '50um_min(focusing)_high(m_z)_dry(application)',\n",
       " '12_cylces_75um_new_submission',\n",
       " '50%meoh_8cyc_75um',\n",
       " '70%meoh_8cyc_75um',\n",
       " 'HK_S2_N2_20um_New',\n",
       " 'PS_7_P7_N1_30um_New']"
      ]
     },
     "execution_count": 22,
     "metadata": {},
     "output_type": "execute_result"
    }
   ],
   "source": [
    "katya_nonrect_ds_names = \\\n",
    "'''UoNotreDame//Untreated_6_574\n",
    "MPIMM_021_QE_P_CB_0\n",
    "MP 39\n",
    "ICL//LNTO31_17_4\n",
    "170321_kangaroobrain-bpyn1-pos_maxof50.0_med1r\n",
    "20170503_ADP-JS_CD1-Brain_dan005_117x143_60x60_N\n",
    "Servier_Ctrl_rat_liver_9aa\n",
    "servier_TT_mouse_wb_fmpts_derivatization_CHCA\n",
    "slide077_animal121_rat_kidney - total ion count\n",
    "slide012_animal102_minipig_kidney- total ion count\n",
    "100um_noM2_001_Recal\n",
    "Servier_Ctrl_mouse_wb_median_plane_9aa\n",
    "Servier_Ctrl_mouse_wb_lateral_plane_DHB\n",
    "Servier_Ctrl_mouse_wb_median_plane_DHB\n",
    "20171110_94T_RDAM_1b\n",
    "75um_small(focusing)_high(m/z)_dry(application)\n",
    "75um_small(focusing)_low(m/z)_dry(application)\n",
    "50um_min(focusing)_high(m/z)_dry(application)\n",
    "12_cylces_75um_new_submission\n",
    "50%meoh_8cyc_75um\n",
    "70%meoh_8cyc_75um\n",
    "HK_S2_N2_20um_New\n",
    "PS_7_P7_N1_30um_New'''.replace('/', '_').split('\\n')\n",
    "katya_nonrect_ds_names"
   ]
  },
  {
   "cell_type": "code",
   "execution_count": 23,
   "metadata": {
    "hidden": true
   },
   "outputs": [
    {
     "data": {
      "text/plain": [
       "set()"
      ]
     },
     "execution_count": 23,
     "metadata": {},
     "output_type": "execute_result"
    }
   ],
   "source": [
    "set(non_rect_ds_names) - (set(katya_nonrect_ds_names))"
   ]
  },
  {
   "cell_type": "code",
   "execution_count": 24,
   "metadata": {
    "hidden": true
   },
   "outputs": [
    {
     "data": {
      "text/plain": [
       "{'20170503_ADP-JS_CD1-Brain_dan005_117x143_60x60_N',\n",
       " 'ICL__LNTO31_17_4',\n",
       " 'MP 39',\n",
       " 'MPIMM_021_QE_P_CB_0',\n",
       " 'PS_7_P7_N1_30um_New',\n",
       " 'UoNotreDame__Untreated_6_574'}"
      ]
     },
     "execution_count": 24,
     "metadata": {},
     "output_type": "execute_result"
    }
   ],
   "source": [
    "(set(katya_nonrect_ds_names)) - set(non_rect_ds_names)"
   ]
  },
  {
   "cell_type": "markdown",
   "metadata": {
    "heading_collapsed": true
   },
   "source": [
    "## Prepare Dataframe for Fastai Loader"
   ]
  },
  {
   "cell_type": "code",
   "execution_count": 27,
   "metadata": {
    "hidden": true
   },
   "outputs": [
    {
     "data": {
      "text/plain": [
       "87"
      ]
     },
     "execution_count": 27,
     "metadata": {},
     "output_type": "execute_result"
    }
   ],
   "source": [
    "len(list(gs_path.iterdir()))"
   ]
  },
  {
   "cell_type": "code",
   "execution_count": 28,
   "metadata": {
    "hidden": true
   },
   "outputs": [
    {
     "data": {
      "text/plain": [
       "(23238, 3)"
      ]
     },
     "execution_count": 28,
     "metadata": {},
     "output_type": "execute_result"
    }
   ],
   "source": [
    "row_list = []\n",
    "for ds_path in gs_path.iterdir():\n",
    "    for cl in ['on', 'off']:\n",
    "        for p in (ds_path / cl).iterdir():\n",
    "            row_list.append([str(p), ds_path.name, cl])\n",
    "\n",
    "df = pd.DataFrame(row_list, columns=['name', 'group', 'label'])\n",
    "df.shape"
   ]
  },
  {
   "cell_type": "code",
   "execution_count": 29,
   "metadata": {
    "hidden": true
   },
   "outputs": [
    {
     "data": {
      "text/html": [
       "<div>\n",
       "<style scoped>\n",
       "    .dataframe tbody tr th:only-of-type {\n",
       "        vertical-align: middle;\n",
       "    }\n",
       "\n",
       "    .dataframe tbody tr th {\n",
       "        vertical-align: top;\n",
       "    }\n",
       "\n",
       "    .dataframe thead th {\n",
       "        text-align: right;\n",
       "    }\n",
       "</style>\n",
       "<table border=\"1\" class=\"dataframe\">\n",
       "  <thead>\n",
       "    <tr style=\"text-align: right;\">\n",
       "      <th></th>\n",
       "      <th>name</th>\n",
       "      <th>group</th>\n",
       "      <th>label</th>\n",
       "    </tr>\n",
       "  </thead>\n",
       "  <tbody>\n",
       "    <tr>\n",
       "      <th>0</th>\n",
       "      <td>GS/DESI quan_Swales/on/C21H43O6P+H.png</td>\n",
       "      <td>DESI quan_Swales</td>\n",
       "      <td>on</td>\n",
       "    </tr>\n",
       "    <tr>\n",
       "      <th>1</th>\n",
       "      <td>GS/DESI quan_Swales/on/C4H7O8P+Na.png</td>\n",
       "      <td>DESI quan_Swales</td>\n",
       "      <td>on</td>\n",
       "    </tr>\n",
       "    <tr>\n",
       "      <th>2</th>\n",
       "      <td>GS/DESI quan_Swales/on/C21H39O7P+H.png</td>\n",
       "      <td>DESI quan_Swales</td>\n",
       "      <td>on</td>\n",
       "    </tr>\n",
       "    <tr>\n",
       "      <th>3</th>\n",
       "      <td>GS/DESI quan_Swales/on/C10H11NO3+Na.png</td>\n",
       "      <td>DESI quan_Swales</td>\n",
       "      <td>on</td>\n",
       "    </tr>\n",
       "    <tr>\n",
       "      <th>4</th>\n",
       "      <td>GS/DESI quan_Swales/on/C24H40O4+Na.png</td>\n",
       "      <td>DESI quan_Swales</td>\n",
       "      <td>on</td>\n",
       "    </tr>\n",
       "  </tbody>\n",
       "</table>\n",
       "</div>"
      ],
      "text/plain": [
       "                                      name             group label\n",
       "0   GS/DESI quan_Swales/on/C21H43O6P+H.png  DESI quan_Swales    on\n",
       "1    GS/DESI quan_Swales/on/C4H7O8P+Na.png  DESI quan_Swales    on\n",
       "2   GS/DESI quan_Swales/on/C21H39O7P+H.png  DESI quan_Swales    on\n",
       "3  GS/DESI quan_Swales/on/C10H11NO3+Na.png  DESI quan_Swales    on\n",
       "4   GS/DESI quan_Swales/on/C24H40O4+Na.png  DESI quan_Swales    on"
      ]
     },
     "execution_count": 29,
     "metadata": {},
     "output_type": "execute_result"
    }
   ],
   "source": [
    "df.head()"
   ]
  },
  {
   "cell_type": "code",
   "execution_count": 30,
   "metadata": {
    "hidden": true
   },
   "outputs": [
    {
     "name": "stdout",
     "output_type": "stream",
     "text": [
      "87\n"
     ]
    }
   ],
   "source": [
    "all_groups = list(df.group.unique())\n",
    "print(len(all_groups))"
   ]
  },
  {
   "cell_type": "code",
   "execution_count": 31,
   "metadata": {
    "hidden": true
   },
   "outputs": [],
   "source": [
    "df['rect'] = df.group.map(lambda g: g not in non_rect_ds_names)"
   ]
  },
  {
   "cell_type": "code",
   "execution_count": 32,
   "metadata": {
    "hidden": true
   },
   "outputs": [
    {
     "data": {
      "text/plain": [
       "rect   label\n",
       "False  off       1409\n",
       "       on        2724\n",
       "True   off       8500\n",
       "       on       10605\n",
       "Name: name, dtype: int64"
      ]
     },
     "execution_count": 32,
     "metadata": {},
     "output_type": "execute_result"
    }
   ],
   "source": [
    "df.groupby(['rect', 'label']).name.count()"
   ]
  },
  {
   "cell_type": "code",
   "execution_count": 33,
   "metadata": {
    "hidden": true
   },
   "outputs": [],
   "source": [
    "# df = df[df.rect == True]"
   ]
  },
  {
   "cell_type": "markdown",
   "metadata": {},
   "source": [
    "# Visualize Images in Low Dimentionality "
   ]
  },
  {
   "cell_type": "code",
   "execution_count": 80,
   "metadata": {},
   "outputs": [],
   "source": [
    "# df"
   ]
  },
  {
   "cell_type": "code",
   "execution_count": 163,
   "metadata": {},
   "outputs": [
    {
     "data": {
      "text/plain": [
       "('100um_noM2_001_Recal', (434, 4))"
      ]
     },
     "execution_count": 163,
     "metadata": {},
     "output_type": "execute_result"
    }
   ],
   "source": [
    "# ds_name = 'DESI quan_Swales'\n",
    "ds_name = list(non_rect_ds_names)[6]\n",
    "ds_name, df[df.group == ds_name].shape"
   ]
  },
  {
   "cell_type": "code",
   "execution_count": 164,
   "metadata": {},
   "outputs": [
    {
     "data": {
      "text/plain": [
       "(434,)"
      ]
     },
     "execution_count": 164,
     "metadata": {},
     "output_type": "execute_result"
    }
   ],
   "source": [
    "labels = (df[df.group == ds_name].label == 'off').astype(int).values\n",
    "labels.shape"
   ]
  },
  {
   "cell_type": "code",
   "execution_count": 165,
   "metadata": {},
   "outputs": [
    {
     "data": {
      "text/plain": [
       "0    336\n",
       "1     98\n",
       "dtype: int64"
      ]
     },
     "execution_count": 165,
     "metadata": {},
     "output_type": "execute_result"
    }
   ],
   "source": [
    "pd.value_counts(labels)"
   ]
  },
  {
   "cell_type": "code",
   "execution_count": 166,
   "metadata": {},
   "outputs": [],
   "source": [
    "fnames = df[df.group == ds_name].name.values\n",
    "# fnames"
   ]
  },
  {
   "cell_type": "code",
   "execution_count": 167,
   "metadata": {},
   "outputs": [],
   "source": [
    "from PIL import Image\n",
    "\n",
    "def read_image(fname):\n",
    "    return np.array(Image.open(open(fname, 'rb')))[:,:,0]"
   ]
  },
  {
   "cell_type": "code",
   "execution_count": 168,
   "metadata": {},
   "outputs": [
    {
     "data": {
      "text/plain": [
       "(119, 254)"
      ]
     },
     "execution_count": 168,
     "metadata": {},
     "output_type": "execute_result"
    }
   ],
   "source": [
    "n = len(fnames)\n",
    "sample_image = read_image(fnames[-1])\n",
    "row, cols = sample_image.shape\n",
    "row, cols"
   ]
  },
  {
   "cell_type": "code",
   "execution_count": 169,
   "metadata": {},
   "outputs": [
    {
     "data": {
      "text/plain": [
       "<matplotlib.image.AxesImage at 0x7f44fb3d2630>"
      ]
     },
     "execution_count": 169,
     "metadata": {},
     "output_type": "execute_result"
    },
    {
     "data": {
      "image/png": "[encoded data removed]",
      "text/plain": [
       "<Figure size 432x288 with 1 Axes>"
      ]
     },
     "metadata": {
      "needs_background": "light"
     },
     "output_type": "display_data"
    }
   ],
   "source": [
    "plt.imshow(sample_image)"
   ]
  },
  {
   "cell_type": "code",
   "execution_count": 170,
   "metadata": {},
   "outputs": [
    {
     "data": {
      "text/plain": [
       "(434, 30226)"
      ]
     },
     "execution_count": 170,
     "metadata": {},
     "output_type": "execute_result"
    }
   ],
   "source": [
    "X = np.zeros((n, row * cols))\n",
    "for i, fname in enumerate(fnames):\n",
    "    image = read_image(fname).flatten()\n",
    "    X[i] = image\n",
    "X.shape"
   ]
  },
  {
   "cell_type": "code",
   "execution_count": 189,
   "metadata": {},
   "outputs": [
    {
     "data": {
      "text/plain": [
       "(434, 3)"
      ]
     },
     "execution_count": 189,
     "metadata": {},
     "output_type": "execute_result"
    }
   ],
   "source": [
    "from sklearn.manifold import TSNE\n",
    "tsne = TSNE(n_components=3)\n",
    "X_embed = tsne.fit_transform(X)\n",
    "X_embed.shape"
   ]
  },
  {
   "cell_type": "code",
   "execution_count": 191,
   "metadata": {},
   "outputs": [],
   "source": [
    "# fig, axes = plt.subplots(nrows=3, figsize=(12, 6*3))\n",
    "# for i, (c1, c2) in enumerate([(0, 1), (0, 2), (1, 2)]):\n",
    "#     axes[i].scatter(X_embed[:,c1], X_embed[:,c2], c=labels, alpha=0.5);"
   ]
  },
  {
   "cell_type": "code",
   "execution_count": 173,
   "metadata": {},
   "outputs": [],
   "source": [
    "import umap"
   ]
  },
  {
   "cell_type": "code",
   "execution_count": 186,
   "metadata": {},
   "outputs": [
    {
     "data": {
      "text/plain": [
       "(434, 3)"
      ]
     },
     "execution_count": 186,
     "metadata": {},
     "output_type": "execute_result"
    }
   ],
   "source": [
    "X_embed = umap.UMAP(n_neighbors=10, n_components=3).fit_transform(X)\n",
    "X_embed.shape"
   ]
  },
  {
   "cell_type": "code",
   "execution_count": 192,
   "metadata": {},
   "outputs": [],
   "source": [
    "# fig, axes = plt.subplots(nrows=3, figsize=(12, 6*3))\n",
    "# for i, (c1, c2) in enumerate([(0, 1), (0, 2), (1, 2)]):\n",
    "#     axes[i].scatter(X_embed[:,c1], X_embed[:,c2], c=labels, alpha=0.5);"
   ]
  },
  {
   "cell_type": "code",
   "execution_count": null,
   "metadata": {},
   "outputs": [],
   "source": []
  },
  {
   "cell_type": "markdown",
   "metadata": {
    "heading_collapsed": true
   },
   "source": [
    "## Cross-validation Folds"
   ]
  },
  {
   "cell_type": "code",
   "execution_count": 32,
   "metadata": {
    "hidden": true
   },
   "outputs": [],
   "source": [
    "from sklearn.model_selection import GroupKFold"
   ]
  },
  {
   "cell_type": "code",
   "execution_count": 33,
   "metadata": {
    "hidden": true
   },
   "outputs": [],
   "source": [
    "group_folds = []\n",
    "cv_iter = GroupKFold(n_splits=5).split(df.name, groups=df.group)\n",
    "for fold_i, (t_inds, v_inds) in enumerate(cv_iter):\n",
    "    valid_groups = df.iloc[v_inds].group.unique().tolist()\n",
    "    group_folds.append(valid_groups)"
   ]
  },
  {
   "cell_type": "code",
   "execution_count": 34,
   "metadata": {
    "hidden": true
   },
   "outputs": [
    {
     "data": {
      "text/plain": [
       "[['50%meoh_8cyc_75um',\n",
       "  'Dataset 31',\n",
       "  'Servier_Ctrl_mouse_wb_median_plane_DHB',\n",
       "  'slide012_animal102_minipig_kidney- total ion count',\n",
       "  'servier_TT_mouse_wb_fmpts_derivatization_CHCA',\n",
       "  '20180220_mouse eye_DHB',\n",
       "  'xenograft CT-26 S10',\n",
       "  '170321_kangaroobrain-bpyn1-pos_maxof50.0_med1r',\n",
       "  'Servier_Ctrl_mouse_wb_median_plane_9aa',\n",
       "  '2017023_ADP_GFlarvae_55x55_40x40_DMAN002',\n",
       "  '161007_WT1S1L1',\n",
       "  'DESI porcine kidney interface region',\n",
       "  'ICL__LNTO42_17_1',\n",
       "  'Dataset 26_recal',\n",
       "  'ICL__LNTO41_17_4',\n",
       "  'ICL__LNTO30_16_1',\n",
       "  'LNTO31_17_1-RECAL'],\n",
       " ['20170817_CGL_MT-M.B_ATP_DAN018_NTM_102x39_100x100',\n",
       "  'MP 39',\n",
       "  'NCSU_M8_mouse_brain',\n",
       "  'AstraZeneca__CT26_xenograft',\n",
       "  '50um_min(focusing)_high(m_z)_dry(application)',\n",
       "  'Dataset 4',\n",
       "  '20170905_CGL0170817_MT-MB_ATP_N_81x101_135x135',\n",
       "  'Mouse Kidney on coated plastic slide 270x160 30 um',\n",
       "  'UoNotreDame__Untreated_6_574',\n",
       "  '20170503_ADP-JS_CD1-Brain_dan005_117x143_60x60_N',\n",
       "  'Dataset 4_recal',\n",
       "  '20170815_CGL_MT-M.B_DAN012_NTM_42x30_100x100',\n",
       "  'Mouse Kidney on plastic slide 260x175 30um',\n",
       "  'Esco2_centroids',\n",
       "  'MPIMM_049_QE_P_BA_CF_sp3',\n",
       "  'NCSU_mouse_LCC6_tumor',\n",
       "  'S648 WS20 205x170 20um E110',\n",
       "  'Dataset 23'],\n",
       " ['DESI quan_Swales',\n",
       "  '20171110_94T_RDAM_1b',\n",
       "  'Servier_Ctrl_rat_liver_9aa',\n",
       "  'AstraZeneca__Rat_testis',\n",
       "  'North Carolina State University__mouse body',\n",
       "  'BRB04S-RECAL',\n",
       "  'Row001',\n",
       "  '100um_noM2_001_Recal',\n",
       "  'Servier_Ctrl_mouse_wb_lateral_plane_DHB',\n",
       "  'Xenograft_3_135um',\n",
       "  'Dataset 30',\n",
       "  'PS_7_P7_N1_30um_New',\n",
       "  '75um_small(focusing)_low(m_z)_dry(application)',\n",
       "  'Dataset 27',\n",
       "  'Dataset 21',\n",
       "  'Esco1_centroids',\n",
       "  'ICL__LNTO41_17_2',\n",
       "  'ST-Pseudo_centroids'],\n",
       " ['Dataset 8',\n",
       "  'Tumor17',\n",
       "  'ICL__LNTO31_17_4',\n",
       "  'Borderline14',\n",
       "  'ICL__LNTO22_1_3',\n",
       "  'Dataset 18',\n",
       "  '20170105_VS_disc2_NEDC0001_70x80_10x10',\n",
       "  'Mouse Kidney on coated plastic slide 300x165 30 um',\n",
       "  'MPIMM_021_QE_P_CB_0',\n",
       "  'Rat50_Section1',\n",
       "  'Mousebrain_MG08_2017_GruppeA',\n",
       "  'slide077_animal121_rat_kidney - total ion count',\n",
       "  'Normal8',\n",
       "  'Dataset 16',\n",
       "  'ICL__A51 CT S3-centroid',\n",
       "  'ICL__7TopRight,_17BottomRight,_27BottomLeft,_37TopLeft',\n",
       "  'ICL__LNTO26_7_3'],\n",
       " ['Mouse_Wholebody_3',\n",
       "  'Tumor41',\n",
       "  'Dataset 3_recal',\n",
       "  'HK_S2_N2_20um_New',\n",
       "  'MS7_20170907_DHB_pos_MouseBrain_s3_300-1800_40um_245x134_A30-JBE-Test',\n",
       "  'Rat51_Section2',\n",
       "  '70%meoh_8cyc_75um',\n",
       "  '12_cylces_75um_new_submission',\n",
       "  '75um_small(focusing)_high(m_z)_dry(application)',\n",
       "  'Dataset 3',\n",
       "  'Kidney_280x140_40um_E0',\n",
       "  'S649 WS21 155x105 15um E110',\n",
       "  'Borderline13',\n",
       "  'Tumor11',\n",
       "  'Dataset 2',\n",
       "  '170418_MouseBrain_pos_50um_205by129_atn0',\n",
       "  'CC-Esco2_centroids']]"
      ]
     },
     "execution_count": 34,
     "metadata": {},
     "output_type": "execute_result"
    }
   ],
   "source": [
    "group_folds"
   ]
  },
  {
   "cell_type": "markdown",
   "metadata": {
    "heading_collapsed": true
   },
   "source": [
    "## Define Metrics"
   ]
  },
  {
   "cell_type": "code",
   "execution_count": 36,
   "metadata": {
    "hidden": true
   },
   "outputs": [],
   "source": [
    "from sklearn.metrics import f1_score, average_precision_score, precision_score, recall_score, accuracy_score\n",
    "\n",
    "def convert_to_2dim(y):\n",
    "    y_ = y\n",
    "    if y.ndim < 2:\n",
    "        y_ = np.zeros(shape=(y.shape[0], 2))\n",
    "        y_[:,0] = 1 - y\n",
    "        y_[:,1] = y\n",
    "    return y_\n",
    "\n",
    "def calc_metrics(y_true, y_pred):\n",
    "    y_true = convert_to_2dim(y_true)\n",
    "    y_pred = convert_to_2dim(y_pred)\n",
    "\n",
    "    y_pred_lab = (y_pred > 0.5).astype(int)\n",
    "    metrics = []\n",
    "    classes = [(0, 'on'), (1, 'off')]\n",
    "    for i, cl in classes:\n",
    "        metrics.append(OrderedDict({\n",
    "            'f1': f1_score(y_true[:,i], y_pred_lab[:,i]),\n",
    "            'prec': precision_score(y_true[:,i], y_pred_lab[:,i]),\n",
    "            'recall': recall_score(y_true[:,i], y_pred_lab[:,i]),\n",
    "            'acc': accuracy_score(y_true[:,i], y_pred_lab[:,i]),\n",
    "        }))\n",
    "    return pd.DataFrame(metrics, index=['on', 'off'])\n",
    "\n",
    "def calc_ds_metrics(valid_df, y_true, y_pred):\n",
    "    _df = valid_df.copy()\n",
    "    _df['y_true'] = y_true\n",
    "    _df['y_pred'] = y_pred[:,1]\n",
    "\n",
    "    rows = []\n",
    "    for ds_name, ds_df in _df.groupby('group'):\n",
    "        m = calc_metrics(ds_df['y_true'], ds_df['y_pred'])\n",
    "        m['ds_name'] = ds_name\n",
    "        rows.append(m)\n",
    "    return pd.concat(rows)"
   ]
  },
  {
   "cell_type": "markdown",
   "metadata": {
    "heading_collapsed": true
   },
   "source": [
    "# Two Inputs Experiments"
   ]
  },
  {
   "cell_type": "code",
   "execution_count": 37,
   "metadata": {
    "hidden": true
   },
   "outputs": [
    {
     "data": {
      "text/plain": [
       "['DESI quan_Swales',\n",
       " '20171110_94T_RDAM_1b',\n",
       " 'Servier_Ctrl_rat_liver_9aa',\n",
       " 'AstraZeneca__Rat_testis',\n",
       " 'North Carolina State University__mouse body',\n",
       " 'BRB04S-RECAL',\n",
       " 'Row001',\n",
       " '100um_noM2_001_Recal',\n",
       " 'Servier_Ctrl_mouse_wb_lateral_plane_DHB',\n",
       " 'Xenograft_3_135um',\n",
       " 'Dataset 30',\n",
       " 'PS_7_P7_N1_30um_New',\n",
       " '75um_small(focusing)_low(m_z)_dry(application)',\n",
       " 'Dataset 27',\n",
       " 'Dataset 21',\n",
       " 'Esco1_centroids',\n",
       " 'ICL__LNTO41_17_2',\n",
       " 'ST-Pseudo_centroids']"
      ]
     },
     "execution_count": 37,
     "metadata": {},
     "output_type": "execute_result"
    }
   ],
   "source": [
    "test_groups = group_folds[2]\n",
    "test_groups"
   ]
  },
  {
   "cell_type": "code",
   "execution_count": 38,
   "metadata": {
    "hidden": true
   },
   "outputs": [
    {
     "data": {
      "text/html": [
       "<div>\n",
       "<style scoped>\n",
       "    .dataframe tbody tr th:only-of-type {\n",
       "        vertical-align: middle;\n",
       "    }\n",
       "\n",
       "    .dataframe tbody tr th {\n",
       "        vertical-align: top;\n",
       "    }\n",
       "\n",
       "    .dataframe thead th {\n",
       "        text-align: right;\n",
       "    }\n",
       "</style>\n",
       "<table border=\"1\" class=\"dataframe\">\n",
       "  <thead>\n",
       "    <tr style=\"text-align: right;\">\n",
       "      <th></th>\n",
       "      <th>name</th>\n",
       "      <th>group</th>\n",
       "      <th>label</th>\n",
       "      <th>rect</th>\n",
       "    </tr>\n",
       "  </thead>\n",
       "  <tbody>\n",
       "    <tr>\n",
       "      <th>0</th>\n",
       "      <td>GS/DESI quan_Swales/on/C21H43O6P+H.png</td>\n",
       "      <td>DESI quan_Swales</td>\n",
       "      <td>on</td>\n",
       "      <td>True</td>\n",
       "    </tr>\n",
       "    <tr>\n",
       "      <th>1</th>\n",
       "      <td>GS/DESI quan_Swales/on/C4H7O8P+Na.png</td>\n",
       "      <td>DESI quan_Swales</td>\n",
       "      <td>on</td>\n",
       "      <td>True</td>\n",
       "    </tr>\n",
       "    <tr>\n",
       "      <th>2</th>\n",
       "      <td>GS/DESI quan_Swales/on/C21H39O7P+H.png</td>\n",
       "      <td>DESI quan_Swales</td>\n",
       "      <td>on</td>\n",
       "      <td>True</td>\n",
       "    </tr>\n",
       "    <tr>\n",
       "      <th>3</th>\n",
       "      <td>GS/DESI quan_Swales/on/C10H11NO3+Na.png</td>\n",
       "      <td>DESI quan_Swales</td>\n",
       "      <td>on</td>\n",
       "      <td>True</td>\n",
       "    </tr>\n",
       "    <tr>\n",
       "      <th>4</th>\n",
       "      <td>GS/DESI quan_Swales/on/C24H40O4+Na.png</td>\n",
       "      <td>DESI quan_Swales</td>\n",
       "      <td>on</td>\n",
       "      <td>True</td>\n",
       "    </tr>\n",
       "  </tbody>\n",
       "</table>\n",
       "</div>"
      ],
      "text/plain": [
       "                                      name             group label  rect\n",
       "0   GS/DESI quan_Swales/on/C21H43O6P+H.png  DESI quan_Swales    on  True\n",
       "1    GS/DESI quan_Swales/on/C4H7O8P+Na.png  DESI quan_Swales    on  True\n",
       "2   GS/DESI quan_Swales/on/C21H39O7P+H.png  DESI quan_Swales    on  True\n",
       "3  GS/DESI quan_Swales/on/C10H11NO3+Na.png  DESI quan_Swales    on  True\n",
       "4   GS/DESI quan_Swales/on/C24H40O4+Na.png  DESI quan_Swales    on  True"
      ]
     },
     "execution_count": 38,
     "metadata": {},
     "output_type": "execute_result"
    }
   ],
   "source": [
    "df.head()"
   ]
  },
  {
   "cell_type": "code",
   "execution_count": 39,
   "metadata": {
    "hidden": true
   },
   "outputs": [],
   "source": [
    "def train_valid_test(df, test_groups):\n",
    "    cv = sklearn.model_selection.GroupKFold(n_splits=4)\n",
    "    train_inds, valid_inds = next(cv.split(df[~df.group.isin(test_groups)].group,\n",
    "                                           groups=df[~df.group.isin(test_groups)].group))\n",
    "    test_inds = df[df.group.isin(test_groups)].index.values\n",
    "    return train_inds, valid_inds, test_inds"
   ]
  },
  {
   "cell_type": "code",
   "execution_count": 40,
   "metadata": {
    "hidden": true
   },
   "outputs": [],
   "source": [
    "def build_data(df, train_inds, valid_inds):\n",
    "    src = (ImageItemList.from_df(df, '', cols=0)\n",
    "           .split_by_idxs(train_inds, valid_inds)\n",
    "           .label_from_df(cols=2))\n",
    "    tfms = get_transforms(flip_vert=True, max_rotate=15)\n",
    "\n",
    "    data = (src.transform(tfms, size=224, resize_method=ResizeMethod.SQUISH, padding_mode='reflection')\n",
    "            .databunch()\n",
    "            .normalize(imagenet_stats))\n",
    "    return data"
   ]
  },
  {
   "cell_type": "code",
   "execution_count": 41,
   "metadata": {
    "hidden": true
   },
   "outputs": [
    {
     "data": {
      "text/plain": [
       "((13932,), (4640,), (4666,))"
      ]
     },
     "execution_count": 41,
     "metadata": {},
     "output_type": "execute_result"
    }
   ],
   "source": [
    "train_inds, valid_inds, test_inds = train_valid_test(df, test_groups)\n",
    "train_inds.shape, valid_inds.shape, test_inds.shape"
   ]
  },
  {
   "cell_type": "code",
   "execution_count": 218,
   "metadata": {
    "hidden": true
   },
   "outputs": [],
   "source": [
    "data_ = build_data(df, train_inds, valid_inds)"
   ]
  },
  {
   "cell_type": "code",
   "execution_count": 222,
   "metadata": {
    "hidden": true
   },
   "outputs": [
    {
     "data": {
      "text/plain": [
       "['off', 'on']"
      ]
     },
     "execution_count": 222,
     "metadata": {},
     "output_type": "execute_result"
    }
   ],
   "source": [
    "data_.train_ds.y.classes"
   ]
  },
  {
   "cell_type": "code",
   "execution_count": 42,
   "metadata": {
    "hidden": true
   },
   "outputs": [],
   "source": [
    "# class ImageMeta(Image):\n",
    "#     def __init__(self, img, meta):\n",
    "#         self.img = img\n",
    "#         self.meta = meta\n",
    "#         self.obj = (img, meta)\n",
    "#         self.data = [img.data, meta]\n",
    "    \n",
    "#     def apply_tfms(self, tfms, **kwargs):\n",
    "#         self.img = self.img.apply_tfms(tfms, **kwargs)\n",
    "#         self.data = [self.img.data, self.meta]\n",
    "#         return self\n",
    "    \n",
    "#     @property\n",
    "#     def device(self):\n",
    "#         return self.img.device\n",
    "    \n",
    "#     def __repr__(self):\n",
    "#         return f'{self.__class__.__name__} - img:{tuple(self.img.shape)}, meta:{self.meta}\\n'"
   ]
  },
  {
   "cell_type": "code",
   "execution_count": 43,
   "metadata": {
    "hidden": true
   },
   "outputs": [],
   "source": [
    "# class ImageMetaList(ImageItemList):\n",
    "#     def __init__(self, items, meta_items=None, **kwargs):\n",
    "#         super().__init__(items, **kwargs)\n",
    "#         self.meta_items = meta_items\n",
    "\n",
    "#     def new(self, items, **kwargs):\n",
    "#         return super().new(items, meta_items=self.meta_items, **kwargs)\n",
    "    \n",
    "#     def get(self, i):\n",
    "#         img = super().get(i)\n",
    "#         meta = self.meta_items[i]\n",
    "#         return ImageMeta(img, meta)\n",
    "    \n",
    "#     @classmethod\n",
    "#     def from_dfs(cls, df, meta_df, **kwargs):\n",
    "#         res = super().from_df(df, path='.', **kwargs)\n",
    "#         res.meta_items = meta_df.values\n",
    "#         return res"
   ]
  },
  {
   "cell_type": "code",
   "execution_count": 44,
   "metadata": {
    "hidden": true
   },
   "outputs": [],
   "source": [
    "# src = (ImageMetaList.from_dfs(df, meta_df)\n",
    "#        .split_by_idxs(train_inds, valid_inds)\n",
    "#        .label_from_df(cols=2))"
   ]
  },
  {
   "cell_type": "code",
   "execution_count": 45,
   "metadata": {
    "hidden": true
   },
   "outputs": [],
   "source": [
    "# tfms = get_transforms(flip_vert=True, max_rotate=15)\n",
    "# src = src.transform(tfms, size=224, resize_method=ResizeMethod.SQUISH, padding_mode='reflection')\n",
    "# data = src.databunch().normalize(imagenet_stats)"
   ]
  },
  {
   "cell_type": "code",
   "execution_count": 223,
   "metadata": {
    "hidden": true
   },
   "outputs": [],
   "source": [
    "class ImageMetaDataset(Dataset):\n",
    "    def __init__(self, image_fns, meta_arr, labels, classes=None, tfms=None, tfmargs=None):\n",
    "        super().__init__()\n",
    "        self.image_fns = image_fns\n",
    "        self.labels = labels\n",
    "        self.meta_arr = torch.from_numpy(meta_arr.astype(np.float32))\n",
    "        if not classes:\n",
    "            classes = ['on', 'off']\n",
    "        self.classes = sorted(classes)\n",
    "        self.c = len(classes)\n",
    "        self.tfms = tfms\n",
    "        self.tfmargs = tfmargs\n",
    "        \n",
    "    def __getitem__(self, i):\n",
    "        image = open_image(self.image_fns[i])\n",
    "        image_t = image.apply_tfms(self.tfms, **self.tfmargs).data\n",
    "        \n",
    "        meta = self.meta_arr[i]\n",
    "        label = self.classes.index(self.labels[i])\n",
    "#         return (image_t, meta), label\n",
    "        return image_t, label\n",
    "    \n",
    "    def __len__(self):\n",
    "        return len(self.image_fns)"
   ]
  },
  {
   "cell_type": "code",
   "execution_count": 224,
   "metadata": {
    "hidden": true
   },
   "outputs": [
    {
     "data": {
      "text/plain": [
       "(13932, 4640)"
      ]
     },
     "execution_count": 224,
     "metadata": {},
     "output_type": "execute_result"
    }
   ],
   "source": [
    "train_tfms, valid_tfms = get_transforms(flip_vert=True, max_rotate=15)\n",
    "tfmargs = dict(size=224, resize_method=ResizeMethod.SQUISH, padding_mode='reflection')\n",
    "\n",
    "train_ds = ImageMetaDataset(image_fns=df.loc[train_inds].name.values,\n",
    "                            meta_arr=meta_df.loc[train_inds].values,\n",
    "                            labels=df.loc[train_inds].label.values,\n",
    "                            tfms=train_tfms, tfmargs=tfmargs)\n",
    "valid_ds = ImageMetaDataset(image_fns=df.loc[valid_inds].name.values,\n",
    "                            meta_arr=meta_df.loc[valid_inds].values,\n",
    "                            labels=df.loc[valid_inds].label.values,\n",
    "                            tfms=valid_tfms, tfmargs=tfmargs)\n",
    "len(train_ds), len(valid_ds)"
   ]
  },
  {
   "cell_type": "code",
   "execution_count": 225,
   "metadata": {
    "hidden": true
   },
   "outputs": [],
   "source": [
    "# image = train_ds[-10][0]\n",
    "# for ch in range(3):\n",
    "#     plt.imshow(image[ch,:,:])\n",
    "#     plt.show()"
   ]
  },
  {
   "cell_type": "code",
   "execution_count": 243,
   "metadata": {
    "hidden": true
   },
   "outputs": [],
   "source": [
    "batch_size = 64\n",
    "data = ImageDataBunch(train_dl=DataLoader(train_ds, batch_size, shuffle=True),\n",
    "                      valid_dl=DataLoader(valid_ds, batch_size*2, shuffle=False)).normalize(imagenet_stats)"
   ]
  },
  {
   "cell_type": "code",
   "execution_count": 244,
   "metadata": {
    "hidden": true
   },
   "outputs": [],
   "source": [
    "tr = data.train_ds\n",
    "tr_ = data_.train_ds"
   ]
  },
  {
   "cell_type": "code",
   "execution_count": 245,
   "metadata": {
    "hidden": true
   },
   "outputs": [
    {
     "data": {
      "text/plain": [
       "(13932, 13932)"
      ]
     },
     "execution_count": 245,
     "metadata": {},
     "output_type": "execute_result"
    }
   ],
   "source": [
    "len(tr), len(tr_)"
   ]
  },
  {
   "cell_type": "code",
   "execution_count": 246,
   "metadata": {
    "hidden": true
   },
   "outputs": [
    {
     "name": "stdout",
     "output_type": "stream",
     "text": [
      "1\n"
     ]
    },
    {
     "data": {
      "image/png": "[encoded data removed]",
      "text/plain": [
       "<Figure size 432x288 with 1 Axes>"
      ]
     },
     "metadata": {
      "needs_background": "light"
     },
     "output_type": "display_data"
    }
   ],
   "source": [
    "image, label = tr[-10]\n",
    "print(label)\n",
    "plt.imshow(image[0,:,:]);"
   ]
  },
  {
   "cell_type": "code",
   "execution_count": 247,
   "metadata": {
    "hidden": true
   },
   "outputs": [
    {
     "name": "stdout",
     "output_type": "stream",
     "text": [
      "on 1\n"
     ]
    },
    {
     "data": {
      "image/png": "[encoded data removed]",
      "text/plain": [
       "<Figure size 432x288 with 1 Axes>"
      ]
     },
     "metadata": {
      "needs_background": "light"
     },
     "output_type": "display_data"
    }
   ],
   "source": [
    "image, label = tr_[-10]\n",
    "print(label, label.data)\n",
    "plt.imshow(image.data[0,:,:]);"
   ]
  },
  {
   "cell_type": "code",
   "execution_count": 248,
   "metadata": {
    "hidden": true
   },
   "outputs": [
    {
     "data": {
      "text/plain": [
       "(['off', 'on'], ['off', 'on'])"
      ]
     },
     "execution_count": 248,
     "metadata": {},
     "output_type": "execute_result"
    }
   ],
   "source": [
    "data.classes, data_.classes"
   ]
  },
  {
   "cell_type": "code",
   "execution_count": 249,
   "metadata": {
    "code_folding": [
     0
    ],
    "hidden": true
   },
   "outputs": [],
   "source": [
    "# def build_mixed_data(df, meta_df, train_inds, valid_inds):\n",
    "#     image_itemlist = ImageItemList.from_df(df, '', cols=0)\n",
    "#     meta_itemlist = ItemList(meta_df)\n",
    "#     itemlists = (ItemList(zip(image_itemlist, meta_itemlist))\n",
    "#                  .split_by_idxs(train_inds, valid_inds))\n",
    "#     labels = ItemLists('', train=ItemList(df.label.values[train_inds]),\n",
    "#                        valid=ItemList(df.label.values[valid_inds]))\n",
    "#     train_itemlabel = LabelList(itemlists.train, labels.train)\n",
    "#     valid_itemlabel = LabelList(itemlists.valid, labels.valid)\n",
    "#     labellists = LabelLists('', train=train_itemlabel, valid=valid_itemlabel)\n",
    "    \n",
    "#     tfms = get_transforms(flip_vert=True, max_rotate=15)\n",
    "\n",
    "#     data = (src.transform(tfms, size=224, resize_method=ResizeMethod.SQUISH, padding_mode='reflection')\n",
    "#             .databunch()\n",
    "#             .normalize(imagenet_stats))\n",
    "#     return data"
   ]
  },
  {
   "cell_type": "code",
   "execution_count": 250,
   "metadata": {
    "hidden": true
   },
   "outputs": [
    {
     "data": {
      "text/plain": [
       "8"
      ]
     },
     "execution_count": 250,
     "metadata": {},
     "output_type": "execute_result"
    }
   ],
   "source": [
    "meta_feature_n = meta_df.shape[1]\n",
    "meta_feature_n"
   ]
  },
  {
   "cell_type": "code",
   "execution_count": 251,
   "metadata": {
    "hidden": true
   },
   "outputs": [],
   "source": [
    "from fastai.callbacks import *"
   ]
  },
  {
   "cell_type": "code",
   "execution_count": 252,
   "metadata": {
    "hidden": true
   },
   "outputs": [],
   "source": [
    "class MetaModel(nn.Module):\n",
    "\n",
    "    def __init__(self, input_size, hidden_size, output_size):\n",
    "        super().__init__()\n",
    "        self.bn1 = nn.BatchNorm1d(input_size)\n",
    "#         self.dropout_1 = nn.Dropout(dropout_ps[0])\n",
    "        self.fc1 = nn.Linear(input_size, hidden_size)\n",
    "        self.bn2 = nn.BatchNorm1d(hidden_size)\n",
    "#         self.dropout_2 = nn.Dropout(p=dropout_ps[1])\n",
    "        self.fc2 = nn.Linear(hidden_size, output_size)\n",
    "\n",
    "    def forward(self, x):\n",
    "        x = self.bn1(x)\n",
    "#         x = self.dropout_1(x)\n",
    "        x = F.relu(self.fc1(x))\n",
    "        x = self.bn2(x)\n",
    "#         x = self.dropout_2(x)\n",
    "        x = F.relu(self.fc2(x))\n",
    "        return x\n",
    "\n",
    "class MixedInputModel(nn.Module):\n",
    "    def __init__(self, meta_input_size, meta_output_size=32):\n",
    "        super().__init__()\n",
    "        self.conv = create_body(arch=models.resnet50, pretrained=True)  # output: 4096x1\n",
    "#         self.meta = MetaModel(meta_input_size, 128, meta_output_size)\n",
    "        head_input_size = num_features_model(self.conv) + meta_output_size\n",
    "        self.head = create_head(nf=head_input_size*2, nc=2,\n",
    "                                ps=0, lin_ftrs=[512])  # skip adaptive pooling and flatten\n",
    "    \n",
    "    def forward(self, img_x, meta_x):\n",
    "        img_out = self.conv(img_x)\n",
    "#         meta_out = self.meta(meta_x)\n",
    "#         x = torch.cat([img_out.view(img_out.shape[0], -1)], -1)\n",
    "        out = self.head(img_out)\n",
    "        return out"
   ]
  },
  {
   "cell_type": "code",
   "execution_count": 253,
   "metadata": {
    "hidden": true
   },
   "outputs": [],
   "source": [
    "model = MixedInputModel(meta_input_size=meta_feature_n, meta_output_size=0)"
   ]
  },
  {
   "cell_type": "code",
   "execution_count": 254,
   "metadata": {
    "hidden": true
   },
   "outputs": [],
   "source": [
    "for l in model.conv:\n",
    "    for p in l.parameters():\n",
    "        p.requires_grad = False"
   ]
  },
  {
   "cell_type": "code",
   "execution_count": 255,
   "metadata": {
    "hidden": true
   },
   "outputs": [],
   "source": [
    "apply_init(model.head, nn.init.kaiming_normal_)"
   ]
  },
  {
   "cell_type": "code",
   "execution_count": 256,
   "metadata": {
    "hidden": true
   },
   "outputs": [],
   "source": [
    "# from numpy import linalg as LA\n",
    "# for lp in model.conv.parameters():\n",
    "#     print(LA.norm(lp.flatten()), lp.shape)"
   ]
  },
  {
   "cell_type": "code",
   "execution_count": 257,
   "metadata": {
    "hidden": true
   },
   "outputs": [],
   "source": [
    "# learn = Learner(data, model, metrics=[accuracy])\n",
    "data_ = build_data(df, train_inds, valid_inds)"
   ]
  },
  {
   "cell_type": "code",
   "execution_count": 258,
   "metadata": {
    "hidden": true,
    "scrolled": false
   },
   "outputs": [
    {
     "data": {
      "text/html": [
       "\n",
       "    <div>\n",
       "        <style>\n",
       "            /* Turns off some styling */\n",
       "            progress {\n",
       "                /* gets rid of default border in Firefox and Opera. */\n",
       "                border: none;\n",
       "                /* Needs to be in here for Safari polyfill so background images work as expected. */\n",
       "                background-size: auto;\n",
       "            }\n",
       "            .progress-bar-interrupted, .progress-bar-interrupted::-webkit-progress-bar {\n",
       "                background: #F44336;\n",
       "            }\n",
       "        </style>\n",
       "      <progress value='0' class='' max='5', style='width:300px; height:20px; vertical-align: middle;'></progress>\n",
       "      0.00% [0/5 00:00<00:00]\n",
       "    </div>\n",
       "    \n",
       "<table style='width:300px; margin-bottom:10px'>\n",
       "  <tr>\n",
       "    <th>epoch</th>\n",
       "    <th>train_loss</th>\n",
       "    <th>valid_loss</th>\n",
       "    <th>accuracy</th>\n",
       "  </tr>\n",
       "</table>\n",
       "\n",
       "\n",
       "    <div>\n",
       "        <style>\n",
       "            /* Turns off some styling */\n",
       "            progress {\n",
       "                /* gets rid of default border in Firefox and Opera. */\n",
       "                border: none;\n",
       "                /* Needs to be in here for Safari polyfill so background images work as expected. */\n",
       "                background-size: auto;\n",
       "            }\n",
       "            .progress-bar-interrupted, .progress-bar-interrupted::-webkit-progress-bar {\n",
       "                background: #F44336;\n",
       "            }\n",
       "        </style>\n",
       "      <progress value='0' class='progress-bar-interrupted' max='218', style='width:300px; height:20px; vertical-align: middle;'></progress>\n",
       "      Interrupted\n",
       "    </div>\n",
       "    "
      ],
      "text/plain": [
       "<IPython.core.display.HTML object>"
      ]
     },
     "metadata": {},
     "output_type": "display_data"
    },
    {
     "ename": "KeyboardInterrupt",
     "evalue": "",
     "output_type": "error",
     "traceback": [
      "\u001b[0;31m---------------------------------------------------------------------------\u001b[0m",
      "\u001b[0;31mKeyboardInterrupt\u001b[0m                         Traceback (most recent call last)",
      "\u001b[0;32m<ipython-input-258-79ebaa0c5796>\u001b[0m in \u001b[0;36m<module>\u001b[0;34m\u001b[0m\n\u001b[1;32m      3\u001b[0m \u001b[0;34m\u001b[0m\u001b[0m\n\u001b[1;32m      4\u001b[0m \u001b[0mlr\u001b[0m \u001b[0;34m=\u001b[0m \u001b[0;36m3e-3\u001b[0m\u001b[0;34m\u001b[0m\u001b[0;34m\u001b[0m\u001b[0m\n\u001b[0;32m----> 5\u001b[0;31m \u001b[0mlearn\u001b[0m\u001b[0;34m.\u001b[0m\u001b[0mfit_one_cycle\u001b[0m\u001b[0;34m(\u001b[0m\u001b[0;36m5\u001b[0m\u001b[0;34m,\u001b[0m \u001b[0mslice\u001b[0m\u001b[0;34m(\u001b[0m\u001b[0mlr\u001b[0m\u001b[0;34m)\u001b[0m\u001b[0;34m,\u001b[0m \u001b[0mwd\u001b[0m\u001b[0;34m=\u001b[0m\u001b[0;36m0.\u001b[0m\u001b[0;34m)\u001b[0m\u001b[0;34m\u001b[0m\u001b[0;34m\u001b[0m\u001b[0m\n\u001b[0m",
      "\u001b[0;32m~/anaconda3/envs/fastai/lib/python3.7/site-packages/fastai/train.py\u001b[0m in \u001b[0;36mfit_one_cycle\u001b[0;34m(learn, cyc_len, max_lr, moms, div_factor, pct_start, wd, callbacks, tot_epochs, start_epoch)\u001b[0m\n\u001b[1;32m     20\u001b[0m     callbacks.append(OneCycleScheduler(learn, max_lr, moms=moms, div_factor=div_factor, pct_start=pct_start, tot_epochs=tot_epochs, \n\u001b[1;32m     21\u001b[0m                                        start_epoch=start_epoch))\n\u001b[0;32m---> 22\u001b[0;31m     \u001b[0mlearn\u001b[0m\u001b[0;34m.\u001b[0m\u001b[0mfit\u001b[0m\u001b[0;34m(\u001b[0m\u001b[0mcyc_len\u001b[0m\u001b[0;34m,\u001b[0m \u001b[0mmax_lr\u001b[0m\u001b[0;34m,\u001b[0m \u001b[0mwd\u001b[0m\u001b[0;34m=\u001b[0m\u001b[0mwd\u001b[0m\u001b[0;34m,\u001b[0m \u001b[0mcallbacks\u001b[0m\u001b[0;34m=\u001b[0m\u001b[0mcallbacks\u001b[0m\u001b[0;34m)\u001b[0m\u001b[0;34m\u001b[0m\u001b[0;34m\u001b[0m\u001b[0m\n\u001b[0m\u001b[1;32m     23\u001b[0m \u001b[0;34m\u001b[0m\u001b[0m\n\u001b[1;32m     24\u001b[0m \u001b[0;32mdef\u001b[0m \u001b[0mlr_find\u001b[0m\u001b[0;34m(\u001b[0m\u001b[0mlearn\u001b[0m\u001b[0;34m:\u001b[0m\u001b[0mLearner\u001b[0m\u001b[0;34m,\u001b[0m \u001b[0mstart_lr\u001b[0m\u001b[0;34m:\u001b[0m\u001b[0mFloats\u001b[0m\u001b[0;34m=\u001b[0m\u001b[0;36m1e-7\u001b[0m\u001b[0;34m,\u001b[0m \u001b[0mend_lr\u001b[0m\u001b[0;34m:\u001b[0m\u001b[0mFloats\u001b[0m\u001b[0;34m=\u001b[0m\u001b[0;36m10\u001b[0m\u001b[0;34m,\u001b[0m \u001b[0mnum_it\u001b[0m\u001b[0;34m:\u001b[0m\u001b[0mint\u001b[0m\u001b[0;34m=\u001b[0m\u001b[0;36m100\u001b[0m\u001b[0;34m,\u001b[0m \u001b[0mstop_div\u001b[0m\u001b[0;34m:\u001b[0m\u001b[0mbool\u001b[0m\u001b[0;34m=\u001b[0m\u001b[0;32mTrue\u001b[0m\u001b[0;34m,\u001b[0m \u001b[0mwd\u001b[0m\u001b[0;34m:\u001b[0m\u001b[0mfloat\u001b[0m\u001b[0;34m=\u001b[0m\u001b[0;32mNone\u001b[0m\u001b[0;34m)\u001b[0m\u001b[0;34m:\u001b[0m\u001b[0;34m\u001b[0m\u001b[0;34m\u001b[0m\u001b[0m\n",
      "\u001b[0;32m~/anaconda3/envs/fastai/lib/python3.7/site-packages/fastai/basic_train.py\u001b[0m in \u001b[0;36mfit\u001b[0;34m(self, epochs, lr, wd, callbacks)\u001b[0m\n\u001b[1;32m    176\u001b[0m         \u001b[0mcallbacks\u001b[0m \u001b[0;34m=\u001b[0m \u001b[0;34m[\u001b[0m\u001b[0mcb\u001b[0m\u001b[0;34m(\u001b[0m\u001b[0mself\u001b[0m\u001b[0;34m)\u001b[0m \u001b[0;32mfor\u001b[0m \u001b[0mcb\u001b[0m \u001b[0;32min\u001b[0m \u001b[0mself\u001b[0m\u001b[0;34m.\u001b[0m\u001b[0mcallback_fns\u001b[0m\u001b[0;34m]\u001b[0m \u001b[0;34m+\u001b[0m \u001b[0mlistify\u001b[0m\u001b[0;34m(\u001b[0m\u001b[0mcallbacks\u001b[0m\u001b[0;34m)\u001b[0m\u001b[0;34m\u001b[0m\u001b[0;34m\u001b[0m\u001b[0m\n\u001b[1;32m    177\u001b[0m         fit(epochs, self.model, self.loss_func, opt=self.opt, data=self.data, metrics=self.metrics,\n\u001b[0;32m--> 178\u001b[0;31m             callbacks=self.callbacks+callbacks)\n\u001b[0m\u001b[1;32m    179\u001b[0m \u001b[0;34m\u001b[0m\u001b[0m\n\u001b[1;32m    180\u001b[0m     \u001b[0;32mdef\u001b[0m \u001b[0mcreate_opt\u001b[0m\u001b[0;34m(\u001b[0m\u001b[0mself\u001b[0m\u001b[0;34m,\u001b[0m \u001b[0mlr\u001b[0m\u001b[0;34m:\u001b[0m\u001b[0mFloats\u001b[0m\u001b[0;34m,\u001b[0m \u001b[0mwd\u001b[0m\u001b[0;34m:\u001b[0m\u001b[0mFloats\u001b[0m\u001b[0;34m=\u001b[0m\u001b[0;36m0.\u001b[0m\u001b[0;34m)\u001b[0m\u001b[0;34m->\u001b[0m\u001b[0;32mNone\u001b[0m\u001b[0;34m:\u001b[0m\u001b[0;34m\u001b[0m\u001b[0;34m\u001b[0m\u001b[0m\n",
      "\u001b[0;32m~/anaconda3/envs/fastai/lib/python3.7/site-packages/fastai/utils/mem.py\u001b[0m in \u001b[0;36mwrapper\u001b[0;34m(*args, **kwargs)\u001b[0m\n\u001b[1;32m     78\u001b[0m \u001b[0;34m\u001b[0m\u001b[0m\n\u001b[1;32m     79\u001b[0m         \u001b[0;32mtry\u001b[0m\u001b[0;34m:\u001b[0m\u001b[0;34m\u001b[0m\u001b[0;34m\u001b[0m\u001b[0m\n\u001b[0;32m---> 80\u001b[0;31m             \u001b[0;32mreturn\u001b[0m \u001b[0mfunc\u001b[0m\u001b[0;34m(\u001b[0m\u001b[0;34m*\u001b[0m\u001b[0margs\u001b[0m\u001b[0;34m,\u001b[0m \u001b[0;34m**\u001b[0m\u001b[0mkwargs\u001b[0m\u001b[0;34m)\u001b[0m\u001b[0;34m\u001b[0m\u001b[0;34m\u001b[0m\u001b[0m\n\u001b[0m\u001b[1;32m     81\u001b[0m         \u001b[0;32mexcept\u001b[0m \u001b[0mException\u001b[0m \u001b[0;32mas\u001b[0m \u001b[0me\u001b[0m\u001b[0;34m:\u001b[0m\u001b[0;34m\u001b[0m\u001b[0;34m\u001b[0m\u001b[0m\n\u001b[1;32m     82\u001b[0m             if (\"CUDA out of memory\" in str(e) or\n",
      "\u001b[0;32m~/anaconda3/envs/fastai/lib/python3.7/site-packages/fastai/basic_train.py\u001b[0m in \u001b[0;36mfit\u001b[0;34m(epochs, model, loss_func, opt, data, callbacks, metrics)\u001b[0m\n\u001b[1;32m     88\u001b[0m             \u001b[0;32mfor\u001b[0m \u001b[0mxb\u001b[0m\u001b[0;34m,\u001b[0m\u001b[0myb\u001b[0m \u001b[0;32min\u001b[0m \u001b[0mprogress_bar\u001b[0m\u001b[0;34m(\u001b[0m\u001b[0mdata\u001b[0m\u001b[0;34m.\u001b[0m\u001b[0mtrain_dl\u001b[0m\u001b[0;34m,\u001b[0m \u001b[0mparent\u001b[0m\u001b[0;34m=\u001b[0m\u001b[0mpbar\u001b[0m\u001b[0;34m)\u001b[0m\u001b[0;34m:\u001b[0m\u001b[0;34m\u001b[0m\u001b[0;34m\u001b[0m\u001b[0m\n\u001b[1;32m     89\u001b[0m                 \u001b[0mxb\u001b[0m\u001b[0;34m,\u001b[0m \u001b[0myb\u001b[0m \u001b[0;34m=\u001b[0m \u001b[0mcb_handler\u001b[0m\u001b[0;34m.\u001b[0m\u001b[0mon_batch_begin\u001b[0m\u001b[0;34m(\u001b[0m\u001b[0mxb\u001b[0m\u001b[0;34m,\u001b[0m \u001b[0myb\u001b[0m\u001b[0;34m)\u001b[0m\u001b[0;34m\u001b[0m\u001b[0;34m\u001b[0m\u001b[0m\n\u001b[0;32m---> 90\u001b[0;31m                 \u001b[0mloss\u001b[0m \u001b[0;34m=\u001b[0m \u001b[0mloss_batch\u001b[0m\u001b[0;34m(\u001b[0m\u001b[0mmodel\u001b[0m\u001b[0;34m,\u001b[0m \u001b[0mxb\u001b[0m\u001b[0;34m,\u001b[0m \u001b[0myb\u001b[0m\u001b[0;34m,\u001b[0m \u001b[0mloss_func\u001b[0m\u001b[0;34m,\u001b[0m \u001b[0mopt\u001b[0m\u001b[0;34m,\u001b[0m \u001b[0mcb_handler\u001b[0m\u001b[0;34m)\u001b[0m\u001b[0;34m\u001b[0m\u001b[0;34m\u001b[0m\u001b[0m\n\u001b[0m\u001b[1;32m     91\u001b[0m                 \u001b[0;32mif\u001b[0m \u001b[0mcb_handler\u001b[0m\u001b[0;34m.\u001b[0m\u001b[0mon_batch_end\u001b[0m\u001b[0;34m(\u001b[0m\u001b[0mloss\u001b[0m\u001b[0;34m)\u001b[0m\u001b[0;34m:\u001b[0m \u001b[0;32mbreak\u001b[0m\u001b[0;34m\u001b[0m\u001b[0;34m\u001b[0m\u001b[0m\n\u001b[1;32m     92\u001b[0m \u001b[0;34m\u001b[0m\u001b[0m\n",
      "\u001b[0;32m~/anaconda3/envs/fastai/lib/python3.7/site-packages/fastai/basic_train.py\u001b[0m in \u001b[0;36mloss_batch\u001b[0;34m(model, xb, yb, loss_func, opt, cb_handler)\u001b[0m\n\u001b[1;32m     30\u001b[0m         \u001b[0mopt\u001b[0m\u001b[0;34m.\u001b[0m\u001b[0mstep\u001b[0m\u001b[0;34m(\u001b[0m\u001b[0;34m)\u001b[0m\u001b[0;34m\u001b[0m\u001b[0;34m\u001b[0m\u001b[0m\n\u001b[1;32m     31\u001b[0m         \u001b[0mcb_handler\u001b[0m\u001b[0;34m.\u001b[0m\u001b[0mon_step_end\u001b[0m\u001b[0;34m(\u001b[0m\u001b[0;34m)\u001b[0m\u001b[0;34m\u001b[0m\u001b[0;34m\u001b[0m\u001b[0m\n\u001b[0;32m---> 32\u001b[0;31m         \u001b[0mopt\u001b[0m\u001b[0;34m.\u001b[0m\u001b[0mzero_grad\u001b[0m\u001b[0;34m(\u001b[0m\u001b[0;34m)\u001b[0m\u001b[0;34m\u001b[0m\u001b[0;34m\u001b[0m\u001b[0m\n\u001b[0m\u001b[1;32m     33\u001b[0m \u001b[0;34m\u001b[0m\u001b[0m\n\u001b[1;32m     34\u001b[0m     \u001b[0;32mreturn\u001b[0m \u001b[0mloss\u001b[0m\u001b[0;34m.\u001b[0m\u001b[0mdetach\u001b[0m\u001b[0;34m(\u001b[0m\u001b[0;34m)\u001b[0m\u001b[0;34m.\u001b[0m\u001b[0mcpu\u001b[0m\u001b[0;34m(\u001b[0m\u001b[0;34m)\u001b[0m\u001b[0;34m\u001b[0m\u001b[0;34m\u001b[0m\u001b[0m\n",
      "\u001b[0;32m~/anaconda3/envs/fastai/lib/python3.7/site-packages/fastai/callback.py\u001b[0m in \u001b[0;36mzero_grad\u001b[0;34m(self)\u001b[0m\n\u001b[1;32m     49\u001b[0m     \u001b[0;32mdef\u001b[0m \u001b[0mzero_grad\u001b[0m\u001b[0;34m(\u001b[0m\u001b[0mself\u001b[0m\u001b[0;34m)\u001b[0m\u001b[0;34m->\u001b[0m\u001b[0;32mNone\u001b[0m\u001b[0;34m:\u001b[0m\u001b[0;34m\u001b[0m\u001b[0;34m\u001b[0m\u001b[0m\n\u001b[1;32m     50\u001b[0m         \u001b[0;34m\"Clear optimizer gradients.\"\u001b[0m\u001b[0;34m\u001b[0m\u001b[0;34m\u001b[0m\u001b[0m\n\u001b[0;32m---> 51\u001b[0;31m         \u001b[0mself\u001b[0m\u001b[0;34m.\u001b[0m\u001b[0mopt\u001b[0m\u001b[0;34m.\u001b[0m\u001b[0mzero_grad\u001b[0m\u001b[0;34m(\u001b[0m\u001b[0;34m)\u001b[0m\u001b[0;34m\u001b[0m\u001b[0;34m\u001b[0m\u001b[0m\n\u001b[0m\u001b[1;32m     52\u001b[0m \u001b[0;34m\u001b[0m\u001b[0m\n\u001b[1;32m     53\u001b[0m     \u001b[0;31m#Passthrough to the inner opt.\u001b[0m\u001b[0;34m\u001b[0m\u001b[0;34m\u001b[0m\u001b[0;34m\u001b[0m\u001b[0m\n",
      "\u001b[0;32m~/anaconda3/envs/fastai/lib/python3.7/site-packages/torch/optim/optimizer.py\u001b[0m in \u001b[0;36mzero_grad\u001b[0;34m(self)\u001b[0m\n\u001b[1;32m    161\u001b[0m                 \u001b[0;32mif\u001b[0m \u001b[0mp\u001b[0m\u001b[0;34m.\u001b[0m\u001b[0mgrad\u001b[0m \u001b[0;32mis\u001b[0m \u001b[0;32mnot\u001b[0m \u001b[0;32mNone\u001b[0m\u001b[0;34m:\u001b[0m\u001b[0;34m\u001b[0m\u001b[0;34m\u001b[0m\u001b[0m\n\u001b[1;32m    162\u001b[0m                     \u001b[0mp\u001b[0m\u001b[0;34m.\u001b[0m\u001b[0mgrad\u001b[0m\u001b[0;34m.\u001b[0m\u001b[0mdetach_\u001b[0m\u001b[0;34m(\u001b[0m\u001b[0;34m)\u001b[0m\u001b[0;34m\u001b[0m\u001b[0;34m\u001b[0m\u001b[0m\n\u001b[0;32m--> 163\u001b[0;31m                     \u001b[0mp\u001b[0m\u001b[0;34m.\u001b[0m\u001b[0mgrad\u001b[0m\u001b[0;34m.\u001b[0m\u001b[0mzero_\u001b[0m\u001b[0;34m(\u001b[0m\u001b[0;34m)\u001b[0m\u001b[0;34m\u001b[0m\u001b[0;34m\u001b[0m\u001b[0m\n\u001b[0m\u001b[1;32m    164\u001b[0m \u001b[0;34m\u001b[0m\u001b[0m\n\u001b[1;32m    165\u001b[0m     \u001b[0;32mdef\u001b[0m \u001b[0mstep\u001b[0m\u001b[0;34m(\u001b[0m\u001b[0mself\u001b[0m\u001b[0;34m,\u001b[0m \u001b[0mclosure\u001b[0m\u001b[0;34m)\u001b[0m\u001b[0;34m:\u001b[0m\u001b[0;34m\u001b[0m\u001b[0;34m\u001b[0m\u001b[0m\n",
      "\u001b[0;31mKeyboardInterrupt\u001b[0m: "
     ]
    }
   ],
   "source": [
    "arch = models.resnet50\n",
    "learn = create_cnn(data, arch, metrics=[accuracy], ps=0.5)\n",
    "\n",
    "lr = 3e-3\n",
    "learn.fit_one_cycle(5, slice(lr), wd=0.)"
   ]
  },
  {
   "cell_type": "code",
   "execution_count": 30,
   "metadata": {
    "hidden": true
   },
   "outputs": [],
   "source": [
    "learn.save(f'gs-{arch.__name__}-stage1.fai')"
   ]
  },
  {
   "cell_type": "code",
   "execution_count": 31,
   "metadata": {
    "hidden": true
   },
   "outputs": [
    {
     "data": {
      "text/plain": [
       "13932"
      ]
     },
     "execution_count": 31,
     "metadata": {},
     "output_type": "execute_result"
    }
   ],
   "source": [
    "len(data.train_dl.dataset)"
   ]
  },
  {
   "cell_type": "code",
   "execution_count": 389,
   "metadata": {
    "hidden": true
   },
   "outputs": [],
   "source": [
    "# learn.load(f'gs-{arch.__name__}-stage1.fai');"
   ]
  },
  {
   "cell_type": "code",
   "execution_count": 388,
   "metadata": {
    "hidden": true
   },
   "outputs": [],
   "source": [
    "# learn.unfreeze()\n",
    "# div = 10\n",
    "# learn.fit_one_cycle(5, slice(1e-6, lr/div), wd=0.1)"
   ]
  },
  {
   "cell_type": "code",
   "execution_count": 32,
   "metadata": {
    "hidden": true
   },
   "outputs": [
    {
     "data": {
      "text/plain": [
       "[0.091364056, tensor(0.9666)]"
      ]
     },
     "execution_count": 32,
     "metadata": {},
     "output_type": "execute_result"
    }
   ],
   "source": [
    "# learn.validate(data.train_dl),\n",
    "learn.validate(data.valid_dl)"
   ]
  },
  {
   "cell_type": "code",
   "execution_count": 408,
   "metadata": {
    "hidden": true
   },
   "outputs": [],
   "source": [
    "# test_data = build_data(df, train_inds, test_inds)\n",
    "# learn.validate(test_data.valid_dl)"
   ]
  },
  {
   "cell_type": "code",
   "execution_count": 152,
   "metadata": {
    "hidden": true
   },
   "outputs": [],
   "source": [
    "# learn.model"
   ]
  },
  {
   "cell_type": "code",
   "execution_count": 33,
   "metadata": {
    "hidden": true
   },
   "outputs": [
    {
     "data": {
      "text/plain": [
       "['off', 'on']"
      ]
     },
     "execution_count": 33,
     "metadata": {},
     "output_type": "execute_result"
    }
   ],
   "source": [
    "learn.data.classes"
   ]
  },
  {
   "cell_type": "code",
   "execution_count": 172,
   "metadata": {
    "hidden": true
   },
   "outputs": [],
   "source": [
    "conv_layers, classifier = learn.model"
   ]
  },
  {
   "cell_type": "code",
   "execution_count": 38,
   "metadata": {
    "hidden": true
   },
   "outputs": [],
   "source": [
    "import torch\n",
    "import torch.nn as nn\n",
    "import torch.nn.functional as F"
   ]
  },
  {
   "cell_type": "code",
   "execution_count": 65,
   "metadata": {
    "hidden": true
   },
   "outputs": [],
   "source": [
    "class FeatureExtractor(nn.Module):\n",
    "\n",
    "    def __init__(self):\n",
    "        super().__init__()\n",
    "        self.avg_pool = nn.AdaptiveAvgPool2d(1)\n",
    "        self.max_pool = nn.AdaptiveMaxPool2d(1)\n",
    "\n",
    "    def forward(self, x):\n",
    "        x = torch.cat([self.avg_pool(x), self.max_pool(x)], dim=1)\n",
    "        return x.view(x.size(0), -1)"
   ]
  },
  {
   "cell_type": "code",
   "execution_count": 66,
   "metadata": {
    "hidden": true
   },
   "outputs": [],
   "source": [
    "feature_extract_learn = Learner(data, nn.Sequential(conv_layers, FeatureExtractor()))\n",
    "feature_extract_learn.model.eval();"
   ]
  },
  {
   "cell_type": "code",
   "execution_count": 136,
   "metadata": {
    "hidden": true
   },
   "outputs": [
    {
     "ename": "RuntimeError",
     "evalue": "expected a non-empty list of Tensors",
     "output_type": "error",
     "traceback": [
      "\u001b[0;31m---------------------------------------------------------------------------\u001b[0m",
      "\u001b[0;31mRuntimeError\u001b[0m                              Traceback (most recent call last)",
      "\u001b[0;32m<ipython-input-136-8b595be70569>\u001b[0m in \u001b[0;36m<module>\u001b[0;34m\u001b[0m\n\u001b[1;32m      4\u001b[0m \u001b[0;31m#     train_features, _ = feature_extract_learn.get_preds(DatasetType.Train)\u001b[0m\u001b[0;34m\u001b[0m\u001b[0;34m\u001b[0m\u001b[0;34m\u001b[0m\u001b[0m\n\u001b[1;32m      5\u001b[0m \u001b[0;31m#     train_features_list.append(train_features)\u001b[0m\u001b[0;34m\u001b[0m\u001b[0;34m\u001b[0m\u001b[0;34m\u001b[0m\u001b[0m\n\u001b[0;32m----> 6\u001b[0;31m \u001b[0mtrain_features\u001b[0m \u001b[0;34m=\u001b[0m \u001b[0mtorch\u001b[0m\u001b[0;34m.\u001b[0m\u001b[0mcat\u001b[0m\u001b[0;34m(\u001b[0m\u001b[0mtrain_features_list\u001b[0m\u001b[0;34m)\u001b[0m\u001b[0;34m\u001b[0m\u001b[0;34m\u001b[0m\u001b[0m\n\u001b[0m\u001b[1;32m      7\u001b[0m \u001b[0mtrain_features\u001b[0m\u001b[0;34m.\u001b[0m\u001b[0mshape\u001b[0m\u001b[0;34m,\u001b[0m \u001b[0mlen\u001b[0m\u001b[0;34m(\u001b[0m\u001b[0mfeature_extract_learn\u001b[0m\u001b[0;34m.\u001b[0m\u001b[0mdata\u001b[0m\u001b[0;34m.\u001b[0m\u001b[0mtrain_dl\u001b[0m\u001b[0;34m.\u001b[0m\u001b[0mdataset\u001b[0m\u001b[0;34m)\u001b[0m\u001b[0;34m\u001b[0m\u001b[0;34m\u001b[0m\u001b[0m\n",
      "\u001b[0;31mRuntimeError\u001b[0m: expected a non-empty list of Tensors"
     ]
    }
   ],
   "source": [
    "train_features_list = []\n",
    "m = 3\n",
    "for i in range(m):\n",
    "    train_features, _ = feature_extract_learn.get_preds(DatasetType.Train)\n",
    "    train_features_list.append(train_features)\n",
    "train_features = torch.cat(train_features_list)\n",
    "train_features.shape, len(feature_extract_learn.data.train_dl.dataset)"
   ]
  },
  {
   "cell_type": "code",
   "execution_count": 174,
   "metadata": {
    "hidden": true
   },
   "outputs": [
    {
     "data": {
      "text/plain": [
       "(torch.Size([4640, 4096]), 4640)"
      ]
     },
     "execution_count": 174,
     "metadata": {},
     "output_type": "execute_result"
    }
   ],
   "source": [
    "valid_features, _ = feature_extract_learn.get_preds(DatasetType.Valid)\n",
    "valid_features.shape, len(feature_extract_learn.data.valid_dl.dataset)"
   ]
  },
  {
   "cell_type": "code",
   "execution_count": 175,
   "metadata": {
    "hidden": true
   },
   "outputs": [
    {
     "data": {
      "text/plain": [
       "torch.Size([4640, 4096])"
      ]
     },
     "execution_count": 175,
     "metadata": {},
     "output_type": "execute_result"
    }
   ],
   "source": [
    "valid_features2, _ = feature_extract_learn.get_preds(DatasetType.Valid)\n",
    "valid_features2.shape"
   ]
  },
  {
   "cell_type": "code",
   "execution_count": 176,
   "metadata": {
    "hidden": true
   },
   "outputs": [
    {
     "data": {
      "text/plain": [
       "tensor([8.4386e-06, 1.1569e-05, 7.4853e-06, 7.2389e-06, 1.1994e-05, 7.5875e-06,\n",
       "        9.8710e-06, 7.8183e-06, 1.0943e-05, 7.3366e-06])"
      ]
     },
     "execution_count": 176,
     "metadata": {},
     "output_type": "execute_result"
    }
   ],
   "source": [
    "valid_features[0, :10]"
   ]
  },
  {
   "cell_type": "code",
   "execution_count": 177,
   "metadata": {
    "hidden": true
   },
   "outputs": [
    {
     "data": {
      "text/plain": [
       "tensor([8.4386e-06, 1.1569e-05, 7.4853e-06, 7.2389e-06, 1.1994e-05, 7.5875e-06,\n",
       "        9.8710e-06, 7.8183e-06, 1.0943e-05, 7.3366e-06])"
      ]
     },
     "execution_count": 177,
     "metadata": {},
     "output_type": "execute_result"
    }
   ],
   "source": [
    "valid_features2[0, :10]"
   ]
  },
  {
   "cell_type": "code",
   "execution_count": 70,
   "metadata": {
    "hidden": true
   },
   "outputs": [],
   "source": [
    "# learn.data = test_data\n",
    "# test_features, _ = learn.get_preds(DatasetType.Valid)\n",
    "# test_features.shape, len(learn.data.valid_dl.dataset)"
   ]
  },
  {
   "cell_type": "code",
   "execution_count": 138,
   "metadata": {
    "hidden": true
   },
   "outputs": [],
   "source": [
    "def convert_labels_to_inds(df, inds):\n",
    "    a = (df.iloc[inds].label == 'on').astype(int).values\n",
    "    return torch.tensor(a)"
   ]
  },
  {
   "cell_type": "code",
   "execution_count": 142,
   "metadata": {
    "hidden": true
   },
   "outputs": [
    {
     "data": {
      "text/plain": [
       "(torch.Size([41664]), torch.Size([4640]))"
      ]
     },
     "execution_count": 142,
     "metadata": {},
     "output_type": "execute_result"
    }
   ],
   "source": [
    "train_y_list = []\n",
    "for i in range(m):\n",
    "    train_y = convert_labels_to_inds(df, train_inds)[:train_features.shape[0] // m]\n",
    "    train_y_list.append(train_y)\n",
    "train_y = torch.cat(train_y_list)\n",
    "    \n",
    "valid_y = convert_labels_to_inds(df, valid_inds)\n",
    "# test_y = convert_labels_to_inds(df, test_inds)\n",
    "train_y.shape, valid_y.shape, #test_y.shape"
   ]
  },
  {
   "cell_type": "code",
   "execution_count": 143,
   "metadata": {
    "hidden": true
   },
   "outputs": [],
   "source": [
    "from torch.utils.data import TensorDataset\n",
    "from torch.utils.data import DataLoader\n",
    "from torch.optim import Adam, SGD\n",
    "import time"
   ]
  },
  {
   "cell_type": "code",
   "execution_count": 144,
   "metadata": {
    "hidden": true
   },
   "outputs": [
    {
     "data": {
      "text/plain": [
       "device(type='cuda')"
      ]
     },
     "execution_count": 144,
     "metadata": {},
     "output_type": "execute_result"
    }
   ],
   "source": [
    "device = torch.device('cuda' if torch.cuda.is_available() else 'cpu')\n",
    "device"
   ]
  },
  {
   "cell_type": "code",
   "execution_count": 145,
   "metadata": {
    "hidden": true
   },
   "outputs": [],
   "source": [
    "train_features_ds = TensorDataset(train_features, train_y)\n",
    "valid_features_ds = TensorDataset(valid_features, valid_y)\n",
    "# test_features_ds = TensorDataset(test_features, test_y)"
   ]
  },
  {
   "cell_type": "code",
   "execution_count": 146,
   "metadata": {
    "hidden": true
   },
   "outputs": [],
   "source": [
    "bs = 64\n",
    "train_features_dl = DataLoader(train_features_ds, batch_size=bs, shuffle=True)\n",
    "valid_features_dl = DataLoader(valid_features_ds, batch_size=bs*2, shuffle=False)\n",
    "# test_features_dl = DataLoader(test_features_ds, batch_size=bs*2, shuffle=False)"
   ]
  },
  {
   "cell_type": "code",
   "execution_count": 147,
   "metadata": {
    "hidden": true
   },
   "outputs": [],
   "source": [
    "class ExtraFeaturesClassifier(nn.Module):\n",
    "\n",
    "    def __init__(self, input_size, hidden_size, dropout_ps):\n",
    "        super().__init__()\n",
    "        self.batch_norm_1 = nn.BatchNorm1d(input_size)\n",
    "        self.dropout_1 = nn.Dropout(dropout_ps[0])\n",
    "        self.linear_1 = nn.Linear(input_size, hidden_size)\n",
    "        self.batch_norm_2 = nn.BatchNorm1d(hidden_size)\n",
    "        self.dropout_2 = nn.Dropout(p=dropout_ps[1])\n",
    "        self.linear_2 = nn.Linear(hidden_size, 2)\n",
    "\n",
    "    def forward(self, x):\n",
    "        x = self.batch_norm_1(x)\n",
    "        x = self.dropout_1(x)\n",
    "        x = F.relu(self.linear_1(x))\n",
    "        x = self.batch_norm_2(x)\n",
    "        x = self.dropout_2(x)\n",
    "        x = self.linear_2(x)\n",
    "        return x"
   ]
  },
  {
   "cell_type": "code",
   "execution_count": 167,
   "metadata": {
    "hidden": true
   },
   "outputs": [],
   "source": [
    "model = ExtraFeaturesClassifier(input_size=4096, hidden_size=512, dropout_ps=[0.5, 0.5])\n",
    "# model = learn.classifier[2:]\n",
    "model = model.to(device)\n",
    "optimizer = Adam(model.parameters(), lr=0.01)\n",
    "# optimizer = SGD(model.parameters(), lr=0.03, momentum=0.9)\n",
    "criterion = nn.CrossEntropyLoss()"
   ]
  },
  {
   "cell_type": "code",
   "execution_count": 168,
   "metadata": {
    "hidden": true
   },
   "outputs": [
    {
     "data": {
      "text/plain": [
       "2107906"
      ]
     },
     "execution_count": 168,
     "metadata": {},
     "output_type": "execute_result"
    }
   ],
   "source": [
    "np.sum([t.flatten().shape for t in model.parameters()])"
   ]
  },
  {
   "cell_type": "code",
   "execution_count": 169,
   "metadata": {
    "hidden": true
   },
   "outputs": [],
   "source": [
    "def valid_step(model, dl, criterion):\n",
    "    running_loss, running_corrects = 0.0, 0.0\n",
    "    model.eval()\n",
    "    with torch.no_grad():\n",
    "        for xs, ys in dl:\n",
    "#             print('.', end='')\n",
    "            xs = xs.to(device)\n",
    "            ys = ys.to(device)\n",
    "            \n",
    "            outputs = model(xs)\n",
    "            loss = criterion(outputs, ys)\n",
    "\n",
    "            _, preds = torch.max(outputs, 1)\n",
    "            running_loss += loss.item() * xs.size(0)\n",
    "            running_corrects += torch.sum(preds == ys.data).item()\n",
    "\n",
    "    epoch_loss = running_loss / len(dl.dataset)\n",
    "    epoch_acc = running_corrects / len(dl.dataset)\n",
    "    print(f'Valid loss: {epoch_loss:.3f}, valid acc: {epoch_acc:.3f}')\n",
    "    print('-' * 10)"
   ]
  },
  {
   "cell_type": "code",
   "execution_count": 170,
   "metadata": {
    "hidden": true
   },
   "outputs": [],
   "source": [
    "# valid_step(model, valid_features_dl, criterion)"
   ]
  },
  {
   "cell_type": "code",
   "execution_count": 171,
   "metadata": {
    "hidden": true
   },
   "outputs": [
    {
     "name": "stdout",
     "output_type": "stream",
     "text": [
      "Epoch 1/50\n",
      "Training loss: 0.704, training acc: 0.556\tValid loss: 1.146, valid acc: 0.588\n",
      "----------\n",
      "Epoch 2/50\n",
      "Training loss: 0.684, training acc: 0.574\tValid loss: 1.171, valid acc: 0.584\n",
      "----------\n",
      "Epoch 3/50\n",
      "Training loss: 0.685, training acc: 0.572\tValid loss: 0.979, valid acc: 0.583\n",
      "----------\n",
      "Epoch 4/50\n",
      "Training loss: 0.685, training acc: 0.572\tValid loss: 1.998, valid acc: 0.589\n",
      "----------\n",
      "Epoch 5/50\n",
      "Training loss: 0.689, training acc: 0.565\tValid loss: 1.225, valid acc: 0.589\n",
      "----------\n",
      "Epoch 6/50\n",
      "Training loss: 0.687, training acc: 0.571\tValid loss: 1.376, valid acc: 0.590\n",
      "----------\n",
      "Epoch 7/50\n",
      "Training loss: 0.686, training acc: 0.570\tValid loss: 1.537, valid acc: 0.589\n",
      "----------\n",
      "Epoch 8/50\n",
      "Training loss: 0.687, training acc: 0.569\tValid loss: 0.951, valid acc: 0.588\n",
      "----------\n",
      "Epoch 9/50\n",
      "Training loss: 0.686, training acc: 0.570\tValid loss: 1.547, valid acc: 0.590\n",
      "----------\n",
      "Epoch 10/50\n",
      "Training loss: 0.686, training acc: 0.571\tValid loss: 0.990, valid acc: 0.584\n",
      "----------\n",
      "Epoch 11/50\n",
      "Training loss: 0.686, training acc: 0.571\tValid loss: 1.468, valid acc: 0.587\n",
      "----------\n",
      "Epoch 12/50\n",
      "Training loss: 0.685, training acc: 0.571\tValid loss: 3.229, valid acc: 0.586\n",
      "----------\n",
      "Epoch 13/50\n",
      "Training loss: 0.687, training acc: 0.569\tValid loss: 1.288, valid acc: 0.586\n",
      "----------\n",
      "Epoch 14/50\n",
      "Training loss: 0.686, training acc: 0.569\tValid loss: 1.343, valid acc: 0.587\n",
      "----------\n",
      "Epoch 15/50\n",
      "Training loss: 0.686, training acc: 0.571\tValid loss: 3.161, valid acc: 0.590\n",
      "----------\n",
      "Epoch 16/50\n"
     ]
    },
    {
     "ename": "KeyboardInterrupt",
     "evalue": "",
     "output_type": "error",
     "traceback": [
      "\u001b[0;31m---------------------------------------------------------------------------\u001b[0m",
      "\u001b[0;31mKeyboardInterrupt\u001b[0m                         Traceback (most recent call last)",
      "\u001b[0;32m<ipython-input-171-41f3b51e3659>\u001b[0m in \u001b[0;36m<module>\u001b[0;34m\u001b[0m\n\u001b[1;32m     19\u001b[0m         \u001b[0moutputs\u001b[0m \u001b[0;34m=\u001b[0m \u001b[0mmodel\u001b[0m\u001b[0;34m(\u001b[0m\u001b[0mxs\u001b[0m\u001b[0;34m)\u001b[0m\u001b[0;34m\u001b[0m\u001b[0;34m\u001b[0m\u001b[0m\n\u001b[1;32m     20\u001b[0m         \u001b[0mloss\u001b[0m \u001b[0;34m=\u001b[0m \u001b[0mcriterion\u001b[0m\u001b[0;34m(\u001b[0m\u001b[0moutputs\u001b[0m\u001b[0;34m,\u001b[0m \u001b[0mys\u001b[0m\u001b[0;34m)\u001b[0m\u001b[0;34m\u001b[0m\u001b[0;34m\u001b[0m\u001b[0m\n\u001b[0;32m---> 21\u001b[0;31m         \u001b[0mloss\u001b[0m\u001b[0;34m.\u001b[0m\u001b[0mbackward\u001b[0m\u001b[0;34m(\u001b[0m\u001b[0;34m)\u001b[0m\u001b[0;34m\u001b[0m\u001b[0;34m\u001b[0m\u001b[0m\n\u001b[0m\u001b[1;32m     22\u001b[0m         \u001b[0moptimizer\u001b[0m\u001b[0;34m.\u001b[0m\u001b[0mstep\u001b[0m\u001b[0;34m(\u001b[0m\u001b[0;34m)\u001b[0m\u001b[0;34m\u001b[0m\u001b[0;34m\u001b[0m\u001b[0m\n\u001b[1;32m     23\u001b[0m \u001b[0;34m\u001b[0m\u001b[0m\n",
      "\u001b[0;32m~/anaconda3/envs/fastai/lib/python3.7/site-packages/torch/tensor.py\u001b[0m in \u001b[0;36mbackward\u001b[0;34m(self, gradient, retain_graph, create_graph)\u001b[0m\n\u001b[1;32m    100\u001b[0m                 \u001b[0mproducts\u001b[0m\u001b[0;34m.\u001b[0m \u001b[0mDefaults\u001b[0m \u001b[0mto\u001b[0m\u001b[0;31m \u001b[0m\u001b[0;31m`\u001b[0m\u001b[0;31m`\u001b[0m\u001b[0;32mFalse\u001b[0m\u001b[0;31m`\u001b[0m\u001b[0;31m`\u001b[0m\u001b[0;34m.\u001b[0m\u001b[0;34m\u001b[0m\u001b[0;34m\u001b[0m\u001b[0m\n\u001b[1;32m    101\u001b[0m         \"\"\"\n\u001b[0;32m--> 102\u001b[0;31m         \u001b[0mtorch\u001b[0m\u001b[0;34m.\u001b[0m\u001b[0mautograd\u001b[0m\u001b[0;34m.\u001b[0m\u001b[0mbackward\u001b[0m\u001b[0;34m(\u001b[0m\u001b[0mself\u001b[0m\u001b[0;34m,\u001b[0m \u001b[0mgradient\u001b[0m\u001b[0;34m,\u001b[0m \u001b[0mretain_graph\u001b[0m\u001b[0;34m,\u001b[0m \u001b[0mcreate_graph\u001b[0m\u001b[0;34m)\u001b[0m\u001b[0;34m\u001b[0m\u001b[0;34m\u001b[0m\u001b[0m\n\u001b[0m\u001b[1;32m    103\u001b[0m \u001b[0;34m\u001b[0m\u001b[0m\n\u001b[1;32m    104\u001b[0m     \u001b[0;32mdef\u001b[0m \u001b[0mregister_hook\u001b[0m\u001b[0;34m(\u001b[0m\u001b[0mself\u001b[0m\u001b[0;34m,\u001b[0m \u001b[0mhook\u001b[0m\u001b[0;34m)\u001b[0m\u001b[0;34m:\u001b[0m\u001b[0;34m\u001b[0m\u001b[0;34m\u001b[0m\u001b[0m\n",
      "\u001b[0;32m~/anaconda3/envs/fastai/lib/python3.7/site-packages/torch/autograd/__init__.py\u001b[0m in \u001b[0;36mbackward\u001b[0;34m(tensors, grad_tensors, retain_graph, create_graph, grad_variables)\u001b[0m\n\u001b[1;32m     88\u001b[0m     Variable._execution_engine.run_backward(\n\u001b[1;32m     89\u001b[0m         \u001b[0mtensors\u001b[0m\u001b[0;34m,\u001b[0m \u001b[0mgrad_tensors\u001b[0m\u001b[0;34m,\u001b[0m \u001b[0mretain_graph\u001b[0m\u001b[0;34m,\u001b[0m \u001b[0mcreate_graph\u001b[0m\u001b[0;34m,\u001b[0m\u001b[0;34m\u001b[0m\u001b[0;34m\u001b[0m\u001b[0m\n\u001b[0;32m---> 90\u001b[0;31m         allow_unreachable=True)  # allow_unreachable flag\n\u001b[0m\u001b[1;32m     91\u001b[0m \u001b[0;34m\u001b[0m\u001b[0m\n\u001b[1;32m     92\u001b[0m \u001b[0;34m\u001b[0m\u001b[0m\n",
      "\u001b[0;31mKeyboardInterrupt\u001b[0m: "
     ]
    }
   ],
   "source": [
    "since = time.time()\n",
    "\n",
    "# best_model = None\n",
    "# best_acc = 0.0\n",
    "# best_loss = 100\n",
    "epochs = 50\n",
    "\n",
    "for epoch in range(epochs):\n",
    "    print(f'Epoch {epoch+1}/{epochs}')\n",
    "\n",
    "    running_loss, running_corrects = 0.0, 0.0\n",
    "    model.train()\n",
    "    for xs, ys in train_features_dl:\n",
    "#         print('.', end='')\n",
    "        xs = xs.to(device)\n",
    "        ys = ys.to(device)\n",
    "\n",
    "        outputs = model(xs)\n",
    "        loss = criterion(outputs, ys)\n",
    "        \n",
    "        optimizer.zero_grad()\n",
    "        loss.backward()\n",
    "        optimizer.step()\n",
    "\n",
    "        _, preds = torch.max(outputs, 1)\n",
    "        running_loss += loss.item() * xs.size(0)\n",
    "        running_corrects += torch.sum(preds == ys.data).item()\n",
    "\n",
    "    epoch_loss = running_loss / len(train_features_dl.dataset)\n",
    "    epoch_acc = running_corrects / len(train_features_dl.dataset)\n",
    "    print(f'Training loss: {epoch_loss:.3f}, training acc: {epoch_acc:.3f}', end='\\t')\n",
    "    \n",
    "    valid_step(model, valid_features_dl, criterion)\n",
    "\n",
    "#     epoch_loss = running_loss / len(dataloaders[phase].dataset)\n",
    "#     epoch_acc = running_corrects / len(dataloaders[phase].dataset)\n",
    "#     print(f'{phase} Loss: {epoch_loss:.4f} Acc: {epoch_acc:.4f}')\n",
    "#     if phase == 'valid' and epoch_acc > best_acc:\n",
    "#         best_acc = epoch_acc\n",
    "#         best_loss = epoch_loss\n",
    "#         best_model_wts = copy.deepcopy(model.state_dict())\n",
    "\n",
    "# time_elapsed = time.time() - since\n",
    "# print('Training complete in {:.0f}m {:.0f}s'.format(\n",
    "#     time_elapsed // 60, time_elapsed % 60))\n",
    "# print('Best val Loss: {:4f}, Best val Acc: {:4f}'.format(best_loss, best_acc))\n",
    "\n",
    "# if best_model_wts:\n",
    "#     model.load_state_dict(best_model_wts)\n",
    "# return model, best_loss, best_acc"
   ]
  },
  {
   "cell_type": "code",
   "execution_count": 340,
   "metadata": {
    "hidden": true
   },
   "outputs": [],
   "source": [
    "from fastai.tabular import * "
   ]
  },
  {
   "cell_type": "code",
   "execution_count": 341,
   "metadata": {
    "hidden": true
   },
   "outputs": [
    {
     "data": {
      "text/plain": [
       "(torch.Size([4640, 4096]), torch.Size([4666, 4096]))"
      ]
     },
     "execution_count": 341,
     "metadata": {},
     "output_type": "execute_result"
    }
   ],
   "source": [
    "valid_features.shape, test_features.shape"
   ]
  },
  {
   "cell_type": "code",
   "execution_count": 342,
   "metadata": {
    "hidden": true
   },
   "outputs": [
    {
     "data": {
      "text/plain": [
       "((9306, 4096), (9306,))"
      ]
     },
     "execution_count": 342,
     "metadata": {},
     "output_type": "execute_result"
    }
   ],
   "source": [
    "y = np.concatenate([valid_y, test_y])\n",
    "features = np.concatenate([valid_features.numpy(), test_features.numpy()])\n",
    "features.shape, y.shape"
   ]
  },
  {
   "cell_type": "code",
   "execution_count": 324,
   "metadata": {
    "hidden": true
   },
   "outputs": [],
   "source": [
    "tab_df = pd.DataFrame(np.concatenate([y[:,None], features], axis=1))\n",
    "tab_df[0] = tab_df[0].astype(np.int8)\n",
    "tab_data = TabularDataBunch.from_df('.',\n",
    "                                    df=tab_df,\n",
    "                                    dep_var=0,\n",
    "                                    valid_idx=np.arange(features.shape[0])[-test_features.shape[0]:])"
   ]
  },
  {
   "cell_type": "code",
   "execution_count": 329,
   "metadata": {
    "hidden": true
   },
   "outputs": [],
   "source": [
    "# tab_learn.lr_find()\n",
    "# tab_learn.recorder.plot()"
   ]
  },
  {
   "cell_type": "code",
   "execution_count": 332,
   "metadata": {
    "hidden": true
   },
   "outputs": [
    {
     "data": {
      "text/html": [
       "Total time: 00:13 <p><table style='width:300px; margin-bottom:10px'>\n",
       "  <tr>\n",
       "    <th>epoch</th>\n",
       "    <th>train_loss</th>\n",
       "    <th>valid_loss</th>\n",
       "    <th>accuracy</th>\n",
       "  </tr>\n",
       "  <tr>\n",
       "    <th>1</th>\n",
       "    <th>0.496808</th>\n",
       "    <th>0.584711</th>\n",
       "    <th>0.756965</th>\n",
       "  </tr>\n",
       "  <tr>\n",
       "    <th>2</th>\n",
       "    <th>0.252959</th>\n",
       "    <th>0.196198</th>\n",
       "    <th>0.943635</th>\n",
       "  </tr>\n",
       "  <tr>\n",
       "    <th>3</th>\n",
       "    <th>0.133944</th>\n",
       "    <th>0.165815</th>\n",
       "    <th>0.946635</th>\n",
       "  </tr>\n",
       "  <tr>\n",
       "    <th>4</th>\n",
       "    <th>0.084999</th>\n",
       "    <th>0.167517</th>\n",
       "    <th>0.948778</th>\n",
       "  </tr>\n",
       "  <tr>\n",
       "    <th>5</th>\n",
       "    <th>0.054411</th>\n",
       "    <th>0.179072</th>\n",
       "    <th>0.942563</th>\n",
       "  </tr>\n",
       "  <tr>\n",
       "    <th>6</th>\n",
       "    <th>0.038178</th>\n",
       "    <th>0.201701</th>\n",
       "    <th>0.938491</th>\n",
       "  </tr>\n",
       "  <tr>\n",
       "    <th>7</th>\n",
       "    <th>0.030597</th>\n",
       "    <th>0.196617</th>\n",
       "    <th>0.940849</th>\n",
       "  </tr>\n",
       "  <tr>\n",
       "    <th>8</th>\n",
       "    <th>0.026762</th>\n",
       "    <th>0.186117</th>\n",
       "    <th>0.945778</th>\n",
       "  </tr>\n",
       "  <tr>\n",
       "    <th>9</th>\n",
       "    <th>0.021960</th>\n",
       "    <th>0.207644</th>\n",
       "    <th>0.944063</th>\n",
       "  </tr>\n",
       "  <tr>\n",
       "    <th>10</th>\n",
       "    <th>0.019266</th>\n",
       "    <th>0.194914</th>\n",
       "    <th>0.947064</th>\n",
       "  </tr>\n",
       "</table>\n"
      ],
      "text/plain": [
       "<IPython.core.display.HTML object>"
      ]
     },
     "metadata": {},
     "output_type": "display_data"
    }
   ],
   "source": [
    "tab_learn = tabular_learner(tab_data, layers=[512], metrics=accuracy)\n",
    "tab_learn.fit_one_cycle(10, 1e-4, wd=0.1)"
   ]
  },
  {
   "cell_type": "code",
   "execution_count": 333,
   "metadata": {
    "hidden": true
   },
   "outputs": [
    {
     "data": {
      "text/plain": [
       "[0.057682496, tensor(0.9857)]"
      ]
     },
     "execution_count": 333,
     "metadata": {},
     "output_type": "execute_result"
    }
   ],
   "source": [
    "tab_learn.validate(tab_data.train_dl)"
   ]
  },
  {
   "cell_type": "code",
   "execution_count": 334,
   "metadata": {
    "hidden": true
   },
   "outputs": [
    {
     "data": {
      "text/plain": [
       "[0.19491406, tensor(0.9471)]"
      ]
     },
     "execution_count": 334,
     "metadata": {},
     "output_type": "execute_result"
    }
   ],
   "source": [
    "tab_learn.validate(tab_data.valid_dl)"
   ]
  },
  {
   "cell_type": "markdown",
   "metadata": {
    "heading_collapsed": true
   },
   "source": [
    "# Resnet Experiments"
   ]
  },
  {
   "cell_type": "code",
   "execution_count": 38,
   "metadata": {
    "hidden": true
   },
   "outputs": [],
   "source": [
    "import sklearn.model_selection"
   ]
  },
  {
   "cell_type": "code",
   "execution_count": 39,
   "metadata": {
    "hidden": true
   },
   "outputs": [
    {
     "data": {
      "text/plain": [
       "((19105, 4), (4133, 4))"
      ]
     },
     "execution_count": 39,
     "metadata": {},
     "output_type": "execute_result"
    }
   ],
   "source": [
    "rect_df = df[df.rect == True]\n",
    "nonrect_df = df[df.rect == False]\n",
    "rect_df.shape, nonrect_df.shape"
   ]
  },
  {
   "cell_type": "code",
   "execution_count": 40,
   "metadata": {
    "hidden": true
   },
   "outputs": [],
   "source": [
    "cv = sklearn.model_selection.GroupKFold(n_splits=5)\n",
    "train_inds, valid_inds = next(cv.split(rect_df.group, groups=rect_df.group))"
   ]
  },
  {
   "cell_type": "code",
   "execution_count": 41,
   "metadata": {
    "hidden": true
   },
   "outputs": [
    {
     "data": {
      "text/plain": [
       "set()"
      ]
     },
     "execution_count": 41,
     "metadata": {},
     "output_type": "execute_result"
    }
   ],
   "source": [
    "set(rect_df.group.iloc[train_inds].unique()) & set(rect_df.group.iloc[valid_inds].unique())"
   ]
  },
  {
   "cell_type": "code",
   "execution_count": 42,
   "metadata": {
    "hidden": true
   },
   "outputs": [
    {
     "data": {
      "text/plain": [
       "((56,), (14,))"
      ]
     },
     "execution_count": 42,
     "metadata": {},
     "output_type": "execute_result"
    }
   ],
   "source": [
    "rect_df.group.iloc[train_inds].unique().shape, rect_df.group.iloc[valid_inds].unique().shape"
   ]
  },
  {
   "cell_type": "code",
   "execution_count": 43,
   "metadata": {
    "hidden": true
   },
   "outputs": [],
   "source": [
    "cv2 = sklearn.model_selection.GroupKFold(n_splits=5)\n",
    "train_inds_2, valid_inds_2 = next(cv2.split(nonrect_df.group, groups=nonrect_df.group))"
   ]
  },
  {
   "cell_type": "code",
   "execution_count": 44,
   "metadata": {
    "hidden": true
   },
   "outputs": [
    {
     "data": {
      "text/plain": [
       "set()"
      ]
     },
     "execution_count": 44,
     "metadata": {},
     "output_type": "execute_result"
    }
   ],
   "source": [
    "set(nonrect_df.group.iloc[train_inds_2].unique()) & set(nonrect_df.group.iloc[valid_inds_2].unique())"
   ]
  },
  {
   "cell_type": "code",
   "execution_count": 45,
   "metadata": {
    "hidden": true
   },
   "outputs": [
    {
     "data": {
      "text/plain": [
       "((14,), (3,))"
      ]
     },
     "execution_count": 45,
     "metadata": {},
     "output_type": "execute_result"
    }
   ],
   "source": [
    "nonrect_df.group.iloc[train_inds_2].unique().shape, nonrect_df.group.iloc[valid_inds_2].unique().shape"
   ]
  },
  {
   "cell_type": "code",
   "execution_count": 46,
   "metadata": {
    "hidden": true
   },
   "outputs": [],
   "source": [
    "src = (ImageItemList.from_df(rect_df, '', cols=0)\n",
    "       .split_by_idxs(train_inds, valid_inds)\n",
    "       .label_from_df(cols=2))"
   ]
  },
  {
   "cell_type": "code",
   "execution_count": 48,
   "metadata": {
    "hidden": true
   },
   "outputs": [],
   "source": [
    "# src_2 = (ImageItemList.from_df(nonrect_df, '', cols=0)\n",
    "#        .split_by_idxs(train_inds_2, valid_inds_2)\n",
    "#        .label_from_df(cols=2))"
   ]
  },
  {
   "cell_type": "code",
   "execution_count": 49,
   "metadata": {
    "hidden": true
   },
   "outputs": [],
   "source": [
    "# tfms = get_transforms(flip_vert=True, max_lighting=0.1, max_zoom=1.05, max_warp=0.)\n",
    "tfms = get_transforms(flip_vert=True, max_rotate=15)"
   ]
  },
  {
   "cell_type": "code",
   "execution_count": 50,
   "metadata": {
    "hidden": true
   },
   "outputs": [
    {
     "data": {
      "text/plain": [
       "[RandTransform(tfm=TfmCrop (crop_pad), kwargs={'row_pct': (0, 1), 'col_pct': (0, 1)}, p=1.0, resolved={}, do_run=True, is_random=True),\n",
       " RandTransform(tfm=TfmAffine (dihedral_affine), kwargs={}, p=1.0, resolved={}, do_run=True, is_random=True),\n",
       " RandTransform(tfm=TfmCoord (symmetric_warp), kwargs={'magnitude': (-0.2, 0.2)}, p=0.75, resolved={}, do_run=True, is_random=True),\n",
       " RandTransform(tfm=TfmAffine (rotate), kwargs={'degrees': (-15, 15)}, p=0.75, resolved={}, do_run=True, is_random=True),\n",
       " RandTransform(tfm=TfmAffine (zoom), kwargs={'row_pct': (0, 1), 'col_pct': (0, 1), 'scale': (1.0, 1.1)}, p=0.75, resolved={}, do_run=True, is_random=True),\n",
       " RandTransform(tfm=TfmLighting (brightness), kwargs={'change': (0.4, 0.6)}, p=0.75, resolved={}, do_run=True, is_random=True),\n",
       " RandTransform(tfm=TfmLighting (contrast), kwargs={'scale': (0.8, 1.25)}, p=0.75, resolved={}, do_run=True, is_random=True)]"
      ]
     },
     "execution_count": 50,
     "metadata": {},
     "output_type": "execute_result"
    }
   ],
   "source": [
    "tfms[0]"
   ]
  },
  {
   "cell_type": "code",
   "execution_count": 51,
   "metadata": {
    "hidden": true
   },
   "outputs": [],
   "source": [
    "data = (src.transform(tfms, size=224, resize_method=ResizeMethod.SQUISH, padding_mode='reflection')\n",
    "# data = (src.transform(tfms, size=128)\n",
    "        .databunch()\n",
    "        .normalize(imagenet_stats))"
   ]
  },
  {
   "cell_type": "code",
   "execution_count": 32,
   "metadata": {
    "hidden": true
   },
   "outputs": [],
   "source": [
    "# data.show_batch(rows=3, figsize=(10, 10))"
   ]
  },
  {
   "cell_type": "code",
   "execution_count": 53,
   "metadata": {
    "hidden": true
   },
   "outputs": [],
   "source": [
    "# data_2 = (src_2.transform(tfms, size=224, resize_method=ResizeMethod.SQUISH, padding_mode='reflection')\n",
    "# # data_2 = (src_2.transform(tfms, size=128)\n",
    "#         .databunch()\n",
    "#         .normalize(imagenet_stats))"
   ]
  },
  {
   "cell_type": "code",
   "execution_count": 54,
   "metadata": {
    "hidden": true
   },
   "outputs": [],
   "source": [
    "# data_2.show_batch(rows=3, figsize=(10, 10))"
   ]
  },
  {
   "cell_type": "markdown",
   "metadata": {
    "hidden": true
   },
   "source": [
    "***Train model***"
   ]
  },
  {
   "cell_type": "code",
   "execution_count": 55,
   "metadata": {
    "hidden": true
   },
   "outputs": [],
   "source": [
    "arch = models.resnet50"
   ]
  },
  {
   "cell_type": "code",
   "execution_count": 56,
   "metadata": {
    "hidden": true
   },
   "outputs": [],
   "source": [
    "learn = create_cnn(data, arch, metrics=[accuracy], ps=0.5)"
   ]
  },
  {
   "cell_type": "code",
   "execution_count": 57,
   "metadata": {
    "hidden": true
   },
   "outputs": [],
   "source": [
    "# learn.lr_find(); learn.recorder.plot()"
   ]
  },
  {
   "cell_type": "code",
   "execution_count": 58,
   "metadata": {
    "hidden": true
   },
   "outputs": [
    {
     "data": {
      "text/plain": [
       "(0.003, -2.5228787452803374)"
      ]
     },
     "execution_count": 58,
     "metadata": {},
     "output_type": "execute_result"
    }
   ],
   "source": [
    "lr = 3e-3\n",
    "lr, np.log10(lr)"
   ]
  },
  {
   "cell_type": "code",
   "execution_count": 60,
   "metadata": {
    "hidden": true
   },
   "outputs": [
    {
     "data": {
      "text/html": [
       "Total time: 22:25 <p><table style='width:300px; margin-bottom:10px'>\n",
       "  <tr>\n",
       "    <th>epoch</th>\n",
       "    <th>train_loss</th>\n",
       "    <th>valid_loss</th>\n",
       "    <th>accuracy</th>\n",
       "  </tr>\n",
       "  <tr>\n",
       "    <th>1</th>\n",
       "    <th>0.135375</th>\n",
       "    <th>0.111300</th>\n",
       "    <th>0.961488</th>\n",
       "  </tr>\n",
       "  <tr>\n",
       "    <th>2</th>\n",
       "    <th>0.091614</th>\n",
       "    <th>0.089480</th>\n",
       "    <th>0.963584</th>\n",
       "  </tr>\n",
       "  <tr>\n",
       "    <th>3</th>\n",
       "    <th>0.058748</th>\n",
       "    <th>0.087129</th>\n",
       "    <th>0.969872</th>\n",
       "  </tr>\n",
       "  <tr>\n",
       "    <th>4</th>\n",
       "    <th>0.055840</th>\n",
       "    <th>0.061767</th>\n",
       "    <th>0.978779</th>\n",
       "  </tr>\n",
       "  <tr>\n",
       "    <th>5</th>\n",
       "    <th>0.052789</th>\n",
       "    <th>0.065046</th>\n",
       "    <th>0.974587</th>\n",
       "  </tr>\n",
       "</table>\n"
      ],
      "text/plain": [
       "<IPython.core.display.HTML object>"
      ]
     },
     "metadata": {},
     "output_type": "display_data"
    }
   ],
   "source": [
    "learn.fit_one_cycle(5, slice(lr), wd=0.1)"
   ]
  },
  {
   "cell_type": "code",
   "execution_count": 61,
   "metadata": {
    "hidden": true
   },
   "outputs": [
    {
     "data": {
      "image/png": "[encoded data removed]",
      "text/plain": [
       "<Figure size 432x288 with 1 Axes>"
      ]
     },
     "metadata": {
      "needs_background": "light"
     },
     "output_type": "display_data"
    }
   ],
   "source": [
    "learn.recorder.plot_losses()"
   ]
  },
  {
   "cell_type": "code",
   "execution_count": 62,
   "metadata": {
    "hidden": true
   },
   "outputs": [],
   "source": [
    "learn.save(f'gs-{arch.__name__}-stage1.fai')"
   ]
  },
  {
   "cell_type": "code",
   "execution_count": 63,
   "metadata": {
    "hidden": true
   },
   "outputs": [],
   "source": [
    "learn.load(f'gs-{arch.__name__}-stage1.fai');"
   ]
  },
  {
   "cell_type": "code",
   "execution_count": 64,
   "metadata": {
    "hidden": true
   },
   "outputs": [],
   "source": [
    "learn.unfreeze()"
   ]
  },
  {
   "cell_type": "code",
   "execution_count": 66,
   "metadata": {
    "hidden": true
   },
   "outputs": [
    {
     "name": "stdout",
     "output_type": "stream",
     "text": [
      "LR Finder is complete, type {learner_name}.recorder.plot() to see the graph.\n"
     ]
    },
    {
     "data": {
      "image/png": "[encoded data removed]",
      "text/plain": [
       "<Figure size 432x288 with 1 Axes>"
      ]
     },
     "metadata": {
      "needs_background": "light"
     },
     "output_type": "display_data"
    }
   ],
   "source": [
    "learn.lr_find(); learn.recorder.plot()"
   ]
  },
  {
   "cell_type": "code",
   "execution_count": 68,
   "metadata": {
    "hidden": true
   },
   "outputs": [
    {
     "data": {
      "text/plain": [
       "(3e-05, -4.522878745280337)"
      ]
     },
     "execution_count": 68,
     "metadata": {},
     "output_type": "execute_result"
    }
   ],
   "source": [
    "div = 100\n",
    "lr/div, np.log10(lr/div)"
   ]
  },
  {
   "cell_type": "code",
   "execution_count": 69,
   "metadata": {
    "hidden": true
   },
   "outputs": [
    {
     "data": {
      "text/html": [
       "Total time: 29:25 <p><table style='width:300px; margin-bottom:10px'>\n",
       "  <tr>\n",
       "    <th>epoch</th>\n",
       "    <th>train_loss</th>\n",
       "    <th>valid_loss</th>\n",
       "    <th>accuracy</th>\n",
       "  </tr>\n",
       "  <tr>\n",
       "    <th>1</th>\n",
       "    <th>0.060501</th>\n",
       "    <th>0.057486</th>\n",
       "    <th>0.980089</th>\n",
       "  </tr>\n",
       "  <tr>\n",
       "    <th>2</th>\n",
       "    <th>0.052868</th>\n",
       "    <th>0.052855</th>\n",
       "    <th>0.982971</th>\n",
       "  </tr>\n",
       "  <tr>\n",
       "    <th>3</th>\n",
       "    <th>0.042879</th>\n",
       "    <th>0.058296</th>\n",
       "    <th>0.980875</th>\n",
       "  </tr>\n",
       "  <tr>\n",
       "    <th>4</th>\n",
       "    <th>0.042722</th>\n",
       "    <th>0.057004</th>\n",
       "    <th>0.981399</th>\n",
       "  </tr>\n",
       "  <tr>\n",
       "    <th>5</th>\n",
       "    <th>0.046883</th>\n",
       "    <th>0.050648</th>\n",
       "    <th>0.985329</th>\n",
       "  </tr>\n",
       "</table>\n"
      ],
      "text/plain": [
       "<IPython.core.display.HTML object>"
      ]
     },
     "metadata": {},
     "output_type": "display_data"
    }
   ],
   "source": [
    "learn.fit_one_cycle(5, slice(1e-6, lr/div))"
   ]
  },
  {
   "cell_type": "code",
   "execution_count": 70,
   "metadata": {
    "hidden": true
   },
   "outputs": [],
   "source": [
    "learn.save(f'gs-{arch.__name__}-stage2.fai')"
   ]
  },
  {
   "cell_type": "code",
   "execution_count": 71,
   "metadata": {
    "hidden": true
   },
   "outputs": [
    {
     "data": {
      "image/png": "[encoded data removed]",
      "text/plain": [
       "<Figure size 432x288 with 1 Axes>"
      ]
     },
     "metadata": {
      "needs_background": "light"
     },
     "output_type": "display_data"
    }
   ],
   "source": [
    "learn.recorder.plot_losses()"
   ]
  },
  {
   "cell_type": "code",
   "execution_count": 85,
   "metadata": {
    "hidden": true
   },
   "outputs": [
    {
     "name": "stdout",
     "output_type": "stream",
     "text": [
      "CPU times: user 22.2 s, sys: 4.53 s, total: 26.7 s\n",
      "Wall time: 27.4 s\n"
     ]
    }
   ],
   "source": [
    "%%time\n",
    "valid_preds, valid_targets = learn.get_preds(ds_type=DatasetType.Valid)"
   ]
  },
  {
   "cell_type": "code",
   "execution_count": 84,
   "metadata": {
    "hidden": true,
    "scrolled": true
   },
   "outputs": [
    {
     "data": {
      "text/plain": [
       "136.32142857142858"
      ]
     },
     "execution_count": 84,
     "metadata": {},
     "output_type": "execute_result"
    }
   ],
   "source": [
    "valid_preds.shape[0] / 28"
   ]
  },
  {
   "cell_type": "markdown",
   "metadata": {
    "heading_collapsed": true,
    "hidden": true
   },
   "source": [
    "### Full Size Images Fine-Tuning"
   ]
  },
  {
   "cell_type": "code",
   "execution_count": 141,
   "metadata": {
    "collapsed": true,
    "hidden": true
   },
   "outputs": [],
   "source": [
    "learn.load('gs-rn34-stage2.fai');"
   ]
  },
  {
   "cell_type": "code",
   "execution_count": 135,
   "metadata": {
    "hidden": true
   },
   "outputs": [
    {
     "data": {
      "text/plain": [
       "torch.Size([3, 224, 224])"
      ]
     },
     "execution_count": 135,
     "metadata": {},
     "output_type": "execute_result"
    }
   ],
   "source": [
    "data = (src.transform(tfms, size=224, resize_method=ResizeMethod.SQUISH, padding_mode='border')\n",
    "        .databunch().normalize(imagenet_stats))\n",
    "\n",
    "learn.data = data\n",
    "data.train_ds[0][0].shape"
   ]
  },
  {
   "cell_type": "code",
   "execution_count": 136,
   "metadata": {
    "collapsed": true,
    "hidden": true
   },
   "outputs": [],
   "source": [
    "learn.freeze()"
   ]
  },
  {
   "cell_type": "code",
   "execution_count": 137,
   "metadata": {
    "hidden": true
   },
   "outputs": [
    {
     "name": "stdout",
     "output_type": "stream",
     "text": [
      "LR Finder is complete, type {learner_name}.recorder.plot() to see the graph.\n"
     ]
    },
    {
     "data": {
      "image/png": "[encoded data removed]",
      "text/plain": [
       "<Figure size 432x288 with 1 Axes>"
      ]
     },
     "metadata": {
      "needs_background": "light"
     },
     "output_type": "display_data"
    }
   ],
   "source": [
    "learn.lr_find(); learn.recorder.plot()"
   ]
  },
  {
   "cell_type": "code",
   "execution_count": 142,
   "metadata": {
    "hidden": true
   },
   "outputs": [
    {
     "data": {
      "text/plain": [
       "(0.001, -3.0)"
      ]
     },
     "execution_count": 142,
     "metadata": {},
     "output_type": "execute_result"
    }
   ],
   "source": [
    "lr = 1e-3\n",
    "lr, np.log10(lr)"
   ]
  },
  {
   "cell_type": "code",
   "execution_count": 16,
   "metadata": {
    "hidden": true
   },
   "outputs": [],
   "source": [
    "learn.fit_one_cycle(5, slice(lr))"
   ]
  },
  {
   "cell_type": "code",
   "execution_count": 144,
   "metadata": {
    "hidden": true
   },
   "outputs": [
    {
     "data": {
      "image/png": "[encoded data removed]",
      "text/plain": [
       "<Figure size 432x288 with 1 Axes>"
      ]
     },
     "metadata": {
      "needs_background": "light"
     },
     "output_type": "display_data"
    }
   ],
   "source": [
    "learn.recorder.plot_losses()"
   ]
  },
  {
   "cell_type": "code",
   "execution_count": 145,
   "metadata": {
    "hidden": true
   },
   "outputs": [
    {
     "data": {
      "text/plain": [
       "0.0001"
      ]
     },
     "execution_count": 145,
     "metadata": {},
     "output_type": "execute_result"
    }
   ],
   "source": [
    "lr/10"
   ]
  },
  {
   "cell_type": "code",
   "execution_count": 17,
   "metadata": {
    "hidden": true
   },
   "outputs": [],
   "source": [
    "learn.unfreeze()\n",
    "learn.fit_one_cycle(5, slice(1e-6, lr/10))"
   ]
  },
  {
   "cell_type": "code",
   "execution_count": 147,
   "metadata": {
    "hidden": true
   },
   "outputs": [
    {
     "data": {
      "image/png": "[encoded data removed]",
      "text/plain": [
       "<Figure size 432x288 with 1 Axes>"
      ]
     },
     "metadata": {
      "needs_background": "light"
     },
     "output_type": "display_data"
    }
   ],
   "source": [
    "learn.recorder.plot_losses()"
   ]
  },
  {
   "cell_type": "markdown",
   "metadata": {
    "heading_collapsed": true,
    "hidden": true
   },
   "source": [
    "### Metrics and Interpretation"
   ]
  },
  {
   "cell_type": "code",
   "execution_count": 438,
   "metadata": {
    "hidden": true
   },
   "outputs": [
    {
     "data": {
      "image/png": "[encoded data removed]",
      "text/plain": [
       "<Figure size 120x120 with 1 Axes>"
      ]
     },
     "metadata": {
      "needs_background": "light"
     },
     "output_type": "display_data"
    }
   ],
   "source": [
    "interp = ClassificationInterpretation.from_learner(learn)\n",
    "interp.plot_confusion_matrix(figsize=(2, 2), dpi=60)"
   ]
  },
  {
   "cell_type": "code",
   "execution_count": 439,
   "metadata": {
    "hidden": true,
    "scrolled": false
   },
   "outputs": [
    {
     "data": {
      "image/png": "[encoded data removed]",
      "text/plain": [
       "<Figure size 1080x792 with 16 Axes>"
      ]
     },
     "metadata": {
      "needs_background": "light"
     },
     "output_type": "display_data"
    }
   ],
   "source": [
    "interp.plot_top_losses(16, figsize=(15, 11))"
   ]
  },
  {
   "cell_type": "markdown",
   "metadata": {},
   "source": [
    "# Cross Validation"
   ]
  },
  {
   "cell_type": "markdown",
   "metadata": {},
   "source": [
    "### Rect and Non-rect Together"
   ]
  },
  {
   "cell_type": "code",
   "execution_count": 24,
   "metadata": {},
   "outputs": [
    {
     "name": "stdout",
     "output_type": "stream",
     "text": [
      "Fold: 0\n",
      "First round: head training\n"
     ]
    },
    {
     "data": {
      "text/html": [
       "\n",
       "    <div>\n",
       "        <style>\n",
       "            /* Turns off some styling */\n",
       "            progress {\n",
       "                /* gets rid of default border in Firefox and Opera. */\n",
       "                border: none;\n",
       "                /* Needs to be in here for Safari polyfill so background images work as expected. */\n",
       "                background-size: auto;\n",
       "            }\n",
       "            .progress-bar-interrupted, .progress-bar-interrupted::-webkit-progress-bar {\n",
       "                background: #F44336;\n",
       "            }\n",
       "        </style>\n",
       "      <progress value='3' class='' max='5', style='width:300px; height:20px; vertical-align: middle;'></progress>\n",
       "      60.00% [3/5 16:17<10:51]\n",
       "    </div>\n",
       "    \n",
       "<table style='width:300px; margin-bottom:10px'>\n",
       "  <tr>\n",
       "    <th>epoch</th>\n",
       "    <th>train_loss</th>\n",
       "    <th>valid_loss</th>\n",
       "    <th>accuracy</th>\n",
       "  </tr>\n",
       "  <tr>\n",
       "    <th>1</th>\n",
       "    <th>0.143148</th>\n",
       "    <th>0.268215</th>\n",
       "    <th>0.913147</th>\n",
       "  </tr>\n",
       "  <tr>\n",
       "    <th>2</th>\n",
       "    <th>0.105867</th>\n",
       "    <th>0.135787</th>\n",
       "    <th>0.950000</th>\n",
       "  </tr>\n",
       "  <tr>\n",
       "    <th>3</th>\n",
       "    <th>0.084160</th>\n",
       "    <th>0.097571</th>\n",
       "    <th>0.966379</th>\n",
       "  </tr>\n",
       "</table>\n",
       "\n",
       "\n",
       "    <div>\n",
       "        <style>\n",
       "            /* Turns off some styling */\n",
       "            progress {\n",
       "                /* gets rid of default border in Firefox and Opera. */\n",
       "                border: none;\n",
       "                /* Needs to be in here for Safari polyfill so background images work as expected. */\n",
       "                background-size: auto;\n",
       "            }\n",
       "            .progress-bar-interrupted, .progress-bar-interrupted::-webkit-progress-bar {\n",
       "                background: #F44336;\n",
       "            }\n",
       "        </style>\n",
       "      <progress value='0' class='progress-bar-interrupted' max='290', style='width:300px; height:20px; vertical-align: middle;'></progress>\n",
       "      Interrupted\n",
       "    </div>\n",
       "    "
      ],
      "text/plain": [
       "<IPython.core.display.HTML object>"
      ]
     },
     "metadata": {},
     "output_type": "display_data"
    },
    {
     "ename": "KeyboardInterrupt",
     "evalue": "",
     "output_type": "error",
     "traceback": [
      "\u001b[0;31m---------------------------------------------------------------------------\u001b[0m",
      "\u001b[0;31mKeyboardInterrupt\u001b[0m                         Traceback (most recent call last)",
      "\u001b[0;32m<ipython-input-24-74cb26ed0b83>\u001b[0m in \u001b[0;36m<module>\u001b[0;34m\u001b[0m\n\u001b[1;32m     32\u001b[0m     \u001b[0mprint\u001b[0m\u001b[0;34m(\u001b[0m\u001b[0;34m'First round: head training'\u001b[0m\u001b[0;34m)\u001b[0m\u001b[0;34m\u001b[0m\u001b[0m\n\u001b[1;32m     33\u001b[0m     \u001b[0mlr\u001b[0m \u001b[0;34m=\u001b[0m \u001b[0;36m3e-3\u001b[0m\u001b[0;34m\u001b[0m\u001b[0m\n\u001b[0;32m---> 34\u001b[0;31m     \u001b[0mlearn\u001b[0m\u001b[0;34m.\u001b[0m\u001b[0mfit_one_cycle\u001b[0m\u001b[0;34m(\u001b[0m\u001b[0;36m5\u001b[0m\u001b[0;34m,\u001b[0m \u001b[0mslice\u001b[0m\u001b[0;34m(\u001b[0m\u001b[0mlr\u001b[0m\u001b[0;34m)\u001b[0m\u001b[0;34m,\u001b[0m \u001b[0mwd\u001b[0m\u001b[0;34m=\u001b[0m\u001b[0;36m0.1\u001b[0m\u001b[0;34m)\u001b[0m\u001b[0;34m\u001b[0m\u001b[0m\n\u001b[0m\u001b[1;32m     35\u001b[0m \u001b[0;34m\u001b[0m\u001b[0m\n\u001b[1;32m     36\u001b[0m     \u001b[0mprint\u001b[0m\u001b[0;34m(\u001b[0m\u001b[0;34m'Second round: fine-tuning'\u001b[0m\u001b[0;34m)\u001b[0m\u001b[0;34m\u001b[0m\u001b[0m\n",
      "\u001b[0;32m/data/intsco/miniconda3/envs/fastai/lib/python3.7/site-packages/fastai/train.py\u001b[0m in \u001b[0;36mfit_one_cycle\u001b[0;34m(learn, cyc_len, max_lr, moms, div_factor, pct_start, wd, callbacks, **kwargs)\u001b[0m\n\u001b[1;32m     19\u001b[0m     callbacks.append(OneCycleScheduler(learn, max_lr, moms=moms, div_factor=div_factor,\n\u001b[1;32m     20\u001b[0m                                         pct_start=pct_start, **kwargs))\n\u001b[0;32m---> 21\u001b[0;31m     \u001b[0mlearn\u001b[0m\u001b[0;34m.\u001b[0m\u001b[0mfit\u001b[0m\u001b[0;34m(\u001b[0m\u001b[0mcyc_len\u001b[0m\u001b[0;34m,\u001b[0m \u001b[0mmax_lr\u001b[0m\u001b[0;34m,\u001b[0m \u001b[0mwd\u001b[0m\u001b[0;34m=\u001b[0m\u001b[0mwd\u001b[0m\u001b[0;34m,\u001b[0m \u001b[0mcallbacks\u001b[0m\u001b[0;34m=\u001b[0m\u001b[0mcallbacks\u001b[0m\u001b[0;34m)\u001b[0m\u001b[0;34m\u001b[0m\u001b[0m\n\u001b[0m\u001b[1;32m     22\u001b[0m \u001b[0;34m\u001b[0m\u001b[0m\n\u001b[1;32m     23\u001b[0m \u001b[0;32mdef\u001b[0m \u001b[0mlr_find\u001b[0m\u001b[0;34m(\u001b[0m\u001b[0mlearn\u001b[0m\u001b[0;34m:\u001b[0m\u001b[0mLearner\u001b[0m\u001b[0;34m,\u001b[0m \u001b[0mstart_lr\u001b[0m\u001b[0;34m:\u001b[0m\u001b[0mFloats\u001b[0m\u001b[0;34m=\u001b[0m\u001b[0;36m1e-7\u001b[0m\u001b[0;34m,\u001b[0m \u001b[0mend_lr\u001b[0m\u001b[0;34m:\u001b[0m\u001b[0mFloats\u001b[0m\u001b[0;34m=\u001b[0m\u001b[0;36m10\u001b[0m\u001b[0;34m,\u001b[0m \u001b[0mnum_it\u001b[0m\u001b[0;34m:\u001b[0m\u001b[0mint\u001b[0m\u001b[0;34m=\u001b[0m\u001b[0;36m100\u001b[0m\u001b[0;34m,\u001b[0m \u001b[0mstop_div\u001b[0m\u001b[0;34m:\u001b[0m\u001b[0mbool\u001b[0m\u001b[0;34m=\u001b[0m\u001b[0;32mTrue\u001b[0m\u001b[0;34m,\u001b[0m \u001b[0;34m**\u001b[0m\u001b[0mkwargs\u001b[0m\u001b[0;34m:\u001b[0m\u001b[0mAny\u001b[0m\u001b[0;34m)\u001b[0m\u001b[0;34m:\u001b[0m\u001b[0;34m\u001b[0m\u001b[0m\n",
      "\u001b[0;32m/data/intsco/miniconda3/envs/fastai/lib/python3.7/site-packages/fastai/basic_train.py\u001b[0m in \u001b[0;36mfit\u001b[0;34m(self, epochs, lr, wd, callbacks)\u001b[0m\n\u001b[1;32m    164\u001b[0m         \u001b[0mcallbacks\u001b[0m \u001b[0;34m=\u001b[0m \u001b[0;34m[\u001b[0m\u001b[0mcb\u001b[0m\u001b[0;34m(\u001b[0m\u001b[0mself\u001b[0m\u001b[0;34m)\u001b[0m \u001b[0;32mfor\u001b[0m \u001b[0mcb\u001b[0m \u001b[0;32min\u001b[0m \u001b[0mself\u001b[0m\u001b[0;34m.\u001b[0m\u001b[0mcallback_fns\u001b[0m\u001b[0;34m]\u001b[0m \u001b[0;34m+\u001b[0m \u001b[0mlistify\u001b[0m\u001b[0;34m(\u001b[0m\u001b[0mcallbacks\u001b[0m\u001b[0;34m)\u001b[0m\u001b[0;34m\u001b[0m\u001b[0m\n\u001b[1;32m    165\u001b[0m         fit(epochs, self.model, self.loss_func, opt=self.opt, data=self.data, metrics=self.metrics,\n\u001b[0;32m--> 166\u001b[0;31m             callbacks=self.callbacks+callbacks)\n\u001b[0m\u001b[1;32m    167\u001b[0m \u001b[0;34m\u001b[0m\u001b[0m\n\u001b[1;32m    168\u001b[0m     \u001b[0;32mdef\u001b[0m \u001b[0mcreate_opt\u001b[0m\u001b[0;34m(\u001b[0m\u001b[0mself\u001b[0m\u001b[0;34m,\u001b[0m \u001b[0mlr\u001b[0m\u001b[0;34m:\u001b[0m\u001b[0mFloats\u001b[0m\u001b[0;34m,\u001b[0m \u001b[0mwd\u001b[0m\u001b[0;34m:\u001b[0m\u001b[0mFloats\u001b[0m\u001b[0;34m=\u001b[0m\u001b[0;36m0.\u001b[0m\u001b[0;34m)\u001b[0m\u001b[0;34m->\u001b[0m\u001b[0;32mNone\u001b[0m\u001b[0;34m:\u001b[0m\u001b[0;34m\u001b[0m\u001b[0m\n",
      "\u001b[0;32m/data/intsco/miniconda3/envs/fastai/lib/python3.7/site-packages/fastai/basic_train.py\u001b[0m in \u001b[0;36mfit\u001b[0;34m(epochs, model, loss_func, opt, data, callbacks, metrics)\u001b[0m\n\u001b[1;32m     82\u001b[0m             \u001b[0;32mfor\u001b[0m \u001b[0mxb\u001b[0m\u001b[0;34m,\u001b[0m\u001b[0myb\u001b[0m \u001b[0;32min\u001b[0m \u001b[0mprogress_bar\u001b[0m\u001b[0;34m(\u001b[0m\u001b[0mdata\u001b[0m\u001b[0;34m.\u001b[0m\u001b[0mtrain_dl\u001b[0m\u001b[0;34m,\u001b[0m \u001b[0mparent\u001b[0m\u001b[0;34m=\u001b[0m\u001b[0mpbar\u001b[0m\u001b[0;34m)\u001b[0m\u001b[0;34m:\u001b[0m\u001b[0;34m\u001b[0m\u001b[0m\n\u001b[1;32m     83\u001b[0m                 \u001b[0mxb\u001b[0m\u001b[0;34m,\u001b[0m \u001b[0myb\u001b[0m \u001b[0;34m=\u001b[0m \u001b[0mcb_handler\u001b[0m\u001b[0;34m.\u001b[0m\u001b[0mon_batch_begin\u001b[0m\u001b[0;34m(\u001b[0m\u001b[0mxb\u001b[0m\u001b[0;34m,\u001b[0m \u001b[0myb\u001b[0m\u001b[0;34m)\u001b[0m\u001b[0;34m\u001b[0m\u001b[0m\n\u001b[0;32m---> 84\u001b[0;31m                 \u001b[0mloss\u001b[0m \u001b[0;34m=\u001b[0m \u001b[0mloss_batch\u001b[0m\u001b[0;34m(\u001b[0m\u001b[0mmodel\u001b[0m\u001b[0;34m,\u001b[0m \u001b[0mxb\u001b[0m\u001b[0;34m,\u001b[0m \u001b[0myb\u001b[0m\u001b[0;34m,\u001b[0m \u001b[0mloss_func\u001b[0m\u001b[0;34m,\u001b[0m \u001b[0mopt\u001b[0m\u001b[0;34m,\u001b[0m \u001b[0mcb_handler\u001b[0m\u001b[0;34m)\u001b[0m\u001b[0;34m\u001b[0m\u001b[0m\n\u001b[0m\u001b[1;32m     85\u001b[0m                 \u001b[0;32mif\u001b[0m \u001b[0mcb_handler\u001b[0m\u001b[0;34m.\u001b[0m\u001b[0mon_batch_end\u001b[0m\u001b[0;34m(\u001b[0m\u001b[0mloss\u001b[0m\u001b[0;34m)\u001b[0m\u001b[0;34m:\u001b[0m \u001b[0;32mbreak\u001b[0m\u001b[0;34m\u001b[0m\u001b[0m\n\u001b[1;32m     86\u001b[0m \u001b[0;34m\u001b[0m\u001b[0m\n",
      "\u001b[0;32m/data/intsco/miniconda3/envs/fastai/lib/python3.7/site-packages/fastai/basic_train.py\u001b[0m in \u001b[0;36mloss_batch\u001b[0;34m(model, xb, yb, loss_func, opt, cb_handler)\u001b[0m\n\u001b[1;32m     26\u001b[0m         \u001b[0mloss\u001b[0m\u001b[0;34m.\u001b[0m\u001b[0mbackward\u001b[0m\u001b[0;34m(\u001b[0m\u001b[0;34m)\u001b[0m\u001b[0;34m\u001b[0m\u001b[0m\n\u001b[1;32m     27\u001b[0m         \u001b[0mcb_handler\u001b[0m\u001b[0;34m.\u001b[0m\u001b[0mon_backward_end\u001b[0m\u001b[0;34m(\u001b[0m\u001b[0;34m)\u001b[0m\u001b[0;34m\u001b[0m\u001b[0m\n\u001b[0;32m---> 28\u001b[0;31m         \u001b[0mopt\u001b[0m\u001b[0;34m.\u001b[0m\u001b[0mstep\u001b[0m\u001b[0;34m(\u001b[0m\u001b[0;34m)\u001b[0m\u001b[0;34m\u001b[0m\u001b[0m\n\u001b[0m\u001b[1;32m     29\u001b[0m         \u001b[0mcb_handler\u001b[0m\u001b[0;34m.\u001b[0m\u001b[0mon_step_end\u001b[0m\u001b[0;34m(\u001b[0m\u001b[0;34m)\u001b[0m\u001b[0;34m\u001b[0m\u001b[0m\n\u001b[1;32m     30\u001b[0m         \u001b[0mopt\u001b[0m\u001b[0;34m.\u001b[0m\u001b[0mzero_grad\u001b[0m\u001b[0;34m(\u001b[0m\u001b[0;34m)\u001b[0m\u001b[0;34m\u001b[0m\u001b[0m\n",
      "\u001b[0;32m/data/intsco/miniconda3/envs/fastai/lib/python3.7/site-packages/fastai/callback.py\u001b[0m in \u001b[0;36mstep\u001b[0;34m(self)\u001b[0m\n\u001b[1;32m     45\u001b[0m                     \u001b[0;32mfor\u001b[0m \u001b[0mp\u001b[0m \u001b[0;32min\u001b[0m \u001b[0mpg2\u001b[0m\u001b[0;34m[\u001b[0m\u001b[0;34m'params'\u001b[0m\u001b[0;34m]\u001b[0m\u001b[0;34m:\u001b[0m \u001b[0mp\u001b[0m\u001b[0;34m.\u001b[0m\u001b[0mdata\u001b[0m\u001b[0;34m.\u001b[0m\u001b[0mmul_\u001b[0m\u001b[0;34m(\u001b[0m\u001b[0;36m1\u001b[0m \u001b[0;34m-\u001b[0m \u001b[0mwd\u001b[0m\u001b[0;34m*\u001b[0m\u001b[0mlr\u001b[0m\u001b[0;34m)\u001b[0m\u001b[0;34m\u001b[0m\u001b[0m\n\u001b[1;32m     46\u001b[0m             \u001b[0mself\u001b[0m\u001b[0;34m.\u001b[0m\u001b[0mset_val\u001b[0m\u001b[0;34m(\u001b[0m\u001b[0;34m'weight_decay'\u001b[0m\u001b[0;34m,\u001b[0m \u001b[0mlistify\u001b[0m\u001b[0;34m(\u001b[0m\u001b[0;36m0\u001b[0m\u001b[0;34m,\u001b[0m \u001b[0mself\u001b[0m\u001b[0;34m.\u001b[0m\u001b[0m_wd\u001b[0m\u001b[0;34m)\u001b[0m\u001b[0;34m)\u001b[0m\u001b[0;34m\u001b[0m\u001b[0m\n\u001b[0;32m---> 47\u001b[0;31m         \u001b[0mself\u001b[0m\u001b[0;34m.\u001b[0m\u001b[0mopt\u001b[0m\u001b[0;34m.\u001b[0m\u001b[0mstep\u001b[0m\u001b[0;34m(\u001b[0m\u001b[0;34m)\u001b[0m\u001b[0;34m\u001b[0m\u001b[0m\n\u001b[0m\u001b[1;32m     48\u001b[0m \u001b[0;34m\u001b[0m\u001b[0m\n\u001b[1;32m     49\u001b[0m     \u001b[0;32mdef\u001b[0m \u001b[0mzero_grad\u001b[0m\u001b[0;34m(\u001b[0m\u001b[0mself\u001b[0m\u001b[0;34m)\u001b[0m\u001b[0;34m->\u001b[0m\u001b[0;32mNone\u001b[0m\u001b[0;34m:\u001b[0m\u001b[0;34m\u001b[0m\u001b[0m\n",
      "\u001b[0;32m/data/intsco/miniconda3/envs/fastai/lib/python3.7/site-packages/torch/optim/adam.py\u001b[0m in \u001b[0;36mstep\u001b[0;34m(self, closure)\u001b[0m\n\u001b[1;32m    105\u001b[0m                 \u001b[0mstep_size\u001b[0m \u001b[0;34m=\u001b[0m \u001b[0mgroup\u001b[0m\u001b[0;34m[\u001b[0m\u001b[0;34m'lr'\u001b[0m\u001b[0;34m]\u001b[0m \u001b[0;34m*\u001b[0m \u001b[0mmath\u001b[0m\u001b[0;34m.\u001b[0m\u001b[0msqrt\u001b[0m\u001b[0;34m(\u001b[0m\u001b[0mbias_correction2\u001b[0m\u001b[0;34m)\u001b[0m \u001b[0;34m/\u001b[0m \u001b[0mbias_correction1\u001b[0m\u001b[0;34m\u001b[0m\u001b[0m\n\u001b[1;32m    106\u001b[0m \u001b[0;34m\u001b[0m\u001b[0m\n\u001b[0;32m--> 107\u001b[0;31m                 \u001b[0mp\u001b[0m\u001b[0;34m.\u001b[0m\u001b[0mdata\u001b[0m\u001b[0;34m.\u001b[0m\u001b[0maddcdiv_\u001b[0m\u001b[0;34m(\u001b[0m\u001b[0;34m-\u001b[0m\u001b[0mstep_size\u001b[0m\u001b[0;34m,\u001b[0m \u001b[0mexp_avg\u001b[0m\u001b[0;34m,\u001b[0m \u001b[0mdenom\u001b[0m\u001b[0;34m)\u001b[0m\u001b[0;34m\u001b[0m\u001b[0m\n\u001b[0m\u001b[1;32m    108\u001b[0m \u001b[0;34m\u001b[0m\u001b[0m\n\u001b[1;32m    109\u001b[0m         \u001b[0;32mreturn\u001b[0m \u001b[0mloss\u001b[0m\u001b[0;34m\u001b[0m\u001b[0m\n",
      "\u001b[0;31mKeyboardInterrupt\u001b[0m: "
     ]
    }
   ],
   "source": [
    "from sklearn.model_selection import GroupKFold\n",
    "\n",
    "image_df = df\n",
    "\n",
    "folds = 5  # number of CV folds\n",
    "cv_metrics = []\n",
    "ds_metrics = []\n",
    "\n",
    "def add_metrics(learn, valid_df, fold_i, rect):\n",
    "    y_pred, y_true = learn.get_preds(ds_type=DatasetType.Valid)\n",
    "    metrics = calc_metrics(y_true.numpy(), y_pred.numpy())\n",
    "    metrics['fold'] = fold_i\n",
    "    cv_metrics.append(metrics)\n",
    "    print(metrics)\n",
    "    ds_metrics.append(calc_ds_metrics(valid_df, y_true, y_pred))\n",
    "\n",
    "cv_iter = GroupKFold(n_splits=folds).split(image_df.name, groups=image_df.group)\n",
    "for fold_i, (t_inds, v_inds) in enumerate(cv_iter):\n",
    "    print(f'Fold: {fold_i}')\n",
    "\n",
    "    src = (ImageItemList.from_df(image_df, '', cols=0)\n",
    "           .split_by_idxs(t_inds, v_inds)\n",
    "           .label_from_df(cols=2))\n",
    "\n",
    "    tfms = get_transforms(flip_vert=True)\n",
    "    data = (src.transform(tfms, size=224, resize_method=ResizeMethod.SQUISH, padding_mode='reflection')\n",
    "            .databunch().normalize(imagenet_stats))\n",
    "\n",
    "    arch = models.resnet50\n",
    "    learn = create_cnn(data, arch, metrics=[accuracy], ps=0.5)\n",
    "\n",
    "    print('First round: head training')\n",
    "    lr = 3e-3\n",
    "    learn.fit_one_cycle(5, slice(lr), wd=0.1)\n",
    "\n",
    "    print('Second round: fine-tuning')\n",
    "    learn.unfreeze()\n",
    "    div = 10\n",
    "    learn.fit_one_cycle(5, slice(1e-5, lr/div), wd=0.1)\n",
    "\n",
    "    add_metrics(learn, image_df.iloc[v_inds], fold_i, rect=True)\n",
    "\n",
    "cv_metrics_df = pd.concat(cv_metrics)\n",
    "ds_metrics_df = pd.concat(ds_metrics)"
   ]
  },
  {
   "cell_type": "code",
   "execution_count": 21,
   "metadata": {},
   "outputs": [
    {
     "data": {
      "text/html": [
       "<div>\n",
       "<style scoped>\n",
       "    .dataframe tbody tr th:only-of-type {\n",
       "        vertical-align: middle;\n",
       "    }\n",
       "\n",
       "    .dataframe tbody tr th {\n",
       "        vertical-align: top;\n",
       "    }\n",
       "\n",
       "    .dataframe thead tr th {\n",
       "        text-align: left;\n",
       "    }\n",
       "</style>\n",
       "<table border=\"1\" class=\"dataframe\">\n",
       "  <thead>\n",
       "    <tr>\n",
       "      <th></th>\n",
       "      <th colspan=\"2\" halign=\"left\">f1</th>\n",
       "      <th colspan=\"2\" halign=\"left\">prec</th>\n",
       "      <th colspan=\"2\" halign=\"left\">recall</th>\n",
       "      <th colspan=\"2\" halign=\"left\">acc</th>\n",
       "      <th colspan=\"2\" halign=\"left\">fold</th>\n",
       "    </tr>\n",
       "    <tr>\n",
       "      <th></th>\n",
       "      <th>mean</th>\n",
       "      <th>std</th>\n",
       "      <th>mean</th>\n",
       "      <th>std</th>\n",
       "      <th>mean</th>\n",
       "      <th>std</th>\n",
       "      <th>mean</th>\n",
       "      <th>std</th>\n",
       "      <th>mean</th>\n",
       "      <th>std</th>\n",
       "    </tr>\n",
       "  </thead>\n",
       "  <tbody>\n",
       "    <tr>\n",
       "      <th>off</th>\n",
       "      <td>0.970932</td>\n",
       "      <td>0.005894</td>\n",
       "      <td>0.961989</td>\n",
       "      <td>0.017145</td>\n",
       "      <td>0.980422</td>\n",
       "      <td>0.015093</td>\n",
       "      <td>0.966081</td>\n",
       "      <td>0.009449</td>\n",
       "      <td>2</td>\n",
       "      <td>1.581139</td>\n",
       "    </tr>\n",
       "    <tr>\n",
       "      <th>on</th>\n",
       "      <td>0.956637</td>\n",
       "      <td>0.018119</td>\n",
       "      <td>0.973997</td>\n",
       "      <td>0.014092</td>\n",
       "      <td>0.940477</td>\n",
       "      <td>0.034016</td>\n",
       "      <td>0.966081</td>\n",
       "      <td>0.009449</td>\n",
       "      <td>2</td>\n",
       "      <td>1.581139</td>\n",
       "    </tr>\n",
       "  </tbody>\n",
       "</table>\n",
       "</div>"
      ],
      "text/plain": [
       "           f1                prec              recall                 acc  \\\n",
       "         mean       std      mean       std      mean       std      mean   \n",
       "off  0.970932  0.005894  0.961989  0.017145  0.980422  0.015093  0.966081   \n",
       "on   0.956637  0.018119  0.973997  0.014092  0.940477  0.034016  0.966081   \n",
       "\n",
       "              fold            \n",
       "          std mean       std  \n",
       "off  0.009449    2  1.581139  \n",
       "on   0.009449    2  1.581139  "
      ]
     },
     "execution_count": 21,
     "metadata": {},
     "output_type": "execute_result"
    }
   ],
   "source": [
    "cv_metrics_df.groupby([cv_metrics_df.index]).agg([np.mean, np.std])"
   ]
  },
  {
   "cell_type": "code",
   "execution_count": 26,
   "metadata": {},
   "outputs": [
    {
     "data": {
      "text/html": [
       "<div>\n",
       "<style scoped>\n",
       "    .dataframe tbody tr th:only-of-type {\n",
       "        vertical-align: middle;\n",
       "    }\n",
       "\n",
       "    .dataframe tbody tr th {\n",
       "        vertical-align: top;\n",
       "    }\n",
       "\n",
       "    .dataframe thead th {\n",
       "        text-align: right;\n",
       "    }\n",
       "</style>\n",
       "<table border=\"1\" class=\"dataframe\">\n",
       "  <thead>\n",
       "    <tr style=\"text-align: right;\">\n",
       "      <th></th>\n",
       "      <th>f1</th>\n",
       "      <th>prec</th>\n",
       "      <th>recall</th>\n",
       "      <th>acc</th>\n",
       "      <th>ds_name</th>\n",
       "    </tr>\n",
       "  </thead>\n",
       "  <tbody>\n",
       "    <tr>\n",
       "      <th>on</th>\n",
       "      <td>1.000000</td>\n",
       "      <td>1.000000</td>\n",
       "      <td>1.000000</td>\n",
       "      <td>1.000000</td>\n",
       "      <td>161007_WT1S1L1</td>\n",
       "    </tr>\n",
       "    <tr>\n",
       "      <th>off</th>\n",
       "      <td>1.000000</td>\n",
       "      <td>1.000000</td>\n",
       "      <td>1.000000</td>\n",
       "      <td>1.000000</td>\n",
       "      <td>161007_WT1S1L1</td>\n",
       "    </tr>\n",
       "    <tr>\n",
       "      <th>on</th>\n",
       "      <td>0.905660</td>\n",
       "      <td>1.000000</td>\n",
       "      <td>0.827586</td>\n",
       "      <td>0.929178</td>\n",
       "      <td>170321_kangaroobrain-bpyn1-pos_maxof50.0_med1r</td>\n",
       "    </tr>\n",
       "    <tr>\n",
       "      <th>off</th>\n",
       "      <td>0.943311</td>\n",
       "      <td>0.892704</td>\n",
       "      <td>1.000000</td>\n",
       "      <td>0.929178</td>\n",
       "      <td>170321_kangaroobrain-bpyn1-pos_maxof50.0_med1r</td>\n",
       "    </tr>\n",
       "    <tr>\n",
       "      <th>on</th>\n",
       "      <td>0.994012</td>\n",
       "      <td>0.988095</td>\n",
       "      <td>1.000000</td>\n",
       "      <td>0.991453</td>\n",
       "      <td>2017023_ADP_GFlarvae_55x55_40x40_DMAN002</td>\n",
       "    </tr>\n",
       "    <tr>\n",
       "      <th>off</th>\n",
       "      <td>0.985075</td>\n",
       "      <td>1.000000</td>\n",
       "      <td>0.970588</td>\n",
       "      <td>0.991453</td>\n",
       "      <td>2017023_ADP_GFlarvae_55x55_40x40_DMAN002</td>\n",
       "    </tr>\n",
       "    <tr>\n",
       "      <th>on</th>\n",
       "      <td>0.928910</td>\n",
       "      <td>1.000000</td>\n",
       "      <td>0.867257</td>\n",
       "      <td>0.959569</td>\n",
       "      <td>20180220_mouse eye_DHB</td>\n",
       "    </tr>\n",
       "    <tr>\n",
       "      <th>off</th>\n",
       "      <td>0.971751</td>\n",
       "      <td>0.945055</td>\n",
       "      <td>1.000000</td>\n",
       "      <td>0.959569</td>\n",
       "      <td>20180220_mouse eye_DHB</td>\n",
       "    </tr>\n",
       "    <tr>\n",
       "      <th>on</th>\n",
       "      <td>0.993421</td>\n",
       "      <td>0.993421</td>\n",
       "      <td>0.993421</td>\n",
       "      <td>0.994083</td>\n",
       "      <td>50%meoh_8cyc_75um</td>\n",
       "    </tr>\n",
       "    <tr>\n",
       "      <th>off</th>\n",
       "      <td>0.994624</td>\n",
       "      <td>0.994624</td>\n",
       "      <td>0.994624</td>\n",
       "      <td>0.994083</td>\n",
       "      <td>50%meoh_8cyc_75um</td>\n",
       "    </tr>\n",
       "    <tr>\n",
       "      <th>on</th>\n",
       "      <td>0.933333</td>\n",
       "      <td>0.875000</td>\n",
       "      <td>1.000000</td>\n",
       "      <td>0.997899</td>\n",
       "      <td>DESI porcine kidney interface region</td>\n",
       "    </tr>\n",
       "    <tr>\n",
       "      <th>off</th>\n",
       "      <td>0.998933</td>\n",
       "      <td>1.000000</td>\n",
       "      <td>0.997868</td>\n",
       "      <td>0.997899</td>\n",
       "      <td>DESI porcine kidney interface region</td>\n",
       "    </tr>\n",
       "    <tr>\n",
       "      <th>on</th>\n",
       "      <td>0.996390</td>\n",
       "      <td>0.992806</td>\n",
       "      <td>1.000000</td>\n",
       "      <td>0.996815</td>\n",
       "      <td>Dataset 26_recal</td>\n",
       "    </tr>\n",
       "    <tr>\n",
       "      <th>off</th>\n",
       "      <td>0.997151</td>\n",
       "      <td>1.000000</td>\n",
       "      <td>0.994318</td>\n",
       "      <td>0.996815</td>\n",
       "      <td>Dataset 26_recal</td>\n",
       "    </tr>\n",
       "    <tr>\n",
       "      <th>on</th>\n",
       "      <td>0.997613</td>\n",
       "      <td>1.000000</td>\n",
       "      <td>0.995238</td>\n",
       "      <td>0.997543</td>\n",
       "      <td>Dataset 31</td>\n",
       "    </tr>\n",
       "    <tr>\n",
       "      <th>off</th>\n",
       "      <td>0.997468</td>\n",
       "      <td>0.994949</td>\n",
       "      <td>1.000000</td>\n",
       "      <td>0.997543</td>\n",
       "      <td>Dataset 31</td>\n",
       "    </tr>\n",
       "    <tr>\n",
       "      <th>on</th>\n",
       "      <td>0.937500</td>\n",
       "      <td>0.882353</td>\n",
       "      <td>1.000000</td>\n",
       "      <td>0.971429</td>\n",
       "      <td>ICL__LNTO30_16_1</td>\n",
       "    </tr>\n",
       "    <tr>\n",
       "      <th>off</th>\n",
       "      <td>0.981481</td>\n",
       "      <td>1.000000</td>\n",
       "      <td>0.963636</td>\n",
       "      <td>0.971429</td>\n",
       "      <td>ICL__LNTO30_16_1</td>\n",
       "    </tr>\n",
       "    <tr>\n",
       "      <th>on</th>\n",
       "      <td>1.000000</td>\n",
       "      <td>1.000000</td>\n",
       "      <td>1.000000</td>\n",
       "      <td>1.000000</td>\n",
       "      <td>ICL__LNTO41_17_4</td>\n",
       "    </tr>\n",
       "    <tr>\n",
       "      <th>off</th>\n",
       "      <td>1.000000</td>\n",
       "      <td>1.000000</td>\n",
       "      <td>1.000000</td>\n",
       "      <td>1.000000</td>\n",
       "      <td>ICL__LNTO41_17_4</td>\n",
       "    </tr>\n",
       "    <tr>\n",
       "      <th>on</th>\n",
       "      <td>1.000000</td>\n",
       "      <td>1.000000</td>\n",
       "      <td>1.000000</td>\n",
       "      <td>1.000000</td>\n",
       "      <td>ICL__LNTO42_17_1</td>\n",
       "    </tr>\n",
       "    <tr>\n",
       "      <th>off</th>\n",
       "      <td>1.000000</td>\n",
       "      <td>1.000000</td>\n",
       "      <td>1.000000</td>\n",
       "      <td>1.000000</td>\n",
       "      <td>ICL__LNTO42_17_1</td>\n",
       "    </tr>\n",
       "    <tr>\n",
       "      <th>on</th>\n",
       "      <td>0.857143</td>\n",
       "      <td>0.750000</td>\n",
       "      <td>1.000000</td>\n",
       "      <td>0.981013</td>\n",
       "      <td>LNTO31_17_1-RECAL</td>\n",
       "    </tr>\n",
       "    <tr>\n",
       "      <th>off</th>\n",
       "      <td>0.989831</td>\n",
       "      <td>1.000000</td>\n",
       "      <td>0.979866</td>\n",
       "      <td>0.981013</td>\n",
       "      <td>LNTO31_17_1-RECAL</td>\n",
       "    </tr>\n",
       "    <tr>\n",
       "      <th>on</th>\n",
       "      <td>0.923077</td>\n",
       "      <td>0.857143</td>\n",
       "      <td>1.000000</td>\n",
       "      <td>0.991071</td>\n",
       "      <td>Servier_Ctrl_mouse_wb_median_plane_9aa</td>\n",
       "    </tr>\n",
       "    <tr>\n",
       "      <th>off</th>\n",
       "      <td>0.995261</td>\n",
       "      <td>1.000000</td>\n",
       "      <td>0.990566</td>\n",
       "      <td>0.991071</td>\n",
       "      <td>Servier_Ctrl_mouse_wb_median_plane_9aa</td>\n",
       "    </tr>\n",
       "    <tr>\n",
       "      <th>on</th>\n",
       "      <td>0.809524</td>\n",
       "      <td>0.708333</td>\n",
       "      <td>0.944444</td>\n",
       "      <td>0.973684</td>\n",
       "      <td>Servier_Ctrl_mouse_wb_median_plane_DHB</td>\n",
       "    </tr>\n",
       "    <tr>\n",
       "      <th>off</th>\n",
       "      <td>0.985866</td>\n",
       "      <td>0.996429</td>\n",
       "      <td>0.975524</td>\n",
       "      <td>0.973684</td>\n",
       "      <td>Servier_Ctrl_mouse_wb_median_plane_DHB</td>\n",
       "    </tr>\n",
       "    <tr>\n",
       "      <th>on</th>\n",
       "      <td>0.592593</td>\n",
       "      <td>0.648649</td>\n",
       "      <td>0.545455</td>\n",
       "      <td>0.916667</td>\n",
       "      <td>servier_TT_mouse_wb_fmpts_derivatization_CHCA</td>\n",
       "    </tr>\n",
       "    <tr>\n",
       "      <th>off</th>\n",
       "      <td>0.953586</td>\n",
       "      <td>0.944290</td>\n",
       "      <td>0.963068</td>\n",
       "      <td>0.916667</td>\n",
       "      <td>servier_TT_mouse_wb_fmpts_derivatization_CHCA</td>\n",
       "    </tr>\n",
       "    <tr>\n",
       "      <th>...</th>\n",
       "      <td>...</td>\n",
       "      <td>...</td>\n",
       "      <td>...</td>\n",
       "      <td>...</td>\n",
       "      <td>...</td>\n",
       "    </tr>\n",
       "    <tr>\n",
       "      <th>on</th>\n",
       "      <td>1.000000</td>\n",
       "      <td>1.000000</td>\n",
       "      <td>1.000000</td>\n",
       "      <td>1.000000</td>\n",
       "      <td>70%meoh_8cyc_75um</td>\n",
       "    </tr>\n",
       "    <tr>\n",
       "      <th>off</th>\n",
       "      <td>1.000000</td>\n",
       "      <td>1.000000</td>\n",
       "      <td>1.000000</td>\n",
       "      <td>1.000000</td>\n",
       "      <td>70%meoh_8cyc_75um</td>\n",
       "    </tr>\n",
       "    <tr>\n",
       "      <th>on</th>\n",
       "      <td>0.879121</td>\n",
       "      <td>1.000000</td>\n",
       "      <td>0.784314</td>\n",
       "      <td>0.886598</td>\n",
       "      <td>75um_small(focusing)_high(m_z)_dry(application)</td>\n",
       "    </tr>\n",
       "    <tr>\n",
       "      <th>off</th>\n",
       "      <td>0.893204</td>\n",
       "      <td>0.807018</td>\n",
       "      <td>1.000000</td>\n",
       "      <td>0.886598</td>\n",
       "      <td>75um_small(focusing)_high(m_z)_dry(application)</td>\n",
       "    </tr>\n",
       "    <tr>\n",
       "      <th>on</th>\n",
       "      <td>0.965517</td>\n",
       "      <td>1.000000</td>\n",
       "      <td>0.933333</td>\n",
       "      <td>0.981595</td>\n",
       "      <td>Borderline13</td>\n",
       "    </tr>\n",
       "    <tr>\n",
       "      <th>off</th>\n",
       "      <td>0.987448</td>\n",
       "      <td>0.975207</td>\n",
       "      <td>1.000000</td>\n",
       "      <td>0.981595</td>\n",
       "      <td>Borderline13</td>\n",
       "    </tr>\n",
       "    <tr>\n",
       "      <th>on</th>\n",
       "      <td>0.980282</td>\n",
       "      <td>0.972067</td>\n",
       "      <td>0.988636</td>\n",
       "      <td>0.969828</td>\n",
       "      <td>CC-Esco2_centroids</td>\n",
       "    </tr>\n",
       "    <tr>\n",
       "      <th>off</th>\n",
       "      <td>0.935780</td>\n",
       "      <td>0.962264</td>\n",
       "      <td>0.910714</td>\n",
       "      <td>0.969828</td>\n",
       "      <td>CC-Esco2_centroids</td>\n",
       "    </tr>\n",
       "    <tr>\n",
       "      <th>on</th>\n",
       "      <td>0.997519</td>\n",
       "      <td>0.995050</td>\n",
       "      <td>1.000000</td>\n",
       "      <td>0.997340</td>\n",
       "      <td>Dataset 2</td>\n",
       "    </tr>\n",
       "    <tr>\n",
       "      <th>off</th>\n",
       "      <td>0.997135</td>\n",
       "      <td>1.000000</td>\n",
       "      <td>0.994286</td>\n",
       "      <td>0.997340</td>\n",
       "      <td>Dataset 2</td>\n",
       "    </tr>\n",
       "    <tr>\n",
       "      <th>on</th>\n",
       "      <td>0.990099</td>\n",
       "      <td>0.980392</td>\n",
       "      <td>1.000000</td>\n",
       "      <td>0.991279</td>\n",
       "      <td>Dataset 3</td>\n",
       "    </tr>\n",
       "    <tr>\n",
       "      <th>off</th>\n",
       "      <td>0.992208</td>\n",
       "      <td>1.000000</td>\n",
       "      <td>0.984536</td>\n",
       "      <td>0.991279</td>\n",
       "      <td>Dataset 3</td>\n",
       "    </tr>\n",
       "    <tr>\n",
       "      <th>on</th>\n",
       "      <td>1.000000</td>\n",
       "      <td>1.000000</td>\n",
       "      <td>1.000000</td>\n",
       "      <td>1.000000</td>\n",
       "      <td>Dataset 3_recal</td>\n",
       "    </tr>\n",
       "    <tr>\n",
       "      <th>off</th>\n",
       "      <td>1.000000</td>\n",
       "      <td>1.000000</td>\n",
       "      <td>1.000000</td>\n",
       "      <td>1.000000</td>\n",
       "      <td>Dataset 3_recal</td>\n",
       "    </tr>\n",
       "    <tr>\n",
       "      <th>on</th>\n",
       "      <td>0.453782</td>\n",
       "      <td>1.000000</td>\n",
       "      <td>0.293478</td>\n",
       "      <td>0.690476</td>\n",
       "      <td>HK_S2_N2_20um_New</td>\n",
       "    </tr>\n",
       "    <tr>\n",
       "      <th>off</th>\n",
       "      <td>0.784053</td>\n",
       "      <td>0.644809</td>\n",
       "      <td>1.000000</td>\n",
       "      <td>0.690476</td>\n",
       "      <td>HK_S2_N2_20um_New</td>\n",
       "    </tr>\n",
       "    <tr>\n",
       "      <th>on</th>\n",
       "      <td>0.992908</td>\n",
       "      <td>0.985915</td>\n",
       "      <td>1.000000</td>\n",
       "      <td>0.994118</td>\n",
       "      <td>Kidney_280x140_40um_E0</td>\n",
       "    </tr>\n",
       "    <tr>\n",
       "      <th>off</th>\n",
       "      <td>0.994975</td>\n",
       "      <td>1.000000</td>\n",
       "      <td>0.990000</td>\n",
       "      <td>0.994118</td>\n",
       "      <td>Kidney_280x140_40um_E0</td>\n",
       "    </tr>\n",
       "    <tr>\n",
       "      <th>on</th>\n",
       "      <td>0.968254</td>\n",
       "      <td>0.938462</td>\n",
       "      <td>1.000000</td>\n",
       "      <td>0.972509</td>\n",
       "      <td>MS7_20170907_DHB_pos_MouseBrain_s3_300-1800_40...</td>\n",
       "    </tr>\n",
       "    <tr>\n",
       "      <th>off</th>\n",
       "      <td>0.975758</td>\n",
       "      <td>1.000000</td>\n",
       "      <td>0.952663</td>\n",
       "      <td>0.972509</td>\n",
       "      <td>MS7_20170907_DHB_pos_MouseBrain_s3_300-1800_40...</td>\n",
       "    </tr>\n",
       "    <tr>\n",
       "      <th>on</th>\n",
       "      <td>0.961938</td>\n",
       "      <td>0.926667</td>\n",
       "      <td>1.000000</td>\n",
       "      <td>0.969945</td>\n",
       "      <td>Mouse_Wholebody_3</td>\n",
       "    </tr>\n",
       "    <tr>\n",
       "      <th>off</th>\n",
       "      <td>0.975169</td>\n",
       "      <td>1.000000</td>\n",
       "      <td>0.951542</td>\n",
       "      <td>0.969945</td>\n",
       "      <td>Mouse_Wholebody_3</td>\n",
       "    </tr>\n",
       "    <tr>\n",
       "      <th>on</th>\n",
       "      <td>0.962025</td>\n",
       "      <td>0.926829</td>\n",
       "      <td>1.000000</td>\n",
       "      <td>0.955446</td>\n",
       "      <td>Rat51_Section2</td>\n",
       "    </tr>\n",
       "    <tr>\n",
       "      <th>off</th>\n",
       "      <td>0.946108</td>\n",
       "      <td>1.000000</td>\n",
       "      <td>0.897727</td>\n",
       "      <td>0.955446</td>\n",
       "      <td>Rat51_Section2</td>\n",
       "    </tr>\n",
       "    <tr>\n",
       "      <th>on</th>\n",
       "      <td>0.940476</td>\n",
       "      <td>0.929412</td>\n",
       "      <td>0.951807</td>\n",
       "      <td>0.976303</td>\n",
       "      <td>S649 WS21 155x105 15um E110</td>\n",
       "    </tr>\n",
       "    <tr>\n",
       "      <th>off</th>\n",
       "      <td>0.985207</td>\n",
       "      <td>0.988131</td>\n",
       "      <td>0.982301</td>\n",
       "      <td>0.976303</td>\n",
       "      <td>S649 WS21 155x105 15um E110</td>\n",
       "    </tr>\n",
       "    <tr>\n",
       "      <th>on</th>\n",
       "      <td>0.980892</td>\n",
       "      <td>0.987179</td>\n",
       "      <td>0.974684</td>\n",
       "      <td>0.992611</td>\n",
       "      <td>Tumor11</td>\n",
       "    </tr>\n",
       "    <tr>\n",
       "      <th>off</th>\n",
       "      <td>0.995420</td>\n",
       "      <td>0.993902</td>\n",
       "      <td>0.996942</td>\n",
       "      <td>0.992611</td>\n",
       "      <td>Tumor11</td>\n",
       "    </tr>\n",
       "    <tr>\n",
       "      <th>on</th>\n",
       "      <td>1.000000</td>\n",
       "      <td>1.000000</td>\n",
       "      <td>1.000000</td>\n",
       "      <td>1.000000</td>\n",
       "      <td>Tumor41</td>\n",
       "    </tr>\n",
       "    <tr>\n",
       "      <th>off</th>\n",
       "      <td>1.000000</td>\n",
       "      <td>1.000000</td>\n",
       "      <td>1.000000</td>\n",
       "      <td>1.000000</td>\n",
       "      <td>Tumor41</td>\n",
       "    </tr>\n",
       "  </tbody>\n",
       "</table>\n",
       "<p>174 rows × 5 columns</p>\n",
       "</div>"
      ],
      "text/plain": [
       "           f1      prec    recall       acc  \\\n",
       "on   1.000000  1.000000  1.000000  1.000000   \n",
       "off  1.000000  1.000000  1.000000  1.000000   \n",
       "on   0.905660  1.000000  0.827586  0.929178   \n",
       "off  0.943311  0.892704  1.000000  0.929178   \n",
       "on   0.994012  0.988095  1.000000  0.991453   \n",
       "off  0.985075  1.000000  0.970588  0.991453   \n",
       "on   0.928910  1.000000  0.867257  0.959569   \n",
       "off  0.971751  0.945055  1.000000  0.959569   \n",
       "on   0.993421  0.993421  0.993421  0.994083   \n",
       "off  0.994624  0.994624  0.994624  0.994083   \n",
       "on   0.933333  0.875000  1.000000  0.997899   \n",
       "off  0.998933  1.000000  0.997868  0.997899   \n",
       "on   0.996390  0.992806  1.000000  0.996815   \n",
       "off  0.997151  1.000000  0.994318  0.996815   \n",
       "on   0.997613  1.000000  0.995238  0.997543   \n",
       "off  0.997468  0.994949  1.000000  0.997543   \n",
       "on   0.937500  0.882353  1.000000  0.971429   \n",
       "off  0.981481  1.000000  0.963636  0.971429   \n",
       "on   1.000000  1.000000  1.000000  1.000000   \n",
       "off  1.000000  1.000000  1.000000  1.000000   \n",
       "on   1.000000  1.000000  1.000000  1.000000   \n",
       "off  1.000000  1.000000  1.000000  1.000000   \n",
       "on   0.857143  0.750000  1.000000  0.981013   \n",
       "off  0.989831  1.000000  0.979866  0.981013   \n",
       "on   0.923077  0.857143  1.000000  0.991071   \n",
       "off  0.995261  1.000000  0.990566  0.991071   \n",
       "on   0.809524  0.708333  0.944444  0.973684   \n",
       "off  0.985866  0.996429  0.975524  0.973684   \n",
       "on   0.592593  0.648649  0.545455  0.916667   \n",
       "off  0.953586  0.944290  0.963068  0.916667   \n",
       "..        ...       ...       ...       ...   \n",
       "on   1.000000  1.000000  1.000000  1.000000   \n",
       "off  1.000000  1.000000  1.000000  1.000000   \n",
       "on   0.879121  1.000000  0.784314  0.886598   \n",
       "off  0.893204  0.807018  1.000000  0.886598   \n",
       "on   0.965517  1.000000  0.933333  0.981595   \n",
       "off  0.987448  0.975207  1.000000  0.981595   \n",
       "on   0.980282  0.972067  0.988636  0.969828   \n",
       "off  0.935780  0.962264  0.910714  0.969828   \n",
       "on   0.997519  0.995050  1.000000  0.997340   \n",
       "off  0.997135  1.000000  0.994286  0.997340   \n",
       "on   0.990099  0.980392  1.000000  0.991279   \n",
       "off  0.992208  1.000000  0.984536  0.991279   \n",
       "on   1.000000  1.000000  1.000000  1.000000   \n",
       "off  1.000000  1.000000  1.000000  1.000000   \n",
       "on   0.453782  1.000000  0.293478  0.690476   \n",
       "off  0.784053  0.644809  1.000000  0.690476   \n",
       "on   0.992908  0.985915  1.000000  0.994118   \n",
       "off  0.994975  1.000000  0.990000  0.994118   \n",
       "on   0.968254  0.938462  1.000000  0.972509   \n",
       "off  0.975758  1.000000  0.952663  0.972509   \n",
       "on   0.961938  0.926667  1.000000  0.969945   \n",
       "off  0.975169  1.000000  0.951542  0.969945   \n",
       "on   0.962025  0.926829  1.000000  0.955446   \n",
       "off  0.946108  1.000000  0.897727  0.955446   \n",
       "on   0.940476  0.929412  0.951807  0.976303   \n",
       "off  0.985207  0.988131  0.982301  0.976303   \n",
       "on   0.980892  0.987179  0.974684  0.992611   \n",
       "off  0.995420  0.993902  0.996942  0.992611   \n",
       "on   1.000000  1.000000  1.000000  1.000000   \n",
       "off  1.000000  1.000000  1.000000  1.000000   \n",
       "\n",
       "                                               ds_name  \n",
       "on                                      161007_WT1S1L1  \n",
       "off                                     161007_WT1S1L1  \n",
       "on      170321_kangaroobrain-bpyn1-pos_maxof50.0_med1r  \n",
       "off     170321_kangaroobrain-bpyn1-pos_maxof50.0_med1r  \n",
       "on            2017023_ADP_GFlarvae_55x55_40x40_DMAN002  \n",
       "off           2017023_ADP_GFlarvae_55x55_40x40_DMAN002  \n",
       "on                              20180220_mouse eye_DHB  \n",
       "off                             20180220_mouse eye_DHB  \n",
       "on                                   50%meoh_8cyc_75um  \n",
       "off                                  50%meoh_8cyc_75um  \n",
       "on                DESI porcine kidney interface region  \n",
       "off               DESI porcine kidney interface region  \n",
       "on                                    Dataset 26_recal  \n",
       "off                                   Dataset 26_recal  \n",
       "on                                          Dataset 31  \n",
       "off                                         Dataset 31  \n",
       "on                                    ICL__LNTO30_16_1  \n",
       "off                                   ICL__LNTO30_16_1  \n",
       "on                                    ICL__LNTO41_17_4  \n",
       "off                                   ICL__LNTO41_17_4  \n",
       "on                                    ICL__LNTO42_17_1  \n",
       "off                                   ICL__LNTO42_17_1  \n",
       "on                                   LNTO31_17_1-RECAL  \n",
       "off                                  LNTO31_17_1-RECAL  \n",
       "on              Servier_Ctrl_mouse_wb_median_plane_9aa  \n",
       "off             Servier_Ctrl_mouse_wb_median_plane_9aa  \n",
       "on              Servier_Ctrl_mouse_wb_median_plane_DHB  \n",
       "off             Servier_Ctrl_mouse_wb_median_plane_DHB  \n",
       "on       servier_TT_mouse_wb_fmpts_derivatization_CHCA  \n",
       "off      servier_TT_mouse_wb_fmpts_derivatization_CHCA  \n",
       "..                                                 ...  \n",
       "on                                   70%meoh_8cyc_75um  \n",
       "off                                  70%meoh_8cyc_75um  \n",
       "on     75um_small(focusing)_high(m_z)_dry(application)  \n",
       "off    75um_small(focusing)_high(m_z)_dry(application)  \n",
       "on                                        Borderline13  \n",
       "off                                       Borderline13  \n",
       "on                                  CC-Esco2_centroids  \n",
       "off                                 CC-Esco2_centroids  \n",
       "on                                           Dataset 2  \n",
       "off                                          Dataset 2  \n",
       "on                                           Dataset 3  \n",
       "off                                          Dataset 3  \n",
       "on                                     Dataset 3_recal  \n",
       "off                                    Dataset 3_recal  \n",
       "on                                   HK_S2_N2_20um_New  \n",
       "off                                  HK_S2_N2_20um_New  \n",
       "on                              Kidney_280x140_40um_E0  \n",
       "off                             Kidney_280x140_40um_E0  \n",
       "on   MS7_20170907_DHB_pos_MouseBrain_s3_300-1800_40...  \n",
       "off  MS7_20170907_DHB_pos_MouseBrain_s3_300-1800_40...  \n",
       "on                                   Mouse_Wholebody_3  \n",
       "off                                  Mouse_Wholebody_3  \n",
       "on                                      Rat51_Section2  \n",
       "off                                     Rat51_Section2  \n",
       "on                         S649 WS21 155x105 15um E110  \n",
       "off                        S649 WS21 155x105 15um E110  \n",
       "on                                             Tumor11  \n",
       "off                                            Tumor11  \n",
       "on                                             Tumor41  \n",
       "off                                            Tumor41  \n",
       "\n",
       "[174 rows x 5 columns]"
      ]
     },
     "execution_count": 26,
     "metadata": {},
     "output_type": "execute_result"
    }
   ],
   "source": [
    "ds_metrics_df"
   ]
  },
  {
   "cell_type": "markdown",
   "metadata": {
    "heading_collapsed": true
   },
   "source": [
    "### Rect and Non-rect Separately"
   ]
  },
  {
   "cell_type": "code",
   "execution_count": 350,
   "metadata": {
    "hidden": true
   },
   "outputs": [
    {
     "name": "stdout",
     "output_type": "stream",
     "text": [
      "           f1      prec    recall       acc  fold   rect\n",
      "on   0.970033  0.995444  0.945887  0.969799     4  False\n",
      "off  0.969560  0.945055  0.995370  0.969799     4  False\n"
     ]
    }
   ],
   "source": [
    "from sklearn.model_selection import GroupKFold\n",
    "\n",
    "image_df = df\n",
    "\n",
    "folds = 5  # number of CV folds\n",
    "cv_metrics = []\n",
    "ds_metrics = []\n",
    "\n",
    "def add_metrics(learn, valid_df, fold_i, rect):\n",
    "    y_pred, y_true = learn.get_preds(ds_type=DatasetType.Valid)\n",
    "    metrics = calc_metrics(y_true.numpy(), y_pred.numpy())\n",
    "    metrics['fold'] = fold_i\n",
    "    metrics['rect'] = rect\n",
    "    cv_metrics.append(metrics)\n",
    "    print(metrics)\n",
    "    ds_metrics.append(calc_ds_metrics(valid_df, y_true, y_pred))\n",
    "\n",
    "rect_df = image_df[image_df.rect == True]\n",
    "nonrect_df = image_df[image_df.rect == False]\n",
    "\n",
    "cv_iter = zip(GroupKFold(n_splits=folds).split(rect_df.name, groups=rect_df.group),\n",
    "              GroupKFold(n_splits=folds).split(nonrect_df.name, groups=nonrect_df.group))\n",
    "for fold_i, ((t_inds, v_inds), (t_inds_2, v_inds_2)) in enumerate(cv_iter):\n",
    "    print(f'Fold: {fold_i}')\n",
    "\n",
    "    src = (ImageItemList.from_df(rect_df, '', cols=0)\n",
    "           .split_by_idxs(t_inds, v_inds)\n",
    "           .label_from_df(cols=2))\n",
    "    src_2 = (ImageItemList.from_df(nonrect_df, '', cols=0)\n",
    "             .split_by_idxs(t_inds_2, v_inds_2)\n",
    "             .label_from_df(cols=2))\n",
    "\n",
    "    tfms = get_transforms(flip_vert=True)\n",
    "    data = (src.transform(tfms, size=224, resize_method=ResizeMethod.SQUISH, padding_mode='reflection')\n",
    "            .databunch().normalize(imagenet_stats))\n",
    "    data_2 = (src_2.transform(tfms, size=224, resize_method=ResizeMethod.SQUISH, padding_mode='reflection')\n",
    "              .databunch().normalize(imagenet_stats))\n",
    "\n",
    "    arch = models.resnet50\n",
    "    learn = create_cnn(data, arch, metrics=[accuracy], ps=0.5)\n",
    "\n",
    "    print('First round: head training')\n",
    "    lr = 3e-3\n",
    "    learn.fit_one_cycle(5, slice(lr), wd=0.1)\n",
    "\n",
    "    print('Second round: fine-tuning')\n",
    "    learn.unfreeze()\n",
    "    div = 10\n",
    "    learn.fit_one_cycle(5, slice(1e-5, lr/div), wd=0.1)\n",
    "\n",
    "    add_metrics(learn, rect_df.iloc[v_inds], fold_i, rect=True)\n",
    "\n",
    "    print('Third round: non-rect head training')\n",
    "    learn = create_cnn(data_2, arch, metrics=[accuracy], ps=0.75)\n",
    "    learn.load(f'gs-{arch.__name__}-stage2.fai');\n",
    "    learn.freeze()\n",
    "    lr = 3e-3\n",
    "    learn.fit_one_cycle(5, slice(lr), wd=10.0)\n",
    "\n",
    "    add_metrics(learn, nonrect_df.iloc[v_inds_2], fold_i, rect=False)\n",
    "\n",
    "cv_metrics_df = pd.concat(cv_metrics)\n",
    "ds_metrics_df = pd.concat(ds_metrics)"
   ]
  },
  {
   "cell_type": "code",
   "execution_count": 356,
   "metadata": {
    "hidden": true
   },
   "outputs": [
    {
     "data": {
      "text/html": [
       "<div>\n",
       "<style scoped>\n",
       "    .dataframe tbody tr th:only-of-type {\n",
       "        vertical-align: middle;\n",
       "    }\n",
       "\n",
       "    .dataframe tbody tr th {\n",
       "        vertical-align: top;\n",
       "    }\n",
       "\n",
       "    .dataframe thead tr th {\n",
       "        text-align: left;\n",
       "    }\n",
       "</style>\n",
       "<table border=\"1\" class=\"dataframe\">\n",
       "  <thead>\n",
       "    <tr>\n",
       "      <th></th>\n",
       "      <th colspan=\"2\" halign=\"left\">f1</th>\n",
       "      <th colspan=\"2\" halign=\"left\">prec</th>\n",
       "      <th colspan=\"2\" halign=\"left\">recall</th>\n",
       "      <th colspan=\"2\" halign=\"left\">acc</th>\n",
       "      <th colspan=\"2\" halign=\"left\">fold</th>\n",
       "      <th colspan=\"2\" halign=\"left\">rect</th>\n",
       "    </tr>\n",
       "    <tr>\n",
       "      <th></th>\n",
       "      <th>mean</th>\n",
       "      <th>std</th>\n",
       "      <th>mean</th>\n",
       "      <th>std</th>\n",
       "      <th>mean</th>\n",
       "      <th>std</th>\n",
       "      <th>mean</th>\n",
       "      <th>std</th>\n",
       "      <th>mean</th>\n",
       "      <th>std</th>\n",
       "      <th>mean</th>\n",
       "      <th>std</th>\n",
       "    </tr>\n",
       "  </thead>\n",
       "  <tbody>\n",
       "    <tr>\n",
       "      <th>off</th>\n",
       "      <td>0.964898</td>\n",
       "      <td>0.017305</td>\n",
       "      <td>0.95212</td>\n",
       "      <td>0.029331</td>\n",
       "      <td>0.978592</td>\n",
       "      <td>0.017410</td>\n",
       "      <td>0.954983</td>\n",
       "      <td>0.027243</td>\n",
       "      <td>2</td>\n",
       "      <td>1.490712</td>\n",
       "      <td>0.5</td>\n",
       "      <td>0.527046</td>\n",
       "    </tr>\n",
       "    <tr>\n",
       "      <th>on</th>\n",
       "      <td>0.929768</td>\n",
       "      <td>0.060157</td>\n",
       "      <td>0.95887</td>\n",
       "      <td>0.038442</td>\n",
       "      <td>0.905715</td>\n",
       "      <td>0.089893</td>\n",
       "      <td>0.954983</td>\n",
       "      <td>0.027243</td>\n",
       "      <td>2</td>\n",
       "      <td>1.490712</td>\n",
       "      <td>0.5</td>\n",
       "      <td>0.527046</td>\n",
       "    </tr>\n",
       "  </tbody>\n",
       "</table>\n",
       "</div>"
      ],
      "text/plain": [
       "           f1               prec              recall                 acc  \\\n",
       "         mean       std     mean       std      mean       std      mean   \n",
       "off  0.964898  0.017305  0.95212  0.029331  0.978592  0.017410  0.954983   \n",
       "on   0.929768  0.060157  0.95887  0.038442  0.905715  0.089893  0.954983   \n",
       "\n",
       "              fold           rect            \n",
       "          std mean       std mean       std  \n",
       "off  0.027243    2  1.490712  0.5  0.527046  \n",
       "on   0.027243    2  1.490712  0.5  0.527046  "
      ]
     },
     "execution_count": 356,
     "metadata": {},
     "output_type": "execute_result"
    }
   ],
   "source": [
    "cv_metrics_df.groupby([cv_metrics_df.index]).agg([np.mean, np.std])"
   ]
  },
  {
   "cell_type": "code",
   "execution_count": 357,
   "metadata": {
    "hidden": true
   },
   "outputs": [
    {
     "data": {
      "text/html": [
       "<div>\n",
       "<style scoped>\n",
       "    .dataframe tbody tr th:only-of-type {\n",
       "        vertical-align: middle;\n",
       "    }\n",
       "\n",
       "    .dataframe tbody tr th {\n",
       "        vertical-align: top;\n",
       "    }\n",
       "\n",
       "    .dataframe thead tr th {\n",
       "        text-align: left;\n",
       "    }\n",
       "\n",
       "    .dataframe thead tr:last-of-type th {\n",
       "        text-align: right;\n",
       "    }\n",
       "</style>\n",
       "<table border=\"1\" class=\"dataframe\">\n",
       "  <thead>\n",
       "    <tr>\n",
       "      <th></th>\n",
       "      <th></th>\n",
       "      <th colspan=\"2\" halign=\"left\">f1</th>\n",
       "      <th colspan=\"2\" halign=\"left\">prec</th>\n",
       "      <th colspan=\"2\" halign=\"left\">recall</th>\n",
       "      <th colspan=\"2\" halign=\"left\">acc</th>\n",
       "      <th colspan=\"2\" halign=\"left\">fold</th>\n",
       "    </tr>\n",
       "    <tr>\n",
       "      <th></th>\n",
       "      <th></th>\n",
       "      <th>mean</th>\n",
       "      <th>std</th>\n",
       "      <th>mean</th>\n",
       "      <th>std</th>\n",
       "      <th>mean</th>\n",
       "      <th>std</th>\n",
       "      <th>mean</th>\n",
       "      <th>std</th>\n",
       "      <th>mean</th>\n",
       "      <th>std</th>\n",
       "    </tr>\n",
       "    <tr>\n",
       "      <th>rect</th>\n",
       "      <th></th>\n",
       "      <th></th>\n",
       "      <th></th>\n",
       "      <th></th>\n",
       "      <th></th>\n",
       "      <th></th>\n",
       "      <th></th>\n",
       "      <th></th>\n",
       "      <th></th>\n",
       "      <th></th>\n",
       "      <th></th>\n",
       "    </tr>\n",
       "  </thead>\n",
       "  <tbody>\n",
       "    <tr>\n",
       "      <th rowspan=\"2\" valign=\"top\">False</th>\n",
       "      <th>off</th>\n",
       "      <td>0.954266</td>\n",
       "      <td>0.012971</td>\n",
       "      <td>0.931460</td>\n",
       "      <td>0.016895</td>\n",
       "      <td>0.978414</td>\n",
       "      <td>0.016343</td>\n",
       "      <td>0.937960</td>\n",
       "      <td>0.025447</td>\n",
       "      <td>2</td>\n",
       "      <td>1.581139</td>\n",
       "    </tr>\n",
       "    <tr>\n",
       "      <th>on</th>\n",
       "      <td>0.892876</td>\n",
       "      <td>0.065579</td>\n",
       "      <td>0.947399</td>\n",
       "      <td>0.043886</td>\n",
       "      <td>0.847540</td>\n",
       "      <td>0.094295</td>\n",
       "      <td>0.937960</td>\n",
       "      <td>0.025447</td>\n",
       "      <td>2</td>\n",
       "      <td>1.581139</td>\n",
       "    </tr>\n",
       "    <tr>\n",
       "      <th rowspan=\"2\" valign=\"top\">True</th>\n",
       "      <th>off</th>\n",
       "      <td>0.975531</td>\n",
       "      <td>0.014931</td>\n",
       "      <td>0.972780</td>\n",
       "      <td>0.024150</td>\n",
       "      <td>0.978770</td>\n",
       "      <td>0.020367</td>\n",
       "      <td>0.972005</td>\n",
       "      <td>0.017259</td>\n",
       "      <td>2</td>\n",
       "      <td>1.581139</td>\n",
       "    </tr>\n",
       "    <tr>\n",
       "      <th>on</th>\n",
       "      <td>0.966660</td>\n",
       "      <td>0.020956</td>\n",
       "      <td>0.970340</td>\n",
       "      <td>0.032713</td>\n",
       "      <td>0.963889</td>\n",
       "      <td>0.028799</td>\n",
       "      <td>0.972005</td>\n",
       "      <td>0.017259</td>\n",
       "      <td>2</td>\n",
       "      <td>1.581139</td>\n",
       "    </tr>\n",
       "  </tbody>\n",
       "</table>\n",
       "</div>"
      ],
      "text/plain": [
       "                 f1                prec              recall            \\\n",
       "               mean       std      mean       std      mean       std   \n",
       "rect                                                                    \n",
       "False off  0.954266  0.012971  0.931460  0.016895  0.978414  0.016343   \n",
       "      on   0.892876  0.065579  0.947399  0.043886  0.847540  0.094295   \n",
       "True  off  0.975531  0.014931  0.972780  0.024150  0.978770  0.020367   \n",
       "      on   0.966660  0.020956  0.970340  0.032713  0.963889  0.028799   \n",
       "\n",
       "                acc           fold            \n",
       "               mean       std mean       std  \n",
       "rect                                          \n",
       "False off  0.937960  0.025447    2  1.581139  \n",
       "      on   0.937960  0.025447    2  1.581139  \n",
       "True  off  0.972005  0.017259    2  1.581139  \n",
       "      on   0.972005  0.017259    2  1.581139  "
      ]
     },
     "execution_count": 357,
     "metadata": {},
     "output_type": "execute_result"
    }
   ],
   "source": [
    "cv_metrics_df.groupby([cv_metrics_df.rect, cv_metrics_df.index]).agg([np.mean, np.std])"
   ]
  },
  {
   "cell_type": "code",
   "execution_count": 17,
   "metadata": {
    "hidden": true,
    "scrolled": false
   },
   "outputs": [],
   "source": [
    "# ds_metrics_df"
   ]
  },
  {
   "cell_type": "markdown",
   "metadata": {
    "hidden": true
   },
   "source": [
    "---"
   ]
  }
 ],
 "metadata": {
  "kernelspec": {
   "display_name": "Python 3",
   "language": "python",
   "name": "python3"
  },
  "language_info": {
   "codemirror_mode": {
    "name": "ipython",
    "version": 3
   },
   "file_extension": ".py",
   "mimetype": "text/x-python",
   "name": "python",
   "nbconvert_exporter": "python",
   "pygments_lexer": "ipython3",
   "version": "3.7.1"
  }
 },
 "nbformat": 4,
 "nbformat_minor": 2
}
