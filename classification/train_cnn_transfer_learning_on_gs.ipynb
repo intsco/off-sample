{
 "cells": [
  {
   "cell_type": "markdown",
   "metadata": {},
   "source": [
    "# Set Up"
   ]
  },
  {
   "cell_type": "code",
   "execution_count": 1,
   "metadata": {},
   "outputs": [],
   "source": [
    "%load_ext autoreload\n",
    "%autoreload 2"
   ]
  },
  {
   "cell_type": "code",
   "execution_count": 2,
   "metadata": {},
   "outputs": [
    {
     "name": "stderr",
     "output_type": "stream",
     "text": [
      "/data/intsco/miniconda3/envs/off-smpl/lib/python3.6/site-packages/sklearn/utils/fixes.py:313: FutureWarning: numpy not_equal will not check object identity in the future. The comparison did not return the same result as suggested by the identity (`is`)) and will change.\n",
      "  _nan_object_mask = _nan_object_array != _nan_object_array\n",
      "Using TensorFlow backend.\n"
     ]
    }
   ],
   "source": [
    "from pathlib import Path\n",
    "import off_sample_utils as utils"
   ]
  },
  {
   "cell_type": "code",
   "execution_count": 3,
   "metadata": {},
   "outputs": [],
   "source": [
    "# %run off_sample/utils.py"
   ]
  },
  {
   "cell_type": "code",
   "execution_count": 4,
   "metadata": {},
   "outputs": [
    {
     "data": {
      "text/plain": [
       "66"
      ]
     },
     "execution_count": 4,
     "metadata": {},
     "output_type": "execute_result"
    }
   ],
   "source": [
    "image_shape = (64, 64)\n",
    "gs_path = Path('./GS/raw_images/')\n",
    "all_paths = utils.get_ds_paths(gs_path)\n",
    "len(all_paths)\n",
    "# len(list(data_path.iterdir()))"
   ]
  },
  {
   "cell_type": "markdown",
   "metadata": {},
   "source": [
    "# Check Hardware and Tools"
   ]
  },
  {
   "cell_type": "code",
   "execution_count": 5,
   "metadata": {},
   "outputs": [
    {
     "name": "stdout",
     "output_type": "stream",
     "text": [
      "1.12.0\n",
      "name: \"/device:CPU:0\"\n",
      "device_type: \"CPU\"\n",
      "memory_limit: 268435456\n",
      "locality {\n",
      "}\n",
      "incarnation: 6595688852596339051\n",
      "\n",
      "name: \"/device:XLA_GPU:0\"\n",
      "device_type: \"XLA_GPU\"\n",
      "memory_limit: 17179869184\n",
      "locality {\n",
      "}\n",
      "incarnation: 12922128425669364754\n",
      "physical_device_desc: \"device: XLA_GPU device\"\n",
      "\n",
      "name: \"/device:XLA_CPU:0\"\n",
      "device_type: \"XLA_CPU\"\n",
      "memory_limit: 17179869184\n",
      "locality {\n",
      "}\n",
      "incarnation: 3211508405338605535\n",
      "physical_device_desc: \"device: XLA_CPU device\"\n",
      "\n",
      "name: \"/device:GPU:0\"\n",
      "device_type: \"GPU\"\n",
      "memory_limit: 11281553818\n",
      "locality {\n",
      "  bus_id: 1\n",
      "  links {\n",
      "  }\n",
      "}\n",
      "incarnation: 12201508104934288452\n",
      "physical_device_desc: \"device: 0, name: Tesla K80, pci bus id: 0000:00:1e.0, compute capability: 3.7\"\n",
      "\n"
     ]
    }
   ],
   "source": [
    "utils.check_tf_dev()"
   ]
  },
  {
   "cell_type": "code",
   "execution_count": 6,
   "metadata": {},
   "outputs": [
    {
     "data": {
      "text/plain": [
       "('2.2.4', '0.23.4', '1.12.1', '2.0.2', '0.20.0')"
      ]
     },
     "execution_count": 6,
     "metadata": {},
     "output_type": "execute_result"
    }
   ],
   "source": [
    "from skimage import transform\n",
    "import imageio\n",
    "import keras\n",
    "import numpy as np\n",
    "import pandas as pd\n",
    "import sklearn\n",
    "import matplotlib\n",
    "keras.__version__, pd.__version__, np.__version__, matplotlib.__version__, sklearn.__version__"
   ]
  },
  {
   "cell_type": "code",
   "execution_count": 7,
   "metadata": {},
   "outputs": [],
   "source": [
    "from matplotlib import pyplot as plt\n",
    "%matplotlib inline"
   ]
  },
  {
   "cell_type": "markdown",
   "metadata": {},
   "source": [
    "# Load Data"
   ]
  },
  {
   "cell_type": "code",
   "execution_count": 8,
   "metadata": {},
   "outputs": [],
   "source": [
    "import random\n",
    "import pickle\n",
    "import warnings\n",
    "import numpy as np"
   ]
  },
  {
   "cell_type": "code",
   "execution_count": 27,
   "metadata": {},
   "outputs": [
    {
     "data": {
      "text/plain": [
       "((18038, 64, 64, 3), (18038, 2), (18038,))"
      ]
     },
     "execution_count": 27,
     "metadata": {},
     "output_type": "execute_result"
    }
   ],
   "source": [
    "warnings.filterwarnings('ignore', message='Possible precision loss')\n",
    "\n",
    "X_list, y_list, groups = [], [], []\n",
    "\n",
    "for ds_path in all_paths:\n",
    "    mask_path = ds_path / 'mask.pkl'\n",
    "    mask = pickle.load(open(mask_path, 'rb'))\n",
    "    mask = utils.resize_image(mask)\n",
    "    inv_mask = abs(mask - 1)\n",
    "    for img_class in ['on', 'off']:\n",
    "        for img_path in (ds_path / img_class).iterdir():\n",
    "            img = utils.read_resize(img_path)\n",
    "            img_3ch = np.stack([img, mask, inv_mask], axis=2)\n",
    "            \n",
    "            X_list.append(img_3ch)\n",
    "            y_list.append(1 if img_class == 'off' else 0)\n",
    "            groups.append(ds_path.name)\n",
    "\n",
    "X = np.stack(X_list)\n",
    "\n",
    "y = np.stack(y_list)\n",
    "y = y.reshape(y.shape + (1,))\n",
    "y = keras.utils.to_categorical(y, 2)\n",
    "\n",
    "groups = np.stack(groups)\n",
    "\n",
    "X.shape, y.shape, groups.shape"
   ]
  },
  {
   "cell_type": "code",
   "execution_count": 11,
   "metadata": {},
   "outputs": [
    {
     "data": {
      "text/plain": [
       "0.0    10307\n",
       "1.0     7731\n",
       "dtype: int64"
      ]
     },
     "execution_count": 11,
     "metadata": {},
     "output_type": "execute_result"
    }
   ],
   "source": [
    "pd.value_counts(y[:,1])"
   ]
  },
  {
   "cell_type": "code",
   "execution_count": 12,
   "metadata": {},
   "outputs": [
    {
     "data": {
      "text/plain": [
       "66"
      ]
     },
     "execution_count": 12,
     "metadata": {},
     "output_type": "execute_result"
    }
   ],
   "source": [
    "u_groups = np.unique(groups)\n",
    "len(u_groups)"
   ]
  },
  {
   "cell_type": "code",
   "execution_count": 13,
   "metadata": {
    "code_folding": []
   },
   "outputs": [],
   "source": [
    "# %run off_sample_utils/"
   ]
  },
  {
   "cell_type": "markdown",
   "metadata": {},
   "source": [
    "# Train and Test Model"
   ]
  },
  {
   "cell_type": "code",
   "execution_count": 31,
   "metadata": {},
   "outputs": [],
   "source": [
    "import pickle\n",
    "import keras\n",
    "import sklearn\n",
    "from sklearn.model_selection import GroupKFold\n",
    "from sklearn.model_selection import train_test_split\n",
    "from sklearn.metrics import (roc_curve, roc_auc_score, accuracy_score, f1_score,\n",
    "                             precision_score, recall_score, average_precision_score)"
   ]
  },
  {
   "cell_type": "code",
   "execution_count": 32,
   "metadata": {},
   "outputs": [
    {
     "data": {
      "text/plain": [
       "((52,), (14,))"
      ]
     },
     "execution_count": 32,
     "metadata": {},
     "output_type": "execute_result"
    }
   ],
   "source": [
    "other_u_groups, test_u_groups = train_test_split(u_groups, test_size=0.2, random_state=13)\n",
    "other_u_groups.shape, test_u_groups.shape"
   ]
  },
  {
   "cell_type": "code",
   "execution_count": 33,
   "metadata": {},
   "outputs": [],
   "source": [
    "X_other, y_other, groups_other = utils.make_subset(other_u_groups, X, y, groups)\n",
    "X_test, y_test, groups_test = utils.make_subset(test_u_groups, X, y, groups)"
   ]
  },
  {
   "cell_type": "code",
   "execution_count": 35,
   "metadata": {
    "scrolled": true
   },
   "outputs": [
    {
     "data": {
      "text/plain": [
       "((41,), (11,))"
      ]
     },
     "execution_count": 35,
     "metadata": {},
     "output_type": "execute_result"
    }
   ],
   "source": [
    "train_u_groups, valid_u_groups = train_test_split(other_u_groups, test_size=0.2, random_state=13)\n",
    "train_u_groups.shape, valid_u_groups.shape"
   ]
  },
  {
   "cell_type": "code",
   "execution_count": 17,
   "metadata": {},
   "outputs": [],
   "source": [
    "# X_train, y_train, _ = utils.make_subset(train_u_groups, X, y, groups, to_rgb=True)"
   ]
  },
  {
   "cell_type": "code",
   "execution_count": 18,
   "metadata": {},
   "outputs": [],
   "source": [
    "# i = 0\n",
    "# img = X_train[i].copy() * 255.\n",
    "# utils.plot_images([img, vgg16.preprocess_input(img, mode='tf')])"
   ]
  },
  {
   "cell_type": "markdown",
   "metadata": {
    "heading_collapsed": true
   },
   "source": [
    "### Dataset Sampling"
   ]
  },
  {
   "cell_type": "code",
   "execution_count": 21,
   "metadata": {
    "collapsed": true,
    "hidden": true
   },
   "outputs": [],
   "source": [
    "import pickle\n",
    "from pathlib import Path"
   ]
  },
  {
   "cell_type": "code",
   "execution_count": 145,
   "metadata": {
    "collapsed": true,
    "hidden": true
   },
   "outputs": [],
   "source": [
    "sample_path = Path('Xygroups_sample.pkl')\n",
    "if sample_path.exists():\n",
    "    X_sample, y_sample, groups_sample = pickle.load(open(sample_path, 'rb'))\n",
    "else:\n",
    "    X_sample_list = []\n",
    "    y_sample_list = []\n",
    "    groups_sample_list = []\n",
    "\n",
    "    for g in other_u_groups:\n",
    "        g_off = (groups_other == g)&(y_other[:,1] == 1)\n",
    "        g_on = (groups_other == g)&(y_other[:,1] == 0)\n",
    "\n",
    "        on_inds = np.arange(X_other[g_on].shape[0])\n",
    "        on_sample_inds = np.random.choice(on_inds, int(round(on_inds.shape[0] / 5)), replace=False)\n",
    "        off_inds = np.arange(X_other[g_off].shape[0])\n",
    "        off_sample_inds = np.random.choice(off_inds, int(round(off_inds.shape[0] / 5)), replace=False)\n",
    "\n",
    "        X_sample_list.append(np.concatenate([X_other[g_on][on_sample_inds],\n",
    "                                             X_other[g_off][off_sample_inds]]))\n",
    "        y_sample_list.append(np.concatenate([y_other[g_on][on_sample_inds],\n",
    "                                             y_other[g_off][off_sample_inds]]))\n",
    "        groups_sample_list.append(np.concatenate([groups_other[g_on][on_sample_inds],\n",
    "                                                  groups_other[g_off][off_sample_inds]]))\n",
    "\n",
    "    X_sample = np.concatenate(X_sample_list)\n",
    "    X_sample.setflags(write=False)\n",
    "    y_sample = np.concatenate(y_sample_list)\n",
    "    y_sample.setflags(write=False)\n",
    "    groups_sample = np.concatenate(groups_sample_list)\n",
    "    groups_sample.setflags(write=False)"
   ]
  },
  {
   "cell_type": "code",
   "execution_count": 146,
   "metadata": {
    "hidden": true
   },
   "outputs": [
    {
     "data": {
      "text/plain": [
       "(64, 64, 1)"
      ]
     },
     "execution_count": 146,
     "metadata": {},
     "output_type": "execute_result"
    }
   ],
   "source": [
    "X_sample[0].shape"
   ]
  },
  {
   "cell_type": "code",
   "execution_count": 24,
   "metadata": {
    "collapsed": true,
    "hidden": true
   },
   "outputs": [],
   "source": [
    "# pickle.dump((X_sample, y_sample, groups_sample), open('Xygroups_sample.pkl', 'wb'))"
   ]
  },
  {
   "cell_type": "code",
   "execution_count": 36,
   "metadata": {
    "hidden": true
   },
   "outputs": [],
   "source": [
    "from keras import backend as K\n",
    "from keras.applications import VGG16, VGG19, ResNet50\n",
    "from keras.applications import vgg16\n",
    "from keras.models import Model, Sequential\n",
    "from keras.layers import (Activation, BatchNormalization, Conv2D, InputLayer, Dropout, Dense, Flatten)\n",
    "from keras.metrics import binary_accuracy\n",
    "from keras.losses import binary_crossentropy\n",
    "from keras.regularizers import l2\n",
    "from keras.models import Model\n",
    "from keras.optimizers import RMSprop, SGD, Adam\n",
    "from keras.callbacks import ModelCheckpoint\n",
    "import warnings"
   ]
  },
  {
   "cell_type": "markdown",
   "metadata": {},
   "source": [
    "### Custom CNN model"
   ]
  },
  {
   "cell_type": "code",
   "execution_count": 37,
   "metadata": {
    "scrolled": true
   },
   "outputs": [
    {
     "name": "stdout",
     "output_type": "stream",
     "text": [
      "Epoch 1/20\n",
      "345/344 [==============================] - 18s 53ms/step - loss: 0.8627 - binary_accuracy: 0.8740 - val_loss: 0.6325 - val_binary_accuracy: 0.9670\n",
      "\n",
      "Epoch 00001: val_binary_accuracy improved from -inf to 0.96699, saving model to custom-cnn-weights.hdf5\n",
      "Epoch 2/20\n",
      "345/344 [==============================] - 13s 39ms/step - loss: 0.6129 - binary_accuracy: 0.9666 - val_loss: 0.5621 - val_binary_accuracy: 0.9731\n",
      "\n",
      "Epoch 00002: val_binary_accuracy improved from 0.96699 to 0.97305, saving model to custom-cnn-weights.hdf5\n",
      "Epoch 3/20\n",
      "345/344 [==============================] - 13s 39ms/step - loss: 0.5350 - binary_accuracy: 0.9732 - val_loss: 0.5166 - val_binary_accuracy: 0.9672\n",
      "\n",
      "Epoch 00003: val_binary_accuracy did not improve from 0.97305\n",
      "Epoch 4/20\n",
      "345/344 [==============================] - 13s 39ms/step - loss: 0.4801 - binary_accuracy: 0.9755 - val_loss: 0.4934 - val_binary_accuracy: 0.9591\n",
      "\n",
      "Epoch 00004: val_binary_accuracy did not improve from 0.97305\n",
      "Epoch 5/20\n",
      "345/344 [==============================] - 13s 39ms/step - loss: 0.4306 - binary_accuracy: 0.9785 - val_loss: 0.4415 - val_binary_accuracy: 0.9668\n",
      "\n",
      "Epoch 00005: val_binary_accuracy did not improve from 0.97305\n",
      "Epoch 6/20\n",
      "345/344 [==============================] - 13s 39ms/step - loss: 0.3917 - binary_accuracy: 0.9785 - val_loss: 0.4535 - val_binary_accuracy: 0.9488\n",
      "\n",
      "Epoch 00006: val_binary_accuracy did not improve from 0.97305\n",
      "Epoch 7/20\n",
      "345/344 [==============================] - 13s 39ms/step - loss: 0.3542 - binary_accuracy: 0.9836 - val_loss: 0.3960 - val_binary_accuracy: 0.9629\n",
      "\n",
      "Epoch 00007: val_binary_accuracy did not improve from 0.97305\n",
      "Epoch 8/20\n",
      "345/344 [==============================] - 13s 39ms/step - loss: 0.3280 - binary_accuracy: 0.9825 - val_loss: 0.3769 - val_binary_accuracy: 0.9618\n",
      "\n",
      "Epoch 00008: val_binary_accuracy did not improve from 0.97305\n",
      "Epoch 9/20\n",
      "345/344 [==============================] - 13s 39ms/step - loss: 0.3047 - binary_accuracy: 0.9835 - val_loss: 0.3274 - val_binary_accuracy: 0.9723\n",
      "\n",
      "Epoch 00009: val_binary_accuracy did not improve from 0.97305\n",
      "Epoch 10/20\n",
      "345/344 [==============================] - 13s 39ms/step - loss: 0.2820 - binary_accuracy: 0.9843 - val_loss: 0.3076 - val_binary_accuracy: 0.9743\n",
      "\n",
      "Epoch 00010: val_binary_accuracy improved from 0.97305 to 0.97430, saving model to custom-cnn-weights.hdf5\n",
      "Epoch 11/20\n",
      "345/344 [==============================] - 13s 39ms/step - loss: 0.2646 - binary_accuracy: 0.9840 - val_loss: 0.2865 - val_binary_accuracy: 0.9768\n",
      "\n",
      "Epoch 00011: val_binary_accuracy improved from 0.97430 to 0.97680, saving model to custom-cnn-weights.hdf5\n",
      "Epoch 12/20\n",
      "345/344 [==============================] - 13s 39ms/step - loss: 0.2499 - binary_accuracy: 0.9861 - val_loss: 0.2747 - val_binary_accuracy: 0.9736\n",
      "\n",
      "Epoch 00012: val_binary_accuracy did not improve from 0.97680\n",
      "Epoch 13/20\n",
      "345/344 [==============================] - 13s 39ms/step - loss: 0.2331 - binary_accuracy: 0.9871 - val_loss: 0.2864 - val_binary_accuracy: 0.9706\n",
      "\n",
      "Epoch 00013: val_binary_accuracy did not improve from 0.97680\n",
      "Epoch 14/20\n",
      "345/344 [==============================] - 13s 39ms/step - loss: 0.2246 - binary_accuracy: 0.9861 - val_loss: 0.3031 - val_binary_accuracy: 0.9565\n",
      "\n",
      "Epoch 00014: val_binary_accuracy did not improve from 0.97680\n",
      "Epoch 15/20\n",
      "345/344 [==============================] - 13s 39ms/step - loss: 0.2167 - binary_accuracy: 0.9872 - val_loss: 0.2403 - val_binary_accuracy: 0.9764\n",
      "\n",
      "Epoch 00015: val_binary_accuracy did not improve from 0.97680\n",
      "Epoch 16/20\n",
      "345/344 [==============================] - 13s 39ms/step - loss: 0.2041 - binary_accuracy: 0.9865 - val_loss: 0.2451 - val_binary_accuracy: 0.9707\n",
      "\n",
      "Epoch 00016: val_binary_accuracy did not improve from 0.97680\n",
      "Epoch 17/20\n",
      "345/344 [==============================] - 13s 39ms/step - loss: 0.1974 - binary_accuracy: 0.9861 - val_loss: 0.2249 - val_binary_accuracy: 0.9800\n",
      "\n",
      "Epoch 00017: val_binary_accuracy improved from 0.97680 to 0.98001, saving model to custom-cnn-weights.hdf5\n",
      "Epoch 18/20\n",
      "345/344 [==============================] - 13s 39ms/step - loss: 0.1902 - binary_accuracy: 0.9871 - val_loss: 0.2124 - val_binary_accuracy: 0.9786\n",
      "\n",
      "Epoch 00018: val_binary_accuracy did not improve from 0.98001\n",
      "Epoch 19/20\n",
      "345/344 [==============================] - 13s 39ms/step - loss: 0.1793 - binary_accuracy: 0.9897 - val_loss: 0.2134 - val_binary_accuracy: 0.9773\n",
      "\n",
      "Epoch 00019: val_binary_accuracy did not improve from 0.98001\n",
      "Epoch 20/20\n",
      "345/344 [==============================] - 13s 39ms/step - loss: 0.1770 - binary_accuracy: 0.9871 - val_loss: 0.2123 - val_binary_accuracy: 0.9748\n",
      "\n",
      "Epoch 00020: val_binary_accuracy did not improve from 0.98001\n"
     ]
    }
   ],
   "source": [
    "warnings.filterwarnings('ignore', message=r'\\bExpected input to be images\\b')\n",
    "warnings.filterwarnings('ignore', message=r'\\bNumpyArrayIterator is set to use the data format convention\\b')\n",
    "\n",
    "data_gen_args = dict(\n",
    "            featurewise_center=True,\n",
    "            featurewise_std_normalization=True,\n",
    "            rotation_range=5,\n",
    "            width_shift_range=0.05,\n",
    "            height_shift_range=0.05,\n",
    "            horizontal_flip=True,\n",
    "            vertical_flip=True,\n",
    "            rescale=0.1)\n",
    "\n",
    "X_train, y_train, _ = utils.make_subset(train_u_groups, X, y, groups)\n",
    "X_valid, y_valid, _ = utils.make_subset(valid_u_groups, X, y, groups)\n",
    "data_gen = utils.OffSampleImageDataGenerator(**data_gen_args)\n",
    "data_gen.fit(X_train)\n",
    "X_valid = data_gen.standardize(X_valid)\n",
    "\n",
    "custom_model = utils.create_model(\n",
    "    input_shape=(64, 64, 3),\n",
    "    opt=keras.optimizers.Adam(lr=1e-4),\n",
    "    l1_a=0, l2_a=0.001,\n",
    "    init_filters=8,\n",
    "    dropout_p=0.5,\n",
    "    dense_fn=(256, 256),\n",
    "    act_f='relu',\n",
    "    kernel_initializer='glorot_uniform',\n",
    "    metrics=[keras.metrics.binary_accuracy])\n",
    "\n",
    "seed = 13\n",
    "batch_size = 32\n",
    "epochs = 20\n",
    "custom_cnn_save_path = 'custom-cnn-weights.hdf5'\n",
    "checkpointer = ModelCheckpoint(filepath=custom_cnn_save_path, monitor='val_binary_accuracy',\n",
    "                               verbose=1, save_best_only=True)\n",
    "history = conversion_model.fit_generator(\n",
    "    data_gen.flow(X_train, y_train, batch_size=batch_size, seed=seed),\n",
    "    epochs=epochs, validation_data=(X_valid, y_valid),\n",
    "    steps_per_epoch=len(X_train) / batch_size,\n",
    "    callbacks=[checkpointer])"
   ]
  },
  {
   "cell_type": "code",
   "execution_count": 38,
   "metadata": {},
   "outputs": [
    {
     "data": {
      "image/png": "[encoded data removed]",
      "text/plain": [
       "<matplotlib.figure.Figure at 0x7fc219d82320>"
      ]
     },
     "metadata": {},
     "output_type": "display_data"
    }
   ],
   "source": [
    "utils.plot_learning_graph([history.history], attempts=1)"
   ]
  },
  {
   "cell_type": "code",
   "execution_count": 40,
   "metadata": {},
   "outputs": [
    {
     "data": {
      "text/plain": [
       "0.98002378121284184"
      ]
     },
     "execution_count": 40,
     "metadata": {},
     "output_type": "execute_result"
    }
   ],
   "source": [
    "X_test, y_test, _ = utils.make_subset(test_u_groups, X, y, groups)\n",
    "X_test = data_gen.standardize(X_test)\n",
    "y_proba = custom_model.predict(X_test)[:,1]\n",
    "sklearn.metrics.accuracy_score(y_test[:,1], y_proba > 0.5)"
   ]
  },
  {
   "cell_type": "code",
   "execution_count": 42,
   "metadata": {},
   "outputs": [],
   "source": [
    "best_custom_model = utils.create_model(\n",
    "    input_shape=(64, 64, 3),\n",
    "    opt=keras.optimizers.Adam(lr=5e-5),\n",
    "    l2_a=0.001,\n",
    "    init_filters=8,\n",
    "    dropout_p=0.5,\n",
    "    dense_fn=(256, 256),\n",
    "    act_f='relu',\n",
    "    kernel_initializer='glorot_uniform',\n",
    "    metrics=[keras.metrics.binary_accuracy])\n",
    "best_custom_model.load_weights(custom_cnn_save_path)\n",
    "\n",
    "X_test, y_test, _ = utils.make_subset(test_u_groups, X, y, groups)\n",
    "X_test = data_gen.standardize(X_test)"
   ]
  },
  {
   "cell_type": "code",
   "execution_count": 43,
   "metadata": {
    "scrolled": true
   },
   "outputs": [
    {
     "data": {
      "text/plain": [
       "0.98097502972651607"
      ]
     },
     "execution_count": 43,
     "metadata": {},
     "output_type": "execute_result"
    }
   ],
   "source": [
    "y_proba = best_custom_model.predict(X_test)[:,1]\n",
    "sklearn.metrics.accuracy_score(y_test[:,1], y_proba > 0.5)"
   ]
  },
  {
   "cell_type": "code",
   "execution_count": 241,
   "metadata": {},
   "outputs": [],
   "source": [
    "# convert_to_3ch_model = Model(inputs=best_conversion_model.layers[0].input,\n",
    "#                              outputs=best_conversion_model.layers[2].output)\n",
    "# to_3ch_model_weights_path = 'to_3ch_model_weights.hdf5'\n",
    "# convert_to_3ch_model.save_weights(to_3ch_model_weights_path)"
   ]
  },
  {
   "cell_type": "code",
   "execution_count": 243,
   "metadata": {},
   "outputs": [],
   "source": [
    "# X_train_3ch = convert_to_3ch_model.predict_on_batch(X_train)\n",
    "# X_train_3ch.shape"
   ]
  },
  {
   "cell_type": "code",
   "execution_count": 244,
   "metadata": {},
   "outputs": [],
   "source": [
    "# X_train_3ch.min(axis=(0,1,2)), X_train_3ch.max(axis=(0,1,2))"
   ]
  },
  {
   "cell_type": "code",
   "execution_count": 85,
   "metadata": {},
   "outputs": [],
   "source": [
    "# X_train_3ch = convert_to_3ch_model_2.predict_on_batch(X_train)\n",
    "# X_train_3ch.shape"
   ]
  },
  {
   "cell_type": "markdown",
   "metadata": {
    "heading_collapsed": true
   },
   "source": [
    "### Transfer Learning"
   ]
  },
  {
   "cell_type": "code",
   "execution_count": 245,
   "metadata": {
    "code_folding": [],
    "hidden": true
   },
   "outputs": [],
   "source": [
    "def make_2ch_3ch_converter(weights_path):\n",
    "#     get_3rd_layer_output = K.function([conversion_model.layers[0].input, K.learning_phase()],\n",
    "#                                       [conversion_model.layers[2].output])\n",
    "    from keras.regularizers import l2\n",
    "\n",
    "    model = Sequential(layers=[\n",
    "        Conv2D(3, (1, 1), padding='same',\n",
    "               input_shape=(image_shape + (2,)),\n",
    "               kernel_regularizer=l2(0.001)),\n",
    "        BatchNormalization(),\n",
    "        Activation('relu')\n",
    "    ])\n",
    "    model.load_weights(weights_path)\n",
    "\n",
    "    def min_max_normalize(X):\n",
    "        assert X.ndim == 4\n",
    "        mins, maxs = X.min(axis=(0,1,2)), X.max(axis=(0,1,2))\n",
    "        print(mins, maxs)\n",
    "        return (X - mins) / (maxs - mins + 1e-7)\n",
    "\n",
    "    def converter(X):\n",
    "        X_3ch = model.predict_on_batch(X)\n",
    "        return min_max_normalize(X_3ch)\n",
    "\n",
    "    return converter"
   ]
  },
  {
   "cell_type": "code",
   "execution_count": 246,
   "metadata": {
    "hidden": true
   },
   "outputs": [],
   "source": [
    "coverter_to_3ch = make_2ch_3ch_converter(to_3ch_model_weights_path)"
   ]
  },
  {
   "cell_type": "code",
   "execution_count": 248,
   "metadata": {
    "hidden": true
   },
   "outputs": [
    {
     "name": "stdout",
     "output_type": "stream",
     "text": [
      "[  3.30415392   0.          12.41480637] [ 12.1768465    0.          24.08625221]\n"
     ]
    },
    {
     "data": {
      "text/plain": [
       "(11359, 64, 64, 3)"
      ]
     },
     "execution_count": 248,
     "metadata": {},
     "output_type": "execute_result"
    }
   ],
   "source": [
    "X_train, y_train, _ = utils.make_subset(train_u_groups, X, y, groups)\n",
    "X_train_3ch = coverter_to_3ch(X_train)\n",
    "X_train_3ch.shape"
   ]
  },
  {
   "cell_type": "code",
   "execution_count": 249,
   "metadata": {
    "hidden": true
   },
   "outputs": [
    {
     "data": {
      "text/plain": [
       "(array([ 0.,  0.,  0.], dtype=float32), array([ 1.,  0.,  1.], dtype=float32))"
      ]
     },
     "execution_count": 249,
     "metadata": {},
     "output_type": "execute_result"
    }
   ],
   "source": [
    "X_train_3ch.min(axis=(0,1,2)), X_train_3ch.max(axis=(0,1,2))"
   ]
  },
  {
   "cell_type": "code",
   "execution_count": 228,
   "metadata": {
    "hidden": true
   },
   "outputs": [],
   "source": [
    "# backbone = VGG16(include_top=False, weights='imagenet', input_shape=(*image_shape, 3))\n",
    "# [(i, l.name) for i, l in enumerate(backbone.layers)]"
   ]
  },
  {
   "cell_type": "code",
   "execution_count": 44,
   "metadata": {
    "hidden": true,
    "scrolled": false
   },
   "outputs": [
    {
     "data": {
      "text/plain": [
       "((11031, 64, 64, 3), (2802, 64, 64, 3))"
      ]
     },
     "execution_count": 44,
     "metadata": {},
     "output_type": "execute_result"
    }
   ],
   "source": [
    "# %%time\n",
    "X_train, y_train, _ = utils.make_subset(train_u_groups, X, y, groups)\n",
    "X_valid, y_valid, _ = utils.make_subset(valid_u_groups, X, y, groups)\n",
    "\n",
    "# coverter_to_3ch = make_2ch_3ch_converter(to_3ch_model_weights_path)\n",
    "# X_train = coverter_to_3ch(X_train)\n",
    "# X_valid = coverter_to_3ch(X_valid)\n",
    "X_train.shape, X_valid.shape"
   ]
  },
  {
   "cell_type": "code",
   "execution_count": 45,
   "metadata": {
    "hidden": true
   },
   "outputs": [
    {
     "data": {
      "text/plain": [
       "(array([ 0.        ,  0.33333333,  0.        ]),\n",
       " array([ 1.        ,  1.        ,  0.66666667]))"
      ]
     },
     "execution_count": 45,
     "metadata": {},
     "output_type": "execute_result"
    }
   ],
   "source": [
    "X_train.min(axis=(0,1,2)), X_train.max(axis=(0,1,2))"
   ]
  },
  {
   "cell_type": "code",
   "execution_count": 51,
   "metadata": {
    "hidden": true
   },
   "outputs": [],
   "source": [
    "def vgg16_preprocess(X):\n",
    "    return vgg16.preprocess_input(X.copy() * 255)\n",
    "\n",
    "# def min_max_normalize(X):\n",
    "#     assert X.ndim == 4\n",
    "#     mins, maxs = X.min(axis=(0,1,2)), X.max(axis=(0,1,2))\n",
    "#     return (X - mins) / (maxs - mins + 1e-7)\n",
    "\n",
    "def create_fit_tl_model(X_train, y_train, X_valid=None, y_valid=None, verbose=0):\n",
    "    ### Pretrain Top FC model\n",
    "    K.clear_session()\n",
    "    backbone = VGG16(include_top=False, weights='imagenet', input_shape=(*image_shape, 3))\n",
    "#     backbone = ResNet50(include_top=False, weights='imagenet', input_shape=(*image_shape[:2], 3))\n",
    "\n",
    "    epsilon = 1e-7\n",
    "    X_mean = X_train.mean(axis=(0, 1, 2))\n",
    "    X_std = X_train.std(axis=(0, 1, 2))\n",
    "\n",
    "    def standardize(X):\n",
    "        return (X - X_mean) / (X_std + epsilon)\n",
    "\n",
    "    batch_size = 32\n",
    "    bottleneck_features_train = backbone.predict(\n",
    "        vgg16_preprocess(X_train), batch_size=batch_size)\n",
    "    if X_valid is not None:\n",
    "        bottleneck_features_valid = backbone.predict(\n",
    "            vgg16_preprocess(X_valid), batch_size=batch_size)\n",
    "\n",
    "    top_model = Sequential()\n",
    "    top_model.add(InputLayer(input_shape=backbone.output_shape[1:]))\n",
    "    top_model.add(Flatten())\n",
    "    top_model.add(Dense(256, kernel_regularizer=l2(l=0.01)))\n",
    "    top_model.add(BatchNormalization())\n",
    "    top_model.add(Activation('relu'))\n",
    "    top_model.add(Dropout(0.75))\n",
    "    top_model.add(Dense(256, kernel_regularizer=l2(l=0.01)))\n",
    "    top_model.add(BatchNormalization())\n",
    "    top_model.add(Activation('relu'))\n",
    "    top_model.add(Dropout(0.75))\n",
    "    top_model.add(Dense(2, activation='sigmoid'))\n",
    "\n",
    "    top_model.compile(loss=binary_crossentropy,\n",
    "                      optimizer=RMSprop(lr=1e-4),\n",
    "#                       optimizer=Adam(lr=1e-4),\n",
    "                      metrics=[binary_accuracy])\n",
    "    \n",
    "    epochs = 15\n",
    "    if X_valid is not None:\n",
    "        validation_data = (bottleneck_features_valid, y_valid)\n",
    "    else:\n",
    "        validation_data = None\n",
    "    top_model.fit(bottleneck_features_train, y_train,\n",
    "                  epochs=epochs, batch_size=batch_size, verbose=verbose,\n",
    "                  validation_data=validation_data)\n",
    "    \n",
    "    ### Backbone+Top Model Fine Tuning\n",
    "    \n",
    "    model = Model(inputs=backbone.input, outputs=top_model(backbone.output))\n",
    "    n = 11  # the last 2 conv blocks of vgg16\n",
    "#     n = 15 # the last conv block of vgg16\n",
    "    for i, layer in enumerate(model.layers):\n",
    "        layer.trainable = i >= n\n",
    "#         layer.trainable = True\n",
    "\n",
    "    model.compile(loss=binary_crossentropy,\n",
    "                  optimizer=SGD(lr=1e-6, momentum=0.9),\n",
    "#                   optimizer=Adam(lr=0.0001),\n",
    "                  metrics=[binary_accuracy])\n",
    "    \n",
    "    data_gen = utils.OffSampleImageDataGenerator(\n",
    "        featurewise_center=True,\n",
    "        featurewise_std_normalization=True,\n",
    "        rotation_range=15,\n",
    "        width_shift_range=0.1,\n",
    "        height_shift_range=0.1,\n",
    "        horizontal_flip=True,\n",
    "        vertical_flip=True,\n",
    "        zoom_range=0.2,\n",
    "        preprocessing_function=vgg16_preprocess\n",
    "    )\n",
    "    data_gen.fit(X_train)\n",
    "    \n",
    "    if X_valid is not None:\n",
    "        validation_data = (data_gen.standardize(X_valid), y_valid)\n",
    "#         validation_data = (vgg16_preprocess(X_valid), y_valid)\n",
    "    else:\n",
    "        validation_data = None\n",
    "    \n",
    "    vgg_save_path = 'vgg-weights.hdf5'\n",
    "    checkpointer = ModelCheckpoint(filepath=vgg_save_path, monitor='val_binary_accuracy',\n",
    "                                   verbose=1, save_best_only=True)\n",
    "    batch_size = 32\n",
    "    epochs = 20\n",
    "    model.fit_generator(data_gen.flow(vgg16_preprocess(X_train), y_train, batch_size=batch_size),\n",
    "                          validation_data=validation_data,\n",
    "                          steps_per_epoch=X_train.shape[0]/batch_size,\n",
    "                          epochs=epochs, verbose=verbose,\n",
    "                          callbacks=[checkpointer])\n",
    "    return model, data_gen"
   ]
  },
  {
   "cell_type": "code",
   "execution_count": 52,
   "metadata": {
    "hidden": true,
    "scrolled": false
   },
   "outputs": [
    {
     "name": "stdout",
     "output_type": "stream",
     "text": [
      "Train on 11031 samples, validate on 2802 samples\n",
      "Epoch 1/15\n",
      "11031/11031 [==============================] - 3s 286us/step - loss: 5.4374 - binary_accuracy: 0.6814 - val_loss: 3.6608 - val_binary_accuracy: 0.8478\n",
      "Epoch 2/15\n",
      "11031/11031 [==============================] - 3s 228us/step - loss: 2.9260 - binary_accuracy: 0.8716 - val_loss: 2.3024 - val_binary_accuracy: 0.8845\n",
      "Epoch 3/15\n",
      "11031/11031 [==============================] - 3s 232us/step - loss: 1.8087 - binary_accuracy: 0.9350 - val_loss: 1.4881 - val_binary_accuracy: 0.9044\n",
      "Epoch 4/15\n",
      "11031/11031 [==============================] - 3s 232us/step - loss: 1.1461 - binary_accuracy: 0.9544 - val_loss: 1.0129 - val_binary_accuracy: 0.9065\n",
      "Epoch 5/15\n",
      "11031/11031 [==============================] - 3s 232us/step - loss: 0.7677 - binary_accuracy: 0.9619 - val_loss: 0.7343 - val_binary_accuracy: 0.9115\n",
      "Epoch 6/15\n",
      "11031/11031 [==============================] - 3s 232us/step - loss: 0.5574 - binary_accuracy: 0.9657 - val_loss: 0.5923 - val_binary_accuracy: 0.9019\n",
      "Epoch 7/15\n",
      "11031/11031 [==============================] - 3s 232us/step - loss: 0.4329 - binary_accuracy: 0.9698 - val_loss: 0.5165 - val_binary_accuracy: 0.8936\n",
      "Epoch 8/15\n",
      "11031/11031 [==============================] - 3s 232us/step - loss: 0.3519 - binary_accuracy: 0.9709 - val_loss: 0.4472 - val_binary_accuracy: 0.9020\n",
      "Epoch 9/15\n",
      "11031/11031 [==============================] - 3s 232us/step - loss: 0.3055 - binary_accuracy: 0.9731 - val_loss: 0.4220 - val_binary_accuracy: 0.9015\n",
      "Epoch 10/15\n",
      "11031/11031 [==============================] - 3s 232us/step - loss: 0.2730 - binary_accuracy: 0.9723 - val_loss: 0.3488 - val_binary_accuracy: 0.9313\n",
      "Epoch 11/15\n",
      "11031/11031 [==============================] - 3s 231us/step - loss: 0.2427 - binary_accuracy: 0.9751 - val_loss: 0.3602 - val_binary_accuracy: 0.9027\n",
      "Epoch 12/15\n",
      "11031/11031 [==============================] - 3s 232us/step - loss: 0.2227 - binary_accuracy: 0.9747 - val_loss: 0.3626 - val_binary_accuracy: 0.9031\n",
      "Epoch 13/15\n",
      "11031/11031 [==============================] - 3s 231us/step - loss: 0.2024 - binary_accuracy: 0.9755 - val_loss: 0.3623 - val_binary_accuracy: 0.9004\n",
      "Epoch 14/15\n",
      "11031/11031 [==============================] - 3s 233us/step - loss: 0.1869 - binary_accuracy: 0.9753 - val_loss: 0.3692 - val_binary_accuracy: 0.9061\n",
      "Epoch 15/15\n",
      "11031/11031 [==============================] - 3s 232us/step - loss: 0.1864 - binary_accuracy: 0.9744 - val_loss: 0.3302 - val_binary_accuracy: 0.9149\n",
      "Epoch 1/20\n",
      "345/344 [==============================] - 43s 125ms/step - loss: 0.6100 - binary_accuracy: 0.8695 - val_loss: 0.7962 - val_binary_accuracy: 0.4340\n",
      "\n",
      "Epoch 00001: val_binary_accuracy improved from -inf to 0.43398, saving model to vgg-weights.hdf5\n",
      "Epoch 2/20\n",
      "345/344 [==============================] - 41s 120ms/step - loss: 0.3373 - binary_accuracy: 0.9228 - val_loss: 0.8152 - val_binary_accuracy: 0.4340\n",
      "\n",
      "Epoch 00002: val_binary_accuracy did not improve from 0.43398\n",
      "Epoch 3/20\n",
      "345/344 [==============================] - 42s 120ms/step - loss: 0.2874 - binary_accuracy: 0.9314 - val_loss: 0.8070 - val_binary_accuracy: 0.4340\n",
      "\n",
      "Epoch 00003: val_binary_accuracy did not improve from 0.43398\n",
      "Epoch 4/20\n",
      "345/344 [==============================] - 41s 120ms/step - loss: 0.2801 - binary_accuracy: 0.9356 - val_loss: 0.7988 - val_binary_accuracy: 0.4340\n",
      "\n",
      "Epoch 00004: val_binary_accuracy did not improve from 0.43398\n",
      "Epoch 5/20\n",
      "345/344 [==============================] - 41s 120ms/step - loss: 0.2541 - binary_accuracy: 0.9455 - val_loss: 0.7920 - val_binary_accuracy: 0.4340\n",
      "\n",
      "Epoch 00005: val_binary_accuracy did not improve from 0.43398\n",
      "Epoch 6/20\n",
      "345/344 [==============================] - 41s 120ms/step - loss: 0.2491 - binary_accuracy: 0.9475 - val_loss: 0.7969 - val_binary_accuracy: 0.4340\n",
      "\n",
      "Epoch 00006: val_binary_accuracy did not improve from 0.43398\n",
      "Epoch 7/20\n",
      "345/344 [==============================] - 42s 120ms/step - loss: 0.2451 - binary_accuracy: 0.9506 - val_loss: 0.7862 - val_binary_accuracy: 0.5005\n",
      "\n",
      "Epoch 00007: val_binary_accuracy improved from 0.43398 to 0.50054, saving model to vgg-weights.hdf5\n",
      "Epoch 8/20\n",
      "345/344 [==============================] - 41s 120ms/step - loss: 0.2330 - binary_accuracy: 0.9550 - val_loss: 0.7890 - val_binary_accuracy: 0.6711\n",
      "\n",
      "Epoch 00008: val_binary_accuracy improved from 0.50054 to 0.67113, saving model to vgg-weights.hdf5\n",
      "Epoch 9/20\n",
      "345/344 [==============================] - 42s 120ms/step - loss: 0.2359 - binary_accuracy: 0.9532 - val_loss: 0.7880 - val_binary_accuracy: 0.5178\n",
      "\n",
      "Epoch 00009: val_binary_accuracy did not improve from 0.67113\n",
      "Epoch 10/20\n",
      "345/344 [==============================] - 41s 120ms/step - loss: 0.2230 - binary_accuracy: 0.9550 - val_loss: 0.7922 - val_binary_accuracy: 0.4340\n",
      "\n",
      "Epoch 00010: val_binary_accuracy did not improve from 0.67113\n",
      "Epoch 11/20\n",
      "211/344 [=================>............] - ETA: 14s - loss: 0.2170 - binary_accuracy: 0.9606"
     ]
    },
    {
     "ename": "KeyboardInterrupt",
     "evalue": "",
     "output_type": "error",
     "traceback": [
      "\u001b[0;31m---------------------------------------------------------------------------\u001b[0m",
      "\u001b[0;31mKeyboardInterrupt\u001b[0m                         Traceback (most recent call last)",
      "\u001b[0;32m<ipython-input-52-4e4a282ea119>\u001b[0m in \u001b[0;36m<module>\u001b[0;34m()\u001b[0m\n\u001b[0;32m----> 1\u001b[0;31m \u001b[0mmodel\u001b[0m\u001b[0;34m,\u001b[0m \u001b[0mdata_gen\u001b[0m \u001b[0;34m=\u001b[0m \u001b[0mcreate_fit_tl_model\u001b[0m\u001b[0;34m(\u001b[0m\u001b[0mX_train\u001b[0m\u001b[0;34m,\u001b[0m \u001b[0my_train\u001b[0m\u001b[0;34m,\u001b[0m \u001b[0mX_valid\u001b[0m\u001b[0;34m,\u001b[0m \u001b[0my_valid\u001b[0m\u001b[0;34m,\u001b[0m \u001b[0mverbose\u001b[0m\u001b[0;34m=\u001b[0m\u001b[0;36m1\u001b[0m\u001b[0;34m)\u001b[0m\u001b[0;34m\u001b[0m\u001b[0m\n\u001b[0m",
      "\u001b[0;32m<ipython-input-51-397cb0d97540>\u001b[0m in \u001b[0;36mcreate_fit_tl_model\u001b[0;34m(X_train, y_train, X_valid, y_valid, verbose)\u001b[0m\n\u001b[1;32m     96\u001b[0m                           \u001b[0msteps_per_epoch\u001b[0m\u001b[0;34m=\u001b[0m\u001b[0mX_train\u001b[0m\u001b[0;34m.\u001b[0m\u001b[0mshape\u001b[0m\u001b[0;34m[\u001b[0m\u001b[0;36m0\u001b[0m\u001b[0;34m]\u001b[0m\u001b[0;34m/\u001b[0m\u001b[0mbatch_size\u001b[0m\u001b[0;34m,\u001b[0m\u001b[0;34m\u001b[0m\u001b[0m\n\u001b[1;32m     97\u001b[0m                           \u001b[0mepochs\u001b[0m\u001b[0;34m=\u001b[0m\u001b[0mepochs\u001b[0m\u001b[0;34m,\u001b[0m \u001b[0mverbose\u001b[0m\u001b[0;34m=\u001b[0m\u001b[0mverbose\u001b[0m\u001b[0;34m,\u001b[0m\u001b[0;34m\u001b[0m\u001b[0m\n\u001b[0;32m---> 98\u001b[0;31m                           callbacks=[checkpointer])\n\u001b[0m\u001b[1;32m     99\u001b[0m     \u001b[0;32mreturn\u001b[0m \u001b[0mmodel\u001b[0m\u001b[0;34m,\u001b[0m \u001b[0mdata_gen\u001b[0m\u001b[0;34m\u001b[0m\u001b[0m\n",
      "\u001b[0;32m/data/intsco/miniconda3/envs/off-smpl/lib/python3.6/site-packages/keras/legacy/interfaces.py\u001b[0m in \u001b[0;36mwrapper\u001b[0;34m(*args, **kwargs)\u001b[0m\n\u001b[1;32m     89\u001b[0m                 warnings.warn('Update your `' + object_name + '` call to the ' +\n\u001b[1;32m     90\u001b[0m                               'Keras 2 API: ' + signature, stacklevel=2)\n\u001b[0;32m---> 91\u001b[0;31m             \u001b[0;32mreturn\u001b[0m \u001b[0mfunc\u001b[0m\u001b[0;34m(\u001b[0m\u001b[0;34m*\u001b[0m\u001b[0margs\u001b[0m\u001b[0;34m,\u001b[0m \u001b[0;34m**\u001b[0m\u001b[0mkwargs\u001b[0m\u001b[0;34m)\u001b[0m\u001b[0;34m\u001b[0m\u001b[0m\n\u001b[0m\u001b[1;32m     92\u001b[0m         \u001b[0mwrapper\u001b[0m\u001b[0;34m.\u001b[0m\u001b[0m_original_function\u001b[0m \u001b[0;34m=\u001b[0m \u001b[0mfunc\u001b[0m\u001b[0;34m\u001b[0m\u001b[0m\n\u001b[1;32m     93\u001b[0m         \u001b[0;32mreturn\u001b[0m \u001b[0mwrapper\u001b[0m\u001b[0;34m\u001b[0m\u001b[0m\n",
      "\u001b[0;32m/data/intsco/miniconda3/envs/off-smpl/lib/python3.6/site-packages/keras/engine/training.py\u001b[0m in \u001b[0;36mfit_generator\u001b[0;34m(self, generator, steps_per_epoch, epochs, verbose, callbacks, validation_data, validation_steps, class_weight, max_queue_size, workers, use_multiprocessing, shuffle, initial_epoch)\u001b[0m\n\u001b[1;32m   1416\u001b[0m             \u001b[0muse_multiprocessing\u001b[0m\u001b[0;34m=\u001b[0m\u001b[0muse_multiprocessing\u001b[0m\u001b[0;34m,\u001b[0m\u001b[0;34m\u001b[0m\u001b[0m\n\u001b[1;32m   1417\u001b[0m             \u001b[0mshuffle\u001b[0m\u001b[0;34m=\u001b[0m\u001b[0mshuffle\u001b[0m\u001b[0;34m,\u001b[0m\u001b[0;34m\u001b[0m\u001b[0m\n\u001b[0;32m-> 1418\u001b[0;31m             initial_epoch=initial_epoch)\n\u001b[0m\u001b[1;32m   1419\u001b[0m \u001b[0;34m\u001b[0m\u001b[0m\n\u001b[1;32m   1420\u001b[0m     \u001b[0;34m@\u001b[0m\u001b[0minterfaces\u001b[0m\u001b[0;34m.\u001b[0m\u001b[0mlegacy_generator_methods_support\u001b[0m\u001b[0;34m\u001b[0m\u001b[0m\n",
      "\u001b[0;32m/data/intsco/miniconda3/envs/off-smpl/lib/python3.6/site-packages/keras/engine/training_generator.py\u001b[0m in \u001b[0;36mfit_generator\u001b[0;34m(model, generator, steps_per_epoch, epochs, verbose, callbacks, validation_data, validation_steps, class_weight, max_queue_size, workers, use_multiprocessing, shuffle, initial_epoch)\u001b[0m\n\u001b[1;32m    215\u001b[0m                 outs = model.train_on_batch(x, y,\n\u001b[1;32m    216\u001b[0m                                             \u001b[0msample_weight\u001b[0m\u001b[0;34m=\u001b[0m\u001b[0msample_weight\u001b[0m\u001b[0;34m,\u001b[0m\u001b[0;34m\u001b[0m\u001b[0m\n\u001b[0;32m--> 217\u001b[0;31m                                             class_weight=class_weight)\n\u001b[0m\u001b[1;32m    218\u001b[0m \u001b[0;34m\u001b[0m\u001b[0m\n\u001b[1;32m    219\u001b[0m                 \u001b[0mouts\u001b[0m \u001b[0;34m=\u001b[0m \u001b[0mto_list\u001b[0m\u001b[0;34m(\u001b[0m\u001b[0mouts\u001b[0m\u001b[0;34m)\u001b[0m\u001b[0;34m\u001b[0m\u001b[0m\n",
      "\u001b[0;32m/data/intsco/miniconda3/envs/off-smpl/lib/python3.6/site-packages/keras/engine/training.py\u001b[0m in \u001b[0;36mtrain_on_batch\u001b[0;34m(self, x, y, sample_weight, class_weight)\u001b[0m\n\u001b[1;32m   1215\u001b[0m             \u001b[0mins\u001b[0m \u001b[0;34m=\u001b[0m \u001b[0mx\u001b[0m \u001b[0;34m+\u001b[0m \u001b[0my\u001b[0m \u001b[0;34m+\u001b[0m \u001b[0msample_weights\u001b[0m\u001b[0;34m\u001b[0m\u001b[0m\n\u001b[1;32m   1216\u001b[0m         \u001b[0mself\u001b[0m\u001b[0;34m.\u001b[0m\u001b[0m_make_train_function\u001b[0m\u001b[0;34m(\u001b[0m\u001b[0;34m)\u001b[0m\u001b[0;34m\u001b[0m\u001b[0m\n\u001b[0;32m-> 1217\u001b[0;31m         \u001b[0moutputs\u001b[0m \u001b[0;34m=\u001b[0m \u001b[0mself\u001b[0m\u001b[0;34m.\u001b[0m\u001b[0mtrain_function\u001b[0m\u001b[0;34m(\u001b[0m\u001b[0mins\u001b[0m\u001b[0;34m)\u001b[0m\u001b[0;34m\u001b[0m\u001b[0m\n\u001b[0m\u001b[1;32m   1218\u001b[0m         \u001b[0;32mreturn\u001b[0m \u001b[0munpack_singleton\u001b[0m\u001b[0;34m(\u001b[0m\u001b[0moutputs\u001b[0m\u001b[0;34m)\u001b[0m\u001b[0;34m\u001b[0m\u001b[0m\n\u001b[1;32m   1219\u001b[0m \u001b[0;34m\u001b[0m\u001b[0m\n",
      "\u001b[0;32m/data/intsco/miniconda3/envs/off-smpl/lib/python3.6/site-packages/keras/backend/tensorflow_backend.py\u001b[0m in \u001b[0;36m__call__\u001b[0;34m(self, inputs)\u001b[0m\n\u001b[1;32m   2713\u001b[0m                 \u001b[0;32mreturn\u001b[0m \u001b[0mself\u001b[0m\u001b[0;34m.\u001b[0m\u001b[0m_legacy_call\u001b[0m\u001b[0;34m(\u001b[0m\u001b[0minputs\u001b[0m\u001b[0;34m)\u001b[0m\u001b[0;34m\u001b[0m\u001b[0m\n\u001b[1;32m   2714\u001b[0m \u001b[0;34m\u001b[0m\u001b[0m\n\u001b[0;32m-> 2715\u001b[0;31m             \u001b[0;32mreturn\u001b[0m \u001b[0mself\u001b[0m\u001b[0;34m.\u001b[0m\u001b[0m_call\u001b[0m\u001b[0;34m(\u001b[0m\u001b[0minputs\u001b[0m\u001b[0;34m)\u001b[0m\u001b[0;34m\u001b[0m\u001b[0m\n\u001b[0m\u001b[1;32m   2716\u001b[0m         \u001b[0;32melse\u001b[0m\u001b[0;34m:\u001b[0m\u001b[0;34m\u001b[0m\u001b[0m\n\u001b[1;32m   2717\u001b[0m             \u001b[0;32mif\u001b[0m \u001b[0mpy_any\u001b[0m\u001b[0;34m(\u001b[0m\u001b[0mis_tensor\u001b[0m\u001b[0;34m(\u001b[0m\u001b[0mx\u001b[0m\u001b[0;34m)\u001b[0m \u001b[0;32mfor\u001b[0m \u001b[0mx\u001b[0m \u001b[0;32min\u001b[0m \u001b[0minputs\u001b[0m\u001b[0;34m)\u001b[0m\u001b[0;34m:\u001b[0m\u001b[0;34m\u001b[0m\u001b[0m\n",
      "\u001b[0;32m/data/intsco/miniconda3/envs/off-smpl/lib/python3.6/site-packages/keras/backend/tensorflow_backend.py\u001b[0m in \u001b[0;36m_call\u001b[0;34m(self, inputs)\u001b[0m\n\u001b[1;32m   2673\u001b[0m             \u001b[0mfetched\u001b[0m \u001b[0;34m=\u001b[0m \u001b[0mself\u001b[0m\u001b[0;34m.\u001b[0m\u001b[0m_callable_fn\u001b[0m\u001b[0;34m(\u001b[0m\u001b[0;34m*\u001b[0m\u001b[0marray_vals\u001b[0m\u001b[0;34m,\u001b[0m \u001b[0mrun_metadata\u001b[0m\u001b[0;34m=\u001b[0m\u001b[0mself\u001b[0m\u001b[0;34m.\u001b[0m\u001b[0mrun_metadata\u001b[0m\u001b[0;34m)\u001b[0m\u001b[0;34m\u001b[0m\u001b[0m\n\u001b[1;32m   2674\u001b[0m         \u001b[0;32melse\u001b[0m\u001b[0;34m:\u001b[0m\u001b[0;34m\u001b[0m\u001b[0m\n\u001b[0;32m-> 2675\u001b[0;31m             \u001b[0mfetched\u001b[0m \u001b[0;34m=\u001b[0m \u001b[0mself\u001b[0m\u001b[0;34m.\u001b[0m\u001b[0m_callable_fn\u001b[0m\u001b[0;34m(\u001b[0m\u001b[0;34m*\u001b[0m\u001b[0marray_vals\u001b[0m\u001b[0;34m)\u001b[0m\u001b[0;34m\u001b[0m\u001b[0m\n\u001b[0m\u001b[1;32m   2676\u001b[0m         \u001b[0;32mreturn\u001b[0m \u001b[0mfetched\u001b[0m\u001b[0;34m[\u001b[0m\u001b[0;34m:\u001b[0m\u001b[0mlen\u001b[0m\u001b[0;34m(\u001b[0m\u001b[0mself\u001b[0m\u001b[0;34m.\u001b[0m\u001b[0moutputs\u001b[0m\u001b[0;34m)\u001b[0m\u001b[0;34m]\u001b[0m\u001b[0;34m\u001b[0m\u001b[0m\n\u001b[1;32m   2677\u001b[0m \u001b[0;34m\u001b[0m\u001b[0m\n",
      "\u001b[0;32m/data/intsco/miniconda3/envs/off-smpl/lib/python3.6/site-packages/tensorflow/python/client/session.py\u001b[0m in \u001b[0;36m__call__\u001b[0;34m(self, *args, **kwargs)\u001b[0m\n\u001b[1;32m   1437\u001b[0m           ret = tf_session.TF_SessionRunCallable(\n\u001b[1;32m   1438\u001b[0m               \u001b[0mself\u001b[0m\u001b[0;34m.\u001b[0m\u001b[0m_session\u001b[0m\u001b[0;34m.\u001b[0m\u001b[0m_session\u001b[0m\u001b[0;34m,\u001b[0m \u001b[0mself\u001b[0m\u001b[0;34m.\u001b[0m\u001b[0m_handle\u001b[0m\u001b[0;34m,\u001b[0m \u001b[0margs\u001b[0m\u001b[0;34m,\u001b[0m \u001b[0mstatus\u001b[0m\u001b[0;34m,\u001b[0m\u001b[0;34m\u001b[0m\u001b[0m\n\u001b[0;32m-> 1439\u001b[0;31m               run_metadata_ptr)\n\u001b[0m\u001b[1;32m   1440\u001b[0m         \u001b[0;32mif\u001b[0m \u001b[0mrun_metadata\u001b[0m\u001b[0;34m:\u001b[0m\u001b[0;34m\u001b[0m\u001b[0m\n\u001b[1;32m   1441\u001b[0m           \u001b[0mproto_data\u001b[0m \u001b[0;34m=\u001b[0m \u001b[0mtf_session\u001b[0m\u001b[0;34m.\u001b[0m\u001b[0mTF_GetBuffer\u001b[0m\u001b[0;34m(\u001b[0m\u001b[0mrun_metadata_ptr\u001b[0m\u001b[0;34m)\u001b[0m\u001b[0;34m\u001b[0m\u001b[0m\n",
      "\u001b[0;31mKeyboardInterrupt\u001b[0m: "
     ]
    }
   ],
   "source": [
    "model, data_gen = create_fit_tl_model(X_train, y_train, X_valid, y_valid, verbose=1)"
   ]
  },
  {
   "cell_type": "code",
   "execution_count": 236,
   "metadata": {
    "hidden": true
   },
   "outputs": [
    {
     "data": {
      "image/png": "[encoded data removed]",
      "text/plain": [
       "<matplotlib.figure.Figure at 0x7f9a07abe7f0>"
      ]
     },
     "metadata": {},
     "output_type": "display_data"
    }
   ],
   "source": [
    "utils.plot_learning_graph([model.history.history], 1)"
   ]
  },
  {
   "cell_type": "code",
   "execution_count": 192,
   "metadata": {
    "hidden": true
   },
   "outputs": [
    {
     "name": "stdout",
     "output_type": "stream",
     "text": [
      "[ 0.          0.          6.87681866] [  5.85510254   0.          16.83978844]\n"
     ]
    },
    {
     "data": {
      "text/plain": [
       "0.96718192627824018"
      ]
     },
     "execution_count": 192,
     "metadata": {},
     "output_type": "execute_result"
    }
   ],
   "source": [
    "X_test, y_test, _ = utils.make_subset(test_u_groups, X, y, groups, to_rgb=False)\n",
    "coverter_to_3ch = make_2ch_3ch_converter(to_3ch_model_weights_path)\n",
    "X_test = coverter_to_3ch(X_test)\n",
    "X_test = vgg16_preprocess(X_test)\n",
    "\n",
    "y_proba = model.predict(X_test)\n",
    "sklearn.metrics.accuracy_score(y_test[:,1], y_proba[:,1] > 0.5)"
   ]
  },
  {
   "cell_type": "markdown",
   "metadata": {
    "hidden": true
   },
   "source": [
    "---"
   ]
  },
  {
   "cell_type": "markdown",
   "metadata": {},
   "source": [
    "# Final Model Cross Validation"
   ]
  },
  {
   "cell_type": "code",
   "execution_count": 38,
   "metadata": {},
   "outputs": [
    {
     "data": {
      "text/plain": [
       "(67,)"
      ]
     },
     "execution_count": 38,
     "metadata": {},
     "output_type": "execute_result"
    }
   ],
   "source": [
    "np.unique(groups).shape"
   ]
  },
  {
   "cell_type": "code",
   "execution_count": null,
   "metadata": {
    "scrolled": false
   },
   "outputs": [
    {
     "name": "stdout",
     "output_type": "stream",
     "text": [
      "Fold: 0 (14618,) (3627,)\n",
      "Attempt: 0\n",
      "           f1      prec    recall       acc  fold  attempt\n",
      "on   0.979121  0.976961  0.981290  0.976565     0        0\n",
      "off  0.973940  0.976086  0.971805  0.977116     0        0\n",
      "\n",
      "Attempt: 1\n",
      "           f1      prec    recall       acc  fold  attempt\n",
      "on   0.983017  0.982776  0.983259  0.980976     0        1\n",
      "off  0.978697  0.978697  0.978697  0.981252     0        1\n",
      "\n",
      "Attempt: 2\n"
     ]
    }
   ],
   "source": [
    "%%time\n",
    "\n",
    "folds = 5\n",
    "# folds = 67\n",
    "break_after_first_fold = False\n",
    "attempts = 5\n",
    "\n",
    "cv_groups = []\n",
    "cv_metrics = []\n",
    "history_list = []\n",
    "\n",
    "X_rgb = convert_to_rgb(X)\n",
    "\n",
    "gkfold = GroupKFold(n_splits=folds)\n",
    "for fold_i, (train_inds, valid_inds) in enumerate(gkfold.split(X_rgb, y, groups)):\n",
    "    print(f'Fold: {fold_i}', train_inds.shape, valid_inds.shape)\n",
    "    cv_groups.append(np.unique(groups[valid_inds]).tolist())\n",
    "    \n",
    "    X_train, y_train = X_rgb[train_inds], y[train_inds]\n",
    "    X_valid, y_valid = X_rgb[valid_inds], y[valid_inds]\n",
    "    \n",
    "    y_pred_avg = np.zeros(y_valid.shape)\n",
    "    for i in range(attempts):\n",
    "        print(f'Attempt: {i}')\n",
    "        \n",
    "        model, data_gen = create_fit_tl_model(X_train, y_train)\n",
    "        history_list.append(model.history.history)\n",
    "        \n",
    "        y_pred = model.predict(data_gen.standardize(X_valid), verbose=0)\n",
    "        y_pred_avg += y_pred\n",
    "        \n",
    "        metrics = calc_metrics(y_valid, y_pred)\n",
    "        metrics['fold'] = fold_i\n",
    "        metrics['attempt'] = i\n",
    "        cv_metrics.append(metrics)\n",
    "\n",
    "        print(metrics)\n",
    "        print()\n",
    "    \n",
    "    print('Averaged')\n",
    "    y_pred_avg /= attempts\n",
    "    metrics = calc_metrics(y_valid, y_pred_avg)\n",
    "    metrics['fold'] = fold_i\n",
    "    metrics['attempt'] = 'avg'\n",
    "    cv_metrics.append(metrics)  \n",
    "    print(metrics)\n",
    "    print()\n",
    "\n",
    "    if break_after_first_fold:\n",
    "        break\n",
    "\n",
    "metrics_df = pd.concat(cv_metrics)\n",
    "metrics_df.to_msgpack('metrics_df.msgpack')\n",
    "pickle.dump(history_list, open('history_list.pkl', 'wb'))"
   ]
  },
  {
   "cell_type": "code",
   "execution_count": 41,
   "metadata": {},
   "outputs": [
    {
     "data": {
      "text/html": [
       "<div>\n",
       "<style>\n",
       "    .dataframe thead tr:only-child th {\n",
       "        text-align: right;\n",
       "    }\n",
       "\n",
       "    .dataframe thead th {\n",
       "        text-align: left;\n",
       "    }\n",
       "\n",
       "    .dataframe tbody tr th {\n",
       "        vertical-align: top;\n",
       "    }\n",
       "</style>\n",
       "<table border=\"1\" class=\"dataframe\">\n",
       "  <thead>\n",
       "    <tr>\n",
       "      <th></th>\n",
       "      <th colspan=\"2\" halign=\"left\">f1</th>\n",
       "      <th colspan=\"2\" halign=\"left\">prec</th>\n",
       "      <th colspan=\"2\" halign=\"left\">recall</th>\n",
       "      <th colspan=\"2\" halign=\"left\">acc</th>\n",
       "      <th colspan=\"2\" halign=\"left\">fold</th>\n",
       "    </tr>\n",
       "    <tr>\n",
       "      <th></th>\n",
       "      <th>mean</th>\n",
       "      <th>std</th>\n",
       "      <th>mean</th>\n",
       "      <th>std</th>\n",
       "      <th>mean</th>\n",
       "      <th>std</th>\n",
       "      <th>mean</th>\n",
       "      <th>std</th>\n",
       "      <th>mean</th>\n",
       "      <th>std</th>\n",
       "    </tr>\n",
       "  </thead>\n",
       "  <tbody>\n",
       "    <tr>\n",
       "      <th>off</th>\n",
       "      <td>0.968437</td>\n",
       "      <td>0.016738</td>\n",
       "      <td>0.953225</td>\n",
       "      <td>0.032467</td>\n",
       "      <td>0.984625</td>\n",
       "      <td>0.00279</td>\n",
       "      <td>0.971401</td>\n",
       "      <td>0.014762</td>\n",
       "      <td>2</td>\n",
       "      <td>1.581139</td>\n",
       "    </tr>\n",
       "    <tr>\n",
       "      <th>on</th>\n",
       "      <td>0.973778</td>\n",
       "      <td>0.013403</td>\n",
       "      <td>0.987164</td>\n",
       "      <td>0.001979</td>\n",
       "      <td>0.961059</td>\n",
       "      <td>0.02659</td>\n",
       "      <td>0.971457</td>\n",
       "      <td>0.014839</td>\n",
       "      <td>2</td>\n",
       "      <td>1.581139</td>\n",
       "    </tr>\n",
       "  </tbody>\n",
       "</table>\n",
       "</div>"
      ],
      "text/plain": [
       "           f1                prec              recall                acc  \\\n",
       "         mean       std      mean       std      mean      std      mean   \n",
       "off  0.968437  0.016738  0.953225  0.032467  0.984625  0.00279  0.971401   \n",
       "on   0.973778  0.013403  0.987164  0.001979  0.961059  0.02659  0.971457   \n",
       "\n",
       "              fold            \n",
       "          std mean       std  \n",
       "off  0.014762    2  1.581139  \n",
       "on   0.014839    2  1.581139  "
      ]
     },
     "execution_count": 41,
     "metadata": {},
     "output_type": "execute_result"
    }
   ],
   "source": [
    "df = metrics_df[metrics_df.attempt == 'avg']\n",
    "df.groupby(df.index).agg([np.mean, np.std])"
   ]
  },
  {
   "cell_type": "code",
   "execution_count": 42,
   "metadata": {},
   "outputs": [
    {
     "data": {
      "text/html": [
       "<div>\n",
       "<style>\n",
       "    .dataframe thead tr:only-child th {\n",
       "        text-align: right;\n",
       "    }\n",
       "\n",
       "    .dataframe thead th {\n",
       "        text-align: left;\n",
       "    }\n",
       "\n",
       "    .dataframe tbody tr th {\n",
       "        vertical-align: top;\n",
       "    }\n",
       "</style>\n",
       "<table border=\"1\" class=\"dataframe\">\n",
       "  <thead>\n",
       "    <tr style=\"text-align: right;\">\n",
       "      <th></th>\n",
       "      <th>mean</th>\n",
       "      <th>std</th>\n",
       "    </tr>\n",
       "  </thead>\n",
       "  <tbody>\n",
       "    <tr>\n",
       "      <th>f1</th>\n",
       "      <td>0.968437</td>\n",
       "      <td>0.016738</td>\n",
       "    </tr>\n",
       "    <tr>\n",
       "      <th>prec</th>\n",
       "      <td>0.953225</td>\n",
       "      <td>0.032467</td>\n",
       "    </tr>\n",
       "    <tr>\n",
       "      <th>recall</th>\n",
       "      <td>0.984625</td>\n",
       "      <td>0.002790</td>\n",
       "    </tr>\n",
       "    <tr>\n",
       "      <th>acc</th>\n",
       "      <td>0.971401</td>\n",
       "      <td>0.014762</td>\n",
       "    </tr>\n",
       "    <tr>\n",
       "      <th>fold</th>\n",
       "      <td>2.000000</td>\n",
       "      <td>1.581139</td>\n",
       "    </tr>\n",
       "  </tbody>\n",
       "</table>\n",
       "</div>"
      ],
      "text/plain": [
       "            mean       std\n",
       "f1      0.968437  0.016738\n",
       "prec    0.953225  0.032467\n",
       "recall  0.984625  0.002790\n",
       "acc     0.971401  0.014762\n",
       "fold    2.000000  1.581139"
      ]
     },
     "execution_count": 42,
     "metadata": {},
     "output_type": "execute_result"
    }
   ],
   "source": [
    "# df = metrics_df.loc['off']\n",
    "metrics_df[metrics_df.attempt == 'avg'].loc['off'].agg([np.mean, np.std]).T"
   ]
  },
  {
   "cell_type": "code",
   "execution_count": 43,
   "metadata": {
    "scrolled": true
   },
   "outputs": [
    {
     "data": {
      "text/html": [
       "<div>\n",
       "<style>\n",
       "    .dataframe thead tr:only-child th {\n",
       "        text-align: right;\n",
       "    }\n",
       "\n",
       "    .dataframe thead th {\n",
       "        text-align: left;\n",
       "    }\n",
       "\n",
       "    .dataframe tbody tr th {\n",
       "        vertical-align: top;\n",
       "    }\n",
       "</style>\n",
       "<table border=\"1\" class=\"dataframe\">\n",
       "  <thead>\n",
       "    <tr style=\"text-align: right;\">\n",
       "      <th></th>\n",
       "      <th>mean</th>\n",
       "      <th>std</th>\n",
       "    </tr>\n",
       "  </thead>\n",
       "  <tbody>\n",
       "    <tr>\n",
       "      <th>f1</th>\n",
       "      <td>0.973778</td>\n",
       "      <td>0.013403</td>\n",
       "    </tr>\n",
       "    <tr>\n",
       "      <th>prec</th>\n",
       "      <td>0.987164</td>\n",
       "      <td>0.001979</td>\n",
       "    </tr>\n",
       "    <tr>\n",
       "      <th>recall</th>\n",
       "      <td>0.961059</td>\n",
       "      <td>0.026590</td>\n",
       "    </tr>\n",
       "    <tr>\n",
       "      <th>acc</th>\n",
       "      <td>0.971457</td>\n",
       "      <td>0.014839</td>\n",
       "    </tr>\n",
       "    <tr>\n",
       "      <th>fold</th>\n",
       "      <td>2.000000</td>\n",
       "      <td>1.581139</td>\n",
       "    </tr>\n",
       "  </tbody>\n",
       "</table>\n",
       "</div>"
      ],
      "text/plain": [
       "            mean       std\n",
       "f1      0.973778  0.013403\n",
       "prec    0.987164  0.001979\n",
       "recall  0.961059  0.026590\n",
       "acc     0.971457  0.014839\n",
       "fold    2.000000  1.581139"
      ]
     },
     "execution_count": 43,
     "metadata": {},
     "output_type": "execute_result"
    }
   ],
   "source": [
    "# df = metrics_df.loc['on']\n",
    "metrics_df[metrics_df.attempt == 'avg'].loc['on'].agg([np.mean, np.std]).T"
   ]
  },
  {
   "cell_type": "code",
   "execution_count": 46,
   "metadata": {
    "collapsed": true
   },
   "outputs": [
    {
     "data": {
      "text/plain": [
       "[['2017023_ADP_GFlarvae_55x55_40x40_DMAN002',\n",
       "  'AstraZeneca__Rat_testis',\n",
       "  'BRB04S-RECAL',\n",
       "  'DESI porcine kidney interface region',\n",
       "  'Dataset 26_recal',\n",
       "  'Dataset 8',\n",
       "  'Esco2_centroids',\n",
       "  'ICL__LNTO26_7_3',\n",
       "  'LNTO31_17_1-RECAL',\n",
       "  'MP 39',\n",
       "  'Mouse Kidney on plastic slide 260x175 30um',\n",
       "  'Row001',\n",
       "  'Tumor17'],\n",
       " ['20170105_VS_disc2_NEDC0001_70x80_10x10',\n",
       "  '20170905_CGL0170817_MT-MB_ATP_N_81x101_135x135',\n",
       "  'CC-Esco2_centroids',\n",
       "  'Dataset 18',\n",
       "  'Dataset 30',\n",
       "  'ICL__A51 CT S3-centroid',\n",
       "  'ICL__LNTO31_17_4',\n",
       "  'ICL__LNTO41_17_2',\n",
       "  'ICL__LNTO42_17_1',\n",
       "  'Kidney_280x140_40um_E0',\n",
       "  'MPIMM_021_QE_P_CB_0',\n",
       "  'MS7_20170907_DHB_pos_MouseBrain_s3_300-1800_40um_245x134_A30-JBE-Test',\n",
       "  'S648 WS20 205x170 20um E110',\n",
       "  'Tumor11'],\n",
       " ['170418_MouseBrain_pos_50um_205by129_atn0',\n",
       "  '20170815_CGL_MT-M.B_DAN012_NTM_42x30_100x100',\n",
       "  'Dataset 16',\n",
       "  'Dataset 27',\n",
       "  'Dataset 31',\n",
       "  'Dataset 3_recal',\n",
       "  'Dataset 4_recal',\n",
       "  'ICL__7TopRight,_17BottomRight,_27BottomLeft,_37TopLeft',\n",
       "  'MPIMM_049_QE_P_BA_CF_sp3',\n",
       "  'Mouse Kidney on coated plastic slide 300x165 30 um',\n",
       "  'ST-Pseudo_centroids',\n",
       "  'Xenograft_3_135um',\n",
       "  'xenograft CT-26 S10'],\n",
       " ['161007_WT1S1L1',\n",
       "  '20170503_ADP-JS_CD1-Brain_dan005_117x143_60x60_N',\n",
       "  'AstraZeneca__CT26_xenograft',\n",
       "  'Borderline13',\n",
       "  'Dataset 23',\n",
       "  'Esco1_centroids',\n",
       "  'ICL__LNTO22_1_3',\n",
       "  'ICL__LNTO30_16_1',\n",
       "  'Mouse Kidney on coated plastic slide 270x160 30 um',\n",
       "  'NCSU_M8_mouse_brain',\n",
       "  'Normal8',\n",
       "  'North Carolina State University__mouse body',\n",
       "  'S649 WS21 155x105 15um E110',\n",
       "  'Tumor41'],\n",
       " ['20170817_CGL_MT-M.B_ATP_DAN018_NTM_102x39_100x100',\n",
       "  '20180220_mouse eye_DHB',\n",
       "  'Borderline14',\n",
       "  'DESI quan_Swales',\n",
       "  'Dataset 2',\n",
       "  'Dataset 21',\n",
       "  'Dataset 3',\n",
       "  'Dataset 4',\n",
       "  'ICL__LNTO41_17_4',\n",
       "  'Mousebrain_MG08_2017_GruppeA',\n",
       "  'PS_7_P7_N1_30um_New',\n",
       "  'Rat50_Section1',\n",
       "  'Rat51_Section2']]"
      ]
     },
     "execution_count": 46,
     "metadata": {},
     "output_type": "execute_result"
    }
   ],
   "source": [
    "cv_groups"
   ]
  },
  {
   "cell_type": "code",
   "execution_count": 48,
   "metadata": {
    "collapsed": true
   },
   "outputs": [
    {
     "data": {
      "text/html": [
       "<div>\n",
       "<style>\n",
       "    .dataframe thead tr:only-child th {\n",
       "        text-align: right;\n",
       "    }\n",
       "\n",
       "    .dataframe thead th {\n",
       "        text-align: left;\n",
       "    }\n",
       "\n",
       "    .dataframe tbody tr th {\n",
       "        vertical-align: top;\n",
       "    }\n",
       "</style>\n",
       "<table border=\"1\" class=\"dataframe\">\n",
       "  <thead>\n",
       "    <tr style=\"text-align: right;\">\n",
       "      <th></th>\n",
       "      <th>f1</th>\n",
       "      <th>prec</th>\n",
       "      <th>recall</th>\n",
       "      <th>acc</th>\n",
       "      <th>fold</th>\n",
       "      <th>attempt</th>\n",
       "    </tr>\n",
       "  </thead>\n",
       "  <tbody>\n",
       "    <tr>\n",
       "      <th>on</th>\n",
       "      <td>0.983736</td>\n",
       "      <td>0.984706</td>\n",
       "      <td>0.982767</td>\n",
       "      <td>0.981803</td>\n",
       "      <td>0</td>\n",
       "      <td>avg</td>\n",
       "    </tr>\n",
       "    <tr>\n",
       "      <th>off</th>\n",
       "      <td>0.979043</td>\n",
       "      <td>0.977514</td>\n",
       "      <td>0.980576</td>\n",
       "      <td>0.981527</td>\n",
       "      <td>0</td>\n",
       "      <td>avg</td>\n",
       "    </tr>\n",
       "    <tr>\n",
       "      <th>on</th>\n",
       "      <td>0.966084</td>\n",
       "      <td>0.985405</td>\n",
       "      <td>0.947505</td>\n",
       "      <td>0.965142</td>\n",
       "      <td>1</td>\n",
       "      <td>avg</td>\n",
       "    </tr>\n",
       "    <tr>\n",
       "      <th>off</th>\n",
       "      <td>0.964396</td>\n",
       "      <td>0.945574</td>\n",
       "      <td>0.983982</td>\n",
       "      <td>0.965414</td>\n",
       "      <td>1</td>\n",
       "      <td>avg</td>\n",
       "    </tr>\n",
       "    <tr>\n",
       "      <th>on</th>\n",
       "      <td>0.955224</td>\n",
       "      <td>0.989181</td>\n",
       "      <td>0.923521</td>\n",
       "      <td>0.950249</td>\n",
       "      <td>2</td>\n",
       "      <td>avg</td>\n",
       "    </tr>\n",
       "    <tr>\n",
       "      <th>off</th>\n",
       "      <td>0.944030</td>\n",
       "      <td>0.905188</td>\n",
       "      <td>0.986355</td>\n",
       "      <td>0.950249</td>\n",
       "      <td>2</td>\n",
       "      <td>avg</td>\n",
       "    </tr>\n",
       "    <tr>\n",
       "      <th>on</th>\n",
       "      <td>0.988375</td>\n",
       "      <td>0.988108</td>\n",
       "      <td>0.988643</td>\n",
       "      <td>0.988309</td>\n",
       "      <td>3</td>\n",
       "      <td>avg</td>\n",
       "    </tr>\n",
       "    <tr>\n",
       "      <th>off</th>\n",
       "      <td>0.988242</td>\n",
       "      <td>0.988512</td>\n",
       "      <td>0.987972</td>\n",
       "      <td>0.988309</td>\n",
       "      <td>3</td>\n",
       "      <td>avg</td>\n",
       "    </tr>\n",
       "    <tr>\n",
       "      <th>on</th>\n",
       "      <td>0.975470</td>\n",
       "      <td>0.988417</td>\n",
       "      <td>0.962858</td>\n",
       "      <td>0.971781</td>\n",
       "      <td>4</td>\n",
       "      <td>avg</td>\n",
       "    </tr>\n",
       "    <tr>\n",
       "      <th>off</th>\n",
       "      <td>0.966473</td>\n",
       "      <td>0.949335</td>\n",
       "      <td>0.984242</td>\n",
       "      <td>0.971507</td>\n",
       "      <td>4</td>\n",
       "      <td>avg</td>\n",
       "    </tr>\n",
       "  </tbody>\n",
       "</table>\n",
       "</div>"
      ],
      "text/plain": [
       "           f1      prec    recall       acc  fold attempt\n",
       "on   0.983736  0.984706  0.982767  0.981803     0     avg\n",
       "off  0.979043  0.977514  0.980576  0.981527     0     avg\n",
       "on   0.966084  0.985405  0.947505  0.965142     1     avg\n",
       "off  0.964396  0.945574  0.983982  0.965414     1     avg\n",
       "on   0.955224  0.989181  0.923521  0.950249     2     avg\n",
       "off  0.944030  0.905188  0.986355  0.950249     2     avg\n",
       "on   0.988375  0.988108  0.988643  0.988309     3     avg\n",
       "off  0.988242  0.988512  0.987972  0.988309     3     avg\n",
       "on   0.975470  0.988417  0.962858  0.971781     4     avg\n",
       "off  0.966473  0.949335  0.984242  0.971507     4     avg"
      ]
     },
     "execution_count": 48,
     "metadata": {},
     "output_type": "execute_result"
    }
   ],
   "source": [
    "metrics_df[metrics_df.attempt == 'avg']"
   ]
  },
  {
   "cell_type": "code",
   "execution_count": 49,
   "metadata": {},
   "outputs": [],
   "source": [
    "tup = (cv_groups, metrics_df[metrics_df.attempt == 'avg'])"
   ]
  },
  {
   "cell_type": "code",
   "execution_count": 51,
   "metadata": {},
   "outputs": [],
   "source": [
    "pickle.dump(tup, open('cv_groups_metrcis.pkl', 'wb'))"
   ]
  },
  {
   "cell_type": "markdown",
   "metadata": {},
   "source": [
    "---"
   ]
  }
 ],
 "metadata": {
  "kernelspec": {
   "display_name": "off-smpl",
   "language": "python",
   "name": "off-smpl"
  },
  "language_info": {
   "codemirror_mode": {
    "name": "ipython",
    "version": 3
   },
   "file_extension": ".py",
   "mimetype": "text/x-python",
   "name": "python",
   "nbconvert_exporter": "python",
   "pygments_lexer": "ipython3",
   "version": "3.6.1"
  }
 },
 "nbformat": 4,
 "nbformat_minor": 2
}
