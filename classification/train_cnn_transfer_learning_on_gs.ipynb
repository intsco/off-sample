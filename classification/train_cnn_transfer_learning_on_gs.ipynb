{
 "cells": [
  {
   "cell_type": "code",
   "execution_count": 1,
   "metadata": {
    "collapsed": true
   },
   "outputs": [],
   "source": [
    "%load_ext autoreload\n",
    "%autoreload 1"
   ]
  },
  {
   "cell_type": "code",
   "execution_count": 2,
   "metadata": {},
   "outputs": [
    {
     "name": "stderr",
     "output_type": "stream",
     "text": [
      "Using TensorFlow backend.\n"
     ]
    }
   ],
   "source": [
    "from pathlib import Path\n",
    "import off_sample as utils"
   ]
  },
  {
   "cell_type": "code",
   "execution_count": 3,
   "metadata": {
    "collapsed": true
   },
   "outputs": [],
   "source": [
    "%run off_sample/utils.py"
   ]
  },
  {
   "cell_type": "code",
   "execution_count": 4,
   "metadata": {
    "collapsed": true
   },
   "outputs": [],
   "source": [
    "image_shape = (64, 64, 1)\n",
    "data_path = Path('./GS/raw_images_rect/')"
   ]
  },
  {
   "cell_type": "markdown",
   "metadata": {},
   "source": [
    "# Check Hardware and Tools"
   ]
  },
  {
   "cell_type": "code",
   "execution_count": 5,
   "metadata": {
    "collapsed": true
   },
   "outputs": [],
   "source": [
    "import tensorflow as tf"
   ]
  },
  {
   "cell_type": "code",
   "execution_count": 6,
   "metadata": {},
   "outputs": [
    {
     "data": {
      "text/plain": [
       "'1.10.1'"
      ]
     },
     "execution_count": 6,
     "metadata": {},
     "output_type": "execute_result"
    }
   ],
   "source": [
    "tf.__version__"
   ]
  },
  {
   "cell_type": "code",
   "execution_count": 7,
   "metadata": {
    "collapsed": true
   },
   "outputs": [],
   "source": [
    "from tensorflow.python.client import device_lib"
   ]
  },
  {
   "cell_type": "code",
   "execution_count": 8,
   "metadata": {
    "scrolled": true
   },
   "outputs": [
    {
     "name": "stdout",
     "output_type": "stream",
     "text": [
      "name: \"/device:CPU:0\"\n",
      "device_type: \"CPU\"\n",
      "memory_limit: 268435456\n",
      "locality {\n",
      "}\n",
      "incarnation: 7011553112477975284\n",
      "\n",
      "name: \"/device:GPU:0\"\n",
      "device_type: \"GPU\"\n",
      "memory_limit: 11279997338\n",
      "locality {\n",
      "  bus_id: 1\n",
      "  links {\n",
      "  }\n",
      "}\n",
      "incarnation: 5508569094952288175\n",
      "physical_device_desc: \"device: 0, name: Tesla K80, pci bus id: 0000:00:1e.0, compute capability: 3.7\"\n",
      "\n"
     ]
    }
   ],
   "source": [
    "for d in device_lib.list_local_devices():\n",
    "    print(d)"
   ]
  },
  {
   "cell_type": "code",
   "execution_count": 9,
   "metadata": {},
   "outputs": [
    {
     "data": {
      "text/plain": [
       "('2.2.2', '0.20.2', '1.13.3', '2.0.2', '0.19.2')"
      ]
     },
     "execution_count": 9,
     "metadata": {},
     "output_type": "execute_result"
    }
   ],
   "source": [
    "from skimage import transform\n",
    "import imageio\n",
    "import keras\n",
    "import numpy as np\n",
    "import pandas as pd\n",
    "import sklearn\n",
    "import matplotlib\n",
    "keras.__version__, pd.__version__, np.__version__, matplotlib.__version__, sklearn.__version__"
   ]
  },
  {
   "cell_type": "code",
   "execution_count": 10,
   "metadata": {
    "collapsed": true
   },
   "outputs": [],
   "source": [
    "from matplotlib import pyplot as plt\n",
    "%matplotlib inline"
   ]
  },
  {
   "cell_type": "markdown",
   "metadata": {},
   "source": [
    "# Data Generators"
   ]
  },
  {
   "cell_type": "code",
   "execution_count": 11,
   "metadata": {
    "collapsed": true
   },
   "outputs": [],
   "source": [
    "import random"
   ]
  },
  {
   "cell_type": "code",
   "execution_count": 12,
   "metadata": {
    "collapsed": true
   },
   "outputs": [],
   "source": [
    "def read_resize(img_path):\n",
    "    img = imageio.imread(img_path)[:,:,0]\n",
    "    img = transform.resize(img, image_shape, mode='constant')\n",
    "    img = img / img.max()\n",
    "    return img"
   ]
  },
  {
   "cell_type": "code",
   "execution_count": 13,
   "metadata": {},
   "outputs": [
    {
     "data": {
      "text/plain": [
       "((18245, 64, 64, 1), (18245, 2), (18245,))"
      ]
     },
     "execution_count": 13,
     "metadata": {},
     "output_type": "execute_result"
    }
   ],
   "source": [
    "X_list, y_list, groups = [], [], []\n",
    "\n",
    "for ds_path in data_path.iterdir():\n",
    "    for img_class in ['on', 'off']:\n",
    "        for img_path in (ds_path / img_class).iterdir():\n",
    "            img = read_resize(img_path)\n",
    "\n",
    "            X_list.append(img)\n",
    "            y_list.append(1 if img_class == 'off' else 0)\n",
    "            groups.append(ds_path.name)\n",
    "\n",
    "X = np.stack(X_list)\n",
    "X.setflags(write=False)\n",
    "\n",
    "y = np.stack(y_list)\n",
    "y = y.reshape(y.shape + (1,))\n",
    "y = keras.utils.to_categorical(y, 2)\n",
    "y.setflags(write=False)\n",
    "\n",
    "groups = np.stack(groups)\n",
    "groups.setflags(write=False)\n",
    "\n",
    "X.shape, y.shape, groups.shape"
   ]
  },
  {
   "cell_type": "code",
   "execution_count": 14,
   "metadata": {},
   "outputs": [
    {
     "data": {
      "text/plain": [
       "10010"
      ]
     },
     "execution_count": 14,
     "metadata": {},
     "output_type": "execute_result"
    }
   ],
   "source": [
    "(y[:,0] == 1).sum()"
   ]
  },
  {
   "cell_type": "code",
   "execution_count": 15,
   "metadata": {},
   "outputs": [
    {
     "data": {
      "text/plain": [
       "67"
      ]
     },
     "execution_count": 15,
     "metadata": {},
     "output_type": "execute_result"
    }
   ],
   "source": [
    "u_groups = np.unique(groups)\n",
    "len(u_groups)"
   ]
  },
  {
   "cell_type": "code",
   "execution_count": 16,
   "metadata": {
    "collapsed": true
   },
   "outputs": [],
   "source": [
    "%run off_sample/utils.py"
   ]
  },
  {
   "cell_type": "markdown",
   "metadata": {
    "collapsed": true
   },
   "source": [
    "# Train and Test Model"
   ]
  },
  {
   "cell_type": "code",
   "execution_count": 17,
   "metadata": {
    "collapsed": true
   },
   "outputs": [],
   "source": [
    "import pickle\n",
    "import keras\n",
    "from sklearn.model_selection import GroupKFold\n",
    "from sklearn.model_selection import train_test_split\n",
    "from sklearn.metrics import (roc_curve, roc_auc_score, accuracy_score, f1_score,\n",
    "                             precision_score, recall_score, average_precision_score)"
   ]
  },
  {
   "cell_type": "code",
   "execution_count": 18,
   "metadata": {},
   "outputs": [
    {
     "data": {
      "text/plain": [
       "((53,), (14,))"
      ]
     },
     "execution_count": 18,
     "metadata": {},
     "output_type": "execute_result"
    }
   ],
   "source": [
    "other_u_groups, test_u_groups = train_test_split(u_groups, test_size=0.2, random_state=13)\n",
    "other_u_groups.shape, test_u_groups.shape"
   ]
  },
  {
   "cell_type": "code",
   "execution_count": 19,
   "metadata": {
    "collapsed": true
   },
   "outputs": [],
   "source": [
    "X_other, y_other, groups_other = make_subset(other_u_groups, X, y, groups)\n",
    "X_test, y_test, groups_test = make_subset(test_u_groups, X, y, groups)"
   ]
  },
  {
   "cell_type": "code",
   "execution_count": 20,
   "metadata": {
    "scrolled": true
   },
   "outputs": [
    {
     "data": {
      "text/plain": [
       "((37,), (16,))"
      ]
     },
     "execution_count": 20,
     "metadata": {},
     "output_type": "execute_result"
    }
   ],
   "source": [
    "train_u_groups, valid_u_groups = train_test_split(other_u_groups, test_size=0.3, random_state=13)\n",
    "train_u_groups.shape, valid_u_groups.shape"
   ]
  },
  {
   "cell_type": "markdown",
   "metadata": {},
   "source": [
    "### Dataset Sampling"
   ]
  },
  {
   "cell_type": "code",
   "execution_count": 21,
   "metadata": {
    "collapsed": true
   },
   "outputs": [],
   "source": [
    "import pickle\n",
    "from pathlib import Path"
   ]
  },
  {
   "cell_type": "code",
   "execution_count": 145,
   "metadata": {
    "collapsed": true
   },
   "outputs": [],
   "source": [
    "sample_path = Path('Xygroups_sample.pkl')\n",
    "if sample_path.exists():\n",
    "    X_sample, y_sample, groups_sample = pickle.load(open(sample_path, 'rb'))\n",
    "else:\n",
    "    X_sample_list = []\n",
    "    y_sample_list = []\n",
    "    groups_sample_list = []\n",
    "\n",
    "    for g in other_u_groups:\n",
    "        g_off = (groups_other == g)&(y_other[:,1] == 1)\n",
    "        g_on = (groups_other == g)&(y_other[:,1] == 0)\n",
    "\n",
    "        on_inds = np.arange(X_other[g_on].shape[0])\n",
    "        on_sample_inds = np.random.choice(on_inds, int(round(on_inds.shape[0] / 5)), replace=False)\n",
    "        off_inds = np.arange(X_other[g_off].shape[0])\n",
    "        off_sample_inds = np.random.choice(off_inds, int(round(off_inds.shape[0] / 5)), replace=False)\n",
    "\n",
    "        X_sample_list.append(np.concatenate([X_other[g_on][on_sample_inds],\n",
    "                                             X_other[g_off][off_sample_inds]]))\n",
    "        y_sample_list.append(np.concatenate([y_other[g_on][on_sample_inds],\n",
    "                                             y_other[g_off][off_sample_inds]]))\n",
    "        groups_sample_list.append(np.concatenate([groups_other[g_on][on_sample_inds],\n",
    "                                                  groups_other[g_off][off_sample_inds]]))\n",
    "\n",
    "    X_sample = np.concatenate(X_sample_list)\n",
    "    X_sample.setflags(write=False)\n",
    "    y_sample = np.concatenate(y_sample_list)\n",
    "    y_sample.setflags(write=False)\n",
    "    groups_sample = np.concatenate(groups_sample_list)\n",
    "    groups_sample.setflags(write=False)"
   ]
  },
  {
   "cell_type": "code",
   "execution_count": 146,
   "metadata": {},
   "outputs": [
    {
     "data": {
      "text/plain": [
       "(64, 64, 1)"
      ]
     },
     "execution_count": 146,
     "metadata": {},
     "output_type": "execute_result"
    }
   ],
   "source": [
    "X_sample[0].shape"
   ]
  },
  {
   "cell_type": "code",
   "execution_count": 24,
   "metadata": {
    "collapsed": true
   },
   "outputs": [],
   "source": [
    "# pickle.dump((X_sample, y_sample, groups_sample), open('Xygroups_sample.pkl', 'wb'))"
   ]
  },
  {
   "cell_type": "markdown",
   "metadata": {},
   "source": [
    "### Transfer Learning"
   ]
  },
  {
   "cell_type": "code",
   "execution_count": 569,
   "metadata": {
    "collapsed": true
   },
   "outputs": [],
   "source": [
    "from keras import backend as K\n",
    "from keras.applications import VGG16\n",
    "from keras.models import Model, Sequential\n",
    "from keras.layers import (Activation, BatchNormalization, Conv2D, InputLayer, Dropout, Dense, Flatten)\n",
    "from keras.metrics import binary_accuracy\n",
    "from keras.losses import binary_crossentropy\n",
    "from keras.regularizers import l2\n",
    "from keras.models import Model\n",
    "from keras.optimizers import RMSprop, SGD, Adam"
   ]
  },
  {
   "cell_type": "code",
   "execution_count": 578,
   "metadata": {
    "collapsed": true
   },
   "outputs": [],
   "source": [
    "def create_fit_tl_model(X_train, y_train, X_valid=None, y_valid=None, verbose=0):\n",
    "    ### Pretrain Top FC model\n",
    "    K.clear_session()\n",
    "    vgg = VGG16(include_top=False, weights='imagenet', input_shape=(*image_shape[:2], 3))\n",
    "    vgg.trainable = False\n",
    "\n",
    "    epsilon = 1e-7\n",
    "    X_mean = X_train.mean(axis=(0, 1, 2))\n",
    "    X_std = X_train.std(axis=(0, 1, 2))\n",
    "\n",
    "    def standardize(X):\n",
    "        return (X - X_mean) / (X_std + epsilon)\n",
    "\n",
    "    batch_size = 16\n",
    "    bottleneck_features_train = vgg.predict(standardize(X_train), batch_size=batch_size)\n",
    "    if X_valid is not None:\n",
    "        bottleneck_features_valid = vgg.predict(standardize(X_valid), batch_size=batch_size)\n",
    "\n",
    "    top_model = Sequential()\n",
    "    top_model.add(InputLayer(input_shape=vgg.output_shape[1:]))\n",
    "    top_model.add(Flatten())\n",
    "    top_model.add(Dense(256, kernel_regularizer=l2(l=0.1)))\n",
    "    top_model.add(BatchNormalization())\n",
    "    top_model.add(Activation('relu'))\n",
    "    top_model.add(Dropout(0.75))\n",
    "    top_model.add(Dense(256, kernel_regularizer=l2(l=0.1)))\n",
    "    top_model.add(BatchNormalization())\n",
    "    top_model.add(Activation('relu'))\n",
    "    top_model.add(Dropout(0.75))\n",
    "    top_model.add(Dense(2, activation='sigmoid'))\n",
    "\n",
    "    top_model.compile(optimizer=RMSprop(lr=1e-4),\n",
    "                      loss=binary_crossentropy,\n",
    "                      metrics=[binary_accuracy])\n",
    "    \n",
    "    if X_valid is not None:\n",
    "        validation_data = (bottleneck_features_valid, y_valid)\n",
    "    else:\n",
    "        validation_data = None\n",
    "    top_model.fit(bottleneck_features_train, y_train,\n",
    "                  epochs=10, batch_size=batch_size, verbose=verbose,\n",
    "                  validation_data=validation_data)\n",
    "\n",
    "    ### VGG Fine Tuning\n",
    "    model = Model(inputs=vgg.input, outputs=top_model(vgg.output))\n",
    "\n",
    "    model.trainable = True\n",
    "    n = 11\n",
    "    for i, layer in enumerate(model.layers):\n",
    "        layer.trainable = i >= n\n",
    "\n",
    "    model.compile(loss=binary_crossentropy,\n",
    "                  optimizer=SGD(lr=1e-4, momentum=0.9),\n",
    "                  metrics=[binary_accuracy])\n",
    "    \n",
    "    data_gen = OffSampleImageDataGenerator(\n",
    "        featurewise_center=True,\n",
    "        featurewise_std_normalization=True,\n",
    "        rotation_range=15,\n",
    "        width_shift_range=0.1,\n",
    "        height_shift_range=0.1,\n",
    "        horizontal_flip=True,\n",
    "        vertical_flip=True,\n",
    "        zoom_range=0.2\n",
    "    )\n",
    "    data_gen.fit(X_train)\n",
    "    if X_valid is not None:\n",
    "        X_valid = data_gen.standardize(X_valid)\n",
    "    \n",
    "    if X_valid is not None:\n",
    "        validation_data = (X_valid, y_valid)\n",
    "    else:\n",
    "        validation_data = None\n",
    "    \n",
    "    batch_size = 32\n",
    "    epochs = 15\n",
    "    model.fit_generator(data_gen.flow(X_train, y_train, batch_size=batch_size),\n",
    "                          validation_data=validation_data,\n",
    "                          steps_per_epoch=X_train.shape[0]/batch_size,\n",
    "                          epochs=epochs, verbose=verbose,\n",
    "                          callbacks=[])\n",
    "    return model, data_gen"
   ]
  },
  {
   "cell_type": "code",
   "execution_count": 575,
   "metadata": {},
   "outputs": [
    {
     "name": "stdout",
     "output_type": "stream",
     "text": [
      "Train on 9764 samples, validate on 4779 samples\n",
      "Epoch 1/10\n",
      "9764/9764 [==============================] - 5s 550us/step - loss: 28.3597 - binary_accuracy: 0.7320 - val_loss: 8.3575 - val_binary_accuracy: 0.8444\n",
      "Epoch 2/10\n",
      "9764/9764 [==============================] - 5s 493us/step - loss: 3.6407 - binary_accuracy: 0.9230 - val_loss: 1.4143 - val_binary_accuracy: 0.8796\n",
      "Epoch 3/10\n",
      "9764/9764 [==============================] - 5s 495us/step - loss: 0.7002 - binary_accuracy: 0.9619 - val_loss: 0.6549 - val_binary_accuracy: 0.8772\n",
      "Epoch 4/10\n",
      "9764/9764 [==============================] - 5s 494us/step - loss: 0.3242 - binary_accuracy: 0.9635 - val_loss: 0.4971 - val_binary_accuracy: 0.8919\n",
      "Epoch 5/10\n",
      "9764/9764 [==============================] - 5s 496us/step - loss: 0.2408 - binary_accuracy: 0.9633 - val_loss: 0.5330 - val_binary_accuracy: 0.8732\n",
      "Epoch 6/10\n",
      "9764/9764 [==============================] - 5s 494us/step - loss: 0.2185 - binary_accuracy: 0.9638 - val_loss: 0.5613 - val_binary_accuracy: 0.8854\n",
      "Epoch 7/10\n",
      "9764/9764 [==============================] - 5s 494us/step - loss: 0.1998 - binary_accuracy: 0.9673 - val_loss: 0.5504 - val_binary_accuracy: 0.8804\n",
      "Epoch 8/10\n",
      "9764/9764 [==============================] - 5s 497us/step - loss: 0.1943 - binary_accuracy: 0.9657 - val_loss: 0.4639 - val_binary_accuracy: 0.8729\n",
      "Epoch 9/10\n",
      "9764/9764 [==============================] - 5s 494us/step - loss: 0.1788 - binary_accuracy: 0.9670 - val_loss: 0.5381 - val_binary_accuracy: 0.8824\n",
      "Epoch 10/10\n",
      "9764/9764 [==============================] - 5s 494us/step - loss: 0.1919 - binary_accuracy: 0.9649 - val_loss: 0.7378 - val_binary_accuracy: 0.8716\n",
      "Epoch 1/15\n",
      "306/305 [==============================] - 28s 92ms/step - loss: 0.2219 - binary_accuracy: 0.9522 - val_loss: 0.3687 - val_binary_accuracy: 0.9186\n",
      "Epoch 2/15\n",
      "306/305 [==============================] - 27s 87ms/step - loss: 0.1724 - binary_accuracy: 0.9669 - val_loss: 0.3703 - val_binary_accuracy: 0.9202\n",
      "Epoch 3/15\n",
      "306/305 [==============================] - 27s 87ms/step - loss: 0.1466 - binary_accuracy: 0.9737 - val_loss: 0.3329 - val_binary_accuracy: 0.9260\n",
      "Epoch 4/15\n",
      "306/305 [==============================] - 27s 87ms/step - loss: 0.1442 - binary_accuracy: 0.9745 - val_loss: 0.3735 - val_binary_accuracy: 0.9266\n",
      "Epoch 5/15\n",
      "306/305 [==============================] - 27s 87ms/step - loss: 0.1287 - binary_accuracy: 0.9762 - val_loss: 0.2606 - val_binary_accuracy: 0.9336\n",
      "Epoch 6/15\n",
      "306/305 [==============================] - 27s 87ms/step - loss: 0.1219 - binary_accuracy: 0.9782 - val_loss: 0.3586 - val_binary_accuracy: 0.9285\n",
      "Epoch 7/15\n",
      "306/305 [==============================] - 27s 87ms/step - loss: 0.1153 - binary_accuracy: 0.9755 - val_loss: 0.3171 - val_binary_accuracy: 0.9321\n",
      "Epoch 8/15\n",
      "306/305 [==============================] - 27s 87ms/step - loss: 0.1138 - binary_accuracy: 0.9779 - val_loss: 0.3573 - val_binary_accuracy: 0.9299\n",
      "Epoch 9/15\n",
      "306/305 [==============================] - 27s 87ms/step - loss: 0.1072 - binary_accuracy: 0.9802 - val_loss: 0.2901 - val_binary_accuracy: 0.9319\n",
      "Epoch 10/15\n",
      "306/305 [==============================] - 27s 87ms/step - loss: 0.0989 - binary_accuracy: 0.9799 - val_loss: 0.3209 - val_binary_accuracy: 0.9363\n",
      "Epoch 11/15\n",
      "306/305 [==============================] - 27s 87ms/step - loss: 0.0954 - binary_accuracy: 0.9825 - val_loss: 0.4191 - val_binary_accuracy: 0.9319\n",
      "Epoch 12/15\n",
      "306/305 [==============================] - 27s 88ms/step - loss: 0.0954 - binary_accuracy: 0.9820 - val_loss: 0.2655 - val_binary_accuracy: 0.9346\n",
      "Epoch 13/15\n",
      "306/305 [==============================] - 27s 87ms/step - loss: 0.0927 - binary_accuracy: 0.9819 - val_loss: 0.3350 - val_binary_accuracy: 0.9368\n",
      "Epoch 14/15\n",
      "306/305 [==============================] - 27s 87ms/step - loss: 0.1007 - binary_accuracy: 0.9783 - val_loss: 0.2639 - val_binary_accuracy: 0.9330\n",
      "Epoch 15/15\n",
      "306/305 [==============================] - 27s 87ms/step - loss: 0.0878 - binary_accuracy: 0.9811 - val_loss: 0.2575 - val_binary_accuracy: 0.9367\n",
      "CPU times: user 9min 35s, sys: 27.2 s, total: 10min 3s\n",
      "Wall time: 8min 4s\n"
     ]
    }
   ],
   "source": [
    "%%time\n",
    "X_train, y_train, _ = make_subset(train_u_groups, X, y, groups, to_rgb=True)\n",
    "X_valid, y_valid, _ = make_subset(valid_u_groups, X, y, groups, to_rgb=True)\n",
    "model, data_gen = create_fit_tl_model(X_train, y_train, X_valid, y_valid, verbose=1)"
   ]
  },
  {
   "cell_type": "code",
   "execution_count": 576,
   "metadata": {},
   "outputs": [
    {
     "data": {
      "image/png": "[encoded data removed]",
      "text/plain": [
       "<matplotlib.figure.Figure at 0x7f72dc0082e8>"
      ]
     },
     "metadata": {},
     "output_type": "display_data"
    }
   ],
   "source": [
    "plot_learning_graph([model.history.history], 1)"
   ]
  },
  {
   "cell_type": "code",
   "execution_count": 577,
   "metadata": {},
   "outputs": [
    {
     "name": "stdout",
     "output_type": "stream",
     "text": [
      "3702/3702 [==============================] - 4s 1ms/step\n"
     ]
    },
    {
     "data": {
      "text/html": [
       "<div>\n",
       "<style>\n",
       "    .dataframe thead tr:only-child th {\n",
       "        text-align: right;\n",
       "    }\n",
       "\n",
       "    .dataframe thead th {\n",
       "        text-align: left;\n",
       "    }\n",
       "\n",
       "    .dataframe tbody tr th {\n",
       "        vertical-align: top;\n",
       "    }\n",
       "</style>\n",
       "<table border=\"1\" class=\"dataframe\">\n",
       "  <thead>\n",
       "    <tr style=\"text-align: right;\">\n",
       "      <th></th>\n",
       "      <th>f1</th>\n",
       "      <th>prec</th>\n",
       "      <th>recall</th>\n",
       "      <th>acc</th>\n",
       "    </tr>\n",
       "  </thead>\n",
       "  <tbody>\n",
       "    <tr>\n",
       "      <th>on</th>\n",
       "      <td>0.983407</td>\n",
       "      <td>0.973180</td>\n",
       "      <td>0.993851</td>\n",
       "      <td>0.983793</td>\n",
       "    </tr>\n",
       "    <tr>\n",
       "      <th>off</th>\n",
       "      <td>0.984161</td>\n",
       "      <td>0.994133</td>\n",
       "      <td>0.974386</td>\n",
       "      <td>0.983793</td>\n",
       "    </tr>\n",
       "  </tbody>\n",
       "</table>\n",
       "</div>"
      ],
      "text/plain": [
       "           f1      prec    recall       acc\n",
       "on   0.983407  0.973180  0.993851  0.983793\n",
       "off  0.984161  0.994133  0.974386  0.983793"
      ]
     },
     "execution_count": 577,
     "metadata": {},
     "output_type": "execute_result"
    }
   ],
   "source": [
    "X_test, y_test, _ = make_subset(test_u_groups, X, y, groups, to_rgb=True)\n",
    "evaluate_model(X_test, y_test, model, data_gen)"
   ]
  },
  {
   "cell_type": "markdown",
   "metadata": {
    "collapsed": true
   },
   "source": [
    "---"
   ]
  },
  {
   "cell_type": "markdown",
   "metadata": {
    "collapsed": true
   },
   "source": [
    "# Final Model Cross Validation"
   ]
  },
  {
   "cell_type": "code",
   "execution_count": 581,
   "metadata": {},
   "outputs": [
    {
     "data": {
      "text/plain": [
       "(67,)"
      ]
     },
     "execution_count": 581,
     "metadata": {},
     "output_type": "execute_result"
    }
   ],
   "source": [
    "np.unique(groups).shape"
   ]
  },
  {
   "cell_type": "code",
   "execution_count": null,
   "metadata": {
    "scrolled": false
   },
   "outputs": [
    {
     "name": "stdout",
     "output_type": "stream",
     "text": [
      "Fold: 0 (17769,) (476,)\n",
      "Attempt: 0\n"
     ]
    }
   ],
   "source": [
    "%%time\n",
    "\n",
    "# folds = 5\n",
    "folds = 67\n",
    "break_after_first_fold = False\n",
    "attempts = 1\n",
    "\n",
    "cv_metrics = []\n",
    "history_list = []\n",
    "\n",
    "X_rgb = convert_to_rgb(X)\n",
    "\n",
    "gkfold = GroupKFold(n_splits=folds)\n",
    "for fold_i, (train_inds, valid_inds) in enumerate(gkfold.split(X_rgb, y, groups)):\n",
    "    print(f'Fold: {fold_i}', train_inds.shape, valid_inds.shape)\n",
    "    \n",
    "    X_train, y_train = X_rgb[train_inds], y[train_inds]\n",
    "    X_valid, y_valid = X_rgb[valid_inds], y[valid_inds]\n",
    "    \n",
    "    y_pred_avg = np.zeros(y_valid.shape)\n",
    "    for i in range(attempts):\n",
    "        print(f'Attempt: {i}')\n",
    "        \n",
    "        model, data_gen = create_fit_tl_model(X_train, y_train)\n",
    "        history_list.append(model.history.history)\n",
    "        \n",
    "        y_pred = model.predict(data_gen.standardize(X_valid), verbose=0)\n",
    "        y_pred_avg += y_pred\n",
    "        \n",
    "        metrics = calc_metrics(y_valid, y_pred)\n",
    "        metrics['fold'] = fold_i\n",
    "        metrics['attempt'] = i\n",
    "        cv_metrics.append(metrics)\n",
    "\n",
    "        print(metrics)\n",
    "        print()\n",
    "    \n",
    "    print('Averaged')\n",
    "    y_pred_avg /= attempts\n",
    "    metrics = calc_metrics(y_valid, y_pred_avg)\n",
    "    metrics['fold'] = fold_i\n",
    "    metrics['attempt'] = 'avg'\n",
    "    cv_metrics.append(metrics)  \n",
    "    print(metrics)\n",
    "    print()\n",
    "\n",
    "    if break_after_first_fold:\n",
    "        break\n",
    "\n",
    "metrics_df = pd.concat(cv_metrics)\n",
    "metrics_df.to_msgpack('metrics_df.msgpack')\n",
    "pickle.dump(history_list, open('history_list.pkl', 'wb'))"
   ]
  },
  {
   "cell_type": "code",
   "execution_count": 566,
   "metadata": {},
   "outputs": [
    {
     "data": {
      "text/html": [
       "<div>\n",
       "<style>\n",
       "    .dataframe thead tr:only-child th {\n",
       "        text-align: right;\n",
       "    }\n",
       "\n",
       "    .dataframe thead th {\n",
       "        text-align: left;\n",
       "    }\n",
       "\n",
       "    .dataframe tbody tr th {\n",
       "        vertical-align: top;\n",
       "    }\n",
       "</style>\n",
       "<table border=\"1\" class=\"dataframe\">\n",
       "  <thead>\n",
       "    <tr style=\"text-align: right;\">\n",
       "      <th></th>\n",
       "      <th>mean</th>\n",
       "      <th>std</th>\n",
       "    </tr>\n",
       "  </thead>\n",
       "  <tbody>\n",
       "    <tr>\n",
       "      <th>f1</th>\n",
       "      <td>0.965716</td>\n",
       "      <td>0.016749</td>\n",
       "    </tr>\n",
       "    <tr>\n",
       "      <th>prec</th>\n",
       "      <td>0.948214</td>\n",
       "      <td>0.035457</td>\n",
       "    </tr>\n",
       "    <tr>\n",
       "      <th>recall</th>\n",
       "      <td>0.984587</td>\n",
       "      <td>0.007608</td>\n",
       "    </tr>\n",
       "    <tr>\n",
       "      <th>acc</th>\n",
       "      <td>0.968879</td>\n",
       "      <td>0.014626</td>\n",
       "    </tr>\n",
       "    <tr>\n",
       "      <th>fold</th>\n",
       "      <td>2.000000</td>\n",
       "      <td>1.581139</td>\n",
       "    </tr>\n",
       "  </tbody>\n",
       "</table>\n",
       "</div>"
      ],
      "text/plain": [
       "            mean       std\n",
       "f1      0.965716  0.016749\n",
       "prec    0.948214  0.035457\n",
       "recall  0.984587  0.007608\n",
       "acc     0.968879  0.014626\n",
       "fold    2.000000  1.581139"
      ]
     },
     "execution_count": 566,
     "metadata": {},
     "output_type": "execute_result"
    }
   ],
   "source": [
    "# df = metrics_df.loc['off']\n",
    "metrics_df[metrics_df.attempt == 'avg'].loc['off'].agg([np.mean, np.std]).T"
   ]
  },
  {
   "cell_type": "code",
   "execution_count": 567,
   "metadata": {
    "scrolled": true
   },
   "outputs": [
    {
     "data": {
      "text/html": [
       "<div>\n",
       "<style>\n",
       "    .dataframe thead tr:only-child th {\n",
       "        text-align: right;\n",
       "    }\n",
       "\n",
       "    .dataframe thead th {\n",
       "        text-align: left;\n",
       "    }\n",
       "\n",
       "    .dataframe tbody tr th {\n",
       "        vertical-align: top;\n",
       "    }\n",
       "</style>\n",
       "<table border=\"1\" class=\"dataframe\">\n",
       "  <thead>\n",
       "    <tr style=\"text-align: right;\">\n",
       "      <th></th>\n",
       "      <th>mean</th>\n",
       "      <th>std</th>\n",
       "    </tr>\n",
       "  </thead>\n",
       "  <tbody>\n",
       "    <tr>\n",
       "      <th>f1</th>\n",
       "      <td>0.971434</td>\n",
       "      <td>0.013042</td>\n",
       "    </tr>\n",
       "    <tr>\n",
       "      <th>prec</th>\n",
       "      <td>0.987144</td>\n",
       "      <td>0.005875</td>\n",
       "    </tr>\n",
       "    <tr>\n",
       "      <th>recall</th>\n",
       "      <td>0.956648</td>\n",
       "      <td>0.028447</td>\n",
       "    </tr>\n",
       "    <tr>\n",
       "      <th>acc</th>\n",
       "      <td>0.968933</td>\n",
       "      <td>0.014606</td>\n",
       "    </tr>\n",
       "    <tr>\n",
       "      <th>fold</th>\n",
       "      <td>2.000000</td>\n",
       "      <td>1.581139</td>\n",
       "    </tr>\n",
       "  </tbody>\n",
       "</table>\n",
       "</div>"
      ],
      "text/plain": [
       "            mean       std\n",
       "f1      0.971434  0.013042\n",
       "prec    0.987144  0.005875\n",
       "recall  0.956648  0.028447\n",
       "acc     0.968933  0.014606\n",
       "fold    2.000000  1.581139"
      ]
     },
     "execution_count": 567,
     "metadata": {},
     "output_type": "execute_result"
    }
   ],
   "source": [
    "# df = metrics_df.loc['on']\n",
    "metrics_df[metrics_df.attempt == 'avg'].loc['on'].agg([np.mean, np.std]).T"
   ]
  },
  {
   "cell_type": "code",
   "execution_count": 568,
   "metadata": {},
   "outputs": [
    {
     "data": {
      "text/html": [
       "<div>\n",
       "<style>\n",
       "    .dataframe thead tr:only-child th {\n",
       "        text-align: right;\n",
       "    }\n",
       "\n",
       "    .dataframe thead th {\n",
       "        text-align: left;\n",
       "    }\n",
       "\n",
       "    .dataframe tbody tr th {\n",
       "        vertical-align: top;\n",
       "    }\n",
       "</style>\n",
       "<table border=\"1\" class=\"dataframe\">\n",
       "  <thead>\n",
       "    <tr>\n",
       "      <th></th>\n",
       "      <th colspan=\"2\" halign=\"left\">f1</th>\n",
       "      <th colspan=\"2\" halign=\"left\">prec</th>\n",
       "      <th colspan=\"2\" halign=\"left\">recall</th>\n",
       "      <th colspan=\"2\" halign=\"left\">acc</th>\n",
       "      <th colspan=\"2\" halign=\"left\">fold</th>\n",
       "    </tr>\n",
       "    <tr>\n",
       "      <th></th>\n",
       "      <th>mean</th>\n",
       "      <th>std</th>\n",
       "      <th>mean</th>\n",
       "      <th>std</th>\n",
       "      <th>mean</th>\n",
       "      <th>std</th>\n",
       "      <th>mean</th>\n",
       "      <th>std</th>\n",
       "      <th>mean</th>\n",
       "      <th>std</th>\n",
       "    </tr>\n",
       "  </thead>\n",
       "  <tbody>\n",
       "    <tr>\n",
       "      <th>off</th>\n",
       "      <td>0.965716</td>\n",
       "      <td>0.016749</td>\n",
       "      <td>0.948214</td>\n",
       "      <td>0.035457</td>\n",
       "      <td>0.984587</td>\n",
       "      <td>0.007608</td>\n",
       "      <td>0.968879</td>\n",
       "      <td>0.014626</td>\n",
       "      <td>2</td>\n",
       "      <td>1.581139</td>\n",
       "    </tr>\n",
       "    <tr>\n",
       "      <th>on</th>\n",
       "      <td>0.971434</td>\n",
       "      <td>0.013042</td>\n",
       "      <td>0.987144</td>\n",
       "      <td>0.005875</td>\n",
       "      <td>0.956648</td>\n",
       "      <td>0.028447</td>\n",
       "      <td>0.968933</td>\n",
       "      <td>0.014606</td>\n",
       "      <td>2</td>\n",
       "      <td>1.581139</td>\n",
       "    </tr>\n",
       "  </tbody>\n",
       "</table>\n",
       "</div>"
      ],
      "text/plain": [
       "           f1                prec              recall                 acc  \\\n",
       "         mean       std      mean       std      mean       std      mean   \n",
       "off  0.965716  0.016749  0.948214  0.035457  0.984587  0.007608  0.968879   \n",
       "on   0.971434  0.013042  0.987144  0.005875  0.956648  0.028447  0.968933   \n",
       "\n",
       "              fold            \n",
       "          std mean       std  \n",
       "off  0.014626    2  1.581139  \n",
       "on   0.014606    2  1.581139  "
      ]
     },
     "execution_count": 568,
     "metadata": {},
     "output_type": "execute_result"
    }
   ],
   "source": [
    "df = metrics_df[metrics_df.attempt == 'avg']\n",
    "df.groupby(df.index).agg([np.mean, np.std])"
   ]
  },
  {
   "cell_type": "code",
   "execution_count": null,
   "metadata": {
    "collapsed": true
   },
   "outputs": [],
   "source": []
  },
  {
   "cell_type": "code",
   "execution_count": null,
   "metadata": {
    "collapsed": true
   },
   "outputs": [],
   "source": []
  },
  {
   "cell_type": "code",
   "execution_count": 343,
   "metadata": {
    "collapsed": true
   },
   "outputs": [],
   "source": [
    "# metrics_df[['f1', 'precision', 'recall']].groupby(metrics_df.index).agg((np.mean, np.std))"
   ]
  },
  {
   "cell_type": "code",
   "execution_count": 350,
   "metadata": {},
   "outputs": [
    {
     "data": {
      "text/html": [
       "<div>\n",
       "<style>\n",
       "    .dataframe thead tr:only-child th {\n",
       "        text-align: right;\n",
       "    }\n",
       "\n",
       "    .dataframe thead th {\n",
       "        text-align: left;\n",
       "    }\n",
       "\n",
       "    .dataframe tbody tr th {\n",
       "        vertical-align: top;\n",
       "    }\n",
       "</style>\n",
       "<table border=\"1\" class=\"dataframe\">\n",
       "  <thead>\n",
       "    <tr style=\"text-align: right;\">\n",
       "      <th></th>\n",
       "      <th>f1</th>\n",
       "      <th>prec</th>\n",
       "      <th>recall</th>\n",
       "      <th>fold</th>\n",
       "      <th>attempt</th>\n",
       "    </tr>\n",
       "  </thead>\n",
       "  <tbody>\n",
       "    <tr>\n",
       "      <th>off</th>\n",
       "      <td>0.863898</td>\n",
       "      <td>0.991649</td>\n",
       "      <td>0.765306</td>\n",
       "      <td>0</td>\n",
       "      <td>0</td>\n",
       "    </tr>\n",
       "    <tr>\n",
       "      <th>off</th>\n",
       "      <td>0.947672</td>\n",
       "      <td>0.969918</td>\n",
       "      <td>0.926423</td>\n",
       "      <td>0</td>\n",
       "      <td>1</td>\n",
       "    </tr>\n",
       "    <tr>\n",
       "      <th>off</th>\n",
       "      <td>0.879392</td>\n",
       "      <td>0.788085</td>\n",
       "      <td>0.994629</td>\n",
       "      <td>0</td>\n",
       "      <td>2</td>\n",
       "    </tr>\n",
       "    <tr>\n",
       "      <th>off</th>\n",
       "      <td>0.943074</td>\n",
       "      <td>0.968847</td>\n",
       "      <td>0.918636</td>\n",
       "      <td>0</td>\n",
       "      <td>3</td>\n",
       "    </tr>\n",
       "    <tr>\n",
       "      <th>off</th>\n",
       "      <td>0.959574</td>\n",
       "      <td>0.976376</td>\n",
       "      <td>0.943340</td>\n",
       "      <td>0</td>\n",
       "      <td>4</td>\n",
       "    </tr>\n",
       "    <tr>\n",
       "      <th>off</th>\n",
       "      <td>0.796092</td>\n",
       "      <td>0.664098</td>\n",
       "      <td>0.993571</td>\n",
       "      <td>1</td>\n",
       "      <td>0</td>\n",
       "    </tr>\n",
       "    <tr>\n",
       "      <th>off</th>\n",
       "      <td>0.911104</td>\n",
       "      <td>0.876485</td>\n",
       "      <td>0.948570</td>\n",
       "      <td>1</td>\n",
       "      <td>1</td>\n",
       "    </tr>\n",
       "    <tr>\n",
       "      <th>off</th>\n",
       "      <td>0.886175</td>\n",
       "      <td>0.922523</td>\n",
       "      <td>0.852583</td>\n",
       "      <td>1</td>\n",
       "      <td>2</td>\n",
       "    </tr>\n",
       "    <tr>\n",
       "      <th>off</th>\n",
       "      <td>0.899910</td>\n",
       "      <td>0.821024</td>\n",
       "      <td>0.995566</td>\n",
       "      <td>1</td>\n",
       "      <td>3</td>\n",
       "    </tr>\n",
       "    <tr>\n",
       "      <th>off</th>\n",
       "      <td>0.918908</td>\n",
       "      <td>0.864258</td>\n",
       "      <td>0.980935</td>\n",
       "      <td>1</td>\n",
       "      <td>4</td>\n",
       "    </tr>\n",
       "  </tbody>\n",
       "</table>\n",
       "</div>"
      ],
      "text/plain": [
       "           f1      prec    recall  fold attempt\n",
       "off  0.863898  0.991649  0.765306     0       0\n",
       "off  0.947672  0.969918  0.926423     0       1\n",
       "off  0.879392  0.788085  0.994629     0       2\n",
       "off  0.943074  0.968847  0.918636     0       3\n",
       "off  0.959574  0.976376  0.943340     0       4\n",
       "off  0.796092  0.664098  0.993571     1       0\n",
       "off  0.911104  0.876485  0.948570     1       1\n",
       "off  0.886175  0.922523  0.852583     1       2\n",
       "off  0.899910  0.821024  0.995566     1       3\n",
       "off  0.918908  0.864258  0.980935     1       4"
      ]
     },
     "execution_count": 350,
     "metadata": {},
     "output_type": "execute_result"
    }
   ],
   "source": [
    "df = metrics_df.loc['off']\n",
    "df[df.attempt != 'avg'][['f1', 'prec', 'recall', 'fold', 'attempt']]"
   ]
  },
  {
   "cell_type": "code",
   "execution_count": 349,
   "metadata": {},
   "outputs": [
    {
     "data": {
      "text/html": [
       "<div>\n",
       "<style>\n",
       "    .dataframe thead tr:only-child th {\n",
       "        text-align: right;\n",
       "    }\n",
       "\n",
       "    .dataframe thead th {\n",
       "        text-align: left;\n",
       "    }\n",
       "\n",
       "    .dataframe tbody tr th {\n",
       "        vertical-align: top;\n",
       "    }\n",
       "</style>\n",
       "<table border=\"1\" class=\"dataframe\">\n",
       "  <thead>\n",
       "    <tr style=\"text-align: right;\">\n",
       "      <th></th>\n",
       "      <th>f1</th>\n",
       "      <th>prec_recall_score</th>\n",
       "      <th>prec</th>\n",
       "      <th>recall</th>\n",
       "      <th>acc</th>\n",
       "      <th>fold</th>\n",
       "      <th>attempt</th>\n",
       "    </tr>\n",
       "  </thead>\n",
       "  <tbody>\n",
       "    <tr>\n",
       "      <th>on</th>\n",
       "      <td>0.922493</td>\n",
       "      <td>0.993909</td>\n",
       "      <td>0.859440</td>\n",
       "      <td>0.995529</td>\n",
       "      <td>0.901232</td>\n",
       "      <td>0</td>\n",
       "      <td>0</td>\n",
       "    </tr>\n",
       "    <tr>\n",
       "      <th>on</th>\n",
       "      <td>0.965055</td>\n",
       "      <td>0.994483</td>\n",
       "      <td>0.950497</td>\n",
       "      <td>0.980067</td>\n",
       "      <td>0.958095</td>\n",
       "      <td>0</td>\n",
       "      <td>1</td>\n",
       "    </tr>\n",
       "    <tr>\n",
       "      <th>on</th>\n",
       "      <td>0.895902</td>\n",
       "      <td>0.987037</td>\n",
       "      <td>0.995446</td>\n",
       "      <td>0.814456</td>\n",
       "      <td>0.888253</td>\n",
       "      <td>0</td>\n",
       "      <td>2</td>\n",
       "    </tr>\n",
       "    <tr>\n",
       "      <th>on</th>\n",
       "      <td>0.962211</td>\n",
       "      <td>0.993573</td>\n",
       "      <td>0.945513</td>\n",
       "      <td>0.979508</td>\n",
       "      <td>0.954575</td>\n",
       "      <td>0</td>\n",
       "      <td>3</td>\n",
       "    </tr>\n",
       "    <tr>\n",
       "      <th>on</th>\n",
       "      <td>0.972749</td>\n",
       "      <td>0.995736</td>\n",
       "      <td>0.961594</td>\n",
       "      <td>0.984165</td>\n",
       "      <td>0.967444</td>\n",
       "      <td>0</td>\n",
       "      <td>4</td>\n",
       "    </tr>\n",
       "    <tr>\n",
       "      <th>on</th>\n",
       "      <td>0.973791</td>\n",
       "      <td>0.996368</td>\n",
       "      <td>0.964887</td>\n",
       "      <td>0.982861</td>\n",
       "      <td>0.968764</td>\n",
       "      <td>0</td>\n",
       "      <td>avg</td>\n",
       "    </tr>\n",
       "    <tr>\n",
       "      <th>on</th>\n",
       "      <td>0.674141</td>\n",
       "      <td>0.962543</td>\n",
       "      <td>0.987937</td>\n",
       "      <td>0.511633</td>\n",
       "      <td>0.749153</td>\n",
       "      <td>1</td>\n",
       "      <td>0</td>\n",
       "    </tr>\n",
       "    <tr>\n",
       "      <th>on</th>\n",
       "      <td>0.906317</td>\n",
       "      <td>0.976876</td>\n",
       "      <td>0.945680</td>\n",
       "      <td>0.870099</td>\n",
       "      <td>0.908773</td>\n",
       "      <td>1</td>\n",
       "      <td>1</td>\n",
       "    </tr>\n",
       "    <tr>\n",
       "      <th>on</th>\n",
       "      <td>0.897361</td>\n",
       "      <td>0.969322</td>\n",
       "      <td>0.866573</td>\n",
       "      <td>0.930418</td>\n",
       "      <td>0.892057</td>\n",
       "      <td>1</td>\n",
       "      <td>2</td>\n",
       "    </tr>\n",
       "    <tr>\n",
       "      <th>on</th>\n",
       "      <td>0.880000</td>\n",
       "      <td>0.983777</td>\n",
       "      <td>0.994570</td>\n",
       "      <td>0.789100</td>\n",
       "      <td>0.890855</td>\n",
       "      <td>1</td>\n",
       "      <td>3</td>\n",
       "    </tr>\n",
       "    <tr>\n",
       "      <th>on</th>\n",
       "      <td>0.909971</td>\n",
       "      <td>0.988557</td>\n",
       "      <td>0.978676</td>\n",
       "      <td>0.850280</td>\n",
       "      <td>0.914673</td>\n",
       "      <td>1</td>\n",
       "      <td>4</td>\n",
       "    </tr>\n",
       "    <tr>\n",
       "      <th>on</th>\n",
       "      <td>0.907252</td>\n",
       "      <td>0.984965</td>\n",
       "      <td>0.985109</td>\n",
       "      <td>0.840801</td>\n",
       "      <td>0.912815</td>\n",
       "      <td>1</td>\n",
       "      <td>avg</td>\n",
       "    </tr>\n",
       "  </tbody>\n",
       "</table>\n",
       "</div>"
      ],
      "text/plain": [
       "          f1  prec_recall_score      prec    recall       acc  fold attempt\n",
       "on  0.922493           0.993909  0.859440  0.995529  0.901232     0       0\n",
       "on  0.965055           0.994483  0.950497  0.980067  0.958095     0       1\n",
       "on  0.895902           0.987037  0.995446  0.814456  0.888253     0       2\n",
       "on  0.962211           0.993573  0.945513  0.979508  0.954575     0       3\n",
       "on  0.972749           0.995736  0.961594  0.984165  0.967444     0       4\n",
       "on  0.973791           0.996368  0.964887  0.982861  0.968764     0     avg\n",
       "on  0.674141           0.962543  0.987937  0.511633  0.749153     1       0\n",
       "on  0.906317           0.976876  0.945680  0.870099  0.908773     1       1\n",
       "on  0.897361           0.969322  0.866573  0.930418  0.892057     1       2\n",
       "on  0.880000           0.983777  0.994570  0.789100  0.890855     1       3\n",
       "on  0.909971           0.988557  0.978676  0.850280  0.914673     1       4\n",
       "on  0.907252           0.984965  0.985109  0.840801  0.912815     1     avg"
      ]
     },
     "execution_count": 349,
     "metadata": {},
     "output_type": "execute_result"
    }
   ],
   "source": [
    "metrics_df.loc['on']"
   ]
  },
  {
   "cell_type": "code",
   "execution_count": null,
   "metadata": {
    "collapsed": true
   },
   "outputs": [],
   "source": []
  },
  {
   "cell_type": "code",
   "execution_count": 237,
   "metadata": {
    "collapsed": true
   },
   "outputs": [],
   "source": []
  },
  {
   "cell_type": "code",
   "execution_count": 238,
   "metadata": {
    "collapsed": true
   },
   "outputs": [],
   "source": []
  },
  {
   "cell_type": "code",
   "execution_count": null,
   "metadata": {
    "collapsed": true
   },
   "outputs": [],
   "source": []
  },
  {
   "cell_type": "markdown",
   "metadata": {},
   "source": [
    "---"
   ]
  }
 ],
 "metadata": {
  "kernelspec": {
   "display_name": "off-smpl",
   "language": "python",
   "name": "off-smpl"
  },
  "language_info": {
   "codemirror_mode": {
    "name": "ipython",
    "version": 3
   },
   "file_extension": ".py",
   "mimetype": "text/x-python",
   "name": "python",
   "nbconvert_exporter": "python",
   "pygments_lexer": "ipython3",
   "version": "3.6.1"
  }
 },
 "nbformat": 4,
 "nbformat_minor": 2
}
