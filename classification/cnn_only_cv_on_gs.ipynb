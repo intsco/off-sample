{
 "cells": [
  {
   "cell_type": "markdown",
   "metadata": {},
   "source": [
    "# Set Up"
   ]
  },
  {
   "cell_type": "code",
   "execution_count": 8,
   "metadata": {},
   "outputs": [],
   "source": [
    "import off_sample_utils as utils"
   ]
  },
  {
   "cell_type": "code",
   "execution_count": 9,
   "metadata": {},
   "outputs": [
    {
     "name": "stdout",
     "output_type": "stream",
     "text": [
      "1.12.0\n",
      "name: \"/device:CPU:0\"\n",
      "device_type: \"CPU\"\n",
      "memory_limit: 268435456\n",
      "locality {\n",
      "}\n",
      "incarnation: 14135432450729868661\n",
      "\n",
      "name: \"/device:XLA_GPU:0\"\n",
      "device_type: \"XLA_GPU\"\n",
      "memory_limit: 17179869184\n",
      "locality {\n",
      "}\n",
      "incarnation: 12094878319910897147\n",
      "physical_device_desc: \"device: XLA_GPU device\"\n",
      "\n",
      "name: \"/device:XLA_CPU:0\"\n",
      "device_type: \"XLA_CPU\"\n",
      "memory_limit: 17179869184\n",
      "locality {\n",
      "}\n",
      "incarnation: 7892318722688490866\n",
      "physical_device_desc: \"device: XLA_CPU device\"\n",
      "\n",
      "name: \"/device:GPU:0\"\n",
      "device_type: \"GPU\"\n",
      "memory_limit: 11281553818\n",
      "locality {\n",
      "  bus_id: 1\n",
      "  links {\n",
      "  }\n",
      "}\n",
      "incarnation: 15270162979022582801\n",
      "physical_device_desc: \"device: 0, name: Tesla K80, pci bus id: 0000:00:1e.0, compute capability: 3.7\"\n",
      "\n"
     ]
    }
   ],
   "source": [
    "utils.check_tf_dev()"
   ]
  },
  {
   "cell_type": "code",
   "execution_count": 10,
   "metadata": {},
   "outputs": [
    {
     "data": {
      "text/plain": [
       "('2.2.4', '0.23.4', '1.12.1', '2.0.2', '0.20.0')"
      ]
     },
     "execution_count": 10,
     "metadata": {},
     "output_type": "execute_result"
    }
   ],
   "source": [
    "import keras\n",
    "import numpy as np\n",
    "import pandas as pd\n",
    "import sklearn\n",
    "import matplotlib\n",
    "keras.__version__, pd.__version__, np.__version__, matplotlib.__version__, sklearn.__version__"
   ]
  },
  {
   "cell_type": "code",
   "execution_count": 18,
   "metadata": {},
   "outputs": [],
   "source": [
    "from pathlib import Path\n",
    "IMAGE_SHAPE = (64, 64)  # reshape all ion images to this size\n",
    "gs_path = Path('./GS/raw_images')"
   ]
  },
  {
   "cell_type": "markdown",
   "metadata": {},
   "source": [
    "# Load Data"
   ]
  },
  {
   "cell_type": "code",
   "execution_count": 14,
   "metadata": {},
   "outputs": [
    {
     "data": {
      "text/plain": [
       "66"
      ]
     },
     "execution_count": 14,
     "metadata": {},
     "output_type": "execute_result"
    }
   ],
   "source": [
    "# all_paths contains paths to rectangular datasets in the GS\n",
    "all_paths = utils.get_ds_paths(gs_path)\n",
    "# unique groups (dataset names) in the data\n",
    "u_groups = list(range(len(all_paths)))\n",
    "len(u_groups)"
   ]
  },
  {
   "cell_type": "code",
   "execution_count": 17,
   "metadata": {},
   "outputs": [
    {
     "name": "stdout",
     "output_type": "stream",
     "text": [
      "Loading iso image dataset...\n",
      "(18038, 64, 64, 1)\n"
     ]
    }
   ],
   "source": [
    "print('Loading iso image dataset...')\n",
    "X, y, groups = utils.load_img_X_y_groups(all_paths, image_shape=IMAGE_SHAPE)\n",
    "print(X.shape)"
   ]
  },
  {
   "cell_type": "markdown",
   "metadata": {},
   "source": [
    "# Cross Validation"
   ]
  },
  {
   "cell_type": "code",
   "execution_count": 28,
   "metadata": {},
   "outputs": [],
   "source": [
    "import sklearn\n",
    "import pickle"
   ]
  },
  {
   "cell_type": "code",
   "execution_count": 41,
   "metadata": {
    "scrolled": true
   },
   "outputs": [],
   "source": [
    "# %%time\n",
    "# utils = reload(utils)\n",
    "\n",
    "break_after_first_fold = False\n",
    "\n",
    "folds = 5  # number of CV folds\n",
    "attempts = 5  # to train a CNN on the same data multiple times\n",
    "\n",
    "cv_metrics = []\n",
    "history_list = []\n",
    "\n",
    "cv = sklearn.model_selection.GroupKFold(n_splits=folds)\n",
    "for fold_i, (train_inds, test_inds) in enumerate(cv.split(u_groups, groups=u_groups)):\n",
    "    print(f'Fold: {fold_i}', train_inds.shape, test_inds.shape)\n",
    "    train_u_groups, test_u_groups = train_inds, test_inds\n",
    "    \n",
    "    X_train, y_train, groups_train = utils.make_subset(train_u_groups, X, y, groups)\n",
    "    X_test, y_test, groups_test = utils.make_subset(test_u_groups, X, y, groups)\n",
    "    \n",
    "    y_test_pred_avg = np.zeros_like(y_test, dtype=np.float32)\n",
    "    for attempt_i in range(attempts):\n",
    "        print(f'Attempt: {attempt_i}')\n",
    "        \n",
    "        epochs = 15\n",
    "        # CNN architecture is defined in off_sample_utils.model module (create_cnn)\n",
    "        model_cnn = utils.KerasCNN(image_shape=IMAGE_SHAPE)\n",
    "        history = model_cnn.fit(X_train, y_train,\n",
    "                                epochs=epochs, batch_size=32, seed=13)\n",
    "        history_list.append(history.history)\n",
    "        y_test_pred = model_cnn.predict(X_test, load_best=False)\n",
    "        y_test_pred_avg += y_test_pred\n",
    "\n",
    "        metrics = utils.calc_metrics(y_test, y_test_pred)\n",
    "        metrics['fold'] = fold_i\n",
    "        metrics['attempt'] = attempt_i\n",
    "        cv_metrics.append(metrics)\n",
    "        print(metrics, end='\\n\\n')\n",
    "    \n",
    "    y_test_pred_avg /= attempts\n",
    "    metrics = utils.calc_metrics(y_test, y_test_pred_avg)\n",
    "    metrics['fold'] = fold_i\n",
    "    metrics['attempt'] = 'avg'\n",
    "    cv_metrics.append(metrics)\n",
    "    print(metrics, end='\\n\\n')\n",
    "\n",
    "    if break_after_first_fold:\n",
    "        break\n",
    "\n",
    "metrics_df = pd.concat(cv_metrics)\n",
    "metrics_df.to_msgpack('metrics_df.msgpack')\n",
    "pickle.dump(history_list, open('history_list.pkl', 'wb'))"
   ]
  },
  {
   "cell_type": "code",
   "execution_count": 39,
   "metadata": {},
   "outputs": [
    {
     "data": {
      "text/html": [
       "<div>\n",
       "<style scoped>\n",
       "    .dataframe tbody tr th:only-of-type {\n",
       "        vertical-align: middle;\n",
       "    }\n",
       "\n",
       "    .dataframe tbody tr th {\n",
       "        vertical-align: top;\n",
       "    }\n",
       "\n",
       "    .dataframe thead th {\n",
       "        text-align: right;\n",
       "    }\n",
       "</style>\n",
       "<table border=\"1\" class=\"dataframe\">\n",
       "  <thead>\n",
       "    <tr style=\"text-align: right;\">\n",
       "      <th></th>\n",
       "      <th>f1</th>\n",
       "      <th>prec</th>\n",
       "      <th>recall</th>\n",
       "      <th>acc</th>\n",
       "      <th>fold</th>\n",
       "      <th>attempt</th>\n",
       "    </tr>\n",
       "  </thead>\n",
       "  <tbody>\n",
       "    <tr>\n",
       "      <th>on</th>\n",
       "      <td>0.972973</td>\n",
       "      <td>0.985075</td>\n",
       "      <td>0.961165</td>\n",
       "      <td>0.968766</td>\n",
       "      <td>0</td>\n",
       "      <td>avg</td>\n",
       "    </tr>\n",
       "    <tr>\n",
       "      <th>off</th>\n",
       "      <td>0.963008</td>\n",
       "      <td>0.947084</td>\n",
       "      <td>0.979478</td>\n",
       "      <td>0.968766</td>\n",
       "      <td>0</td>\n",
       "      <td>avg</td>\n",
       "    </tr>\n",
       "    <tr>\n",
       "      <th>on</th>\n",
       "      <td>0.957615</td>\n",
       "      <td>0.927520</td>\n",
       "      <td>0.989728</td>\n",
       "      <td>0.952937</td>\n",
       "      <td>1</td>\n",
       "      <td>avg</td>\n",
       "    </tr>\n",
       "    <tr>\n",
       "      <th>off</th>\n",
       "      <td>0.947100</td>\n",
       "      <td>0.987072</td>\n",
       "      <td>0.910238</td>\n",
       "      <td>0.952937</td>\n",
       "      <td>1</td>\n",
       "      <td>avg</td>\n",
       "    </tr>\n",
       "    <tr>\n",
       "      <th>on</th>\n",
       "      <td>0.941823</td>\n",
       "      <td>0.967876</td>\n",
       "      <td>0.917136</td>\n",
       "      <td>0.931188</td>\n",
       "      <td>2</td>\n",
       "      <td>avg</td>\n",
       "    </tr>\n",
       "    <tr>\n",
       "      <th>off</th>\n",
       "      <td>0.915794</td>\n",
       "      <td>0.881452</td>\n",
       "      <td>0.952921</td>\n",
       "      <td>0.931188</td>\n",
       "      <td>2</td>\n",
       "      <td>avg</td>\n",
       "    </tr>\n",
       "    <tr>\n",
       "      <th>on</th>\n",
       "      <td>0.976007</td>\n",
       "      <td>0.992784</td>\n",
       "      <td>0.959787</td>\n",
       "      <td>0.973834</td>\n",
       "      <td>3</td>\n",
       "      <td>avg</td>\n",
       "    </tr>\n",
       "    <tr>\n",
       "      <th>off</th>\n",
       "      <td>0.971228</td>\n",
       "      <td>0.951937</td>\n",
       "      <td>0.991318</td>\n",
       "      <td>0.973834</td>\n",
       "      <td>3</td>\n",
       "      <td>avg</td>\n",
       "    </tr>\n",
       "    <tr>\n",
       "      <th>on</th>\n",
       "      <td>0.991280</td>\n",
       "      <td>0.989464</td>\n",
       "      <td>0.993103</td>\n",
       "      <td>0.989912</td>\n",
       "      <td>4</td>\n",
       "      <td>avg</td>\n",
       "    </tr>\n",
       "    <tr>\n",
       "      <th>off</th>\n",
       "      <td>0.988035</td>\n",
       "      <td>0.990530</td>\n",
       "      <td>0.985553</td>\n",
       "      <td>0.989912</td>\n",
       "      <td>4</td>\n",
       "      <td>avg</td>\n",
       "    </tr>\n",
       "  </tbody>\n",
       "</table>\n",
       "</div>"
      ],
      "text/plain": [
       "           f1      prec    recall       acc  fold attempt\n",
       "on   0.972973  0.985075  0.961165  0.968766     0     avg\n",
       "off  0.963008  0.947084  0.979478  0.968766     0     avg\n",
       "on   0.957615  0.927520  0.989728  0.952937     1     avg\n",
       "off  0.947100  0.987072  0.910238  0.952937     1     avg\n",
       "on   0.941823  0.967876  0.917136  0.931188     2     avg\n",
       "off  0.915794  0.881452  0.952921  0.931188     2     avg\n",
       "on   0.976007  0.992784  0.959787  0.973834     3     avg\n",
       "off  0.971228  0.951937  0.991318  0.973834     3     avg\n",
       "on   0.991280  0.989464  0.993103  0.989912     4     avg\n",
       "off  0.988035  0.990530  0.985553  0.989912     4     avg"
      ]
     },
     "execution_count": 39,
     "metadata": {},
     "output_type": "execute_result"
    }
   ],
   "source": [
    "metrics_avg_df = metrics_df[metrics_df.attempt == 'avg']\n",
    "metrics_avg_df"
   ]
  },
  {
   "cell_type": "code",
   "execution_count": 40,
   "metadata": {},
   "outputs": [
    {
     "data": {
      "text/html": [
       "<div>\n",
       "<style scoped>\n",
       "    .dataframe tbody tr th:only-of-type {\n",
       "        vertical-align: middle;\n",
       "    }\n",
       "\n",
       "    .dataframe tbody tr th {\n",
       "        vertical-align: top;\n",
       "    }\n",
       "\n",
       "    .dataframe thead tr th {\n",
       "        text-align: left;\n",
       "    }\n",
       "</style>\n",
       "<table border=\"1\" class=\"dataframe\">\n",
       "  <thead>\n",
       "    <tr>\n",
       "      <th></th>\n",
       "      <th colspan=\"2\" halign=\"left\">f1</th>\n",
       "      <th colspan=\"2\" halign=\"left\">prec</th>\n",
       "      <th colspan=\"2\" halign=\"left\">recall</th>\n",
       "      <th colspan=\"2\" halign=\"left\">acc</th>\n",
       "      <th colspan=\"2\" halign=\"left\">fold</th>\n",
       "    </tr>\n",
       "    <tr>\n",
       "      <th></th>\n",
       "      <th>mean</th>\n",
       "      <th>std</th>\n",
       "      <th>mean</th>\n",
       "      <th>std</th>\n",
       "      <th>mean</th>\n",
       "      <th>std</th>\n",
       "      <th>mean</th>\n",
       "      <th>std</th>\n",
       "      <th>mean</th>\n",
       "      <th>std</th>\n",
       "    </tr>\n",
       "  </thead>\n",
       "  <tbody>\n",
       "    <tr>\n",
       "      <th>off</th>\n",
       "      <td>0.957033</td>\n",
       "      <td>0.027376</td>\n",
       "      <td>0.951615</td>\n",
       "      <td>0.043918</td>\n",
       "      <td>0.963901</td>\n",
       "      <td>0.033404</td>\n",
       "      <td>0.963328</td>\n",
       "      <td>0.022291</td>\n",
       "      <td>2</td>\n",
       "      <td>1.581139</td>\n",
       "    </tr>\n",
       "    <tr>\n",
       "      <th>on</th>\n",
       "      <td>0.967940</td>\n",
       "      <td>0.018867</td>\n",
       "      <td>0.972544</td>\n",
       "      <td>0.026935</td>\n",
       "      <td>0.964184</td>\n",
       "      <td>0.030540</td>\n",
       "      <td>0.963328</td>\n",
       "      <td>0.022291</td>\n",
       "      <td>2</td>\n",
       "      <td>1.581139</td>\n",
       "    </tr>\n",
       "  </tbody>\n",
       "</table>\n",
       "</div>"
      ],
      "text/plain": [
       "           f1                prec              recall                 acc  \\\n",
       "         mean       std      mean       std      mean       std      mean   \n",
       "off  0.957033  0.027376  0.951615  0.043918  0.963901  0.033404  0.963328   \n",
       "on   0.967940  0.018867  0.972544  0.026935  0.964184  0.030540  0.963328   \n",
       "\n",
       "              fold            \n",
       "          std mean       std  \n",
       "off  0.022291    2  1.581139  \n",
       "on   0.022291    2  1.581139  "
      ]
     },
     "execution_count": 40,
     "metadata": {},
     "output_type": "execute_result"
    }
   ],
   "source": [
    "metrics_avg_df.groupby(metrics_avg_df.index).agg([np.mean, np.std])"
   ]
  },
  {
   "cell_type": "code",
   "execution_count": null,
   "metadata": {},
   "outputs": [],
   "source": []
  }
 ],
 "metadata": {
  "kernelspec": {
   "display_name": "off-sample",
   "language": "python",
   "name": "off-sample"
  },
  "language_info": {
   "codemirror_mode": {
    "name": "ipython",
    "version": 3
   },
   "file_extension": ".py",
   "mimetype": "text/x-python",
   "name": "python",
   "nbconvert_exporter": "python",
   "pygments_lexer": "ipython3",
   "version": "3.6.1"
  }
 },
 "nbformat": 4,
 "nbformat_minor": 2
}
