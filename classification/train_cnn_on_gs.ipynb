{
 "cells": [
  {
   "cell_type": "markdown",
   "metadata": {},
   "source": [
    "# Set Up"
   ]
  },
  {
   "cell_type": "code",
   "execution_count": 1,
   "metadata": {},
   "outputs": [],
   "source": [
    "%load_ext autoreload\n",
    "%autoreload 2\n",
    "from importlib import reload"
   ]
  },
  {
   "cell_type": "code",
   "execution_count": 2,
   "metadata": {},
   "outputs": [
    {
     "name": "stdout",
     "output_type": "stream",
     "text": [
      "Populating the interactive namespace from numpy and matplotlib\n"
     ]
    }
   ],
   "source": [
    "%pylab --no-import-all inline"
   ]
  },
  {
   "cell_type": "code",
   "execution_count": 3,
   "metadata": {},
   "outputs": [
    {
     "name": "stderr",
     "output_type": "stream",
     "text": [
      "/data/intsco/miniconda3/envs/off-smpl/lib/python3.6/site-packages/sklearn/utils/fixes.py:313: FutureWarning: numpy not_equal will not check object identity in the future. The comparison did not return the same result as suggested by the identity (`is`)) and will change.\n",
      "  _nan_object_mask = _nan_object_array != _nan_object_array\n",
      "Using TensorFlow backend.\n"
     ]
    }
   ],
   "source": [
    "import off_sample_utils as utils"
   ]
  },
  {
   "cell_type": "code",
   "execution_count": 4,
   "metadata": {},
   "outputs": [],
   "source": [
    "from pathlib import Path"
   ]
  },
  {
   "cell_type": "code",
   "execution_count": 5,
   "metadata": {},
   "outputs": [],
   "source": [
    "# utils.check_tf_dev()"
   ]
  },
  {
   "cell_type": "code",
   "execution_count": 6,
   "metadata": {},
   "outputs": [],
   "source": [
    "IMAGE_SHAPE = (64, 64)\n",
    "gs_path = Path('./GS/raw_images')"
   ]
  },
  {
   "cell_type": "code",
   "execution_count": 7,
   "metadata": {},
   "outputs": [
    {
     "data": {
      "text/plain": [
       "('2.2.4', '0.23.4', '1.12.1', '2.0.2', '0.20.0')"
      ]
     },
     "execution_count": 7,
     "metadata": {},
     "output_type": "execute_result"
    }
   ],
   "source": [
    "from skimage import transform\n",
    "import imageio\n",
    "import keras\n",
    "import numpy as np\n",
    "import pandas as pd\n",
    "import sklearn\n",
    "import matplotlib\n",
    "keras.__version__, pd.__version__, np.__version__, matplotlib.__version__, sklearn.__version__"
   ]
  },
  {
   "cell_type": "code",
   "execution_count": 8,
   "metadata": {},
   "outputs": [],
   "source": [
    "from sklearn.metrics import accuracy_score"
   ]
  },
  {
   "cell_type": "markdown",
   "metadata": {},
   "source": [
    "# Load Data"
   ]
  },
  {
   "cell_type": "code",
   "execution_count": 9,
   "metadata": {},
   "outputs": [],
   "source": [
    "import pickle\n",
    "from skimage import transform\n",
    "import imageio\n",
    "import warnings\n",
    "import pandas as pd"
   ]
  },
  {
   "cell_type": "code",
   "execution_count": 10,
   "metadata": {},
   "outputs": [
    {
     "data": {
      "text/plain": [
       "66"
      ]
     },
     "execution_count": 10,
     "metadata": {},
     "output_type": "execute_result"
    }
   ],
   "source": [
    "all_paths = utils.get_ds_paths(gs_path)\n",
    "u_groups = list(range(len(all_paths)))\n",
    "len(u_groups)"
   ]
  },
  {
   "cell_type": "markdown",
   "metadata": {
    "collapsed": true
   },
   "source": [
    "# Train and Test Model"
   ]
  },
  {
   "cell_type": "code",
   "execution_count": 11,
   "metadata": {},
   "outputs": [],
   "source": [
    "import pickle\n",
    "import keras\n",
    "import sklearn\n",
    "from sklearn.model_selection import GroupKFold\n",
    "from sklearn.model_selection import train_test_split\n",
    "from sklearn.metrics import (roc_curve, roc_auc_score, accuracy_score, f1_score,\n",
    "                             precision_score, recall_score, average_precision_score)"
   ]
  },
  {
   "cell_type": "code",
   "execution_count": 12,
   "metadata": {},
   "outputs": [],
   "source": [
    "def train_valid_test_split(u_groups, valid_size, test_size, random_state=13):\n",
    "    other_u_groups, test_u_groups = train_test_split(u_groups, test_size=test_size,\n",
    "                                                     random_state=random_state)\n",
    "    train_u_groups, valid_u_groups = train_test_split(other_u_groups, test_size=valid_size,\n",
    "                                                      random_state=random_state)\n",
    "    return train_u_groups, valid_u_groups, test_u_groups"
   ]
  },
  {
   "cell_type": "markdown",
   "metadata": {
    "heading_collapsed": true
   },
   "source": [
    "### Train Custom CNN"
   ]
  },
  {
   "cell_type": "code",
   "execution_count": null,
   "metadata": {
    "hidden": true
   },
   "outputs": [],
   "source": [
    "X, y, groups = utils.load_img_X_y_groups(all_paths, image_shape=IMAGE_SHAPE)"
   ]
  },
  {
   "cell_type": "code",
   "execution_count": 91,
   "metadata": {
    "hidden": true
   },
   "outputs": [],
   "source": [
    "train_u_groups, valid_u_groups, test_u_groups = \\\n",
    "    train_valid_test_split(u_groups, valid_size=0.2, test_size=0.2, random_state=13)\n",
    "\n",
    "X_train, y_train, groups_train = utils.make_subset(train_u_groups, X, y, groups)\n",
    "X_valid, y_valid, groups_valid = utils.make_subset(valid_u_groups, X, y, groups)\n",
    "X_test, y_test, groups_test = utils.make_subset(test_u_groups, X, y, groups)"
   ]
  },
  {
   "cell_type": "code",
   "execution_count": 359,
   "metadata": {
    "hidden": true
   },
   "outputs": [],
   "source": [
    "utils = reload(utils)"
   ]
  },
  {
   "cell_type": "code",
   "execution_count": 360,
   "metadata": {
    "hidden": true,
    "scrolled": true
   },
   "outputs": [
    {
     "name": "stdout",
     "output_type": "stream",
     "text": [
      "Epoch 1/1\n",
      "368/367 [==============================] - 46s 124ms/step - loss: 3.0807 - binary_accuracy: 0.8939 - val_loss: 1.4201 - val_binary_accuracy: 0.8877\n",
      "\n",
      "Epoch 00001: val_binary_accuracy improved from -inf to 0.88774, saving model to custom-cnn-weights.hdf5\n"
     ]
    }
   ],
   "source": [
    "# warnings.filterwarnings('ignore', message=r'\\bExpected input to be images\\b')\n",
    "# warnings.filterwarnings('ignore', message=r'\\bNumpyArrayIterator is set to use the data format convention\\b')\n",
    "model_cnn = utils.KerasCNN(image_shape=IMAGE_SHAPE)\n",
    "history = model_cnn.fit(X_train, y_train, X_valid, y_valid,\n",
    "                        epochs=1, batch_size=32, seed=13)\n",
    "# utils.plot_learning_graph([history.history], attempts=1)"
   ]
  },
  {
   "cell_type": "code",
   "execution_count": 361,
   "metadata": {
    "hidden": true
   },
   "outputs": [
    {
     "data": {
      "text/plain": [
       "0.95780590717299574"
      ]
     },
     "execution_count": 361,
     "metadata": {},
     "output_type": "execute_result"
    }
   ],
   "source": [
    "y_test_pred_cnn = model_cnn.predict(X_test)\n",
    "accuracy_score(y_test, y_test_pred_cnn > 0.5)"
   ]
  },
  {
   "cell_type": "code",
   "execution_count": 362,
   "metadata": {
    "hidden": true
   },
   "outputs": [
    {
     "name": "stdout",
     "output_type": "stream",
     "text": [
      "Epoch 1/1\n",
      "468/467 [==============================] - 46s 98ms/step - loss: 0.6166 - binary_accuracy: 0.9324\n"
     ]
    },
    {
     "data": {
      "text/plain": [
       "<keras.callbacks.History at 0x7f2e09796f60>"
      ]
     },
     "execution_count": 362,
     "metadata": {},
     "output_type": "execute_result"
    }
   ],
   "source": [
    "model_cnn.refit_best(np.concatenate([X_train, X_valid]), np.concatenate([y_train, y_valid]),\n",
    "                     epochs=1, batch_size=32, seed=13)"
   ]
  },
  {
   "cell_type": "code",
   "execution_count": 363,
   "metadata": {
    "hidden": true
   },
   "outputs": [
    {
     "data": {
      "text/plain": [
       "0.95845504706264195"
      ]
     },
     "execution_count": 363,
     "metadata": {},
     "output_type": "execute_result"
    }
   ],
   "source": [
    "y_test_pred_cnn = model_cnn.predict(X_test)\n",
    "accuracy_score(y_test, y_test_pred_cnn > 0.5)"
   ]
  },
  {
   "cell_type": "markdown",
   "metadata": {
    "heading_collapsed": true
   },
   "source": [
    "### Shallow NN"
   ]
  },
  {
   "cell_type": "code",
   "execution_count": 27,
   "metadata": {
    "hidden": true
   },
   "outputs": [],
   "source": [
    "# all_ds_names = [p.name for p in all_paths]"
   ]
  },
  {
   "cell_type": "code",
   "execution_count": 106,
   "metadata": {
    "hidden": true
   },
   "outputs": [
    {
     "data": {
      "text/plain": [
       "(66, 9273)"
      ]
     },
     "execution_count": 106,
     "metadata": {},
     "output_type": "execute_result"
    }
   ],
   "source": [
    "masks = {i: utils.load_mask(p) for i, p in enumerate(all_paths)}\n",
    "ions = utils.create_ion_list(all_paths)\n",
    "len(masks), len(ions)"
   ]
  },
  {
   "cell_type": "code",
   "execution_count": 107,
   "metadata": {
    "hidden": true
   },
   "outputs": [
    {
     "data": {
      "text/plain": [
       "(1285244, 9273)"
      ]
     },
     "execution_count": 107,
     "metadata": {},
     "output_type": "execute_result"
    }
   ],
   "source": [
    "X_p, y_p, groups_p = utils.prepare_pixel_xygroups(all_paths, masks, ions)\n",
    "# rand_inds = utils.random_sample_inds(X_p.shape[0], 0.1)\n",
    "# X_p, y_p, groups_p = X_p[rand_inds], y_p[rand_inds], groups_p[rand_inds]\n",
    "X_p.shape"
   ]
  },
  {
   "cell_type": "code",
   "execution_count": 108,
   "metadata": {
    "hidden": true
   },
   "outputs": [],
   "source": [
    "train_u_p_groups, valid_u_p_groups, test_u_p_groups = \\\n",
    "    train_valid_test_split(np.unique(groups_p), valid_size=0.2, test_size=0.2, random_state=13)"
   ]
  },
  {
   "cell_type": "code",
   "execution_count": 109,
   "metadata": {
    "hidden": true
   },
   "outputs": [
    {
     "data": {
      "text/plain": [
       "((41,), (11,), (14,))"
      ]
     },
     "execution_count": 109,
     "metadata": {},
     "output_type": "execute_result"
    }
   ],
   "source": [
    "train_u_p_groups.shape, valid_u_p_groups.shape, test_u_p_groups.shape"
   ]
  },
  {
   "cell_type": "code",
   "execution_count": 110,
   "metadata": {
    "hidden": true
   },
   "outputs": [
    {
     "data": {
      "text/plain": [
       "((994814, 9273), (100980, 9273), (189450, 9273))"
      ]
     },
     "execution_count": 110,
     "metadata": {},
     "output_type": "execute_result"
    }
   ],
   "source": [
    "X_p_train, y_p_train, groups_p_train = utils.make_subset(train_u_p_groups, X_p, y_p, groups_p)\n",
    "X_p_valid, y_p_valid, groups_p_valid = utils.make_subset(valid_u_p_groups, X_p, y_p, groups_p)\n",
    "X_p_test, y_p_test, groups_p_test = utils.make_subset(test_u_p_groups, X_p, y_p, groups_p)\n",
    "X_p_train.shape, X_p_valid.shape, X_p_test.shape"
   ]
  },
  {
   "cell_type": "code",
   "execution_count": 118,
   "metadata": {
    "hidden": true
   },
   "outputs": [],
   "source": [
    "# standardScaler = sklearn.preprocessing.StandardScaler(with_mean=False)\n",
    "# X_p_train = standardScaler.fit_transform(X_p_train)\n",
    "# X_p_valid = standardScaler.transform(X_p_valid)"
   ]
  },
  {
   "cell_type": "code",
   "execution_count": 140,
   "metadata": {
    "hidden": true
   },
   "outputs": [],
   "source": [
    "utils = reload(utils)"
   ]
  },
  {
   "cell_type": "code",
   "execution_count": 142,
   "metadata": {
    "hidden": true,
    "scrolled": true
   },
   "outputs": [],
   "source": [
    "model_nn = utils.KerasNN(feature_n=X_p_train.shape[-1])\n",
    "history = model_nn.fit(X_p_train, y_p_train, X_p_valid, y_p_valid,\n",
    "                       epochs=1, batch_size=512)\n",
    "# utils.plot_learning_graph([history.history], attempts=1)"
   ]
  },
  {
   "cell_type": "code",
   "execution_count": 144,
   "metadata": {
    "hidden": true
   },
   "outputs": [],
   "source": [
    "y_p_test_pred = model_nn.predict(X_p_test)\n",
    "y_test_pred_nn = utils.pixel_corr_predict(y_p_test_pred, groups_p_test, X_test, groups_test,\n",
    "                                          masks, IMAGE_SHAPE)"
   ]
  },
  {
   "cell_type": "code",
   "execution_count": 153,
   "metadata": {
    "hidden": true
   },
   "outputs": [
    {
     "data": {
      "text/plain": [
       "0.97504411394000501"
      ]
     },
     "execution_count": 153,
     "metadata": {},
     "output_type": "execute_result"
    }
   ],
   "source": [
    "accuracy_score(y_test, y_test_pred_nn > 0.5)"
   ]
  },
  {
   "cell_type": "markdown",
   "metadata": {
    "heading_collapsed": true
   },
   "source": [
    "### Logistic Regression"
   ]
  },
  {
   "cell_type": "code",
   "execution_count": 154,
   "metadata": {
    "hidden": true
   },
   "outputs": [],
   "source": [
    "utils = reload(utils)"
   ]
  },
  {
   "cell_type": "code",
   "execution_count": 156,
   "metadata": {
    "hidden": true
   },
   "outputs": [],
   "source": [
    "model_lr = utils.SKLogisticRegression()"
   ]
  },
  {
   "cell_type": "code",
   "execution_count": 157,
   "metadata": {
    "hidden": true
   },
   "outputs": [
    {
     "name": "stderr",
     "output_type": "stream",
     "text": [
      "/data/intsco/miniconda3/envs/off-smpl/lib/python3.6/site-packages/sklearn/linear_model/logistic.py:432: FutureWarning: Default solver will be changed to 'lbfgs' in 0.22. Specify a solver to silence this warning.\n",
      "  FutureWarning)\n"
     ]
    }
   ],
   "source": [
    "model_lr.fit(X_p_train, y_p_train)"
   ]
  },
  {
   "cell_type": "code",
   "execution_count": 158,
   "metadata": {
    "hidden": true
   },
   "outputs": [],
   "source": [
    "y_p_test_pred = model_lr.predict(X_p_test)\n",
    "y_test_pred_lr = utils.pixel_corr_predict(y_p_test_pred, groups_p_test, X_test, groups_test,\n",
    "                                          masks, IMAGE_SHAPE)"
   ]
  },
  {
   "cell_type": "code",
   "execution_count": 159,
   "metadata": {
    "hidden": true
   },
   "outputs": [
    {
     "data": {
      "text/plain": [
       "0.96269221073859335"
      ]
     },
     "execution_count": 159,
     "metadata": {},
     "output_type": "execute_result"
    }
   ],
   "source": [
    "accuracy_score(y_test, y_test_pred_lr > 0.5)"
   ]
  },
  {
   "cell_type": "markdown",
   "metadata": {
    "heading_collapsed": true
   },
   "source": [
    "### Blend CNN and Shallow Predictors"
   ]
  },
  {
   "cell_type": "code",
   "execution_count": 250,
   "metadata": {
    "hidden": true
   },
   "outputs": [],
   "source": [
    "utils = reload(utils)"
   ]
  },
  {
   "cell_type": "code",
   "execution_count": 251,
   "metadata": {
    "hidden": true
   },
   "outputs": [],
   "source": [
    "blender = utils.Blender(model_cnn, model_nn, model_lr, image_shape=IMAGE_SHAPE)"
   ]
  },
  {
   "cell_type": "code",
   "execution_count": 252,
   "metadata": {
    "hidden": true
   },
   "outputs": [],
   "source": [
    "blender.fit(X_valid, y_valid, groups_valid, X_p_valid, groups_p_valid, masks)"
   ]
  },
  {
   "cell_type": "code",
   "execution_count": 253,
   "metadata": {
    "hidden": true
   },
   "outputs": [],
   "source": [
    "y_test_pred = blender.predict(X_test, groups_test, X_p_test, groups_p_test, masks)"
   ]
  },
  {
   "cell_type": "code",
   "execution_count": 254,
   "metadata": {
    "hidden": true
   },
   "outputs": [
    {
     "data": {
      "text/plain": [
       "0.98689185782707334"
      ]
     },
     "execution_count": 254,
     "metadata": {},
     "output_type": "execute_result"
    }
   ],
   "source": [
    "accuracy_score(y_test, y_test_pred > 0.5)"
   ]
  },
  {
   "cell_type": "code",
   "execution_count": 255,
   "metadata": {
    "hidden": true
   },
   "outputs": [
    {
     "data": {
      "image/png": "[encoded data removed]",
      "text/plain": [
       "<matplotlib.figure.Figure at 0x7f2ee94de0b8>"
      ]
     },
     "metadata": {},
     "output_type": "display_data"
    }
   ],
   "source": [
    "plt.hist(y_blend_test_pred);"
   ]
  },
  {
   "cell_type": "code",
   "execution_count": 256,
   "metadata": {
    "hidden": true
   },
   "outputs": [
    {
     "data": {
      "text/plain": [
       "0.98689185782707334"
      ]
     },
     "execution_count": 256,
     "metadata": {},
     "output_type": "execute_result"
    }
   ],
   "source": [
    "accuracy_score(y_blend_test, blender.X_blend_test.mean(axis=1) > 0.5)"
   ]
  },
  {
   "cell_type": "code",
   "execution_count": 257,
   "metadata": {
    "hidden": true
   },
   "outputs": [
    {
     "data": {
      "image/png": "[encoded data removed]",
      "text/plain": [
       "<matplotlib.figure.Figure at 0x7f2e2bf93c50>"
      ]
     },
     "metadata": {},
     "output_type": "display_data"
    }
   ],
   "source": [
    "plt.hist(X_blend_test.mean(axis=1));"
   ]
  },
  {
   "cell_type": "code",
   "execution_count": 258,
   "metadata": {
    "hidden": true
   },
   "outputs": [
    {
     "data": {
      "text/plain": [
       "0.98764809679858834"
      ]
     },
     "execution_count": 258,
     "metadata": {},
     "output_type": "execute_result"
    }
   ],
   "source": [
    "from scipy.stats import gmean\n",
    "accuracy_score(y_blend_test, gmean(blender.X_blend_test, axis=1) > 0.5)"
   ]
  },
  {
   "cell_type": "code",
   "execution_count": 259,
   "metadata": {
    "hidden": true
   },
   "outputs": [
    {
     "data": {
      "image/png": "[encoded data removed]",
      "text/plain": [
       "<matplotlib.figure.Figure at 0x7f2e2bf09d30>"
      ]
     },
     "metadata": {},
     "output_type": "display_data"
    }
   ],
   "source": [
    "plt.hist(gmean(X_blend_test, axis=1));"
   ]
  },
  {
   "cell_type": "markdown",
   "metadata": {
    "heading_collapsed": true
   },
   "source": [
    "# Hyperparameters Random Search"
   ]
  },
  {
   "cell_type": "code",
   "execution_count": 198,
   "metadata": {
    "collapsed": true,
    "hidden": true
   },
   "outputs": [],
   "source": [
    "from keras.wrappers.scikit_learn import KerasClassifier\n",
    "from sklearn.model_selection import RandomizedSearchCV\n",
    "from sklearn.metrics import f1_score\n",
    "from sklearn.model_selection import GroupKFold"
   ]
  },
  {
   "cell_type": "code",
   "execution_count": 199,
   "metadata": {
    "collapsed": true,
    "hidden": true
   },
   "outputs": [],
   "source": [
    "# other_u_groups_sample = other_u_groups[:10]\n",
    "# train_u_groups_sample, valid_u_groups_sample = train_u_groups[:5], valid_u_groups[:2]\n",
    "# other_u_groups_sample, train_u_groups_sample, valid_u_groups_sample"
   ]
  },
  {
   "cell_type": "code",
   "execution_count": 200,
   "metadata": {
    "collapsed": true,
    "hidden": true
   },
   "outputs": [],
   "source": [
    "# X_other, y_other, groups_other = make_subset(other_u_groups, X_sample, y_sample, groups_sample)\n",
    "# X_train, y_train, groups_train = make_subset(train_u_groups_sample, X, y, groups)\n",
    "# X_valid, y_valid, groups_valid = make_subset(valid_u_groups_sample, X, y, groups)"
   ]
  },
  {
   "cell_type": "code",
   "execution_count": 201,
   "metadata": {
    "collapsed": true,
    "hidden": true
   },
   "outputs": [],
   "source": [
    "params_dist = {\n",
    "#     'batch_size': [16, 32, 64],\n",
    "    'batch_size': [32],\n",
    "#     'epochs': [5, 10, 15, 20, 25, 30],\n",
    "    'epochs': [30],\n",
    "#     'opt': [Adam(lr=1e-4), Nadam(lr=2e-3), Adamax(lr=2e-3), Adadelta(lr=1.0)],\n",
    "    'opt': [Adam(lr=1e-4)],\n",
    "#     'opt_alg': [Adam, Nadam, Adamax, Adadelta],\n",
    "#     'opt_lr': [1e-3, 1e-4, 2e-4, 1e-5],\n",
    "#     'opt_lr': [5e-5],\n",
    "#     'l1_a': [1e-1, 1e-2, 1e-3, 1e-4, 0],\n",
    "#     'l2_a': [1e-1, 1e-2, 1e-3, 1e-4, 0],\n",
    "    'l1_a': [0],\n",
    "    'l2_a': [1e-1],\n",
    "#     'init_filters': [2, 4, 8, 16],\n",
    "    'init_filters': [8],\n",
    "#     'dropout_p': [0, 0.25, 0.5, 0.75],\n",
    "    'dropout_p': [0.5],\n",
    "#     'dense_fn': [(128, 128), (128, 256), (256, 256), (256, 512), (512, 512)],\n",
    "    'dense_fn': [(128, 128)],\n",
    "#     'act_f': ['relu', 'elu', 'selu'],\n",
    "    'act_f': ['relu'],\n",
    "#     'kernel_initializer': ['he_uniform', 'he_normal', 'lecun_uniform', 'lecun_normal',\n",
    "#                            'glorot_uniform', 'glorot_normal']\n",
    "    'kernel_initializer': ['glorot_uniform']\n",
    "}"
   ]
  },
  {
   "cell_type": "code",
   "execution_count": 202,
   "metadata": {
    "hidden": true
   },
   "outputs": [
    {
     "data": {
      "text/plain": [
       "5"
      ]
     },
     "execution_count": 202,
     "metadata": {},
     "output_type": "execute_result"
    }
   ],
   "source": [
    "def get_comb_n(params_dist):\n",
    "    comb_n = 1\n",
    "    for p, vals in params_dist.items():\n",
    "        comb_n *= len(vals)\n",
    "    return comb_n\n",
    "get_comb_n(params_dist)"
   ]
  },
  {
   "cell_type": "code",
   "execution_count": 203,
   "metadata": {
    "collapsed": true,
    "hidden": true
   },
   "outputs": [],
   "source": [
    "# def make_cv_gen(train_u_groups, valid_u_groups, groups_sample, n=2):\n",
    "#     for _ in range(n):\n",
    "#         train_mask = np.array([g in train_u_groups for g in groups_sample])\n",
    "#         valid_mask = np.array([g in valid_u_groups for g in groups_sample])\n",
    "#         yield train_mask, valid_mask\n",
    "def make_cv_gen(X, y, groups, n=4):\n",
    "    groupkfold = GroupKFold(n)\n",
    "    return groupkfold.split(X, y, groups)"
   ]
  },
  {
   "cell_type": "code",
   "execution_count": 4,
   "metadata": {
    "hidden": true,
    "scrolled": true
   },
   "outputs": [],
   "source": [
    "%%time\n",
    "max_iter = 100\n",
    "kclf = OffSampleKerasClassifier()\n",
    "# cv_gen = make_cv_gen(train_u_groups, valid_u_groups, groups_sample, n=1)\n",
    "cv_gen = make_cv_gen(X_sample, y_sample, groups_sample, n=3)\n",
    "validator = RandomizedSearchCV(kclf, param_distributions=params_dist,\n",
    "                               n_iter=min(get_comb_n(params_dist), max_iter),\n",
    "                               n_jobs=1, cv=cv_gen, random_state=13)\n",
    "validator.fit(X_sample, y_sample);"
   ]
  },
  {
   "cell_type": "code",
   "execution_count": 205,
   "metadata": {
    "hidden": true
   },
   "outputs": [
    {
     "data": {
      "text/plain": [
       "({'act_f': 'relu',\n",
       "  'batch_size': 32,\n",
       "  'dense_fn': (128, 128),\n",
       "  'dropout_p': 0.5,\n",
       "  'epochs': 30,\n",
       "  'init_filters': 8,\n",
       "  'kernel_initializer': 'glorot_uniform',\n",
       "  'l1_a': 0,\n",
       "  'l2_a': 0.1,\n",
       "  'opt': <keras.optimizers.Adam at 0x7f6b48318828>},\n",
       " 0.91475369415237318,\n",
       " array([1, 4, 3, 2, 5], dtype=int32))"
      ]
     },
     "execution_count": 205,
     "metadata": {},
     "output_type": "execute_result"
    }
   ],
   "source": [
    "validator.best_params_, validator.best_score_, validator.cv_results_['rank_test_score']"
   ]
  },
  {
   "cell_type": "code",
   "execution_count": 206,
   "metadata": {
    "collapsed": true,
    "hidden": true
   },
   "outputs": [],
   "source": [
    "from copy import deepcopy, copy"
   ]
  },
  {
   "cell_type": "code",
   "execution_count": 207,
   "metadata": {
    "hidden": true
   },
   "outputs": [
    {
     "data": {
      "text/html": [
       "<div>\n",
       "<style>\n",
       "    .dataframe thead tr:only-child th {\n",
       "        text-align: right;\n",
       "    }\n",
       "\n",
       "    .dataframe thead th {\n",
       "        text-align: left;\n",
       "    }\n",
       "\n",
       "    .dataframe tbody tr th {\n",
       "        vertical-align: top;\n",
       "    }\n",
       "</style>\n",
       "<table border=\"1\" class=\"dataframe\">\n",
       "  <thead>\n",
       "    <tr style=\"text-align: right;\">\n",
       "      <th></th>\n",
       "      <th>act_f</th>\n",
       "      <th>batch_size</th>\n",
       "      <th>dense_fn</th>\n",
       "      <th>dropout_p</th>\n",
       "      <th>epochs</th>\n",
       "      <th>f1_mean</th>\n",
       "      <th>f1_std</th>\n",
       "      <th>init_filters</th>\n",
       "      <th>kernel_initializer</th>\n",
       "      <th>l1_a</th>\n",
       "      <th>l2_a</th>\n",
       "      <th>opt</th>\n",
       "    </tr>\n",
       "  </thead>\n",
       "  <tbody>\n",
       "    <tr>\n",
       "      <th>0</th>\n",
       "      <td>relu</td>\n",
       "      <td>32</td>\n",
       "      <td>(128, 128)</td>\n",
       "      <td>0.5</td>\n",
       "      <td>30</td>\n",
       "      <td>0.914754</td>\n",
       "      <td>0.026403</td>\n",
       "      <td>8</td>\n",
       "      <td>glorot_uniform</td>\n",
       "      <td>0</td>\n",
       "      <td>0.1</td>\n",
       "      <td>Adam</td>\n",
       "    </tr>\n",
       "    <tr>\n",
       "      <th>3</th>\n",
       "      <td>relu</td>\n",
       "      <td>32</td>\n",
       "      <td>(256, 512)</td>\n",
       "      <td>0.5</td>\n",
       "      <td>30</td>\n",
       "      <td>0.913325</td>\n",
       "      <td>0.028476</td>\n",
       "      <td>8</td>\n",
       "      <td>glorot_uniform</td>\n",
       "      <td>0</td>\n",
       "      <td>0.1</td>\n",
       "      <td>Adam</td>\n",
       "    </tr>\n",
       "    <tr>\n",
       "      <th>2</th>\n",
       "      <td>relu</td>\n",
       "      <td>32</td>\n",
       "      <td>(256, 256)</td>\n",
       "      <td>0.5</td>\n",
       "      <td>30</td>\n",
       "      <td>0.904736</td>\n",
       "      <td>0.020757</td>\n",
       "      <td>8</td>\n",
       "      <td>glorot_uniform</td>\n",
       "      <td>0</td>\n",
       "      <td>0.1</td>\n",
       "      <td>Adam</td>\n",
       "    </tr>\n",
       "    <tr>\n",
       "      <th>1</th>\n",
       "      <td>relu</td>\n",
       "      <td>32</td>\n",
       "      <td>(128, 256)</td>\n",
       "      <td>0.5</td>\n",
       "      <td>30</td>\n",
       "      <td>0.890959</td>\n",
       "      <td>0.014840</td>\n",
       "      <td>8</td>\n",
       "      <td>glorot_uniform</td>\n",
       "      <td>0</td>\n",
       "      <td>0.1</td>\n",
       "      <td>Adam</td>\n",
       "    </tr>\n",
       "    <tr>\n",
       "      <th>4</th>\n",
       "      <td>relu</td>\n",
       "      <td>32</td>\n",
       "      <td>(512, 512)</td>\n",
       "      <td>0.5</td>\n",
       "      <td>30</td>\n",
       "      <td>0.882411</td>\n",
       "      <td>0.017956</td>\n",
       "      <td>8</td>\n",
       "      <td>glorot_uniform</td>\n",
       "      <td>0</td>\n",
       "      <td>0.1</td>\n",
       "      <td>Adam</td>\n",
       "    </tr>\n",
       "  </tbody>\n",
       "</table>\n",
       "</div>"
      ],
      "text/plain": [
       "  act_f  batch_size    dense_fn  dropout_p  epochs   f1_mean    f1_std  \\\n",
       "0  relu          32  (128, 128)        0.5      30  0.914754  0.026403   \n",
       "3  relu          32  (256, 512)        0.5      30  0.913325  0.028476   \n",
       "2  relu          32  (256, 256)        0.5      30  0.904736  0.020757   \n",
       "1  relu          32  (128, 256)        0.5      30  0.890959  0.014840   \n",
       "4  relu          32  (512, 512)        0.5      30  0.882411  0.017956   \n",
       "\n",
       "   init_filters kernel_initializer  l1_a  l2_a   opt  \n",
       "0             8     glorot_uniform     0   0.1  Adam  \n",
       "3             8     glorot_uniform     0   0.1  Adam  \n",
       "2             8     glorot_uniform     0   0.1  Adam  \n",
       "1             8     glorot_uniform     0   0.1  Adam  \n",
       "4             8     glorot_uniform     0   0.1  Adam  "
      ]
     },
     "execution_count": 207,
     "metadata": {},
     "output_type": "execute_result"
    }
   ],
   "source": [
    "rows = []\n",
    "for f1_mean, f1_std, params in  zip(validator.cv_results_['mean_test_score'],\n",
    "                                    validator.cv_results_['std_test_score'],\n",
    "                                    validator.cv_results_['params']):\n",
    "    row = copy(params)\n",
    "    row['opt'] = params['opt'].__class__.__name__\n",
    "    row.update({'f1_mean': f1_mean, 'f1_std': f1_std})\n",
    "    rows.append(row)\n",
    "grid_df = pd.DataFrame(rows).sort_values(by='f1_mean', ascending=False)\n",
    "grid_df"
   ]
  },
  {
   "cell_type": "code",
   "execution_count": 208,
   "metadata": {
    "hidden": true
   },
   "outputs": [
    {
     "name": "stdout",
     "output_type": "stream",
     "text": [
      "3702/3702 [==============================] - 11s 3ms/step\n"
     ]
    },
    {
     "data": {
      "text/html": [
       "<div>\n",
       "<style>\n",
       "    .dataframe thead tr:only-child th {\n",
       "        text-align: right;\n",
       "    }\n",
       "\n",
       "    .dataframe thead th {\n",
       "        text-align: left;\n",
       "    }\n",
       "\n",
       "    .dataframe tbody tr th {\n",
       "        vertical-align: top;\n",
       "    }\n",
       "</style>\n",
       "<table border=\"1\" class=\"dataframe\">\n",
       "  <thead>\n",
       "    <tr style=\"text-align: right;\">\n",
       "      <th></th>\n",
       "      <th>f1</th>\n",
       "      <th>prec_recall_score</th>\n",
       "      <th>prec</th>\n",
       "      <th>recall</th>\n",
       "      <th>acc</th>\n",
       "    </tr>\n",
       "  </thead>\n",
       "  <tbody>\n",
       "    <tr>\n",
       "      <th>on</th>\n",
       "      <td>0.637747</td>\n",
       "      <td>0.993540</td>\n",
       "      <td>0.998808</td>\n",
       "      <td>0.468418</td>\n",
       "      <td>0.742842</td>\n",
       "    </tr>\n",
       "    <tr>\n",
       "      <th>off</th>\n",
       "      <td>0.800670</td>\n",
       "      <td>0.993121</td>\n",
       "      <td>0.667831</td>\n",
       "      <td>0.999477</td>\n",
       "      <td>0.742842</td>\n",
       "    </tr>\n",
       "  </tbody>\n",
       "</table>\n",
       "</div>"
      ],
      "text/plain": [
       "           f1  prec_recall_score      prec    recall       acc\n",
       "on   0.637747           0.993540  0.998808  0.468418  0.742842\n",
       "off  0.800670           0.993121  0.667831  0.999477  0.742842"
      ]
     },
     "execution_count": 208,
     "metadata": {},
     "output_type": "execute_result"
    }
   ],
   "source": [
    "# %run off_sample/utils.py\n",
    "X_test, y_test, _ = make_subset(test_u_groups, X, y, groups)\n",
    "evaluate_model(X_test, y_test, validator.best_estimator_)"
   ]
  },
  {
   "cell_type": "code",
   "execution_count": null,
   "metadata": {
    "collapsed": true,
    "hidden": true
   },
   "outputs": [],
   "source": []
  },
  {
   "cell_type": "markdown",
   "metadata": {
    "collapsed": true,
    "hidden": true
   },
   "source": [
    "---"
   ]
  },
  {
   "cell_type": "markdown",
   "metadata": {
    "collapsed": true
   },
   "source": [
    "# Final Model Cross Validation"
   ]
  },
  {
   "cell_type": "markdown",
   "metadata": {},
   "source": [
    "### Blended"
   ]
  },
  {
   "cell_type": "code",
   "execution_count": 14,
   "metadata": {},
   "outputs": [
    {
     "name": "stdout",
     "output_type": "stream",
     "text": [
      "Loading image dataset...\n",
      "(18038, 64, 64, 1)\n",
      "Loading pixel dataset...\n"
     ]
    }
   ],
   "source": [
    "print('Loading image dataset...')\n",
    "X, y, groups = utils.load_img_X_y_groups(all_paths, image_shape=IMAGE_SHAPE)\n",
    "print(X.shape)\n",
    "\n",
    "print('Loading pixel dataset...')\n",
    "masks = {i: utils.load_mask(p) for i, p in enumerate(all_paths)}\n",
    "ions = utils.create_ion_list(all_paths)\n",
    "X_p, y_p, groups_p = utils.load_pixel_xygroups(all_paths, masks, ions)\n",
    "print(X_p.shape)"
   ]
  },
  {
   "cell_type": "code",
   "execution_count": 42,
   "metadata": {},
   "outputs": [],
   "source": [
    "from collections import defaultdict\n",
    "import scipy"
   ]
  },
  {
   "cell_type": "code",
   "execution_count": 43,
   "metadata": {},
   "outputs": [
    {
     "data": {
      "text/plain": [
       "66"
      ]
     },
     "execution_count": 43,
     "metadata": {},
     "output_type": "execute_result"
    }
   ],
   "source": [
    "u_groups = list(range(len(all_paths)))\n",
    "len(u_groups)"
   ]
  },
  {
   "cell_type": "code",
   "execution_count": null,
   "metadata": {
    "scrolled": true
   },
   "outputs": [
    {
     "name": "stdout",
     "output_type": "stream",
     "text": [
      "First level fold: 0 (52,) (14,)\n",
      "First/Second level fold: 0/0 (41,) (11,)\n",
      "Epoch 1/15\n",
      "337/336 [==============================] - 35s 103ms/step - loss: 3.2207 - binary_accuracy: 0.8893 - val_loss: 1.5244 - val_binary_accuracy: 0.8985\n",
      "\n",
      "Epoch 00001: val_binary_accuracy improved from -inf to 0.89847, saving model to custom-cnn-weights.hdf5\n",
      "Epoch 2/15\n",
      "337/336 [==============================] - 9s 28ms/step - loss: 0.9646 - binary_accuracy: 0.9392 - val_loss: 0.6912 - val_binary_accuracy: 0.9227\n",
      "\n",
      "Epoch 00002: val_binary_accuracy improved from 0.89847 to 0.92267, saving model to custom-cnn-weights.hdf5\n",
      "Epoch 3/15\n",
      "337/336 [==============================] - 9s 28ms/step - loss: 0.5406 - binary_accuracy: 0.9473 - val_loss: 0.4497 - val_binary_accuracy: 0.9463\n",
      "\n",
      "Epoch 00003: val_binary_accuracy improved from 0.92267 to 0.94628, saving model to custom-cnn-weights.hdf5\n",
      "Epoch 4/15\n",
      "337/336 [==============================] - 9s 27ms/step - loss: 0.4073 - binary_accuracy: 0.9458 - val_loss: 0.3576 - val_binary_accuracy: 0.9516\n",
      "\n",
      "Epoch 00004: val_binary_accuracy improved from 0.94628 to 0.95159, saving model to custom-cnn-weights.hdf5\n",
      "Epoch 5/15\n",
      "337/336 [==============================] - 9s 28ms/step - loss: 0.3461 - binary_accuracy: 0.9481 - val_loss: 0.3795 - val_binary_accuracy: 0.9233\n",
      "\n",
      "Epoch 00005: val_binary_accuracy did not improve from 0.95159\n",
      "Epoch 6/15\n",
      "337/336 [==============================] - 9s 28ms/step - loss: 0.3028 - binary_accuracy: 0.9540 - val_loss: 0.2962 - val_binary_accuracy: 0.9389\n",
      "\n",
      "Epoch 00006: val_binary_accuracy did not improve from 0.95159\n",
      "Epoch 7/15\n",
      "337/336 [==============================] - 9s 28ms/step - loss: 0.2840 - binary_accuracy: 0.9538 - val_loss: 0.2732 - val_binary_accuracy: 0.9510\n",
      "\n",
      "Epoch 00007: val_binary_accuracy did not improve from 0.95159\n",
      "Epoch 8/15\n",
      "337/336 [==============================] - 9s 28ms/step - loss: 0.2633 - binary_accuracy: 0.9556 - val_loss: 0.2357 - val_binary_accuracy: 0.9613\n",
      "\n",
      "Epoch 00008: val_binary_accuracy improved from 0.95159 to 0.96133, saving model to custom-cnn-weights.hdf5\n",
      "Epoch 9/15\n",
      "337/336 [==============================] - 9s 28ms/step - loss: 0.2510 - binary_accuracy: 0.9534 - val_loss: 0.2608 - val_binary_accuracy: 0.9430\n",
      "\n",
      "Epoch 00009: val_binary_accuracy did not improve from 0.96133\n",
      "Epoch 10/15\n",
      "337/336 [==============================] - 9s 28ms/step - loss: 0.2400 - binary_accuracy: 0.9581 - val_loss: 0.2834 - val_binary_accuracy: 0.9351\n",
      "\n",
      "Epoch 00010: val_binary_accuracy did not improve from 0.96133\n",
      "Epoch 11/15\n",
      "337/336 [==============================] - 9s 28ms/step - loss: 0.2276 - binary_accuracy: 0.9623 - val_loss: 0.2293 - val_binary_accuracy: 0.9513\n",
      "\n",
      "Epoch 00011: val_binary_accuracy did not improve from 0.96133\n",
      "Epoch 12/15\n",
      "337/336 [==============================] - 9s 28ms/step - loss: 0.2330 - binary_accuracy: 0.9549 - val_loss: 0.2152 - val_binary_accuracy: 0.9554\n",
      "\n",
      "Epoch 00012: val_binary_accuracy did not improve from 0.96133\n",
      "Epoch 13/15\n",
      "337/336 [==============================] - 9s 28ms/step - loss: 0.2226 - binary_accuracy: 0.9571 - val_loss: 0.2465 - val_binary_accuracy: 0.9416\n",
      "\n",
      "Epoch 00013: val_binary_accuracy did not improve from 0.96133\n",
      "Epoch 14/15\n",
      "337/336 [==============================] - 9s 28ms/step - loss: 0.2184 - binary_accuracy: 0.9591 - val_loss: 0.2524 - val_binary_accuracy: 0.9377\n",
      "\n",
      "Epoch 00014: val_binary_accuracy did not improve from 0.96133\n",
      "Epoch 15/15\n",
      "337/336 [==============================] - 9s 28ms/step - loss: 0.2149 - binary_accuracy: 0.9572 - val_loss: 0.2547 - val_binary_accuracy: 0.9357\n",
      "\n",
      "Epoch 00015: val_binary_accuracy did not improve from 0.96133\n",
      "Epoch 1/15\n",
      "443/442 [==============================] - 36s 82ms/step - loss: 0.9882 - binary_accuracy: 0.9186\n",
      "Epoch 2/15\n",
      "443/442 [==============================] - 11s 25ms/step - loss: 0.3327 - binary_accuracy: 0.9400\n",
      "Epoch 3/15\n",
      "443/442 [==============================] - 11s 25ms/step - loss: 0.2922 - binary_accuracy: 0.9411\n",
      "Epoch 4/15\n",
      "443/442 [==============================] - 11s 25ms/step - loss: 0.2637 - binary_accuracy: 0.9444\n",
      "Epoch 5/15\n",
      "443/442 [==============================] - 11s 25ms/step - loss: 0.2445 - binary_accuracy: 0.9501\n",
      "Epoch 6/15\n",
      "443/442 [==============================] - 11s 25ms/step - loss: 0.2413 - binary_accuracy: 0.9480\n",
      "Epoch 7/15\n",
      "443/442 [==============================] - 11s 25ms/step - loss: 0.2344 - binary_accuracy: 0.9503\n",
      "Epoch 8/15\n",
      "443/442 [==============================] - 11s 25ms/step - loss: 0.2255 - binary_accuracy: 0.9511\n",
      "Epoch 9/15\n",
      "443/442 [==============================] - 11s 25ms/step - loss: 0.2182 - binary_accuracy: 0.9519\n",
      "Epoch 10/15\n",
      "443/442 [==============================] - 11s 25ms/step - loss: 0.2211 - binary_accuracy: 0.9495\n",
      "Epoch 11/15\n",
      "443/442 [==============================] - 11s 25ms/step - loss: 0.2152 - binary_accuracy: 0.9535\n",
      "Epoch 12/15\n",
      "443/442 [==============================] - 11s 25ms/step - loss: 0.2092 - binary_accuracy: 0.9533\n",
      "Epoch 13/15\n",
      "443/442 [==============================] - 11s 26ms/step - loss: 0.2096 - binary_accuracy: 0.9521\n",
      "Epoch 14/15\n",
      "443/442 [==============================] - 11s 25ms/step - loss: 0.2039 - binary_accuracy: 0.9546\n",
      "Epoch 15/15\n",
      "443/442 [==============================] - 11s 25ms/step - loss: 0.2000 - binary_accuracy: 0.9546 2s - loss\n",
      "Train on 858499 samples, validate on 230233 samples\n",
      "Epoch 1/5\n",
      "858499/858499 [==============================] - 99s 115us/step - loss: 0.3969 - binary_accuracy: 0.9475 - val_loss: 0.6006 - val_binary_accuracy: 0.7834\n",
      "\n",
      "Epoch 00001: val_binary_accuracy improved from -inf to 0.78344, saving model to custom-dense-nn-weights.hdf5\n",
      "Epoch 2/5\n",
      "858499/858499 [==============================] - 72s 83us/step - loss: 0.2595 - binary_accuracy: 0.9584 - val_loss: 0.6170 - val_binary_accuracy: 0.7822\n",
      "\n",
      "Epoch 00002: val_binary_accuracy did not improve from 0.78344\n",
      "Epoch 3/5\n",
      "858499/858499 [==============================] - 72s 84us/step - loss: 0.2402 - binary_accuracy: 0.9603 - val_loss: 0.5066 - val_binary_accuracy: 0.8466\n",
      "\n",
      "Epoch 00003: val_binary_accuracy improved from 0.78344 to 0.84660, saving model to custom-dense-nn-weights.hdf5\n",
      "Epoch 4/5\n",
      "858499/858499 [==============================] - 72s 83us/step - loss: 0.2318 - binary_accuracy: 0.9599 - val_loss: 0.4787 - val_binary_accuracy: 0.8546\n",
      "\n",
      "Epoch 00004: val_binary_accuracy improved from 0.84660 to 0.85463, saving model to custom-dense-nn-weights.hdf5\n",
      "Epoch 5/5\n",
      "858499/858499 [==============================] - 72s 83us/step - loss: 0.2244 - binary_accuracy: 0.9608 - val_loss: 0.4703 - val_binary_accuracy: 0.8544\n",
      "\n",
      "Epoch 00005: val_binary_accuracy did not improve from 0.85463\n",
      "Epoch 1/5\n",
      "1088732/1088732 [==============================] - 109s 100us/step - loss: 0.3834 - binary_accuracy: 0.9503\n",
      "Epoch 2/5\n",
      "1088732/1088732 [==============================] - 83s 77us/step - loss: 0.2624 - binary_accuracy: 0.9591\n",
      "Epoch 3/5\n",
      "1088732/1088732 [==============================] - 84s 77us/step - loss: 0.2459 - binary_accuracy: 0.9595\n",
      "Epoch 4/5\n",
      "1088732/1088732 [==============================] - 84s 77us/step - loss: 0.2368 - binary_accuracy: 0.9594\n",
      "Epoch 5/5\n",
      "1088732/1088732 [==============================] - 84s 77us/step - loss: 0.2324 - binary_accuracy: 0.9592\n",
      "Training LR...\n"
     ]
    },
    {
     "name": "stderr",
     "output_type": "stream",
     "text": [
      "[Parallel(n_jobs=1)]: Using backend SequentialBackend with 1 concurrent workers.\n",
      "[Parallel(n_jobs=1)]: Done   1 out of   1 | elapsed:   42.1s finished\n",
      "[Parallel(n_jobs=1)]: Using backend SequentialBackend with 1 concurrent workers.\n",
      "[Parallel(n_jobs=1)]: Done   1 out of   1 | elapsed:   47.3s finished\n"
     ]
    },
    {
     "name": "stdout",
     "output_type": "stream",
     "text": [
      "First/Second level fold: 0/1 (41,) (11,)\n",
      "Epoch 1/15\n",
      "363/362 [==============================] - 39s 107ms/step - loss: 3.1544 - binary_accuracy: 0.8785 - val_loss: 1.2908 - val_binary_accuracy: 0.9817\n",
      "\n",
      "Epoch 00001: val_binary_accuracy improved from -inf to 0.98169, saving model to custom-cnn-weights.hdf5\n",
      "Epoch 2/15\n",
      "363/362 [==============================] - 10s 27ms/step - loss: 0.9283 - binary_accuracy: 0.9328 - val_loss: 0.5607 - val_binary_accuracy: 0.9657\n",
      "\n",
      "Epoch 00002: val_binary_accuracy did not improve from 0.98169\n",
      "Epoch 3/15\n",
      "363/362 [==============================] - 10s 27ms/step - loss: 0.5176 - binary_accuracy: 0.9378 - val_loss: 0.3400 - val_binary_accuracy: 0.9836\n",
      "\n",
      "Epoch 00003: val_binary_accuracy improved from 0.98169 to 0.98364, saving model to custom-cnn-weights.hdf5\n",
      "Epoch 4/15\n",
      "363/362 [==============================] - 10s 27ms/step - loss: 0.3925 - binary_accuracy: 0.9423 - val_loss: 0.3109 - val_binary_accuracy: 0.9677\n",
      "\n",
      "Epoch 00004: val_binary_accuracy did not improve from 0.98364\n",
      "Epoch 5/15\n",
      "363/362 [==============================] - 10s 27ms/step - loss: 0.3348 - binary_accuracy: 0.9443 - val_loss: 0.2259 - val_binary_accuracy: 0.9805\n",
      "\n",
      "Epoch 00005: val_binary_accuracy did not improve from 0.98364\n",
      "Epoch 6/15\n",
      "363/362 [==============================] - 10s 27ms/step - loss: 0.2990 - binary_accuracy: 0.9464 - val_loss: 0.2181 - val_binary_accuracy: 0.9755\n",
      "\n",
      "Epoch 00006: val_binary_accuracy did not improve from 0.98364\n",
      "Epoch 7/15\n",
      "363/362 [==============================] - 10s 27ms/step - loss: 0.2843 - binary_accuracy: 0.9459 - val_loss: 0.2415 - val_binary_accuracy: 0.9677\n",
      "\n",
      "Epoch 00007: val_binary_accuracy did not improve from 0.98364\n",
      "Epoch 8/15\n",
      "363/362 [==============================] - 10s 27ms/step - loss: 0.2658 - binary_accuracy: 0.9467 - val_loss: 0.1825 - val_binary_accuracy: 0.9836\n",
      "\n",
      "Epoch 00008: val_binary_accuracy did not improve from 0.98364\n",
      "Epoch 9/15\n",
      "363/362 [==============================] - 10s 27ms/step - loss: 0.2558 - binary_accuracy: 0.9460 - val_loss: 0.2060 - val_binary_accuracy: 0.9665\n",
      "\n",
      "Epoch 00009: val_binary_accuracy did not improve from 0.98364\n",
      "Epoch 10/15\n",
      "363/362 [==============================] - 10s 26ms/step - loss: 0.2431 - binary_accuracy: 0.9489 - val_loss: 0.1671 - val_binary_accuracy: 0.9821\n",
      "\n",
      "Epoch 00010: val_binary_accuracy did not improve from 0.98364\n",
      "Epoch 11/15\n",
      "363/362 [==============================] - 10s 26ms/step - loss: 0.2427 - binary_accuracy: 0.9499 - val_loss: 0.1681 - val_binary_accuracy: 0.9762\n",
      "\n",
      "Epoch 00011: val_binary_accuracy did not improve from 0.98364\n",
      "Epoch 12/15\n",
      "363/362 [==============================] - 10s 26ms/step - loss: 0.2308 - binary_accuracy: 0.9510 - val_loss: 0.2006 - val_binary_accuracy: 0.9529\n",
      "\n",
      "Epoch 00012: val_binary_accuracy did not improve from 0.98364\n",
      "Epoch 13/15\n",
      "363/362 [==============================] - 10s 27ms/step - loss: 0.2254 - binary_accuracy: 0.9502 - val_loss: 0.1987 - val_binary_accuracy: 0.9587\n",
      "\n",
      "Epoch 00013: val_binary_accuracy did not improve from 0.98364\n",
      "Epoch 14/15\n",
      "363/362 [==============================] - 10s 27ms/step - loss: 0.2282 - binary_accuracy: 0.9505 - val_loss: 0.2134 - val_binary_accuracy: 0.9556\n",
      "\n",
      "Epoch 00014: val_binary_accuracy did not improve from 0.98364\n",
      "Epoch 15/15\n",
      "363/362 [==============================] - 10s 27ms/step - loss: 0.2142 - binary_accuracy: 0.9542 - val_loss: 0.2263 - val_binary_accuracy: 0.9474\n",
      "\n",
      "Epoch 00015: val_binary_accuracy did not improve from 0.98364\n",
      "Epoch 1/15\n",
      "443/442 [==============================] - 39s 88ms/step - loss: 1.0265 - binary_accuracy: 0.9131\n",
      "Epoch 2/15\n",
      "443/442 [==============================] - 11s 24ms/step - loss: 0.3466 - binary_accuracy: 0.9350\n",
      "Epoch 3/15\n",
      "443/442 [==============================] - 11s 24ms/step - loss: 0.2905 - binary_accuracy: 0.9441\n",
      "Epoch 4/15\n",
      "443/442 [==============================] - 10s 24ms/step - loss: 0.2626 - binary_accuracy: 0.9478\n",
      "Epoch 5/15\n",
      "443/442 [==============================] - 10s 24ms/step - loss: 0.2447 - binary_accuracy: 0.9485\n",
      "Epoch 6/15\n",
      "443/442 [==============================] - 10s 23ms/step - loss: 0.2423 - binary_accuracy: 0.9452\n",
      "Epoch 7/15\n",
      "443/442 [==============================] - 10s 24ms/step - loss: 0.2350 - binary_accuracy: 0.9476 2s - loss: 0.\n",
      "Epoch 8/15\n",
      "443/442 [==============================] - 10s 24ms/step - loss: 0.2199 - binary_accuracy: 0.9516\n",
      "Epoch 9/15\n",
      "443/442 [==============================] - 10s 23ms/step - loss: 0.2211 - binary_accuracy: 0.9515 0s - loss: 0.2212 - binary_accuracy:\n",
      "Epoch 10/15\n",
      "443/442 [==============================] - 10s 24ms/step - loss: 0.2199 - binary_accuracy: 0.9507 4s - loss: 0.2227 - \n",
      "Epoch 11/15\n",
      "443/442 [==============================] - 11s 24ms/step - loss: 0.2161 - binary_accuracy: 0.9509\n",
      "Epoch 12/15\n",
      "443/442 [==============================] - 10s 23ms/step - loss: 0.2069 - binary_accuracy: 0.9544\n",
      "Epoch 13/15\n",
      "443/442 [==============================] - 10s 23ms/step - loss: 0.2054 - binary_accuracy: 0.9532\n",
      "Epoch 14/15\n",
      "443/442 [==============================] - 11s 24ms/step - loss: 0.2011 - binary_accuracy: 0.9529\n",
      "Epoch 15/15\n",
      "443/442 [==============================] - 10s 23ms/step - loss: 0.2042 - binary_accuracy: 0.9532\n",
      "Train on 968437 samples, validate on 120295 samples\n",
      "Epoch 1/5\n",
      "968437/968437 [==============================] - 112s 115us/step - loss: 0.3793 - binary_accuracy: 0.9537 - val_loss: 0.7188 - val_binary_accuracy: 0.8013\n",
      "\n",
      "Epoch 00001: val_binary_accuracy improved from -inf to 0.80131, saving model to custom-dense-nn-weights.hdf5\n",
      "Epoch 2/5\n",
      "968437/968437 [==============================] - 82s 85us/step - loss: 0.2529 - binary_accuracy: 0.9612 - val_loss: 0.8143 - val_binary_accuracy: 0.7725\n",
      "\n",
      "Epoch 00002: val_binary_accuracy did not improve from 0.80131\n",
      "Epoch 3/5\n",
      "968437/968437 [==============================] - 82s 85us/step - loss: 0.2338 - binary_accuracy: 0.9617 - val_loss: 0.7667 - val_binary_accuracy: 0.7884\n",
      "\n",
      "Epoch 00003: val_binary_accuracy did not improve from 0.80131\n",
      "Epoch 4/5\n",
      "968437/968437 [==============================] - 82s 85us/step - loss: 0.2234 - binary_accuracy: 0.9617 - val_loss: 0.7107 - val_binary_accuracy: 0.8046\n",
      "\n",
      "Epoch 00004: val_binary_accuracy improved from 0.80131 to 0.80461, saving model to custom-dense-nn-weights.hdf5\n",
      "Epoch 5/5\n",
      "968437/968437 [==============================] - 82s 85us/step - loss: 0.2200 - binary_accuracy: 0.9613 - val_loss: 0.7461 - val_binary_accuracy: 0.8064\n",
      "\n",
      "Epoch 00005: val_binary_accuracy improved from 0.80461 to 0.80637, saving model to custom-dense-nn-weights.hdf5\n",
      "Epoch 1/5\n",
      "1088732/1088732 [==============================] - 105s 97us/step - loss: 0.3843 - binary_accuracy: 0.9490\n",
      "Epoch 2/5\n",
      "1088732/1088732 [==============================] - 76s 70us/step - loss: 0.2603 - binary_accuracy: 0.9593\n",
      "Epoch 3/5\n",
      "1088732/1088732 [==============================] - 76s 70us/step - loss: 0.2438 - binary_accuracy: 0.9605\n",
      "Epoch 4/5\n",
      "1088732/1088732 [==============================] - 76s 70us/step - loss: 0.2367 - binary_accuracy: 0.9609\n",
      "Epoch 5/5\n",
      "1088732/1088732 [==============================] - 76s 70us/step - loss: 0.2307 - binary_accuracy: 0.9605\n",
      "Training LR...\n"
     ]
    },
    {
     "name": "stderr",
     "output_type": "stream",
     "text": [
      "[Parallel(n_jobs=1)]: Using backend SequentialBackend with 1 concurrent workers.\n",
      "[Parallel(n_jobs=1)]: Done   1 out of   1 | elapsed:   42.3s finished\n",
      "[Parallel(n_jobs=1)]: Using backend SequentialBackend with 1 concurrent workers.\n",
      "[Parallel(n_jobs=1)]: Done   1 out of   1 | elapsed:   46.2s finished\n"
     ]
    },
    {
     "name": "stdout",
     "output_type": "stream",
     "text": [
      "First/Second level fold: 0/2 (42,) (10,)\n",
      "Epoch 1/15\n",
      "371/370 [==============================] - 50s 134ms/step - loss: 3.1249 - binary_accuracy: 0.8824 - val_loss: 1.3731 - val_binary_accuracy: 0.9315\n",
      "\n",
      "Epoch 00001: val_binary_accuracy improved from -inf to 0.93152, saving model to custom-cnn-weights.hdf5\n",
      "Epoch 2/15\n",
      "371/370 [==============================] - 17s 45ms/step - loss: 0.9329 - binary_accuracy: 0.9363 - val_loss: 0.6531 - val_binary_accuracy: 0.9440\n",
      "\n",
      "Epoch 00002: val_binary_accuracy improved from 0.93152 to 0.94401, saving model to custom-cnn-weights.hdf5\n",
      "Epoch 3/15\n",
      "371/370 [==============================] - 17s 45ms/step - loss: 0.5454 - binary_accuracy: 0.9422 - val_loss: 0.4579 - val_binary_accuracy: 0.9384\n",
      "\n",
      "Epoch 00003: val_binary_accuracy did not improve from 0.94401\n",
      "Epoch 4/15\n",
      "371/370 [==============================] - 17s 45ms/step - loss: 0.4028 - binary_accuracy: 0.9465 - val_loss: 0.3415 - val_binary_accuracy: 0.9630\n",
      "\n",
      "Epoch 00004: val_binary_accuracy improved from 0.94401 to 0.96296, saving model to custom-cnn-weights.hdf5\n",
      "Epoch 5/15\n",
      "371/370 [==============================] - 17s 45ms/step - loss: 0.3515 - binary_accuracy: 0.9459 - val_loss: 0.2808 - val_binary_accuracy: 0.9638\n",
      "\n",
      "Epoch 00005: val_binary_accuracy improved from 0.96296 to 0.96382, saving model to custom-cnn-weights.hdf5\n",
      "Epoch 6/15\n",
      "371/370 [==============================] - 17s 45ms/step - loss: 0.3075 - binary_accuracy: 0.9478 - val_loss: 0.3206 - val_binary_accuracy: 0.9475\n",
      "\n",
      "Epoch 00006: val_binary_accuracy did not improve from 0.96382\n",
      "Epoch 7/15\n",
      "371/370 [==============================] - 17s 45ms/step - loss: 0.2898 - binary_accuracy: 0.9475 - val_loss: 0.2450 - val_binary_accuracy: 0.9621\n",
      "\n",
      "Epoch 00007: val_binary_accuracy did not improve from 0.96382\n",
      "Epoch 8/15\n",
      "371/370 [==============================] - 17s 45ms/step - loss: 0.2875 - binary_accuracy: 0.9444 - val_loss: 0.2049 - val_binary_accuracy: 0.9733\n",
      "\n",
      "Epoch 00008: val_binary_accuracy improved from 0.96382 to 0.97330, saving model to custom-cnn-weights.hdf5\n",
      "Epoch 9/15\n",
      "371/370 [==============================] - 17s 46ms/step - loss: 0.2638 - binary_accuracy: 0.9476 - val_loss: 0.3119 - val_binary_accuracy: 0.9195\n",
      "\n",
      "Epoch 00009: val_binary_accuracy did not improve from 0.97330\n",
      "Epoch 10/15\n",
      "371/370 [==============================] - 17s 45ms/step - loss: 0.3004 - binary_accuracy: 0.9418 - val_loss: 0.2069 - val_binary_accuracy: 0.9699\n",
      "\n",
      "Epoch 00010: val_binary_accuracy did not improve from 0.97330\n",
      "Epoch 11/15\n",
      "371/370 [==============================] - 17s 45ms/step - loss: 0.2540 - binary_accuracy: 0.9491 - val_loss: 0.1981 - val_binary_accuracy: 0.9651\n",
      "\n",
      "Epoch 00011: val_binary_accuracy did not improve from 0.97330\n",
      "Epoch 12/15\n",
      "371/370 [==============================] - 17s 45ms/step - loss: 0.2370 - binary_accuracy: 0.9519 - val_loss: 0.2465 - val_binary_accuracy: 0.9492\n",
      "\n",
      "Epoch 00012: val_binary_accuracy did not improve from 0.97330\n",
      "Epoch 13/15\n",
      "371/370 [==============================] - 17s 45ms/step - loss: 0.2942 - binary_accuracy: 0.9409 - val_loss: 0.3148 - val_binary_accuracy: 0.9078\n",
      "\n",
      "Epoch 00013: val_binary_accuracy did not improve from 0.97330\n",
      "Epoch 14/15\n",
      "371/370 [==============================] - 17s 45ms/step - loss: 0.2857 - binary_accuracy: 0.9428 - val_loss: 0.2152 - val_binary_accuracy: 0.9630\n",
      "\n",
      "Epoch 00014: val_binary_accuracy did not improve from 0.97330\n",
      "Epoch 15/15\n",
      "371/370 [==============================] - 17s 45ms/step - loss: 0.2399 - binary_accuracy: 0.9517 - val_loss: 0.2397 - val_binary_accuracy: 0.9453\n",
      "\n",
      "Epoch 00015: val_binary_accuracy did not improve from 0.97330\n",
      "Epoch 1/15\n",
      "443/442 [==============================] - 43s 98ms/step - loss: 1.0065 - binary_accuracy: 0.9173\n",
      "Epoch 2/15\n",
      "443/442 [==============================] - 11s 26ms/step - loss: 0.3371 - binary_accuracy: 0.9387\n",
      "Epoch 3/15\n",
      "443/442 [==============================] - 10s 24ms/step - loss: 0.2932 - binary_accuracy: 0.9401 1s - loss: 0\n",
      "Epoch 4/15\n",
      "443/442 [==============================] - 10s 24ms/step - loss: 0.2703 - binary_accuracy: 0.9442\n",
      "Epoch 5/15\n",
      "443/442 [==============================] - 10s 23ms/step - loss: 0.2541 - binary_accuracy: 0.9458\n",
      "Epoch 6/15\n",
      "443/442 [==============================] - 10s 24ms/step - loss: 0.2439 - binary_accuracy: 0.9471\n",
      "Epoch 7/15\n",
      "443/442 [==============================] - 10s 23ms/step - loss: 0.2323 - binary_accuracy: 0.9502\n",
      "Epoch 8/15\n",
      "443/442 [==============================] - 10s 23ms/step - loss: 0.2338 - binary_accuracy: 0.9471\n",
      "Epoch 9/15\n",
      "443/442 [==============================] - 11s 24ms/step - loss: 0.2226 - binary_accuracy: 0.9513\n",
      "Epoch 10/15\n",
      "443/442 [==============================] - 11s 24ms/step - loss: 0.2215 - binary_accuracy: 0.9506\n",
      "Epoch 11/15\n",
      "443/442 [==============================] - 10s 24ms/step - loss: 0.2111 - binary_accuracy: 0.9541\n",
      "Epoch 12/15\n",
      "443/442 [==============================] - 11s 24ms/step - loss: 0.2176 - binary_accuracy: 0.9516\n",
      "Epoch 13/15\n",
      "443/442 [==============================] - 11s 24ms/step - loss: 0.2080 - binary_accuracy: 0.9531\n",
      "Epoch 14/15\n",
      "443/442 [==============================] - 10s 24ms/step - loss: 0.2028 - binary_accuracy: 0.9545\n",
      "Epoch 15/15\n",
      "443/442 [==============================] - 11s 24ms/step - loss: 0.2006 - binary_accuracy: 0.9538\n",
      "Train on 869099 samples, validate on 219633 samples\n",
      "Epoch 1/5\n",
      "869099/869099 [==============================] - 111s 128us/step - loss: 0.3812 - binary_accuracy: 0.9508 - val_loss: 1.0020 - val_binary_accuracy: 0.6201\n",
      "\n",
      "Epoch 00001: val_binary_accuracy improved from -inf to 0.62014, saving model to custom-dense-nn-weights.hdf5\n",
      "Epoch 2/5\n",
      "869099/869099 [==============================] - 77s 89us/step - loss: 0.2480 - binary_accuracy: 0.9607 - val_loss: 0.9927 - val_binary_accuracy: 0.6183\n",
      "\n",
      "Epoch 00002: val_binary_accuracy did not improve from 0.62014\n",
      "Epoch 3/5\n",
      "869099/869099 [==============================] - 77s 89us/step - loss: 0.2312 - binary_accuracy: 0.9617 - val_loss: 0.9210 - val_binary_accuracy: 0.6161\n",
      "\n",
      "Epoch 00003: val_binary_accuracy did not improve from 0.62014\n",
      "Epoch 4/5\n",
      "869099/869099 [==============================] - 77s 89us/step - loss: 0.2223 - binary_accuracy: 0.9623 - val_loss: 0.8470 - val_binary_accuracy: 0.6208\n",
      "\n",
      "Epoch 00004: val_binary_accuracy improved from 0.62014 to 0.62077, saving model to custom-dense-nn-weights.hdf5\n",
      "Epoch 5/5\n",
      "869099/869099 [==============================] - 78s 89us/step - loss: 0.2161 - binary_accuracy: 0.9623 - val_loss: 0.8189 - val_binary_accuracy: 0.6234\n",
      "\n",
      "Epoch 00005: val_binary_accuracy improved from 0.62077 to 0.62342, saving model to custom-dense-nn-weights.hdf5\n",
      "Epoch 1/5\n",
      "1088732/1088732 [==============================] - 110s 101us/step - loss: 0.3812 - binary_accuracy: 0.9500\n",
      "Epoch 2/5\n",
      "1088732/1088732 [==============================] - 78s 72us/step - loss: 0.2598 - binary_accuracy: 0.9593\n",
      "Epoch 3/5\n",
      "1088732/1088732 [==============================] - 78s 72us/step - loss: 0.2424 - binary_accuracy: 0.9607\n",
      "Epoch 4/5\n",
      "1088732/1088732 [==============================] - 78s 72us/step - loss: 0.2358 - binary_accuracy: 0.9606\n",
      "Epoch 5/5\n",
      "1088732/1088732 [==============================] - 78s 72us/step - loss: 0.2263 - binary_accuracy: 0.9612\n",
      "Training LR...\n"
     ]
    },
    {
     "name": "stderr",
     "output_type": "stream",
     "text": [
      "[Parallel(n_jobs=1)]: Using backend SequentialBackend with 1 concurrent workers.\n",
      "[Parallel(n_jobs=1)]: Done   1 out of   1 | elapsed:   33.4s finished\n",
      "[Parallel(n_jobs=1)]: Using backend SequentialBackend with 1 concurrent workers.\n",
      "[Parallel(n_jobs=1)]: Done   1 out of   1 | elapsed:   40.3s finished\n"
     ]
    },
    {
     "name": "stdout",
     "output_type": "stream",
     "text": [
      "First/Second level fold: 0/3 (42,) (10,)\n",
      "Epoch 1/15\n",
      "356/355 [==============================] - 46s 130ms/step - loss: 3.0894 - binary_accuracy: 0.8880 - val_loss: 1.3421 - val_binary_accuracy: 0.9446\n",
      "\n",
      "Epoch 00001: val_binary_accuracy improved from -inf to 0.94462, saving model to custom-cnn-weights.hdf5\n",
      "Epoch 2/15\n",
      "356/355 [==============================] - 9s 26ms/step - loss: 0.9214 - binary_accuracy: 0.9327 - val_loss: 0.6901 - val_binary_accuracy: 0.9263\n",
      "\n",
      "Epoch 00002: val_binary_accuracy did not improve from 0.94462\n",
      "Epoch 3/15\n",
      "356/355 [==============================] - 9s 26ms/step - loss: 0.5245 - binary_accuracy: 0.9391 - val_loss: 0.4591 - val_binary_accuracy: 0.9389\n",
      "\n",
      "Epoch 00003: val_binary_accuracy did not improve from 0.94462\n",
      "Epoch 4/15\n",
      "356/355 [==============================] - 9s 26ms/step - loss: 0.3930 - binary_accuracy: 0.9443 - val_loss: 0.4178 - val_binary_accuracy: 0.9399\n",
      "\n",
      "Epoch 00004: val_binary_accuracy did not improve from 0.94462\n",
      "Epoch 5/15\n",
      "356/355 [==============================] - 9s 26ms/step - loss: 0.3293 - binary_accuracy: 0.9465 - val_loss: 0.3764 - val_binary_accuracy: 0.9443\n",
      "\n",
      "Epoch 00005: val_binary_accuracy did not improve from 0.94462\n",
      "Epoch 6/15\n",
      "356/355 [==============================] - 9s 26ms/step - loss: 0.2915 - binary_accuracy: 0.9487 - val_loss: 0.3709 - val_binary_accuracy: 0.9364\n",
      "\n",
      "Epoch 00006: val_binary_accuracy did not improve from 0.94462\n",
      "Epoch 7/15\n",
      "356/355 [==============================] - 9s 26ms/step - loss: 0.2756 - binary_accuracy: 0.9491 - val_loss: 0.2573 - val_binary_accuracy: 0.9432\n",
      "\n",
      "Epoch 00007: val_binary_accuracy did not improve from 0.94462\n",
      "Epoch 8/15\n",
      "356/355 [==============================] - 9s 26ms/step - loss: 0.2607 - binary_accuracy: 0.9474 - val_loss: 0.3244 - val_binary_accuracy: 0.9435\n",
      "\n",
      "Epoch 00008: val_binary_accuracy did not improve from 0.94462\n",
      "Epoch 9/15\n",
      "356/355 [==============================] - 9s 26ms/step - loss: 0.2534 - binary_accuracy: 0.9496 - val_loss: 0.3023 - val_binary_accuracy: 0.9428\n",
      "\n",
      "Epoch 00009: val_binary_accuracy did not improve from 0.94462\n",
      "Epoch 10/15\n",
      "356/355 [==============================] - 9s 26ms/step - loss: 0.2466 - binary_accuracy: 0.9475 - val_loss: 0.3167 - val_binary_accuracy: 0.9417\n",
      "\n",
      "Epoch 00010: val_binary_accuracy did not improve from 0.94462\n",
      "Epoch 11/15\n",
      "356/355 [==============================] - 9s 26ms/step - loss: 0.2369 - binary_accuracy: 0.9492 - val_loss: 0.2586 - val_binary_accuracy: 0.9435\n",
      "\n",
      "Epoch 00011: val_binary_accuracy did not improve from 0.94462\n",
      "Epoch 12/15\n",
      "356/355 [==============================] - 9s 27ms/step - loss: 0.2302 - binary_accuracy: 0.9524 - val_loss: 0.2808 - val_binary_accuracy: 0.9403\n",
      "\n",
      "Epoch 00012: val_binary_accuracy did not improve from 0.94462\n",
      "Epoch 13/15\n",
      "356/355 [==============================] - 9s 26ms/step - loss: 0.2257 - binary_accuracy: 0.9520 - val_loss: 0.2516 - val_binary_accuracy: 0.9500\n",
      "\n",
      "Epoch 00013: val_binary_accuracy improved from 0.94462 to 0.95002, saving model to custom-cnn-weights.hdf5\n",
      "Epoch 14/15\n",
      "356/355 [==============================] - 9s 26ms/step - loss: 0.2182 - binary_accuracy: 0.9554 - val_loss: 0.3046 - val_binary_accuracy: 0.9425\n",
      "\n",
      "Epoch 00014: val_binary_accuracy did not improve from 0.95002\n",
      "Epoch 15/15\n",
      "356/355 [==============================] - 9s 26ms/step - loss: 0.2225 - binary_accuracy: 0.9520 - val_loss: 0.2760 - val_binary_accuracy: 0.9468\n",
      "\n",
      "Epoch 00015: val_binary_accuracy did not improve from 0.95002\n",
      "Epoch 1/15\n",
      "443/442 [==============================] - 45s 102ms/step - loss: 1.0053 - binary_accuracy: 0.9164\n",
      "Epoch 2/15\n",
      "443/442 [==============================] - 11s 25ms/step - loss: 0.3216 - binary_accuracy: 0.9416\n",
      "Epoch 3/15\n",
      "443/442 [==============================] - 11s 25ms/step - loss: 0.2786 - binary_accuracy: 0.9448\n",
      "Epoch 4/15\n",
      "443/442 [==============================] - 11s 24ms/step - loss: 0.2600 - binary_accuracy: 0.9452\n",
      "Epoch 5/15\n",
      "443/442 [==============================] - 11s 24ms/step - loss: 0.2423 - binary_accuracy: 0.9475\n",
      "Epoch 6/15\n",
      "443/442 [==============================] - 11s 24ms/step - loss: 0.2322 - binary_accuracy: 0.9502\n",
      "Epoch 7/15\n",
      "443/442 [==============================] - 11s 24ms/step - loss: 0.2217 - binary_accuracy: 0.9509\n",
      "Epoch 8/15\n",
      "443/442 [==============================] - 11s 24ms/step - loss: 0.2229 - binary_accuracy: 0.9507 2s - l\n",
      "Epoch 9/15\n",
      "443/442 [==============================] - 11s 24ms/step - loss: 0.2141 - binary_accuracy: 0.9536\n",
      "Epoch 10/15\n",
      "443/442 [==============================] - 11s 24ms/step - loss: 0.2074 - binary_accuracy: 0.9550\n",
      "Epoch 11/15\n",
      "443/442 [==============================] - 11s 25ms/step - loss: 0.2055 - binary_accuracy: 0.9539\n",
      "Epoch 12/15\n",
      "443/442 [==============================] - 12s 27ms/step - loss: 0.2121 - binary_accuracy: 0.9506\n",
      "Epoch 13/15\n",
      "443/442 [==============================] - 12s 27ms/step - loss: 0.2071 - binary_accuracy: 0.9540\n",
      "Epoch 14/15\n",
      "443/442 [==============================] - 12s 27ms/step - loss: 0.2030 - binary_accuracy: 0.9530\n",
      "Epoch 15/15\n",
      "443/442 [==============================] - 12s 27ms/step - loss: 0.2032 - binary_accuracy: 0.9544\n",
      "Train on 956683 samples, validate on 132049 samples\n",
      "Epoch 1/5\n",
      "956683/956683 [==============================] - 117s 123us/step - loss: 0.3785 - binary_accuracy: 0.9524 - val_loss: 0.4431 - val_binary_accuracy: 0.8431\n",
      "\n",
      "Epoch 00001: val_binary_accuracy improved from -inf to 0.84312, saving model to custom-dense-nn-weights.hdf5\n",
      "Epoch 2/5\n",
      "956683/956683 [==============================] - 79s 83us/step - loss: 0.2521 - binary_accuracy: 0.9623 - val_loss: 0.4535 - val_binary_accuracy: 0.8398\n",
      "\n",
      "Epoch 00002: val_binary_accuracy did not improve from 0.84312\n",
      "Epoch 3/5\n",
      "956683/956683 [==============================] - 79s 83us/step - loss: 0.2354 - binary_accuracy: 0.9633 - val_loss: 0.4349 - val_binary_accuracy: 0.8437\n",
      "\n",
      "Epoch 00003: val_binary_accuracy improved from 0.84312 to 0.84369, saving model to custom-dense-nn-weights.hdf5\n",
      "Epoch 4/5\n",
      "956683/956683 [==============================] - 78s 82us/step - loss: 0.2248 - binary_accuracy: 0.9638 - val_loss: 0.4481 - val_binary_accuracy: 0.8389\n",
      "\n",
      "Epoch 00004: val_binary_accuracy did not improve from 0.84369\n",
      "Epoch 5/5\n",
      "956683/956683 [==============================] - 78s 82us/step - loss: 0.2215 - binary_accuracy: 0.9631 - val_loss: 0.4314 - val_binary_accuracy: 0.8255\n",
      "\n",
      "Epoch 00005: val_binary_accuracy did not improve from 0.84369\n",
      "Epoch 1/5\n",
      "1088732/1088732 [==============================] - 121s 111us/step - loss: 0.3712 - binary_accuracy: 0.9519\n",
      "Epoch 2/5\n",
      "1088732/1088732 [==============================] - 86s 79us/step - loss: 0.2592 - binary_accuracy: 0.9594\n",
      "Epoch 3/5\n",
      "1088732/1088732 [==============================] - 86s 79us/step - loss: 0.2431 - binary_accuracy: 0.9603\n",
      "Epoch 4/5\n",
      "1088732/1088732 [==============================] - 86s 79us/step - loss: 0.2355 - binary_accuracy: 0.9600\n",
      "Epoch 5/5\n",
      "1088732/1088732 [==============================] - 86s 79us/step - loss: 0.2268 - binary_accuracy: 0.9601\n",
      "Training LR...\n"
     ]
    },
    {
     "name": "stderr",
     "output_type": "stream",
     "text": [
      "[Parallel(n_jobs=1)]: Using backend SequentialBackend with 1 concurrent workers.\n",
      "[Parallel(n_jobs=1)]: Done   1 out of   1 | elapsed:   36.6s finished\n",
      "[Parallel(n_jobs=1)]: Using backend SequentialBackend with 1 concurrent workers.\n",
      "[Parallel(n_jobs=1)]: Done   1 out of   1 | elapsed:   42.6s finished\n"
     ]
    },
    {
     "name": "stdout",
     "output_type": "stream",
     "text": [
      "First/Second level fold: 0/4 (42,) (10,)\n",
      "Epoch 1/15\n",
      "346/345 [==============================] - 51s 148ms/step - loss: 3.1480 - binary_accuracy: 0.8926 - val_loss: 1.4085 - val_binary_accuracy: 0.9153\n",
      "\n",
      "Epoch 00001: val_binary_accuracy improved from -inf to 0.91533, saving model to custom-cnn-weights.hdf5\n",
      "Epoch 2/15\n",
      "346/345 [==============================] - 11s 31ms/step - loss: 0.9115 - binary_accuracy: 0.9389 - val_loss: 0.5792 - val_binary_accuracy: 0.9652\n",
      "\n",
      "Epoch 00002: val_binary_accuracy improved from 0.91533 to 0.96523, saving model to custom-cnn-weights.hdf5\n",
      "Epoch 3/15\n",
      "346/345 [==============================] - 11s 31ms/step - loss: 0.5230 - binary_accuracy: 0.9388 - val_loss: 0.4410 - val_binary_accuracy: 0.9356\n",
      "\n",
      "Epoch 00003: val_binary_accuracy did not improve from 0.96523\n",
      "Epoch 4/15\n",
      "346/345 [==============================] - 11s 31ms/step - loss: 0.3880 - binary_accuracy: 0.9487 - val_loss: 0.3257 - val_binary_accuracy: 0.9601\n",
      "\n",
      "Epoch 00004: val_binary_accuracy did not improve from 0.96523\n",
      "Epoch 5/15\n",
      "346/345 [==============================] - 11s 31ms/step - loss: 0.3394 - binary_accuracy: 0.9453 - val_loss: 0.2981 - val_binary_accuracy: 0.9623\n",
      "\n",
      "Epoch 00005: val_binary_accuracy did not improve from 0.96523\n",
      "Epoch 6/15\n",
      "346/345 [==============================] - 11s 31ms/step - loss: 0.3012 - binary_accuracy: 0.9486 - val_loss: 0.2696 - val_binary_accuracy: 0.9524\n",
      "\n",
      "Epoch 00006: val_binary_accuracy did not improve from 0.96523\n",
      "Epoch 7/15\n",
      "346/345 [==============================] - 11s 31ms/step - loss: 0.2898 - binary_accuracy: 0.9465 - val_loss: 0.2384 - val_binary_accuracy: 0.9620\n",
      "\n",
      "Epoch 00007: val_binary_accuracy did not improve from 0.96523\n",
      "Epoch 8/15\n",
      "346/345 [==============================] - 11s 31ms/step - loss: 0.2668 - binary_accuracy: 0.9516 - val_loss: 0.2260 - val_binary_accuracy: 0.9604\n",
      "\n",
      "Epoch 00008: val_binary_accuracy did not improve from 0.96523\n",
      "Epoch 9/15\n",
      "346/345 [==============================] - 11s 31ms/step - loss: 0.2512 - binary_accuracy: 0.9509 - val_loss: 0.2605 - val_binary_accuracy: 0.9401\n",
      "\n",
      "Epoch 00009: val_binary_accuracy did not improve from 0.96523\n",
      "Epoch 10/15\n",
      "346/345 [==============================] - 11s 31ms/step - loss: 0.2467 - binary_accuracy: 0.9512 - val_loss: 0.3035 - val_binary_accuracy: 0.9185\n",
      "\n",
      "Epoch 00010: val_binary_accuracy did not improve from 0.96523\n",
      "Epoch 11/15\n",
      "346/345 [==============================] - 11s 31ms/step - loss: 0.2313 - binary_accuracy: 0.9554 - val_loss: 0.2015 - val_binary_accuracy: 0.9720\n",
      "\n",
      "Epoch 00011: val_binary_accuracy improved from 0.96523 to 0.97199, saving model to custom-cnn-weights.hdf5\n",
      "Epoch 12/15\n",
      "346/345 [==============================] - 11s 31ms/step - loss: 0.2239 - binary_accuracy: 0.9568 - val_loss: 0.1805 - val_binary_accuracy: 0.9784\n",
      "\n",
      "Epoch 00012: val_binary_accuracy improved from 0.97199 to 0.97843, saving model to custom-cnn-weights.hdf5\n",
      "Epoch 13/15\n",
      "346/345 [==============================] - 10s 29ms/step - loss: 0.2265 - binary_accuracy: 0.9533 - val_loss: 0.2202 - val_binary_accuracy: 0.9556\n",
      "\n",
      "Epoch 00013: val_binary_accuracy did not improve from 0.97843\n",
      "Epoch 14/15\n",
      "346/345 [==============================] - 10s 28ms/step - loss: 0.2140 - binary_accuracy: 0.9576 - val_loss: 0.2257 - val_binary_accuracy: 0.9527\n",
      "\n",
      "Epoch 00014: val_binary_accuracy did not improve from 0.97843\n",
      "Epoch 15/15\n",
      "346/345 [==============================] - 10s 28ms/step - loss: 0.2158 - binary_accuracy: 0.9568 - val_loss: 0.1754 - val_binary_accuracy: 0.9675\n",
      "\n",
      "Epoch 00015: val_binary_accuracy did not improve from 0.97843\n",
      "Epoch 1/15\n",
      "443/442 [==============================] - 51s 115ms/step - loss: 1.0644 - binary_accuracy: 0.9195\n",
      "Epoch 2/15\n",
      "443/442 [==============================] - 11s 25ms/step - loss: 0.3458 - binary_accuracy: 0.9398\n",
      "Epoch 3/15\n",
      "443/442 [==============================] - 11s 25ms/step - loss: 0.2880 - binary_accuracy: 0.9439\n",
      "Epoch 4/15\n",
      "443/442 [==============================] - 11s 24ms/step - loss: 0.2570 - binary_accuracy: 0.9475\n",
      "Epoch 5/15\n",
      "443/442 [==============================] - 11s 25ms/step - loss: 0.2511 - binary_accuracy: 0.9471\n",
      "Epoch 6/15\n",
      "443/442 [==============================] - 11s 24ms/step - loss: 0.2367 - binary_accuracy: 0.9492\n",
      "Epoch 7/15\n",
      "443/442 [==============================] - 11s 25ms/step - loss: 0.2437 - binary_accuracy: 0.9470\n",
      "Epoch 8/15\n",
      "443/442 [==============================] - 11s 25ms/step - loss: 0.2259 - binary_accuracy: 0.9515\n",
      "Epoch 9/15\n",
      "443/442 [==============================] - 11s 25ms/step - loss: 0.2184 - binary_accuracy: 0.9529\n",
      "Epoch 10/15\n",
      "443/442 [==============================] - 11s 25ms/step - loss: 0.2193 - binary_accuracy: 0.9502\n",
      "Epoch 11/15\n",
      "443/442 [==============================] - 11s 25ms/step - loss: 0.2134 - binary_accuracy: 0.9537\n",
      "Epoch 12/15\n",
      "443/442 [==============================] - 11s 25ms/step - loss: 0.2090 - binary_accuracy: 0.9541\n",
      "Epoch 13/15\n",
      "443/442 [==============================] - 11s 24ms/step - loss: 0.2094 - binary_accuracy: 0.9537 1s - loss: 0.2098 - \n",
      "Epoch 14/15\n",
      "443/442 [==============================] - 11s 25ms/step - loss: 0.2121 - binary_accuracy: 0.9515\n",
      "Epoch 15/15\n",
      "443/442 [==============================] - 11s 25ms/step - loss: 0.1993 - binary_accuracy: 0.9557 1s - loss: 0.2011\n",
      "Train on 702210 samples, validate on 386522 samples\n",
      "Epoch 1/5\n",
      "702210/702210 [==============================] - 118s 167us/step - loss: 0.3892 - binary_accuracy: 0.9565 - val_loss: 0.6956 - val_binary_accuracy: 0.7690\n",
      "\n",
      "Epoch 00001: val_binary_accuracy improved from -inf to 0.76897, saving model to custom-dense-nn-weights.hdf5\n",
      "Epoch 2/5\n",
      "702210/702210 [==============================] - 75s 107us/step - loss: 0.2355 - binary_accuracy: 0.9670 - val_loss: 0.6926 - val_binary_accuracy: 0.8026\n",
      "\n",
      "Epoch 00002: val_binary_accuracy improved from 0.76897 to 0.80265, saving model to custom-dense-nn-weights.hdf5\n",
      "Epoch 3/5\n",
      "702210/702210 [==============================] - 76s 108us/step - loss: 0.2177 - binary_accuracy: 0.9676 - val_loss: 0.5994 - val_binary_accuracy: 0.8033\n",
      "\n",
      "Epoch 00003: val_binary_accuracy improved from 0.80265 to 0.80334, saving model to custom-dense-nn-weights.hdf5\n",
      "Epoch 4/5\n",
      "702210/702210 [==============================] - 75s 107us/step - loss: 0.2041 - binary_accuracy: 0.9682 - val_loss: 0.6538 - val_binary_accuracy: 0.7740\n",
      "\n",
      "Epoch 00004: val_binary_accuracy did not improve from 0.80334\n",
      "Epoch 5/5\n",
      "702210/702210 [==============================] - 76s 108us/step - loss: 0.1962 - binary_accuracy: 0.9682 - val_loss: 0.7038 - val_binary_accuracy: 0.7604\n",
      "\n",
      "Epoch 00005: val_binary_accuracy did not improve from 0.80334\n",
      "Epoch 1/5\n",
      "1088732/1088732 [==============================] - 137s 125us/step - loss: 0.3715 - binary_accuracy: 0.9488\n",
      "Epoch 2/5\n",
      "1088732/1088732 [==============================] - 98s 90us/step - loss: 0.2545 - binary_accuracy: 0.9600\n",
      "Epoch 3/5\n",
      "1088732/1088732 [==============================] - 97s 89us/step - loss: 0.2383 - binary_accuracy: 0.9611\n",
      "Epoch 4/5\n",
      "1088732/1088732 [==============================] - 96s 88us/step - loss: 0.2320 - binary_accuracy: 0.9613\n",
      "Epoch 5/5\n",
      "1088732/1088732 [==============================] - 96s 88us/step - loss: 0.2268 - binary_accuracy: 0.9616\n",
      "Training LR...\n"
     ]
    },
    {
     "name": "stderr",
     "output_type": "stream",
     "text": [
      "[Parallel(n_jobs=1)]: Using backend SequentialBackend with 1 concurrent workers.\n",
      "[Parallel(n_jobs=1)]: Done   1 out of   1 | elapsed:   28.4s finished\n",
      "[Parallel(n_jobs=1)]: Using backend SequentialBackend with 1 concurrent workers.\n",
      "[Parallel(n_jobs=1)]: Done   1 out of   1 | elapsed:   40.2s finished\n"
     ]
    },
    {
     "name": "stdout",
     "output_type": "stream",
     "text": [
      "Training Blender...\n",
      "[LibLinear][LibLinear][LibLinear][LibLinear][LibLinear][LibLinear][LibLinear][LibLinear][LibLinear][LibLinear][LibLinear]"
     ]
    },
    {
     "name": "stderr",
     "output_type": "stream",
     "text": [
      "[Parallel(n_jobs=1)]: Using backend SequentialBackend with 1 concurrent workers.\n"
     ]
    },
    {
     "name": "stdout",
     "output_type": "stream",
     "text": [
      "[LibLinear][LibLinear][LibLinear][LibLinear][LibLinear][LibLinear][LibLinear][LibLinear][LibLinear][LibLinear][LibLinear][LibLinear][LibLinear][LibLinear][LibLinear][LibLinear][LibLinear][LibLinear][LibLinear][LibLinear][LibLinear][LibLinear][LibLinear][LibLinear][LibLinear][LibLinear][LibLinear][LibLinear][LibLinear][LibLinear][LibLinear][LibLinear][LibLinear][LibLinear][LibLinear][LibLinear][LibLinear][LibLinear][LibLinear]           f1      prec    recall       acc model  fold\n",
      "on   0.977313  0.985202  0.969550  0.973671   cnn     0\n",
      "off  0.968635  0.958029  0.979478  0.973671   cnn     0\n",
      "\n",
      "           f1      prec    recall       acc model  fold\n",
      "on   0.966615  0.968542  0.964695  0.961022    nn     0\n",
      "off  0.953178  0.950526  0.955846  0.961022    nn     0\n",
      "\n",
      "           f1      prec    recall       acc model  fold\n",
      "on   0.944420  0.936632  0.952339  0.934435    lr     0\n",
      "off  0.920076  0.931210  0.909204  0.934435    lr     0\n",
      "\n",
      "           f1     prec    recall       acc  model  fold\n",
      "on   0.987437  0.98635  0.988526  0.985287  blend     0\n",
      "off  0.982249  0.98378  0.980721  0.985287  blend     0\n",
      "\n"
     ]
    },
    {
     "name": "stderr",
     "output_type": "stream",
     "text": [
      "[Parallel(n_jobs=1)]: Done   5 out of   5 | elapsed:    0.9s finished\n"
     ]
    },
    {
     "name": "stdout",
     "output_type": "stream",
     "text": [
      "           f1      prec    recall       acc model  fold\n",
      "on   0.987638  0.988074  0.987202  0.985545  mean     0\n",
      "off  0.982598  0.981988  0.983209  0.985545  mean     0\n",
      "\n",
      "           f1      prec    recall       acc  model  fold\n",
      "on   0.987219  0.985915  0.988526  0.985028  gmean     0\n",
      "off  0.981931  0.983770  0.980100  0.985028  gmean     0\n",
      "\n",
      "First level fold: 1 (53,) (13,)\n",
      "First/Second level fold: 1/0 (42,) (11,)\n",
      "Epoch 1/15\n",
      "368/367 [==============================] - 54s 146ms/step - loss: 3.1143 - binary_accuracy: 0.8952 - val_loss: 1.5244 - val_binary_accuracy: 0.8520\n",
      "\n",
      "Epoch 00001: val_binary_accuracy improved from -inf to 0.85199, saving model to custom-cnn-weights.hdf5\n",
      "Epoch 2/15\n",
      "368/367 [==============================] - 11s 29ms/step - loss: 0.9053 - binary_accuracy: 0.9423 - val_loss: 0.7969 - val_binary_accuracy: 0.8633\n",
      "\n",
      "Epoch 00002: val_binary_accuracy improved from 0.85199 to 0.86328, saving model to custom-cnn-weights.hdf5\n",
      "Epoch 3/15\n",
      "368/367 [==============================] - 11s 31ms/step - loss: 0.5117 - binary_accuracy: 0.9492 - val_loss: 0.6044 - val_binary_accuracy: 0.8840\n",
      "\n",
      "Epoch 00003: val_binary_accuracy improved from 0.86328 to 0.88398, saving model to custom-cnn-weights.hdf5\n",
      "Epoch 4/15\n",
      "368/367 [==============================] - 11s 31ms/step - loss: 0.3891 - binary_accuracy: 0.9495 - val_loss: 0.3435 - val_binary_accuracy: 0.9577\n",
      "\n",
      "Epoch 00004: val_binary_accuracy improved from 0.88398 to 0.95767, saving model to custom-cnn-weights.hdf5\n",
      "Epoch 5/15\n",
      "368/367 [==============================] - 11s 31ms/step - loss: 0.3325 - binary_accuracy: 0.9511 - val_loss: 0.3514 - val_binary_accuracy: 0.9313\n",
      "\n",
      "Epoch 00005: val_binary_accuracy did not improve from 0.95767\n",
      "Epoch 6/15\n",
      "368/367 [==============================] - 11s 31ms/step - loss: 0.3003 - binary_accuracy: 0.9523 - val_loss: 0.3487 - val_binary_accuracy: 0.9182\n",
      "\n",
      "Epoch 00006: val_binary_accuracy did not improve from 0.95767\n",
      "Epoch 7/15\n",
      "368/367 [==============================] - 11s 31ms/step - loss: 0.2749 - binary_accuracy: 0.9526 - val_loss: 0.3019 - val_binary_accuracy: 0.9282\n",
      "\n",
      "Epoch 00007: val_binary_accuracy did not improve from 0.95767\n",
      "Epoch 8/15\n",
      "368/367 [==============================] - 11s 31ms/step - loss: 0.2560 - binary_accuracy: 0.9541 - val_loss: 0.2546 - val_binary_accuracy: 0.9514\n",
      "\n",
      "Epoch 00008: val_binary_accuracy did not improve from 0.95767\n",
      "Epoch 9/15\n",
      "368/367 [==============================] - 11s 31ms/step - loss: 0.2421 - binary_accuracy: 0.9564 - val_loss: 0.2594 - val_binary_accuracy: 0.9479\n",
      "\n",
      "Epoch 00009: val_binary_accuracy did not improve from 0.95767\n",
      "Epoch 10/15\n",
      "368/367 [==============================] - 11s 31ms/step - loss: 0.2420 - binary_accuracy: 0.9531 - val_loss: 0.2821 - val_binary_accuracy: 0.9389\n",
      "\n",
      "Epoch 00010: val_binary_accuracy did not improve from 0.95767\n",
      "Epoch 11/15\n",
      "368/367 [==============================] - 11s 31ms/step - loss: 0.2276 - binary_accuracy: 0.9577 - val_loss: 0.2292 - val_binary_accuracy: 0.9530\n",
      "\n",
      "Epoch 00011: val_binary_accuracy did not improve from 0.95767\n",
      "Epoch 12/15\n",
      "368/367 [==============================] - 11s 31ms/step - loss: 0.2193 - binary_accuracy: 0.9594 - val_loss: 0.2193 - val_binary_accuracy: 0.9602\n",
      "\n",
      "Epoch 00012: val_binary_accuracy improved from 0.95767 to 0.96018, saving model to custom-cnn-weights.hdf5\n",
      "Epoch 13/15\n",
      "368/367 [==============================] - 11s 31ms/step - loss: 0.2230 - binary_accuracy: 0.9576 - val_loss: 0.2706 - val_binary_accuracy: 0.9360\n",
      "\n",
      "Epoch 00013: val_binary_accuracy did not improve from 0.96018\n",
      "Epoch 14/15\n",
      "368/367 [==============================] - 11s 31ms/step - loss: 0.2039 - binary_accuracy: 0.9628 - val_loss: 0.2340 - val_binary_accuracy: 0.9467\n",
      "\n",
      "Epoch 00014: val_binary_accuracy did not improve from 0.96018\n",
      "Epoch 15/15\n",
      "368/367 [==============================] - 11s 31ms/step - loss: 0.2043 - binary_accuracy: 0.9623 - val_loss: 0.1908 - val_binary_accuracy: 0.9708\n",
      "\n",
      "Epoch 00015: val_binary_accuracy improved from 0.96018 to 0.97084, saving model to custom-cnn-weights.hdf5\n",
      "Epoch 1/15\n",
      "468/467 [==============================] - 55s 118ms/step - loss: 0.9979 - binary_accuracy: 0.9124\n",
      "Epoch 2/15\n",
      "468/467 [==============================] - 13s 28ms/step - loss: 0.3335 - binary_accuracy: 0.9360\n",
      "Epoch 3/15\n",
      "468/467 [==============================] - 13s 28ms/step - loss: 0.2838 - binary_accuracy: 0.9440\n",
      "Epoch 4/15\n",
      "468/467 [==============================] - 13s 28ms/step - loss: 0.2660 - binary_accuracy: 0.9441\n",
      "Epoch 5/15\n",
      "468/467 [==============================] - 13s 28ms/step - loss: 0.2518 - binary_accuracy: 0.9489\n",
      "Epoch 6/15\n",
      "468/467 [==============================] - 13s 28ms/step - loss: 0.2348 - binary_accuracy: 0.9509\n",
      "Epoch 7/15\n",
      "468/467 [==============================] - 13s 28ms/step - loss: 0.2282 - binary_accuracy: 0.9521\n",
      "Epoch 8/15\n",
      "468/467 [==============================] - 13s 28ms/step - loss: 0.2281 - binary_accuracy: 0.9525\n",
      "Epoch 9/15\n",
      "468/467 [==============================] - 13s 28ms/step - loss: 0.2215 - binary_accuracy: 0.9527\n",
      "Epoch 10/15\n",
      "468/467 [==============================] - 13s 28ms/step - loss: 0.2155 - binary_accuracy: 0.9538\n",
      "Epoch 11/15\n",
      "468/467 [==============================] - 13s 28ms/step - loss: 0.2145 - binary_accuracy: 0.9533\n",
      "Epoch 12/15\n",
      "468/467 [==============================] - 13s 27ms/step - loss: 0.2053 - binary_accuracy: 0.9559\n",
      "Epoch 13/15\n",
      "468/467 [==============================] - 12s 25ms/step - loss: 0.2081 - binary_accuracy: 0.9565\n",
      "Epoch 14/15\n",
      "468/467 [==============================] - 12s 25ms/step - loss: 0.2021 - binary_accuracy: 0.9562\n",
      "Epoch 15/15\n",
      "468/467 [==============================] - 12s 25ms/step - loss: 0.1998 - binary_accuracy: 0.9570\n",
      "Train on 684959 samples, validate on 244858 samples\n",
      "Epoch 1/5\n",
      "684959/684959 [==============================] - 108s 157us/step - loss: 0.4143 - binary_accuracy: 0.9465 - val_loss: 0.5095 - val_binary_accuracy: 0.8401\n",
      "\n",
      "Epoch 00001: val_binary_accuracy improved from -inf to 0.84008, saving model to custom-dense-nn-weights.hdf5\n",
      "Epoch 2/5\n",
      "684959/684959 [==============================] - 63s 92us/step - loss: 0.2568 - binary_accuracy: 0.9599 - val_loss: 0.6679 - val_binary_accuracy: 0.7423\n",
      "\n",
      "Epoch 00002: val_binary_accuracy did not improve from 0.84008\n",
      "Epoch 3/5\n",
      "684959/684959 [==============================] - 63s 92us/step - loss: 0.2331 - binary_accuracy: 0.9612 - val_loss: 0.5585 - val_binary_accuracy: 0.8115\n",
      "\n",
      "Epoch 00003: val_binary_accuracy did not improve from 0.84008\n",
      "Epoch 4/5\n",
      "684959/684959 [==============================] - 63s 91us/step - loss: 0.2194 - binary_accuracy: 0.9624 - val_loss: 0.6364 - val_binary_accuracy: 0.7768\n",
      "\n",
      "Epoch 00004: val_binary_accuracy did not improve from 0.84008\n",
      "Epoch 5/5\n",
      "684959/684959 [==============================] - 63s 92us/step - loss: 0.2121 - binary_accuracy: 0.9627 - val_loss: 0.5767 - val_binary_accuracy: 0.7800\n",
      "\n",
      "Epoch 00005: val_binary_accuracy did not improve from 0.84008\n",
      "Epoch 1/5\n",
      "929817/929817 [==============================] - 111s 119us/step - loss: 0.3805 - binary_accuracy: 0.9503\n",
      "Epoch 2/5\n",
      "929817/929817 [==============================] - 69s 74us/step - loss: 0.2522 - binary_accuracy: 0.9591\n",
      "Epoch 3/5\n",
      "929817/929817 [==============================] - 69s 75us/step - loss: 0.2305 - binary_accuracy: 0.9613\n",
      "Epoch 4/5\n",
      "929817/929817 [==============================] - 70s 75us/step - loss: 0.2214 - binary_accuracy: 0.9620\n",
      "Epoch 5/5\n",
      "929817/929817 [==============================] - 70s 75us/step - loss: 0.2179 - binary_accuracy: 0.9624\n",
      "Training LR...\n"
     ]
    },
    {
     "name": "stderr",
     "output_type": "stream",
     "text": [
      "[Parallel(n_jobs=1)]: Using backend SequentialBackend with 1 concurrent workers.\n",
      "[Parallel(n_jobs=1)]: Done   1 out of   1 | elapsed:   28.1s finished\n",
      "[Parallel(n_jobs=1)]: Using backend SequentialBackend with 1 concurrent workers.\n",
      "[Parallel(n_jobs=1)]: Done   1 out of   1 | elapsed:   37.4s finished\n"
     ]
    },
    {
     "name": "stdout",
     "output_type": "stream",
     "text": [
      "First/Second level fold: 1/1 (42,) (11,)\n",
      "Epoch 1/15\n",
      "389/388 [==============================] - 59s 150ms/step - loss: 3.0170 - binary_accuracy: 0.8757 - val_loss: 1.2558 - val_binary_accuracy: 0.9516\n",
      "\n",
      "Epoch 00001: val_binary_accuracy improved from -inf to 0.95161, saving model to custom-cnn-weights.hdf5\n",
      "Epoch 2/15\n",
      "389/388 [==============================] - 11s 27ms/step - loss: 0.8712 - binary_accuracy: 0.9313 - val_loss: 0.5275 - val_binary_accuracy: 0.9786\n",
      "\n",
      "Epoch 00002: val_binary_accuracy improved from 0.95161 to 0.97858, saving model to custom-cnn-weights.hdf5\n",
      "Epoch 3/15\n",
      "389/388 [==============================] - 11s 28ms/step - loss: 0.5236 - binary_accuracy: 0.9345 - val_loss: 0.3704 - val_binary_accuracy: 0.9841\n",
      "\n",
      "Epoch 00003: val_binary_accuracy improved from 0.97858 to 0.98413, saving model to custom-cnn-weights.hdf5\n",
      "Epoch 4/15\n",
      "389/388 [==============================] - 11s 28ms/step - loss: 0.4063 - binary_accuracy: 0.9403 - val_loss: 0.3016 - val_binary_accuracy: 0.9754\n",
      "\n",
      "Epoch 00004: val_binary_accuracy did not improve from 0.98413\n",
      "Epoch 5/15\n",
      "389/388 [==============================] - 11s 28ms/step - loss: 0.3459 - binary_accuracy: 0.9424 - val_loss: 0.2523 - val_binary_accuracy: 0.9750\n",
      "\n",
      "Epoch 00005: val_binary_accuracy did not improve from 0.98413\n",
      "Epoch 6/15\n",
      "389/388 [==============================] - 11s 27ms/step - loss: 0.3042 - binary_accuracy: 0.9458 - val_loss: 0.2225 - val_binary_accuracy: 0.9829\n",
      "\n",
      "Epoch 00006: val_binary_accuracy did not improve from 0.98413\n",
      "Epoch 7/15\n",
      "389/388 [==============================] - 11s 27ms/step - loss: 0.2924 - binary_accuracy: 0.9452 - val_loss: 0.1896 - val_binary_accuracy: 0.9881\n",
      "\n",
      "Epoch 00007: val_binary_accuracy improved from 0.98413 to 0.98810, saving model to custom-cnn-weights.hdf5\n",
      "Epoch 8/15\n",
      "389/388 [==============================] - 11s 27ms/step - loss: 0.2746 - binary_accuracy: 0.9476 - val_loss: 0.1893 - val_binary_accuracy: 0.9825\n",
      "\n",
      "Epoch 00008: val_binary_accuracy did not improve from 0.98810\n",
      "Epoch 9/15\n",
      "389/388 [==============================] - 11s 28ms/step - loss: 0.2624 - binary_accuracy: 0.9473 - val_loss: 0.1652 - val_binary_accuracy: 0.9853\n",
      "\n",
      "Epoch 00009: val_binary_accuracy did not improve from 0.98810\n",
      "Epoch 10/15\n",
      "389/388 [==============================] - 11s 27ms/step - loss: 0.2478 - binary_accuracy: 0.9499 - val_loss: 0.2007 - val_binary_accuracy: 0.9766\n",
      "\n",
      "Epoch 00010: val_binary_accuracy did not improve from 0.98810\n",
      "Epoch 11/15\n",
      "389/388 [==============================] - 11s 28ms/step - loss: 0.2492 - binary_accuracy: 0.9479 - val_loss: 0.1669 - val_binary_accuracy: 0.9853\n",
      "\n",
      "Epoch 00011: val_binary_accuracy did not improve from 0.98810\n",
      "Epoch 12/15\n",
      "389/388 [==============================] - 11s 27ms/step - loss: 0.2406 - binary_accuracy: 0.9517 - val_loss: 0.2712 - val_binary_accuracy: 0.9258\n",
      "\n",
      "Epoch 00012: val_binary_accuracy did not improve from 0.98810\n",
      "Epoch 13/15\n",
      "389/388 [==============================] - 11s 27ms/step - loss: 0.2364 - binary_accuracy: 0.9511 - val_loss: 0.1675 - val_binary_accuracy: 0.9802\n",
      "\n",
      "Epoch 00013: val_binary_accuracy did not improve from 0.98810\n",
      "Epoch 14/15\n",
      "389/388 [==============================] - 11s 27ms/step - loss: 0.2352 - binary_accuracy: 0.9508 - val_loss: 0.1378 - val_binary_accuracy: 0.9905\n",
      "\n",
      "Epoch 00014: val_binary_accuracy improved from 0.98810 to 0.99048, saving model to custom-cnn-weights.hdf5\n",
      "Epoch 15/15\n",
      "389/388 [==============================] - 11s 28ms/step - loss: 0.2181 - binary_accuracy: 0.9568 - val_loss: 0.1647 - val_binary_accuracy: 0.9837\n",
      "\n",
      "Epoch 00015: val_binary_accuracy did not improve from 0.99048\n",
      "Epoch 1/15\n",
      "468/467 [==============================] - 58s 124ms/step - loss: 1.0247 - binary_accuracy: 0.9150\n",
      "Epoch 2/15\n",
      "468/467 [==============================] - 13s 29ms/step - loss: 0.3429 - binary_accuracy: 0.9408\n",
      "Epoch 3/15\n",
      "468/467 [==============================] - 13s 29ms/step - loss: 0.2936 - binary_accuracy: 0.9440\n",
      "Epoch 4/15\n",
      "468/467 [==============================] - 14s 29ms/step - loss: 0.2683 - binary_accuracy: 0.9459\n",
      "Epoch 5/15\n",
      "468/467 [==============================] - 13s 29ms/step - loss: 0.2489 - binary_accuracy: 0.9475\n",
      "Epoch 6/15\n",
      "468/467 [==============================] - 14s 29ms/step - loss: 0.2480 - binary_accuracy: 0.9457\n",
      "Epoch 7/15\n",
      "468/467 [==============================] - 13s 29ms/step - loss: 0.2345 - binary_accuracy: 0.9509\n",
      "Epoch 8/15\n",
      "468/467 [==============================] - 13s 29ms/step - loss: 0.2320 - binary_accuracy: 0.9484\n",
      "Epoch 9/15\n",
      "468/467 [==============================] - 14s 29ms/step - loss: 0.2227 - binary_accuracy: 0.9519\n",
      "Epoch 10/15\n",
      "468/467 [==============================] - 13s 29ms/step - loss: 0.2180 - binary_accuracy: 0.9532\n",
      "Epoch 11/15\n",
      "468/467 [==============================] - 14s 29ms/step - loss: 0.2220 - binary_accuracy: 0.9506\n",
      "Epoch 12/15\n",
      "468/467 [==============================] - 13s 29ms/step - loss: 0.2158 - binary_accuracy: 0.9539\n",
      "Epoch 13/15\n",
      "468/467 [==============================] - 13s 29ms/step - loss: 0.2033 - binary_accuracy: 0.9560\n",
      "Epoch 14/15\n",
      "468/467 [==============================] - 14s 29ms/step - loss: 0.2092 - binary_accuracy: 0.9545\n",
      "Epoch 15/15\n",
      "468/467 [==============================] - 14s 29ms/step - loss: 0.2022 - binary_accuracy: 0.9567\n",
      "Train on 737052 samples, validate on 192765 samples\n",
      "Epoch 1/5\n",
      "737052/737052 [==============================] - 124s 168us/step - loss: 0.3987 - binary_accuracy: 0.9465 - val_loss: 0.7729 - val_binary_accuracy: 0.7329\n",
      "\n",
      "Epoch 00001: val_binary_accuracy improved from -inf to 0.73288, saving model to custom-dense-nn-weights.hdf5\n",
      "Epoch 2/5\n",
      "737052/737052 [==============================] - 74s 100us/step - loss: 0.2483 - binary_accuracy: 0.9596 - val_loss: 0.7133 - val_binary_accuracy: 0.7154\n",
      "\n",
      "Epoch 00002: val_binary_accuracy did not improve from 0.73288\n",
      "Epoch 3/5\n",
      "737052/737052 [==============================] - 73s 99us/step - loss: 0.2263 - binary_accuracy: 0.9617 - val_loss: 0.6548 - val_binary_accuracy: 0.7765\n",
      "\n",
      "Epoch 00003: val_binary_accuracy improved from 0.73288 to 0.77647, saving model to custom-dense-nn-weights.hdf5\n",
      "Epoch 4/5\n",
      "737052/737052 [==============================] - 73s 99us/step - loss: 0.2157 - binary_accuracy: 0.9626 - val_loss: 0.8569 - val_binary_accuracy: 0.5508\n",
      "\n",
      "Epoch 00004: val_binary_accuracy did not improve from 0.77647\n",
      "Epoch 5/5\n",
      "737052/737052 [==============================] - 73s 99us/step - loss: 0.2081 - binary_accuracy: 0.9629 - val_loss: 0.7839 - val_binary_accuracy: 0.6956\n",
      "\n",
      "Epoch 00005: val_binary_accuracy did not improve from 0.77647\n",
      "Epoch 1/5\n",
      "929817/929817 [==============================] - 124s 133us/step - loss: 0.3909 - binary_accuracy: 0.9497\n",
      "Epoch 2/5\n",
      "929817/929817 [==============================] - 77s 83us/step - loss: 0.2608 - binary_accuracy: 0.9590\n",
      "Epoch 3/5\n",
      "929817/929817 [==============================] - 78s 83us/step - loss: 0.2410 - binary_accuracy: 0.9593\n",
      "Epoch 4/5\n",
      "929817/929817 [==============================] - 77s 83us/step - loss: 0.2312 - binary_accuracy: 0.9595\n",
      "Epoch 5/5\n",
      "929817/929817 [==============================] - 77s 83us/step - loss: 0.2266 - binary_accuracy: 0.9597\n",
      "Training LR...\n"
     ]
    },
    {
     "name": "stderr",
     "output_type": "stream",
     "text": [
      "[Parallel(n_jobs=1)]: Using backend SequentialBackend with 1 concurrent workers.\n",
      "[Parallel(n_jobs=1)]: Done   1 out of   1 | elapsed:   26.8s finished\n",
      "[Parallel(n_jobs=1)]: Using backend SequentialBackend with 1 concurrent workers.\n",
      "[Parallel(n_jobs=1)]: Done   1 out of   1 | elapsed:   29.3s finished\n"
     ]
    },
    {
     "name": "stdout",
     "output_type": "stream",
     "text": [
      "First/Second level fold: 1/2 (42,) (11,)\n",
      "Epoch 1/15\n",
      "376/375 [==============================] - 64s 171ms/step - loss: 3.1091 - binary_accuracy: 0.8842 - val_loss: 1.3931 - val_binary_accuracy: 0.9110\n",
      "\n",
      "Epoch 00001: val_binary_accuracy improved from -inf to 0.91098, saving model to custom-cnn-weights.hdf5\n",
      "Epoch 2/15\n",
      "376/375 [==============================] - 12s 31ms/step - loss: 0.9127 - binary_accuracy: 0.9354 - val_loss: 0.6553 - val_binary_accuracy: 0.9260\n",
      "\n",
      "Epoch 00002: val_binary_accuracy improved from 0.91098 to 0.92599, saving model to custom-cnn-weights.hdf5\n",
      "Epoch 3/15\n",
      "376/375 [==============================] - 12s 31ms/step - loss: 0.5134 - binary_accuracy: 0.9441 - val_loss: 0.4363 - val_binary_accuracy: 0.9359\n",
      "\n",
      "Epoch 00003: val_binary_accuracy improved from 0.92599 to 0.93588, saving model to custom-cnn-weights.hdf5\n",
      "Epoch 4/15\n",
      "376/375 [==============================] - 12s 32ms/step - loss: 0.3827 - binary_accuracy: 0.9505 - val_loss: 0.4263 - val_binary_accuracy: 0.9308\n",
      "\n",
      "Epoch 00004: val_binary_accuracy did not improve from 0.93588\n",
      "Epoch 5/15\n",
      "376/375 [==============================] - 12s 31ms/step - loss: 0.3248 - binary_accuracy: 0.9529 - val_loss: 0.4345 - val_binary_accuracy: 0.9100\n",
      "\n",
      "Epoch 00005: val_binary_accuracy did not improve from 0.93588\n",
      "Epoch 6/15\n",
      "376/375 [==============================] - 12s 31ms/step - loss: 0.2970 - binary_accuracy: 0.9533 - val_loss: 0.2842 - val_binary_accuracy: 0.9441\n",
      "\n",
      "Epoch 00006: val_binary_accuracy improved from 0.93588 to 0.94407, saving model to custom-cnn-weights.hdf5\n",
      "Epoch 7/15\n",
      "376/375 [==============================] - 12s 32ms/step - loss: 0.2642 - binary_accuracy: 0.9551 - val_loss: 0.3558 - val_binary_accuracy: 0.9195\n",
      "\n",
      "Epoch 00007: val_binary_accuracy did not improve from 0.94407\n",
      "Epoch 8/15\n",
      "376/375 [==============================] - 12s 32ms/step - loss: 0.2550 - binary_accuracy: 0.9520 - val_loss: 0.2958 - val_binary_accuracy: 0.9297\n",
      "\n",
      "Epoch 00008: val_binary_accuracy did not improve from 0.94407\n",
      "Epoch 9/15\n",
      "376/375 [==============================] - 12s 32ms/step - loss: 0.2388 - binary_accuracy: 0.9568 - val_loss: 0.3261 - val_binary_accuracy: 0.9400\n",
      "\n",
      "Epoch 00009: val_binary_accuracy did not improve from 0.94407\n",
      "Epoch 10/15\n",
      "376/375 [==============================] - 12s 31ms/step - loss: 0.2357 - binary_accuracy: 0.9558 - val_loss: 0.3668 - val_binary_accuracy: 0.9144\n",
      "\n",
      "Epoch 00010: val_binary_accuracy did not improve from 0.94407\n",
      "Epoch 11/15\n",
      "376/375 [==============================] - 12s 32ms/step - loss: 0.2327 - binary_accuracy: 0.9541 - val_loss: 0.2484 - val_binary_accuracy: 0.9383\n",
      "\n",
      "Epoch 00011: val_binary_accuracy did not improve from 0.94407\n",
      "Epoch 12/15\n",
      "376/375 [==============================] - 12s 32ms/step - loss: 0.2228 - binary_accuracy: 0.9565 - val_loss: 0.3236 - val_binary_accuracy: 0.9400\n",
      "\n",
      "Epoch 00012: val_binary_accuracy did not improve from 0.94407\n",
      "Epoch 13/15\n",
      "376/375 [==============================] - 12s 32ms/step - loss: 0.2195 - binary_accuracy: 0.9573 - val_loss: 0.2625 - val_binary_accuracy: 0.9253\n",
      "\n",
      "Epoch 00013: val_binary_accuracy did not improve from 0.94407\n",
      "Epoch 14/15\n",
      "376/375 [==============================] - 12s 31ms/step - loss: 0.2056 - binary_accuracy: 0.9604 - val_loss: 0.2348 - val_binary_accuracy: 0.9407\n",
      "\n",
      "Epoch 00014: val_binary_accuracy did not improve from 0.94407\n",
      "Epoch 15/15\n",
      "376/375 [==============================] - 12s 32ms/step - loss: 0.2071 - binary_accuracy: 0.9587 - val_loss: 0.3238 - val_binary_accuracy: 0.9171\n",
      "\n",
      "Epoch 00015: val_binary_accuracy did not improve from 0.94407\n",
      "Epoch 1/15\n",
      "468/467 [==============================] - 63s 135ms/step - loss: 0.9912 - binary_accuracy: 0.9144\n",
      "Epoch 2/15\n",
      "468/467 [==============================] - 13s 27ms/step - loss: 0.3424 - binary_accuracy: 0.9359\n",
      "Epoch 3/15\n",
      "468/467 [==============================] - 12s 26ms/step - loss: 0.2961 - binary_accuracy: 0.9426\n",
      "Epoch 4/15\n",
      "468/467 [==============================] - 12s 26ms/step - loss: 0.2617 - binary_accuracy: 0.9467\n",
      "Epoch 5/15\n",
      "468/467 [==============================] - 12s 26ms/step - loss: 0.2518 - binary_accuracy: 0.9481\n",
      "Epoch 6/15\n",
      "468/467 [==============================] - 12s 26ms/step - loss: 0.2433 - binary_accuracy: 0.9491\n",
      "Epoch 7/15\n",
      "468/467 [==============================] - 12s 26ms/step - loss: 0.2358 - binary_accuracy: 0.9495\n",
      "Epoch 8/15\n",
      "468/467 [==============================] - 12s 26ms/step - loss: 0.2297 - binary_accuracy: 0.9505\n",
      "Epoch 9/15\n",
      "468/467 [==============================] - 12s 26ms/step - loss: 0.2243 - binary_accuracy: 0.9519\n",
      "Epoch 10/15\n",
      "468/467 [==============================] - 12s 26ms/step - loss: 0.2205 - binary_accuracy: 0.9505\n",
      "Epoch 11/15\n",
      "468/467 [==============================] - 12s 26ms/step - loss: 0.2099 - binary_accuracy: 0.9553\n",
      "Epoch 12/15\n",
      "468/467 [==============================] - 12s 26ms/step - loss: 0.2112 - binary_accuracy: 0.9530\n",
      "Epoch 13/15\n",
      "468/467 [==============================] - 12s 26ms/step - loss: 0.2112 - binary_accuracy: 0.9544\n",
      "Epoch 14/15\n",
      "468/467 [==============================] - 12s 26ms/step - loss: 0.1992 - binary_accuracy: 0.9572\n",
      "Epoch 15/15\n",
      "468/467 [==============================] - 12s 26ms/step - loss: 0.2059 - binary_accuracy: 0.9537\n",
      "Train on 806572 samples, validate on 123245 samples\n",
      "Epoch 1/5\n",
      "806572/806572 [==============================] - 124s 154us/step - loss: 0.3843 - binary_accuracy: 0.9486 - val_loss: 0.5160 - val_binary_accuracy: 0.8504\n",
      "\n",
      "Epoch 00001: val_binary_accuracy improved from -inf to 0.85039, saving model to custom-dense-nn-weights.hdf5\n",
      "Epoch 2/5\n",
      "806572/806572 [==============================] - 71s 88us/step - loss: 0.2423 - binary_accuracy: 0.9618 - val_loss: 0.5115 - val_binary_accuracy: 0.8449\n",
      "\n",
      "Epoch 00002: val_binary_accuracy did not improve from 0.85039\n",
      "Epoch 3/5\n",
      "806572/806572 [==============================] - 71s 88us/step - loss: 0.2227 - binary_accuracy: 0.9629 - val_loss: 0.6019 - val_binary_accuracy: 0.8122\n",
      "\n",
      "Epoch 00003: val_binary_accuracy did not improve from 0.85039\n",
      "Epoch 4/5\n",
      "806572/806572 [==============================] - 71s 88us/step - loss: 0.2103 - binary_accuracy: 0.9636 - val_loss: 0.5428 - val_binary_accuracy: 0.8329\n",
      "\n",
      "Epoch 00004: val_binary_accuracy did not improve from 0.85039\n",
      "Epoch 5/5\n",
      "806572/806572 [==============================] - 71s 88us/step - loss: 0.2039 - binary_accuracy: 0.9638 - val_loss: 0.5542 - val_binary_accuracy: 0.8429\n",
      "\n",
      "Epoch 00005: val_binary_accuracy did not improve from 0.85039\n",
      "Epoch 1/5\n",
      "929817/929817 [==============================] - 135s 145us/step - loss: 0.3827 - binary_accuracy: 0.9507\n",
      "Epoch 2/5\n",
      "929817/929817 [==============================] - 84s 90us/step - loss: 0.2533 - binary_accuracy: 0.9586\n",
      "Epoch 3/5\n",
      "929817/929817 [==============================] - 84s 90us/step - loss: 0.2333 - binary_accuracy: 0.9609\n",
      "Epoch 4/5\n",
      "929817/929817 [==============================] - 85s 91us/step - loss: 0.2235 - binary_accuracy: 0.9618\n",
      "Epoch 5/5\n",
      "929817/929817 [==============================] - 86s 92us/step - loss: 0.2167 - binary_accuracy: 0.9622\n",
      "Training LR...\n"
     ]
    },
    {
     "name": "stderr",
     "output_type": "stream",
     "text": [
      "[Parallel(n_jobs=1)]: Using backend SequentialBackend with 1 concurrent workers.\n",
      "[Parallel(n_jobs=1)]: Done   1 out of   1 | elapsed:   33.9s finished\n",
      "[Parallel(n_jobs=1)]: Using backend SequentialBackend with 1 concurrent workers.\n",
      "[Parallel(n_jobs=1)]: Done   1 out of   1 | elapsed:   35.8s finished\n"
     ]
    },
    {
     "name": "stdout",
     "output_type": "stream",
     "text": [
      "First/Second level fold: 1/3 (43,) (10,)\n",
      "Epoch 1/15\n",
      "363/362 [==============================] - 95s 261ms/step - loss: 3.1799 - binary_accuracy: 0.8586 - val_loss: 1.9298 - val_binary_accuracy: 0.5629\n",
      "\n",
      "Epoch 00001: val_binary_accuracy improved from -inf to 0.56287, saving model to custom-cnn-weights.hdf5\n",
      "Epoch 2/15\n",
      "363/362 [==============================] - 36s 99ms/step - loss: 0.9806 - binary_accuracy: 0.9191 - val_loss: 1.1857 - val_binary_accuracy: 0.5629\n",
      "\n",
      "Epoch 00002: val_binary_accuracy did not improve from 0.56287\n",
      "Epoch 3/15\n",
      "363/362 [==============================] - 36s 99ms/step - loss: 0.5629 - binary_accuracy: 0.9310 - val_loss: 0.9996 - val_binary_accuracy: 0.5629\n",
      "\n",
      "Epoch 00003: val_binary_accuracy did not improve from 0.56287\n",
      "Epoch 4/15\n",
      "363/362 [==============================] - 36s 99ms/step - loss: 0.4333 - binary_accuracy: 0.9371 - val_loss: 0.9129 - val_binary_accuracy: 0.5629\n",
      "\n",
      "Epoch 00004: val_binary_accuracy did not improve from 0.56287\n",
      "Epoch 5/15\n",
      "363/362 [==============================] - 36s 99ms/step - loss: 0.3680 - binary_accuracy: 0.9384 - val_loss: 0.8766 - val_binary_accuracy: 0.5629\n",
      "\n",
      "Epoch 00005: val_binary_accuracy did not improve from 0.56287\n",
      "Epoch 6/15\n",
      "363/362 [==============================] - 36s 99ms/step - loss: 0.3327 - binary_accuracy: 0.9380 - val_loss: 0.8468 - val_binary_accuracy: 0.5629\n",
      "\n",
      "Epoch 00006: val_binary_accuracy did not improve from 0.56287\n",
      "Epoch 7/15\n",
      "363/362 [==============================] - 36s 100ms/step - loss: 0.3094 - binary_accuracy: 0.9440 - val_loss: 0.8330 - val_binary_accuracy: 0.5629\n",
      "\n",
      "Epoch 00007: val_binary_accuracy did not improve from 0.56287\n",
      "Epoch 8/15\n",
      "363/362 [==============================] - 38s 104ms/step - loss: 0.2878 - binary_accuracy: 0.9430 - val_loss: 0.8175 - val_binary_accuracy: 0.5629\n",
      "\n",
      "Epoch 00008: val_binary_accuracy did not improve from 0.56287\n",
      "Epoch 9/15\n",
      "363/362 [==============================] - 38s 105ms/step - loss: 0.2725 - binary_accuracy: 0.9488 - val_loss: 0.8116 - val_binary_accuracy: 0.5629\n",
      "\n",
      "Epoch 00009: val_binary_accuracy did not improve from 0.56287\n",
      "Epoch 10/15\n",
      "363/362 [==============================] - 38s 104ms/step - loss: 0.2695 - binary_accuracy: 0.9462 - val_loss: 0.8030 - val_binary_accuracy: 0.5629\n",
      "\n",
      "Epoch 00010: val_binary_accuracy did not improve from 0.56287\n",
      "Epoch 11/15\n",
      "363/362 [==============================] - 38s 104ms/step - loss: 0.2611 - binary_accuracy: 0.9448 - val_loss: 0.8004 - val_binary_accuracy: 0.5629\n",
      "\n",
      "Epoch 00011: val_binary_accuracy did not improve from 0.56287\n",
      "Epoch 12/15\n",
      "363/362 [==============================] - 38s 104ms/step - loss: 0.2592 - binary_accuracy: 0.9450 - val_loss: 0.7964 - val_binary_accuracy: 0.5629\n",
      "\n",
      "Epoch 00012: val_binary_accuracy did not improve from 0.56287\n",
      "Epoch 13/15\n",
      "363/362 [==============================] - 38s 104ms/step - loss: 0.2469 - binary_accuracy: 0.9449 - val_loss: 0.7943 - val_binary_accuracy: 0.5629\n",
      "\n",
      "Epoch 00013: val_binary_accuracy did not improve from 0.56287\n",
      "Epoch 14/15\n",
      "363/362 [==============================] - 38s 104ms/step - loss: 0.2426 - binary_accuracy: 0.9485 - val_loss: 0.7897 - val_binary_accuracy: 0.5629\n",
      "\n",
      "Epoch 00014: val_binary_accuracy did not improve from 0.56287\n",
      "Epoch 15/15\n",
      "363/362 [==============================] - 38s 104ms/step - loss: 0.2356 - binary_accuracy: 0.9524 - val_loss: 0.7824 - val_binary_accuracy: 0.5629\n",
      "\n",
      "Epoch 00015: val_binary_accuracy did not improve from 0.56287\n",
      "Epoch 1/15\n",
      "468/467 [==============================] - 67s 143ms/step - loss: 0.9742 - binary_accuracy: 0.9137\n",
      "Epoch 2/15\n",
      "468/467 [==============================] - 12s 26ms/step - loss: 0.3346 - binary_accuracy: 0.9435\n",
      "Epoch 3/15\n",
      "468/467 [==============================] - 12s 26ms/step - loss: 0.2977 - binary_accuracy: 0.9384\n",
      "Epoch 4/15\n",
      "468/467 [==============================] - 13s 27ms/step - loss: 0.2735 - binary_accuracy: 0.9440\n",
      "Epoch 5/15\n",
      "468/467 [==============================] - 13s 27ms/step - loss: 0.2538 - binary_accuracy: 0.9474\n",
      "Epoch 6/15\n",
      "468/467 [==============================] - 13s 27ms/step - loss: 0.2436 - binary_accuracy: 0.9482\n",
      "Epoch 7/15\n",
      "468/467 [==============================] - 12s 26ms/step - loss: 0.2282 - binary_accuracy: 0.9534\n",
      "Epoch 8/15\n",
      "468/467 [==============================] - 12s 27ms/step - loss: 0.2306 - binary_accuracy: 0.9501\n",
      "Epoch 9/15\n",
      "468/467 [==============================] - 12s 26ms/step - loss: 0.2185 - binary_accuracy: 0.9540\n",
      "Epoch 10/15\n",
      "468/467 [==============================] - 12s 26ms/step - loss: 0.2182 - binary_accuracy: 0.9537\n",
      "Epoch 11/15\n",
      "468/467 [==============================] - 12s 27ms/step - loss: 0.2143 - binary_accuracy: 0.9550\n",
      "Epoch 12/15\n",
      "468/467 [==============================] - 12s 26ms/step - loss: 0.2125 - binary_accuracy: 0.9541\n",
      "Epoch 13/15\n",
      "468/467 [==============================] - 12s 26ms/step - loss: 0.1994 - binary_accuracy: 0.9593 0s - loss: 0.1997 - binary_accurac\n",
      "Epoch 14/15\n",
      "468/467 [==============================] - 12s 26ms/step - loss: 0.2030 - binary_accuracy: 0.9568 1s - loss: 0.2040 \n",
      "Epoch 15/15\n",
      "468/467 [==============================] - 12s 26ms/step - loss: 0.1976 - binary_accuracy: 0.9589\n",
      "Train on 793280 samples, validate on 136537 samples\n",
      "Epoch 1/5\n",
      "793280/793280 [==============================] - 133s 167us/step - loss: 0.3914 - binary_accuracy: 0.9473 - val_loss: 0.3926 - val_binary_accuracy: 0.8520\n",
      "\n",
      "Epoch 00001: val_binary_accuracy improved from -inf to 0.85196, saving model to custom-dense-nn-weights.hdf5\n",
      "Epoch 2/5\n",
      "793280/793280 [==============================] - 76s 95us/step - loss: 0.2459 - binary_accuracy: 0.9585 - val_loss: 0.4027 - val_binary_accuracy: 0.8436\n",
      "\n",
      "Epoch 00002: val_binary_accuracy did not improve from 0.85196\n",
      "Epoch 3/5\n",
      "793280/793280 [==============================] - 76s 95us/step - loss: 0.2260 - binary_accuracy: 0.9610 - val_loss: 0.3106 - val_binary_accuracy: 0.8995\n",
      "\n",
      "Epoch 00003: val_binary_accuracy improved from 0.85196 to 0.89946, saving model to custom-dense-nn-weights.hdf5\n",
      "Epoch 4/5\n",
      "793280/793280 [==============================] - 76s 95us/step - loss: 0.2134 - binary_accuracy: 0.9625 - val_loss: 0.3170 - val_binary_accuracy: 0.8862\n",
      "\n",
      "Epoch 00004: val_binary_accuracy did not improve from 0.89946\n",
      "Epoch 5/5\n",
      "793280/793280 [==============================] - 76s 95us/step - loss: 0.2081 - binary_accuracy: 0.9626 - val_loss: 0.3686 - val_binary_accuracy: 0.8545\n",
      "\n",
      "Epoch 00005: val_binary_accuracy did not improve from 0.89946\n",
      "Epoch 1/5\n",
      "929817/929817 [==============================] - 125s 134us/step - loss: 0.3888 - binary_accuracy: 0.9499\n",
      "Epoch 2/5\n",
      "929817/929817 [==============================] - 71s 76us/step - loss: 0.2568 - binary_accuracy: 0.9595\n",
      "Epoch 3/5\n",
      "929817/929817 [==============================] - 71s 76us/step - loss: 0.2333 - binary_accuracy: 0.9607\n",
      "Epoch 4/5\n",
      "929817/929817 [==============================] - 72s 78us/step - loss: 0.2239 - binary_accuracy: 0.9613\n",
      "Epoch 5/5\n",
      "929817/929817 [==============================] - 73s 78us/step - loss: 0.2176 - binary_accuracy: 0.9608\n",
      "Training LR...\n"
     ]
    },
    {
     "name": "stderr",
     "output_type": "stream",
     "text": [
      "[Parallel(n_jobs=1)]: Using backend SequentialBackend with 1 concurrent workers.\n",
      "[Parallel(n_jobs=1)]: Done   1 out of   1 | elapsed:   28.0s finished\n",
      "[Parallel(n_jobs=1)]: Using backend SequentialBackend with 1 concurrent workers.\n",
      "[Parallel(n_jobs=1)]: Done   1 out of   1 | elapsed:   28.7s finished\n"
     ]
    },
    {
     "name": "stdout",
     "output_type": "stream",
     "text": [
      "First/Second level fold: 1/4 (43,) (10,)\n",
      "Epoch 1/15\n",
      "376/375 [==============================] - 71s 189ms/step - loss: 3.0210 - binary_accuracy: 0.8865 - val_loss: 1.3056 - val_binary_accuracy: 0.9266\n",
      "\n",
      "Epoch 00001: val_binary_accuracy improved from -inf to 0.92661, saving model to custom-cnn-weights.hdf5\n",
      "Epoch 2/15\n",
      "376/375 [==============================] - 12s 31ms/step - loss: 0.8665 - binary_accuracy: 0.9366 - val_loss: 0.5600 - val_binary_accuracy: 0.9606\n",
      "\n",
      "Epoch 00002: val_binary_accuracy improved from 0.92661 to 0.96058, saving model to custom-cnn-weights.hdf5\n",
      "Epoch 3/15\n",
      "376/375 [==============================] - 12s 31ms/step - loss: 0.4981 - binary_accuracy: 0.9459 - val_loss: 0.4912 - val_binary_accuracy: 0.9242\n",
      "\n",
      "Epoch 00003: val_binary_accuracy did not improve from 0.96058\n",
      "Epoch 4/15\n",
      "376/375 [==============================] - 12s 32ms/step - loss: 0.3828 - binary_accuracy: 0.9479 - val_loss: 0.3435 - val_binary_accuracy: 0.9507\n",
      "\n",
      "Epoch 00004: val_binary_accuracy did not improve from 0.96058\n",
      "Epoch 5/15\n",
      "376/375 [==============================] - 12s 31ms/step - loss: 0.3274 - binary_accuracy: 0.9500 - val_loss: 0.3233 - val_binary_accuracy: 0.9501\n",
      "\n",
      "Epoch 00005: val_binary_accuracy did not improve from 0.96058\n",
      "Epoch 6/15\n",
      "376/375 [==============================] - 12s 31ms/step - loss: 0.2948 - binary_accuracy: 0.9489 - val_loss: 0.2545 - val_binary_accuracy: 0.9732\n",
      "\n",
      "Epoch 00006: val_binary_accuracy improved from 0.96058 to 0.97316, saving model to custom-cnn-weights.hdf5\n",
      "Epoch 7/15\n",
      "376/375 [==============================] - 12s 31ms/step - loss: 0.2769 - binary_accuracy: 0.9516 - val_loss: 0.2418 - val_binary_accuracy: 0.9609\n",
      "\n",
      "Epoch 00007: val_binary_accuracy did not improve from 0.97316\n",
      "Epoch 8/15\n",
      "376/375 [==============================] - 12s 31ms/step - loss: 0.2553 - binary_accuracy: 0.9544 - val_loss: 0.2141 - val_binary_accuracy: 0.9667\n",
      "\n",
      "Epoch 00008: val_binary_accuracy did not improve from 0.97316\n",
      "Epoch 9/15\n",
      "376/375 [==============================] - 12s 31ms/step - loss: 0.2449 - binary_accuracy: 0.9555 - val_loss: 0.1977 - val_binary_accuracy: 0.9677\n",
      "\n",
      "Epoch 00009: val_binary_accuracy did not improve from 0.97316\n",
      "Epoch 10/15\n",
      "376/375 [==============================] - 12s 31ms/step - loss: 0.2343 - binary_accuracy: 0.9558 - val_loss: 0.1869 - val_binary_accuracy: 0.9721\n",
      "\n",
      "Epoch 00010: val_binary_accuracy did not improve from 0.97316\n",
      "Epoch 11/15\n",
      "376/375 [==============================] - 12s 31ms/step - loss: 0.2330 - binary_accuracy: 0.9547 - val_loss: 0.2408 - val_binary_accuracy: 0.9426\n",
      "\n",
      "Epoch 00011: val_binary_accuracy did not improve from 0.97316\n",
      "Epoch 12/15\n",
      "376/375 [==============================] - 12s 31ms/step - loss: 0.2262 - binary_accuracy: 0.9542 - val_loss: 0.2195 - val_binary_accuracy: 0.9521\n",
      "\n",
      "Epoch 00012: val_binary_accuracy did not improve from 0.97316\n",
      "Epoch 13/15\n",
      "376/375 [==============================] - 12s 31ms/step - loss: 0.2224 - binary_accuracy: 0.9559 - val_loss: 0.2360 - val_binary_accuracy: 0.9572\n",
      "\n",
      "Epoch 00013: val_binary_accuracy did not improve from 0.97316\n",
      "Epoch 14/15\n",
      "376/375 [==============================] - 12s 31ms/step - loss: 0.2249 - binary_accuracy: 0.9529 - val_loss: 0.2436 - val_binary_accuracy: 0.9426\n",
      "\n",
      "Epoch 00014: val_binary_accuracy did not improve from 0.97316\n",
      "Epoch 15/15\n",
      "376/375 [==============================] - 12s 31ms/step - loss: 0.2135 - binary_accuracy: 0.9577 - val_loss: 0.2016 - val_binary_accuracy: 0.9592\n",
      "\n",
      "Epoch 00015: val_binary_accuracy did not improve from 0.97316\n",
      "Epoch 1/15\n",
      "468/467 [==============================] - 72s 153ms/step - loss: 1.0215 - binary_accuracy: 0.9126\n",
      "Epoch 2/15\n",
      "468/467 [==============================] - 14s 30ms/step - loss: 0.3468 - binary_accuracy: 0.9376\n",
      "Epoch 3/15\n",
      "468/467 [==============================] - 14s 30ms/step - loss: 0.2974 - binary_accuracy: 0.9416\n",
      "Epoch 4/15\n",
      "468/467 [==============================] - 14s 30ms/step - loss: 0.2682 - binary_accuracy: 0.9465\n",
      "Epoch 5/15\n",
      "468/467 [==============================] - 14s 30ms/step - loss: 0.2483 - binary_accuracy: 0.9480\n",
      "Epoch 6/15\n",
      "468/467 [==============================] - 14s 30ms/step - loss: 0.2408 - binary_accuracy: 0.9493\n",
      "Epoch 7/15\n",
      "468/467 [==============================] - 14s 30ms/step - loss: 0.2289 - binary_accuracy: 0.9546\n",
      "Epoch 8/15\n",
      "468/467 [==============================] - 14s 30ms/step - loss: 0.2229 - binary_accuracy: 0.9531\n",
      "Epoch 9/15\n",
      "468/467 [==============================] - 14s 30ms/step - loss: 0.2207 - binary_accuracy: 0.9541\n",
      "Epoch 10/15\n",
      "468/467 [==============================] - 14s 30ms/step - loss: 0.2247 - binary_accuracy: 0.9507\n",
      "Epoch 11/15\n",
      "468/467 [==============================] - 14s 30ms/step - loss: 0.2114 - binary_accuracy: 0.9542\n",
      "Epoch 12/15\n",
      "468/467 [==============================] - 14s 30ms/step - loss: 0.2055 - binary_accuracy: 0.9564\n",
      "Epoch 13/15\n",
      "468/467 [==============================] - 14s 30ms/step - loss: 0.2054 - binary_accuracy: 0.9578\n",
      "Epoch 14/15\n",
      "468/467 [==============================] - 14s 30ms/step - loss: 0.2041 - binary_accuracy: 0.9556\n",
      "Epoch 15/15\n",
      "468/467 [==============================] - 14s 30ms/step - loss: 0.2052 - binary_accuracy: 0.9549\n",
      "Train on 697405 samples, validate on 232412 samples\n",
      "Epoch 1/5\n",
      "697405/697405 [==============================] - 136s 195us/step - loss: 0.3929 - binary_accuracy: 0.9543 - val_loss: 0.7248 - val_binary_accuracy: 0.7962\n",
      "\n",
      "Epoch 00001: val_binary_accuracy improved from -inf to 0.79625, saving model to custom-dense-nn-weights.hdf5\n",
      "Epoch 2/5\n",
      "697405/697405 [==============================] - 74s 106us/step - loss: 0.2361 - binary_accuracy: 0.9666 - val_loss: 0.7641 - val_binary_accuracy: 0.7709\n",
      "\n",
      "Epoch 00002: val_binary_accuracy did not improve from 0.79625\n",
      "Epoch 3/5\n",
      "697405/697405 [==============================] - 74s 106us/step - loss: 0.2146 - binary_accuracy: 0.9692 - val_loss: 0.8538 - val_binary_accuracy: 0.7595\n",
      "\n",
      "Epoch 00003: val_binary_accuracy did not improve from 0.79625\n",
      "Epoch 4/5\n",
      "697405/697405 [==============================] - 75s 108us/step - loss: 0.2026 - binary_accuracy: 0.9697 - val_loss: 0.7810 - val_binary_accuracy: 0.7796\n",
      "\n",
      "Epoch 00004: val_binary_accuracy did not improve from 0.79625\n",
      "Epoch 5/5\n",
      "697405/697405 [==============================] - 76s 109us/step - loss: 0.1932 - binary_accuracy: 0.9703 - val_loss: 0.8499 - val_binary_accuracy: 0.7673\n",
      "\n",
      "Epoch 00005: val_binary_accuracy did not improve from 0.79625\n",
      "Epoch 1/5\n",
      "929817/929817 [==============================] - 140s 150us/step - loss: 0.3899 - binary_accuracy: 0.9520\n",
      "Epoch 2/5\n",
      "929817/929817 [==============================] - 79s 85us/step - loss: 0.2581 - binary_accuracy: 0.9600\n",
      "Epoch 3/5\n",
      "929817/929817 [==============================] - 79s 85us/step - loss: 0.2334 - binary_accuracy: 0.9611\n",
      "Epoch 4/5\n",
      "929817/929817 [==============================] - 78s 84us/step - loss: 0.2235 - binary_accuracy: 0.9610\n",
      "Epoch 5/5\n",
      "929817/929817 [==============================] - 78s 84us/step - loss: 0.2190 - binary_accuracy: 0.9613\n",
      "Training LR...\n"
     ]
    },
    {
     "name": "stderr",
     "output_type": "stream",
     "text": [
      "[Parallel(n_jobs=1)]: Using backend SequentialBackend with 1 concurrent workers.\n",
      "[Parallel(n_jobs=1)]: Done   1 out of   1 | elapsed:   33.3s finished\n",
      "[Parallel(n_jobs=1)]: Using backend SequentialBackend with 1 concurrent workers.\n",
      "[Parallel(n_jobs=1)]: Done   1 out of   1 | elapsed:   34.3s finished\n"
     ]
    },
    {
     "name": "stdout",
     "output_type": "stream",
     "text": [
      "Training Blender...\n",
      "[LibLinear][LibLinear][LibLinear][LibLinear][LibLinear][LibLinear][LibLinear][LibLinear][LibLinear][LibLinear]"
     ]
    },
    {
     "name": "stderr",
     "output_type": "stream",
     "text": [
      "[Parallel(n_jobs=1)]: Using backend SequentialBackend with 1 concurrent workers.\n"
     ]
    },
    {
     "name": "stdout",
     "output_type": "stream",
     "text": [
      "[LibLinear][LibLinear][LibLinear][LibLinear][LibLinear][LibLinear][LibLinear][LibLinear][LibLinear][LibLinear][LibLinear][LibLinear][LibLinear][LibLinear][LibLinear][LibLinear][LibLinear][LibLinear][LibLinear][LibLinear][LibLinear][LibLinear][LibLinear][LibLinear][LibLinear][LibLinear][LibLinear][LibLinear][LibLinear][LibLinear][LibLinear][LibLinear][LibLinear][LibLinear][LibLinear][LibLinear][LibLinear][LibLinear][LibLinear][LibLinear]"
     ]
    },
    {
     "name": "stderr",
     "output_type": "stream",
     "text": [
      "[Parallel(n_jobs=1)]: Done   5 out of   5 | elapsed:    1.0s finished\n"
     ]
    },
    {
     "name": "stdout",
     "output_type": "stream",
     "text": [
      "           f1      prec    recall       acc model  fold\n",
      "on   0.964464  0.938286  0.992145  0.960727   cnn     1\n",
      "off  0.956112  0.990233  0.924264  0.960727   cnn     1\n",
      "\n",
      "           f1      prec    recall      acc model  fold\n",
      "on   0.978672  0.987093  0.970393  0.97728    nn     1\n",
      "off  0.975694  0.966300  0.985273  0.97728    nn     1\n",
      "\n",
      "           f1      prec    recall      acc model  fold\n",
      "on   0.962236  0.947307  0.977644  0.95878    lr     1\n",
      "off  0.954627  0.973052  0.936886  0.95878    lr     1\n",
      "\n",
      "           f1      prec    recall       acc  model  fold\n",
      "on   0.970145  0.949653  0.991541  0.967218  blend     1\n",
      "off  0.963656  0.989653  0.938990  0.967218  blend     1\n",
      "\n",
      "           f1      prec    recall       acc model  fold\n",
      "on   0.971259  0.952907  0.990332  0.968517  mean     1\n",
      "off  0.965196  0.988244  0.943198  0.968517  mean     1\n",
      "\n",
      "           f1      prec    recall       acc  model  fold\n",
      "on   0.969858  0.949104  0.991541  0.966894  gmean     1\n",
      "off  0.963283  0.989645  0.938289  0.966894  gmean     1\n",
      "\n",
      "First level fold: 2 (53,) (13,)\n",
      "First/Second level fold: 2/0 (42,) (11,)\n",
      "Epoch 1/15\n",
      "370/369 [==============================] - 81s 219ms/step - loss: 3.1430 - binary_accuracy: 0.8717 - val_loss: 1.3252 - val_binary_accuracy: 0.9543\n",
      "\n",
      "Epoch 00001: val_binary_accuracy improved from -inf to 0.95431, saving model to custom-cnn-weights.hdf5\n",
      "Epoch 2/15\n",
      "370/369 [==============================] - 17s 46ms/step - loss: 0.9578 - binary_accuracy: 0.9281 - val_loss: 0.5866 - val_binary_accuracy: 0.9782\n",
      "\n",
      "Epoch 00002: val_binary_accuracy improved from 0.95431 to 0.97821, saving model to custom-cnn-weights.hdf5\n",
      "Epoch 3/15\n",
      "370/369 [==============================] - 17s 45ms/step - loss: 0.5565 - binary_accuracy: 0.9372 - val_loss: 0.3702 - val_binary_accuracy: 0.9809\n",
      "\n",
      "Epoch 00003: val_binary_accuracy improved from 0.97821 to 0.98094, saving model to custom-cnn-weights.hdf5\n",
      "Epoch 4/15\n",
      "370/369 [==============================] - 17s 45ms/step - loss: 0.4301 - binary_accuracy: 0.9406 - val_loss: 0.2948 - val_binary_accuracy: 0.9773\n",
      "\n",
      "Epoch 00004: val_binary_accuracy did not improve from 0.98094\n",
      "Epoch 5/15\n",
      "370/369 [==============================] - 17s 45ms/step - loss: 0.3587 - binary_accuracy: 0.9414 - val_loss: 0.2358 - val_binary_accuracy: 0.9870\n",
      "\n",
      "Epoch 00005: val_binary_accuracy improved from 0.98094 to 0.98699, saving model to custom-cnn-weights.hdf5\n",
      "Epoch 6/15\n",
      "370/369 [==============================] - 17s 45ms/step - loss: 0.3377 - binary_accuracy: 0.9361 - val_loss: 0.2032 - val_binary_accuracy: 0.9885\n",
      "\n",
      "Epoch 00006: val_binary_accuracy improved from 0.98699 to 0.98850, saving model to custom-cnn-weights.hdf5\n",
      "Epoch 7/15\n",
      "370/369 [==============================] - 17s 45ms/step - loss: 0.2981 - binary_accuracy: 0.9459 - val_loss: 0.2188 - val_binary_accuracy: 0.9707\n",
      "\n",
      "Epoch 00007: val_binary_accuracy did not improve from 0.98850\n",
      "Epoch 8/15\n",
      "370/369 [==============================] - 19s 50ms/step - loss: 0.2875 - binary_accuracy: 0.9446 - val_loss: 0.1841 - val_binary_accuracy: 0.9870\n",
      "\n",
      "Epoch 00008: val_binary_accuracy did not improve from 0.98850\n",
      "Epoch 9/15\n",
      "370/369 [==============================] - 19s 50ms/step - loss: 0.2854 - binary_accuracy: 0.9405 - val_loss: 0.1864 - val_binary_accuracy: 0.9788\n",
      "\n",
      "Epoch 00009: val_binary_accuracy did not improve from 0.98850\n",
      "Epoch 10/15\n",
      "370/369 [==============================] - 18s 50ms/step - loss: 0.2769 - binary_accuracy: 0.9429 - val_loss: 0.1754 - val_binary_accuracy: 0.9815\n",
      "\n",
      "Epoch 00010: val_binary_accuracy did not improve from 0.98850\n",
      "Epoch 11/15\n",
      "370/369 [==============================] - 19s 50ms/step - loss: 0.2484 - binary_accuracy: 0.9505 - val_loss: 0.1688 - val_binary_accuracy: 0.9852\n",
      "\n",
      "Epoch 00011: val_binary_accuracy did not improve from 0.98850\n",
      "Epoch 12/15\n",
      "370/369 [==============================] - 19s 51ms/step - loss: 0.2450 - binary_accuracy: 0.9496 - val_loss: 0.1901 - val_binary_accuracy: 0.9670\n",
      "\n",
      "Epoch 00012: val_binary_accuracy did not improve from 0.98850\n",
      "Epoch 13/15\n",
      "370/369 [==============================] - 18s 50ms/step - loss: 0.2407 - binary_accuracy: 0.9474 - val_loss: 0.1430 - val_binary_accuracy: 0.9867\n",
      "\n",
      "Epoch 00013: val_binary_accuracy did not improve from 0.98850\n",
      "Epoch 14/15\n",
      "370/369 [==============================] - 19s 50ms/step - loss: 0.2316 - binary_accuracy: 0.9492 - val_loss: 0.1540 - val_binary_accuracy: 0.9858\n",
      "\n",
      "Epoch 00014: val_binary_accuracy did not improve from 0.98850\n",
      "Epoch 15/15\n",
      "370/369 [==============================] - 18s 50ms/step - loss: 0.2342 - binary_accuracy: 0.9498 - val_loss: 0.1304 - val_binary_accuracy: 0.9903\n",
      "\n",
      "Epoch 00015: val_binary_accuracy improved from 0.98850 to 0.99032, saving model to custom-cnn-weights.hdf5\n",
      "Epoch 1/15\n",
      "473/472 [==============================] - 77s 162ms/step - loss: 0.9988 - binary_accuracy: 0.9121\n",
      "Epoch 2/15\n",
      "473/472 [==============================] - 15s 31ms/step - loss: 0.3382 - binary_accuracy: 0.9416\n",
      "Epoch 3/15\n",
      "473/472 [==============================] - 15s 31ms/step - loss: 0.2932 - binary_accuracy: 0.9433\n",
      "Epoch 4/15\n",
      "473/472 [==============================] - 15s 31ms/step - loss: 0.2732 - binary_accuracy: 0.9429\n",
      "Epoch 5/15\n",
      "473/472 [==============================] - 15s 31ms/step - loss: 0.2500 - binary_accuracy: 0.9506\n",
      "Epoch 6/15\n",
      "473/472 [==============================] - 15s 31ms/step - loss: 0.2462 - binary_accuracy: 0.9484\n",
      "Epoch 7/15\n",
      "473/472 [==============================] - 15s 31ms/step - loss: 0.2324 - binary_accuracy: 0.9514\n",
      "Epoch 8/15\n",
      "473/472 [==============================] - 14s 30ms/step - loss: 0.2282 - binary_accuracy: 0.9499\n",
      "Epoch 9/15\n",
      "473/472 [==============================] - 13s 26ms/step - loss: 0.2248 - binary_accuracy: 0.9512\n",
      "Epoch 10/15\n",
      "473/472 [==============================] - 13s 27ms/step - loss: 0.2183 - binary_accuracy: 0.9547\n",
      "Epoch 11/15\n",
      "473/472 [==============================] - 12s 26ms/step - loss: 0.2127 - binary_accuracy: 0.9544\n",
      "Epoch 12/15\n",
      "473/472 [==============================] - 13s 27ms/step - loss: 0.2052 - binary_accuracy: 0.9557\n",
      "Epoch 13/15\n",
      "473/472 [==============================] - 12s 26ms/step - loss: 0.2100 - binary_accuracy: 0.9546\n",
      "Epoch 14/15\n",
      "473/472 [==============================] - 13s 27ms/step - loss: 0.2067 - binary_accuracy: 0.9561\n",
      "Epoch 15/15\n",
      "473/472 [==============================] - 13s 27ms/step - loss: 0.2012 - binary_accuracy: 0.9558\n",
      "Train on 881940 samples, validate on 190706 samples\n",
      "Epoch 1/5\n",
      "881940/881940 [==============================] - 169s 192us/step - loss: 0.3994 - binary_accuracy: 0.9466 - val_loss: 0.7094 - val_binary_accuracy: 0.7185\n",
      "\n",
      "Epoch 00001: val_binary_accuracy improved from -inf to 0.71848, saving model to custom-dense-nn-weights.hdf5\n",
      "Epoch 2/5\n",
      "881940/881940 [==============================] - 103s 117us/step - loss: 0.2647 - binary_accuracy: 0.9572 - val_loss: 0.5772 - val_binary_accuracy: 0.7895\n",
      "\n",
      "Epoch 00002: val_binary_accuracy improved from 0.71848 to 0.78948, saving model to custom-dense-nn-weights.hdf5\n",
      "Epoch 3/5\n",
      "881940/881940 [==============================] - 104s 118us/step - loss: 0.2438 - binary_accuracy: 0.9583 - val_loss: 0.6597 - val_binary_accuracy: 0.7619\n",
      "\n",
      "Epoch 00003: val_binary_accuracy did not improve from 0.78948\n",
      "Epoch 4/5\n",
      "881940/881940 [==============================] - 103s 117us/step - loss: 0.2348 - binary_accuracy: 0.9590 - val_loss: 0.7668 - val_binary_accuracy: 0.7226\n",
      "\n",
      "Epoch 00004: val_binary_accuracy did not improve from 0.78948\n",
      "Epoch 5/5\n",
      "881940/881940 [==============================] - 104s 118us/step - loss: 0.2285 - binary_accuracy: 0.9590 - val_loss: 0.6060 - val_binary_accuracy: 0.7653\n",
      "\n",
      "Epoch 00005: val_binary_accuracy did not improve from 0.78948\n",
      "Epoch 1/5\n",
      "1072646/1072646 [==============================] - 166s 155us/step - loss: 0.3923 - binary_accuracy: 0.9471\n",
      "Epoch 2/5\n",
      "1072646/1072646 [==============================] - 103s 96us/step - loss: 0.2714 - binary_accuracy: 0.9563\n",
      "Epoch 3/5\n",
      "1072646/1072646 [==============================] - 100s 94us/step - loss: 0.2495 - binary_accuracy: 0.9575\n",
      "Epoch 4/5\n",
      "1072646/1072646 [==============================] - 100s 94us/step - loss: 0.2413 - binary_accuracy: 0.9574\n",
      "Epoch 5/5\n",
      "1072646/1072646 [==============================] - 100s 94us/step - loss: 0.2334 - binary_accuracy: 0.9578\n",
      "Training LR...\n"
     ]
    },
    {
     "name": "stderr",
     "output_type": "stream",
     "text": [
      "[Parallel(n_jobs=1)]: Using backend SequentialBackend with 1 concurrent workers.\n",
      "[Parallel(n_jobs=1)]: Done   1 out of   1 | elapsed:   37.0s finished\n",
      "[Parallel(n_jobs=1)]: Using backend SequentialBackend with 1 concurrent workers.\n",
      "[Parallel(n_jobs=1)]: Done   1 out of   1 | elapsed:   40.7s finished\n"
     ]
    },
    {
     "name": "stdout",
     "output_type": "stream",
     "text": [
      "First/Second level fold: 2/1 (42,) (11,)\n",
      "Epoch 1/15\n",
      "370/369 [==============================] - 87s 234ms/step - loss: 3.0381 - binary_accuracy: 0.8896 - val_loss: 1.3348 - val_binary_accuracy: 0.9092\n",
      "\n",
      "Epoch 00001: val_binary_accuracy improved from -inf to 0.90923, saving model to custom-cnn-weights.hdf5\n",
      "Epoch 2/15\n",
      "370/369 [==============================] - 19s 51ms/step - loss: 0.8617 - binary_accuracy: 0.9397 - val_loss: 0.5796 - val_binary_accuracy: 0.9501\n",
      "\n",
      "Epoch 00002: val_binary_accuracy improved from 0.90923 to 0.95008, saving model to custom-cnn-weights.hdf5\n",
      "Epoch 3/15\n",
      "370/369 [==============================] - 19s 51ms/step - loss: 0.4885 - binary_accuracy: 0.9482 - val_loss: 0.4913 - val_binary_accuracy: 0.9113\n",
      "\n",
      "Epoch 00003: val_binary_accuracy did not improve from 0.95008\n",
      "Epoch 4/15\n",
      "370/369 [==============================] - 19s 51ms/step - loss: 0.3807 - binary_accuracy: 0.9451 - val_loss: 0.4314 - val_binary_accuracy: 0.9080\n",
      "\n",
      "Epoch 00004: val_binary_accuracy did not improve from 0.95008\n",
      "Epoch 5/15\n",
      "370/369 [==============================] - 19s 52ms/step - loss: 0.3315 - binary_accuracy: 0.9493 - val_loss: 0.3065 - val_binary_accuracy: 0.9386\n",
      "\n",
      "Epoch 00005: val_binary_accuracy did not improve from 0.95008\n",
      "Epoch 6/15\n",
      "370/369 [==============================] - 19s 51ms/step - loss: 0.2897 - binary_accuracy: 0.9513 - val_loss: 0.3225 - val_binary_accuracy: 0.9198\n",
      "\n",
      "Epoch 00006: val_binary_accuracy did not improve from 0.95008\n",
      "Epoch 7/15\n",
      "370/369 [==============================] - 19s 51ms/step - loss: 0.2635 - binary_accuracy: 0.9539 - val_loss: 0.2655 - val_binary_accuracy: 0.9419\n",
      "\n",
      "Epoch 00007: val_binary_accuracy did not improve from 0.95008\n",
      "Epoch 8/15\n",
      "370/369 [==============================] - 19s 51ms/step - loss: 0.2558 - binary_accuracy: 0.9530 - val_loss: 0.2934 - val_binary_accuracy: 0.9343\n",
      "\n",
      "Epoch 00008: val_binary_accuracy did not improve from 0.95008\n",
      "Epoch 9/15\n",
      "370/369 [==============================] - 19s 51ms/step - loss: 0.2585 - binary_accuracy: 0.9482 - val_loss: 0.2805 - val_binary_accuracy: 0.9368\n",
      "\n",
      "Epoch 00009: val_binary_accuracy did not improve from 0.95008\n",
      "Epoch 10/15\n",
      "370/369 [==============================] - 19s 51ms/step - loss: 0.2321 - binary_accuracy: 0.9543 - val_loss: 0.1927 - val_binary_accuracy: 0.9667\n",
      "\n",
      "Epoch 00010: val_binary_accuracy improved from 0.95008 to 0.96672, saving model to custom-cnn-weights.hdf5\n",
      "Epoch 11/15\n",
      "370/369 [==============================] - 19s 51ms/step - loss: 0.2275 - binary_accuracy: 0.9546 - val_loss: 0.2569 - val_binary_accuracy: 0.9458\n",
      "\n",
      "Epoch 00011: val_binary_accuracy did not improve from 0.96672\n",
      "Epoch 12/15\n",
      "370/369 [==============================] - 19s 51ms/step - loss: 0.2218 - binary_accuracy: 0.9552 - val_loss: 0.2566 - val_binary_accuracy: 0.9443\n",
      "\n",
      "Epoch 00012: val_binary_accuracy did not improve from 0.96672\n",
      "Epoch 13/15\n",
      "370/369 [==============================] - 19s 52ms/step - loss: 0.2219 - binary_accuracy: 0.9552 - val_loss: 0.2440 - val_binary_accuracy: 0.9504\n",
      "\n",
      "Epoch 00013: val_binary_accuracy did not improve from 0.96672\n",
      "Epoch 14/15\n",
      "370/369 [==============================] - 19s 51ms/step - loss: 0.2121 - binary_accuracy: 0.9586 - val_loss: 0.2252 - val_binary_accuracy: 0.9501\n",
      "\n",
      "Epoch 00014: val_binary_accuracy did not improve from 0.96672\n",
      "Epoch 15/15\n",
      "370/369 [==============================] - 19s 51ms/step - loss: 0.2200 - binary_accuracy: 0.9553 - val_loss: 0.2272 - val_binary_accuracy: 0.9534\n",
      "\n",
      "Epoch 00015: val_binary_accuracy did not improve from 0.96672\n",
      "Epoch 1/15\n",
      "473/472 [==============================] - 78s 166ms/step - loss: 1.0257 - binary_accuracy: 0.9124\n",
      "Epoch 2/15\n",
      "473/472 [==============================] - 13s 27ms/step - loss: 0.3516 - binary_accuracy: 0.9422\n",
      "Epoch 3/15\n",
      "473/472 [==============================] - 13s 27ms/step - loss: 0.2915 - binary_accuracy: 0.9453\n",
      "Epoch 4/15\n",
      "473/472 [==============================] - 13s 27ms/step - loss: 0.2673 - binary_accuracy: 0.9476\n",
      "Epoch 5/15\n",
      "473/472 [==============================] - 13s 27ms/step - loss: 0.2534 - binary_accuracy: 0.9494\n",
      "Epoch 6/15\n",
      "473/472 [==============================] - 13s 27ms/step - loss: 0.2473 - binary_accuracy: 0.9477\n",
      "Epoch 7/15\n",
      "473/472 [==============================] - 13s 27ms/step - loss: 0.2381 - binary_accuracy: 0.9490\n",
      "Epoch 8/15\n",
      "473/472 [==============================] - 13s 27ms/step - loss: 0.2310 - binary_accuracy: 0.9507\n",
      "Epoch 9/15\n",
      "473/472 [==============================] - 13s 27ms/step - loss: 0.2182 - binary_accuracy: 0.9545\n",
      "Epoch 10/15\n",
      "473/472 [==============================] - 13s 27ms/step - loss: 0.2217 - binary_accuracy: 0.9504\n",
      "Epoch 11/15\n",
      "473/472 [==============================] - 13s 27ms/step - loss: 0.2150 - binary_accuracy: 0.9522\n",
      "Epoch 12/15\n",
      "473/472 [==============================] - 13s 27ms/step - loss: 0.2117 - binary_accuracy: 0.9544\n",
      "Epoch 13/15\n",
      "473/472 [==============================] - 13s 27ms/step - loss: 0.2089 - binary_accuracy: 0.9543\n",
      "Epoch 14/15\n",
      "473/472 [==============================] - 13s 27ms/step - loss: 0.2042 - binary_accuracy: 0.9555\n",
      "Epoch 15/15\n",
      "473/472 [==============================] - 13s 27ms/step - loss: 0.2069 - binary_accuracy: 0.9546\n",
      "Train on 917888 samples, validate on 154758 samples\n",
      "Epoch 1/5\n",
      "917888/917888 [==============================] - 170s 185us/step - loss: 0.3964 - binary_accuracy: 0.9484 - val_loss: 0.4926 - val_binary_accuracy: 0.9187\n",
      "\n",
      "Epoch 00001: val_binary_accuracy improved from -inf to 0.91867, saving model to custom-dense-nn-weights.hdf5\n",
      "Epoch 2/5\n",
      "917888/917888 [==============================] - 90s 98us/step - loss: 0.2604 - binary_accuracy: 0.9589 - val_loss: 0.4260 - val_binary_accuracy: 0.9266\n",
      "\n",
      "Epoch 00002: val_binary_accuracy improved from 0.91867 to 0.92659, saving model to custom-dense-nn-weights.hdf5\n",
      "Epoch 3/5\n",
      "917888/917888 [==============================] - 90s 98us/step - loss: 0.2407 - binary_accuracy: 0.9603 - val_loss: 0.4245 - val_binary_accuracy: 0.9190\n",
      "\n",
      "Epoch 00003: val_binary_accuracy did not improve from 0.92659\n",
      "Epoch 4/5\n",
      "917888/917888 [==============================] - 93s 101us/step - loss: 0.2306 - binary_accuracy: 0.9611 - val_loss: 0.4464 - val_binary_accuracy: 0.9119\n",
      "\n",
      "Epoch 00004: val_binary_accuracy did not improve from 0.92659\n",
      "Epoch 5/5\n",
      "917888/917888 [==============================] - 93s 101us/step - loss: 0.2262 - binary_accuracy: 0.9608 - val_loss: 0.4365 - val_binary_accuracy: 0.9058\n",
      "\n",
      "Epoch 00005: val_binary_accuracy did not improve from 0.92659\n",
      "Epoch 1/5\n",
      "1072646/1072646 [==============================] - 153s 143us/step - loss: 0.3846 - binary_accuracy: 0.9476\n",
      "Epoch 2/5\n",
      "1072646/1072646 [==============================] - 85s 79us/step - loss: 0.2637 - binary_accuracy: 0.9574\n",
      "Epoch 3/5\n",
      "1072646/1072646 [==============================] - 85s 79us/step - loss: 0.2546 - binary_accuracy: 0.9580\n",
      "Epoch 4/5\n",
      "1072646/1072646 [==============================] - 85s 79us/step - loss: 0.2400 - binary_accuracy: 0.9585\n",
      "Epoch 5/5\n",
      "1072646/1072646 [==============================] - 85s 79us/step - loss: 0.2324 - binary_accuracy: 0.9587\n",
      "Training LR...\n"
     ]
    },
    {
     "name": "stderr",
     "output_type": "stream",
     "text": [
      "[Parallel(n_jobs=1)]: Using backend SequentialBackend with 1 concurrent workers.\n",
      "[Parallel(n_jobs=1)]: Done   1 out of   1 | elapsed:   48.3s finished\n",
      "[Parallel(n_jobs=1)]: Using backend SequentialBackend with 1 concurrent workers.\n",
      "[Parallel(n_jobs=1)]: Done   1 out of   1 | elapsed:   43.9s finished\n"
     ]
    },
    {
     "name": "stdout",
     "output_type": "stream",
     "text": [
      "First/Second level fold: 2/2 (42,) (11,)\n",
      "Epoch 1/15\n",
      "361/360 [==============================] - 88s 244ms/step - loss: 3.1511 - binary_accuracy: 0.8827 - val_loss: 1.3661 - val_binary_accuracy: 0.9432\n",
      "\n",
      "Epoch 00001: val_binary_accuracy improved from -inf to 0.94322, saving model to custom-cnn-weights.hdf5\n",
      "Epoch 2/15\n",
      "361/360 [==============================] - 13s 37ms/step - loss: 0.9316 - binary_accuracy: 0.9359 - val_loss: 0.6565 - val_binary_accuracy: 0.9387\n",
      "\n",
      "Epoch 00002: val_binary_accuracy did not improve from 0.94322\n",
      "Epoch 3/15\n",
      "361/360 [==============================] - 13s 36ms/step - loss: 0.5414 - binary_accuracy: 0.9394 - val_loss: 0.4145 - val_binary_accuracy: 0.9653\n",
      "\n",
      "Epoch 00003: val_binary_accuracy improved from 0.94322 to 0.96531, saving model to custom-cnn-weights.hdf5\n",
      "Epoch 4/15\n",
      "361/360 [==============================] - 13s 36ms/step - loss: 0.4153 - binary_accuracy: 0.9467 - val_loss: 0.3598 - val_binary_accuracy: 0.9544\n",
      "\n",
      "Epoch 00004: val_binary_accuracy did not improve from 0.96531\n",
      "Epoch 5/15\n",
      "361/360 [==============================] - 13s 37ms/step - loss: 0.3519 - binary_accuracy: 0.9461 - val_loss: 0.2796 - val_binary_accuracy: 0.9687\n",
      "\n",
      "Epoch 00005: val_binary_accuracy improved from 0.96531 to 0.96867, saving model to custom-cnn-weights.hdf5\n",
      "Epoch 6/15\n",
      "361/360 [==============================] - 13s 36ms/step - loss: 0.3036 - binary_accuracy: 0.9492 - val_loss: 0.2766 - val_binary_accuracy: 0.9547\n",
      "\n",
      "Epoch 00006: val_binary_accuracy did not improve from 0.96867\n",
      "Epoch 7/15\n",
      "361/360 [==============================] - 13s 37ms/step - loss: 0.2861 - binary_accuracy: 0.9510 - val_loss: 0.2295 - val_binary_accuracy: 0.9695\n",
      "\n",
      "Epoch 00007: val_binary_accuracy improved from 0.96867 to 0.96951, saving model to custom-cnn-weights.hdf5\n",
      "Epoch 8/15\n",
      "361/360 [==============================] - 13s 36ms/step - loss: 0.2670 - binary_accuracy: 0.9505 - val_loss: 0.2231 - val_binary_accuracy: 0.9692\n",
      "\n",
      "Epoch 00008: val_binary_accuracy did not improve from 0.96951\n",
      "Epoch 9/15\n",
      "361/360 [==============================] - 13s 37ms/step - loss: 0.2565 - binary_accuracy: 0.9519 - val_loss: 0.3263 - val_binary_accuracy: 0.9248\n",
      "\n",
      "Epoch 00009: val_binary_accuracy did not improve from 0.96951\n",
      "Epoch 10/15\n",
      "361/360 [==============================] - 13s 37ms/step - loss: 0.2405 - binary_accuracy: 0.9537 - val_loss: 0.1918 - val_binary_accuracy: 0.9740\n",
      "\n",
      "Epoch 00010: val_binary_accuracy improved from 0.96951 to 0.97399, saving model to custom-cnn-weights.hdf5\n",
      "Epoch 11/15\n",
      "361/360 [==============================] - 13s 37ms/step - loss: 0.2373 - binary_accuracy: 0.9530 - val_loss: 0.2128 - val_binary_accuracy: 0.9589\n",
      "\n",
      "Epoch 00011: val_binary_accuracy did not improve from 0.97399\n",
      "Epoch 12/15\n",
      "361/360 [==============================] - 13s 36ms/step - loss: 0.2300 - binary_accuracy: 0.9546 - val_loss: 0.1920 - val_binary_accuracy: 0.9692\n",
      "\n",
      "Epoch 00012: val_binary_accuracy did not improve from 0.97399\n",
      "Epoch 13/15\n",
      "361/360 [==============================] - 13s 37ms/step - loss: 0.2267 - binary_accuracy: 0.9552 - val_loss: 0.1740 - val_binary_accuracy: 0.9762\n",
      "\n",
      "Epoch 00013: val_binary_accuracy improved from 0.97399 to 0.97622, saving model to custom-cnn-weights.hdf5\n",
      "Epoch 14/15\n",
      "361/360 [==============================] - 13s 36ms/step - loss: 0.2164 - binary_accuracy: 0.9563 - val_loss: 0.1992 - val_binary_accuracy: 0.9600\n",
      "\n",
      "Epoch 00014: val_binary_accuracy did not improve from 0.97622\n",
      "Epoch 15/15\n",
      "361/360 [==============================] - 13s 36ms/step - loss: 0.2171 - binary_accuracy: 0.9552 - val_loss: 0.1957 - val_binary_accuracy: 0.9617\n",
      "\n",
      "Epoch 00015: val_binary_accuracy did not improve from 0.97622\n",
      "Epoch 1/15\n",
      "473/472 [==============================] - 90s 190ms/step - loss: 0.9824 - binary_accuracy: 0.9134\n",
      "Epoch 2/15\n",
      "473/472 [==============================] - 13s 28ms/step - loss: 0.3322 - binary_accuracy: 0.9387\n",
      "Epoch 3/15\n",
      "473/472 [==============================] - 13s 28ms/step - loss: 0.2886 - binary_accuracy: 0.9412\n",
      "Epoch 4/15\n",
      "473/472 [==============================] - 13s 28ms/step - loss: 0.2642 - binary_accuracy: 0.9434\n",
      "Epoch 5/15\n",
      "473/472 [==============================] - 13s 28ms/step - loss: 0.2472 - binary_accuracy: 0.9476\n",
      "Epoch 6/15\n",
      "473/472 [==============================] - 13s 28ms/step - loss: 0.2389 - binary_accuracy: 0.9476\n",
      "Epoch 7/15\n",
      "473/472 [==============================] - 13s 28ms/step - loss: 0.2337 - binary_accuracy: 0.9483\n",
      "Epoch 8/15\n",
      "473/472 [==============================] - 13s 28ms/step - loss: 0.2217 - binary_accuracy: 0.9510\n",
      "Epoch 9/15\n",
      "473/472 [==============================] - 13s 27ms/step - loss: 0.2218 - binary_accuracy: 0.9514\n",
      "Epoch 10/15\n",
      "473/472 [==============================] - 13s 28ms/step - loss: 0.2141 - binary_accuracy: 0.9537\n",
      "Epoch 11/15\n",
      "473/472 [==============================] - 13s 28ms/step - loss: 0.2194 - binary_accuracy: 0.9495\n",
      "Epoch 12/15\n",
      "473/472 [==============================] - 13s 28ms/step - loss: 0.2075 - binary_accuracy: 0.9533\n",
      "Epoch 13/15\n",
      "473/472 [==============================] - 13s 27ms/step - loss: 0.1999 - binary_accuracy: 0.9559\n",
      "Epoch 14/15\n",
      "473/472 [==============================] - 13s 28ms/step - loss: 0.2093 - binary_accuracy: 0.9516\n",
      "Epoch 15/15\n",
      "473/472 [==============================] - 13s 28ms/step - loss: 0.1972 - binary_accuracy: 0.9562\n",
      "Train on 735044 samples, validate on 337602 samples\n",
      "Epoch 1/5\n",
      "735044/735044 [==============================] - 162s 221us/step - loss: 0.3912 - binary_accuracy: 0.9535 - val_loss: 0.8616 - val_binary_accuracy: 0.7307\n",
      "\n",
      "Epoch 00001: val_binary_accuracy improved from -inf to 0.73072, saving model to custom-dense-nn-weights.hdf5\n",
      "Epoch 2/5\n",
      "735044/735044 [==============================] - 83s 113us/step - loss: 0.2411 - binary_accuracy: 0.9625 - val_loss: 0.8141 - val_binary_accuracy: 0.7256\n",
      "\n",
      "Epoch 00002: val_binary_accuracy did not improve from 0.73072\n",
      "Epoch 3/5\n",
      "735044/735044 [==============================] - 85s 115us/step - loss: 0.2203 - binary_accuracy: 0.9640 - val_loss: 0.7982 - val_binary_accuracy: 0.7390\n",
      "\n",
      "Epoch 00003: val_binary_accuracy improved from 0.73072 to 0.73896, saving model to custom-dense-nn-weights.hdf5\n",
      "Epoch 4/5\n",
      "735044/735044 [==============================] - 86s 117us/step - loss: 0.2106 - binary_accuracy: 0.9645 - val_loss: 0.7544 - val_binary_accuracy: 0.7412\n",
      "\n",
      "Epoch 00004: val_binary_accuracy improved from 0.73896 to 0.74119, saving model to custom-dense-nn-weights.hdf5\n",
      "Epoch 5/5\n",
      "735044/735044 [==============================] - 86s 117us/step - loss: 0.2038 - binary_accuracy: 0.9647 - val_loss: 0.7217 - val_binary_accuracy: 0.7349\n",
      "\n",
      "Epoch 00005: val_binary_accuracy did not improve from 0.74119\n",
      "Epoch 1/5\n",
      "1072646/1072646 [==============================] - 188s 176us/step - loss: 0.3872 - binary_accuracy: 0.9476\n",
      "Epoch 2/5\n",
      "1072646/1072646 [==============================] - 114s 107us/step - loss: 0.2680 - binary_accuracy: 0.9564\n",
      "Epoch 3/5\n",
      "1072646/1072646 [==============================] - 115s 107us/step - loss: 0.2491 - binary_accuracy: 0.9577\n",
      "Epoch 4/5\n",
      "1072646/1072646 [==============================] - 115s 107us/step - loss: 0.2450 - binary_accuracy: 0.9574\n",
      "Epoch 5/5\n",
      "1072646/1072646 [==============================] - 116s 108us/step - loss: 0.2327 - binary_accuracy: 0.9579\n",
      "Training LR...\n"
     ]
    },
    {
     "name": "stderr",
     "output_type": "stream",
     "text": [
      "[Parallel(n_jobs=1)]: Using backend SequentialBackend with 1 concurrent workers.\n",
      "[Parallel(n_jobs=1)]: Done   1 out of   1 | elapsed:   35.1s finished\n",
      "[Parallel(n_jobs=1)]: Using backend SequentialBackend with 1 concurrent workers.\n",
      "[Parallel(n_jobs=1)]: Done   1 out of   1 | elapsed:   36.7s finished\n"
     ]
    },
    {
     "name": "stdout",
     "output_type": "stream",
     "text": [
      "First/Second level fold: 2/3 (43,) (10,)\n",
      "Epoch 1/15\n",
      "400/399 [==============================] - 95s 239ms/step - loss: 2.9674 - binary_accuracy: 0.8671 - val_loss: 1.2024 - val_binary_accuracy: 0.9575\n",
      "\n",
      "Epoch 00001: val_binary_accuracy improved from -inf to 0.95751, saving model to custom-cnn-weights.hdf5\n",
      "Epoch 2/15\n",
      "400/399 [==============================] - 13s 32ms/step - loss: 0.8443 - binary_accuracy: 0.9356 - val_loss: 0.5419 - val_binary_accuracy: 0.9691\n",
      "\n",
      "Epoch 00002: val_binary_accuracy improved from 0.95751 to 0.96910, saving model to custom-cnn-weights.hdf5\n",
      "Epoch 3/15\n",
      "400/399 [==============================] - 13s 32ms/step - loss: 0.4976 - binary_accuracy: 0.9396 - val_loss: 0.3632 - val_binary_accuracy: 0.9661\n",
      "\n",
      "Epoch 00003: val_binary_accuracy did not improve from 0.96910\n",
      "Epoch 4/15\n",
      "400/399 [==============================] - 13s 32ms/step - loss: 0.3913 - binary_accuracy: 0.9431 - val_loss: 0.2750 - val_binary_accuracy: 0.9798\n",
      "\n",
      "Epoch 00004: val_binary_accuracy improved from 0.96910 to 0.97983, saving model to custom-cnn-weights.hdf5\n",
      "Epoch 5/15\n",
      "400/399 [==============================] - 13s 32ms/step - loss: 0.3423 - binary_accuracy: 0.9437 - val_loss: 0.2497 - val_binary_accuracy: 0.9880\n",
      "\n",
      "Epoch 00005: val_binary_accuracy improved from 0.97983 to 0.98798, saving model to custom-cnn-weights.hdf5\n",
      "Epoch 6/15\n",
      "400/399 [==============================] - 13s 33ms/step - loss: 0.3103 - binary_accuracy: 0.9429 - val_loss: 0.2180 - val_binary_accuracy: 0.9828\n",
      "\n",
      "Epoch 00006: val_binary_accuracy did not improve from 0.98798\n",
      "Epoch 7/15\n",
      "400/399 [==============================] - 13s 33ms/step - loss: 0.2922 - binary_accuracy: 0.9453 - val_loss: 0.1873 - val_binary_accuracy: 0.9880\n",
      "\n",
      "Epoch 00007: val_binary_accuracy improved from 0.98798 to 0.98798, saving model to custom-cnn-weights.hdf5\n",
      "Epoch 8/15\n",
      "400/399 [==============================] - 13s 33ms/step - loss: 0.2781 - binary_accuracy: 0.9446 - val_loss: 0.1732 - val_binary_accuracy: 0.9888\n",
      "\n",
      "Epoch 00008: val_binary_accuracy improved from 0.98798 to 0.98884, saving model to custom-cnn-weights.hdf5\n",
      "Epoch 9/15\n",
      "400/399 [==============================] - 13s 33ms/step - loss: 0.2550 - binary_accuracy: 0.9492 - val_loss: 0.2646 - val_binary_accuracy: 0.9421\n",
      "\n",
      "Epoch 00009: val_binary_accuracy did not improve from 0.98884\n",
      "Epoch 10/15\n",
      "400/399 [==============================] - 13s 32ms/step - loss: 0.2580 - binary_accuracy: 0.9456 - val_loss: 0.1741 - val_binary_accuracy: 0.9811\n",
      "\n",
      "Epoch 00010: val_binary_accuracy did not improve from 0.98884\n",
      "Epoch 11/15\n",
      "400/399 [==============================] - 13s 32ms/step - loss: 0.2493 - binary_accuracy: 0.9460 - val_loss: 0.1510 - val_binary_accuracy: 0.9858\n",
      "\n",
      "Epoch 00011: val_binary_accuracy did not improve from 0.98884\n",
      "Epoch 12/15\n",
      "400/399 [==============================] - 13s 33ms/step - loss: 0.2352 - binary_accuracy: 0.9526 - val_loss: 0.1708 - val_binary_accuracy: 0.9764\n",
      "\n",
      "Epoch 00012: val_binary_accuracy did not improve from 0.98884\n",
      "Epoch 13/15\n",
      "400/399 [==============================] - 13s 32ms/step - loss: 0.2291 - binary_accuracy: 0.9544 - val_loss: 0.1855 - val_binary_accuracy: 0.9721\n",
      "\n",
      "Epoch 00013: val_binary_accuracy did not improve from 0.98884\n",
      "Epoch 14/15\n",
      "400/399 [==============================] - 13s 32ms/step - loss: 0.2267 - binary_accuracy: 0.9521 - val_loss: 0.1544 - val_binary_accuracy: 0.9807\n",
      "\n",
      "Epoch 00014: val_binary_accuracy did not improve from 0.98884\n",
      "Epoch 15/15\n",
      "400/399 [==============================] - 13s 32ms/step - loss: 0.2254 - binary_accuracy: 0.9519 - val_loss: 0.1765 - val_binary_accuracy: 0.9794\n",
      "\n",
      "Epoch 00015: val_binary_accuracy did not improve from 0.98884\n",
      "Epoch 1/15\n",
      "473/472 [==============================] - 90s 190ms/step - loss: 0.9966 - binary_accuracy: 0.9130\n",
      "Epoch 2/15\n",
      "473/472 [==============================] - 14s 29ms/step - loss: 0.3290 - binary_accuracy: 0.9370\n",
      "Epoch 3/15\n",
      "473/472 [==============================] - 14s 30ms/step - loss: 0.2842 - binary_accuracy: 0.9412\n",
      "Epoch 4/15\n",
      "473/472 [==============================] - 14s 29ms/step - loss: 0.2639 - binary_accuracy: 0.9427\n",
      "Epoch 5/15\n",
      "473/472 [==============================] - 13s 28ms/step - loss: 0.2456 - binary_accuracy: 0.9474\n",
      "Epoch 6/15\n",
      "473/472 [==============================] - 13s 29ms/step - loss: 0.2448 - binary_accuracy: 0.9469\n",
      "Epoch 7/15\n",
      "473/472 [==============================] - 14s 29ms/step - loss: 0.2332 - binary_accuracy: 0.9488\n",
      "Epoch 8/15\n",
      "473/472 [==============================] - 14s 29ms/step - loss: 0.2332 - binary_accuracy: 0.9479\n",
      "Epoch 9/15\n",
      "473/472 [==============================] - 14s 29ms/step - loss: 0.2146 - binary_accuracy: 0.9537\n",
      "Epoch 10/15\n",
      "473/472 [==============================] - 14s 29ms/step - loss: 0.2210 - binary_accuracy: 0.9522\n",
      "Epoch 11/15\n",
      "473/472 [==============================] - 13s 28ms/step - loss: 0.2151 - binary_accuracy: 0.9517\n",
      "Epoch 12/15\n",
      "473/472 [==============================] - 14s 29ms/step - loss: 0.2082 - binary_accuracy: 0.9556\n",
      "Epoch 13/15\n",
      "473/472 [==============================] - 14s 30ms/step - loss: 0.2123 - binary_accuracy: 0.9512\n",
      "Epoch 14/15\n",
      "473/472 [==============================] - 14s 29ms/step - loss: 0.2023 - binary_accuracy: 0.9546\n",
      "Epoch 15/15\n",
      "473/472 [==============================] - 14s 29ms/step - loss: 0.2013 - binary_accuracy: 0.9564\n",
      "Train on 888835 samples, validate on 183811 samples\n",
      "Epoch 1/5\n",
      "888835/888835 [==============================] - 166s 187us/step - loss: 0.3921 - binary_accuracy: 0.9521 - val_loss: 1.0715 - val_binary_accuracy: 0.6571\n",
      "\n",
      "Epoch 00001: val_binary_accuracy improved from -inf to 0.65713, saving model to custom-dense-nn-weights.hdf5\n",
      "Epoch 2/5\n",
      "888835/888835 [==============================] - 86s 96us/step - loss: 0.2550 - binary_accuracy: 0.9615 - val_loss: 1.2123 - val_binary_accuracy: 0.6565\n",
      "\n",
      "Epoch 00002: val_binary_accuracy did not improve from 0.65713\n",
      "Epoch 3/5\n",
      "888835/888835 [==============================] - 85s 95us/step - loss: 0.2323 - binary_accuracy: 0.9625 - val_loss: 1.2015 - val_binary_accuracy: 0.6666\n",
      "\n",
      "Epoch 00003: val_binary_accuracy improved from 0.65713 to 0.66662, saving model to custom-dense-nn-weights.hdf5\n",
      "Epoch 4/5\n",
      "888835/888835 [==============================] - 85s 96us/step - loss: 0.2246 - binary_accuracy: 0.9630 - val_loss: 1.1860 - val_binary_accuracy: 0.6602\n",
      "\n",
      "Epoch 00004: val_binary_accuracy did not improve from 0.66662\n",
      "Epoch 5/5\n",
      "888835/888835 [==============================] - 83s 93us/step - loss: 0.2183 - binary_accuracy: 0.9631 - val_loss: 0.9231 - val_binary_accuracy: 0.6852\n",
      "\n",
      "Epoch 00005: val_binary_accuracy improved from 0.66662 to 0.68517, saving model to custom-dense-nn-weights.hdf5\n",
      "Epoch 1/5\n",
      "1072646/1072646 [==============================] - 184s 171us/step - loss: 0.3832 - binary_accuracy: 0.9495\n",
      "Epoch 2/5\n",
      "1072646/1072646 [==============================] - 105s 98us/step - loss: 0.2672 - binary_accuracy: 0.9569\n",
      "Epoch 3/5\n",
      "1072646/1072646 [==============================] - 106s 99us/step - loss: 0.2508 - binary_accuracy: 0.95781s - loss: 0.2510 - b\n",
      "Epoch 4/5\n",
      "1072646/1072646 [==============================] - 106s 98us/step - loss: 0.2424 - binary_accuracy: 0.9581\n",
      "Epoch 5/5\n",
      "1072646/1072646 [==============================] - 109s 101us/step - loss: 0.2355 - binary_accuracy: 0.9588\n",
      "Training LR...\n"
     ]
    },
    {
     "name": "stderr",
     "output_type": "stream",
     "text": [
      "[Parallel(n_jobs=1)]: Using backend SequentialBackend with 1 concurrent workers.\n",
      "[Parallel(n_jobs=1)]: Done   1 out of   1 | elapsed:   39.6s finished\n",
      "[Parallel(n_jobs=1)]: Using backend SequentialBackend with 1 concurrent workers.\n",
      "[Parallel(n_jobs=1)]: Done   1 out of   1 | elapsed:   45.0s finished\n"
     ]
    },
    {
     "name": "stdout",
     "output_type": "stream",
     "text": [
      "First/Second level fold: 2/4 (43,) (10,)\n",
      "Epoch 1/15\n",
      "392/391 [==============================] - 105s 267ms/step - loss: 2.9683 - binary_accuracy: 0.8856 - val_loss: 1.4046 - val_binary_accuracy: 0.8505\n",
      "\n",
      "Epoch 00001: val_binary_accuracy improved from -inf to 0.85050, saving model to custom-cnn-weights.hdf5\n",
      "Epoch 2/15\n",
      "392/391 [==============================] - 20s 51ms/step - loss: 0.8406 - binary_accuracy: 0.9409 - val_loss: 0.6287 - val_binary_accuracy: 0.9128\n",
      "\n",
      "Epoch 00002: val_binary_accuracy improved from 0.85050 to 0.91276, saving model to custom-cnn-weights.hdf5\n",
      "Epoch 3/15\n",
      "392/391 [==============================] - 20s 51ms/step - loss: 0.4925 - binary_accuracy: 0.9436 - val_loss: 0.4516 - val_binary_accuracy: 0.9274\n",
      "\n",
      "Epoch 00003: val_binary_accuracy improved from 0.91276 to 0.92736, saving model to custom-cnn-weights.hdf5\n",
      "Epoch 4/15\n",
      "392/391 [==============================] - 20s 52ms/step - loss: 0.3694 - binary_accuracy: 0.9511 - val_loss: 0.3640 - val_binary_accuracy: 0.9243\n",
      "\n",
      "Epoch 00004: val_binary_accuracy did not improve from 0.92736\n",
      "Epoch 5/15\n",
      "392/391 [==============================] - 20s 51ms/step - loss: 0.3138 - binary_accuracy: 0.9528 - val_loss: 0.3171 - val_binary_accuracy: 0.9308\n",
      "\n",
      "Epoch 00005: val_binary_accuracy improved from 0.92736 to 0.93082, saving model to custom-cnn-weights.hdf5\n",
      "Epoch 6/15\n",
      "392/391 [==============================] - 20s 50ms/step - loss: 0.2818 - binary_accuracy: 0.9541 - val_loss: 0.3251 - val_binary_accuracy: 0.9189\n",
      "\n",
      "Epoch 00006: val_binary_accuracy did not improve from 0.93082\n",
      "Epoch 7/15\n",
      "392/391 [==============================] - 19s 50ms/step - loss: 0.2660 - binary_accuracy: 0.9526 - val_loss: 0.3403 - val_binary_accuracy: 0.9043\n",
      "\n",
      "Epoch 00007: val_binary_accuracy did not improve from 0.93082\n",
      "Epoch 8/15\n",
      "392/391 [==============================] - 20s 50ms/step - loss: 0.2453 - binary_accuracy: 0.9538 - val_loss: 0.2757 - val_binary_accuracy: 0.9235\n",
      "\n",
      "Epoch 00008: val_binary_accuracy did not improve from 0.93082\n",
      "Epoch 9/15\n",
      "392/391 [==============================] - 19s 49ms/step - loss: 0.2433 - binary_accuracy: 0.9532 - val_loss: 0.2697 - val_binary_accuracy: 0.9228\n",
      "\n",
      "Epoch 00009: val_binary_accuracy did not improve from 0.93082\n",
      "Epoch 10/15\n",
      "392/391 [==============================] - 20s 50ms/step - loss: 0.2300 - binary_accuracy: 0.9554 - val_loss: 0.2864 - val_binary_accuracy: 0.9135\n",
      "\n",
      "Epoch 00010: val_binary_accuracy did not improve from 0.93082\n",
      "Epoch 11/15\n",
      "392/391 [==============================] - 20s 50ms/step - loss: 0.2189 - binary_accuracy: 0.9550 - val_loss: 0.2447 - val_binary_accuracy: 0.9381\n",
      "\n",
      "Epoch 00011: val_binary_accuracy improved from 0.93082 to 0.93812, saving model to custom-cnn-weights.hdf5\n",
      "Epoch 12/15\n",
      "392/391 [==============================] - 20s 50ms/step - loss: 0.2157 - binary_accuracy: 0.9561 - val_loss: 0.2804 - val_binary_accuracy: 0.9035\n",
      "\n",
      "Epoch 00012: val_binary_accuracy did not improve from 0.93812\n",
      "Epoch 13/15\n",
      "392/391 [==============================] - 20s 50ms/step - loss: 0.2221 - binary_accuracy: 0.9536 - val_loss: 0.3150 - val_binary_accuracy: 0.9181\n",
      "\n",
      "Epoch 00013: val_binary_accuracy did not improve from 0.93812\n",
      "Epoch 14/15\n",
      "392/391 [==============================] - 19s 49ms/step - loss: 0.2176 - binary_accuracy: 0.9572 - val_loss: 0.4482 - val_binary_accuracy: 0.8328\n",
      "\n",
      "Epoch 00014: val_binary_accuracy did not improve from 0.93812\n",
      "Epoch 15/15\n",
      "392/391 [==============================] - 19s 50ms/step - loss: 0.2094 - binary_accuracy: 0.9579 - val_loss: 0.3321 - val_binary_accuracy: 0.9162\n",
      "\n",
      "Epoch 00015: val_binary_accuracy did not improve from 0.93812\n",
      "Epoch 1/15\n",
      "473/472 [==============================] - 97s 206ms/step - loss: 0.9768 - binary_accuracy: 0.9145\n",
      "Epoch 2/15\n",
      "473/472 [==============================] - 16s 33ms/step - loss: 0.3292 - binary_accuracy: 0.9381\n",
      "Epoch 3/15\n",
      "473/472 [==============================] - 16s 34ms/step - loss: 0.2885 - binary_accuracy: 0.9415\n",
      "Epoch 4/15\n",
      "473/472 [==============================] - 16s 33ms/step - loss: 0.2616 - binary_accuracy: 0.9456\n",
      "Epoch 5/15\n",
      "473/472 [==============================] - 16s 34ms/step - loss: 0.2469 - binary_accuracy: 0.9473\n",
      "Epoch 6/15\n",
      "473/472 [==============================] - 16s 34ms/step - loss: 0.2408 - binary_accuracy: 0.9486\n",
      "Epoch 7/15\n",
      "473/472 [==============================] - 16s 34ms/step - loss: 0.2287 - binary_accuracy: 0.9502\n",
      "Epoch 8/15\n",
      "473/472 [==============================] - 16s 34ms/step - loss: 0.2358 - binary_accuracy: 0.9468\n",
      "Epoch 9/15\n",
      "473/472 [==============================] - 16s 34ms/step - loss: 0.2202 - binary_accuracy: 0.9524 2s - loss: 0.\n",
      "Epoch 10/15\n",
      "473/472 [==============================] - 16s 34ms/step - loss: 0.2144 - binary_accuracy: 0.9554 2s - los\n",
      "Epoch 11/15\n",
      "473/472 [==============================] - 16s 34ms/step - loss: 0.2090 - binary_accuracy: 0.9552 5s - loss: 0.2100\n",
      "Epoch 12/15\n",
      "473/472 [==============================] - 16s 34ms/step - loss: 0.2087 - binary_accuracy: 0.9528\n",
      "Epoch 13/15\n",
      "473/472 [==============================] - 16s 34ms/step - loss: 0.2065 - binary_accuracy: 0.9546\n",
      "Epoch 14/15\n",
      "473/472 [==============================] - 16s 34ms/step - loss: 0.2047 - binary_accuracy: 0.9529\n",
      "Epoch 15/15\n",
      "473/472 [==============================] - 16s 33ms/step - loss: 0.1985 - binary_accuracy: 0.9571\n",
      "Train on 866877 samples, validate on 205769 samples\n",
      "Epoch 1/5\n",
      "866877/866877 [==============================] - 189s 218us/step - loss: 0.4072 - binary_accuracy: 0.9448 - val_loss: 0.4977 - val_binary_accuracy: 0.8722\n",
      "\n",
      "Epoch 00001: val_binary_accuracy improved from -inf to 0.87222, saving model to custom-dense-nn-weights.hdf5\n",
      "Epoch 2/5\n",
      "866877/866877 [==============================] - 101s 116us/step - loss: 0.2696 - binary_accuracy: 0.9550 - val_loss: 0.4978 - val_binary_accuracy: 0.8684\n",
      "\n",
      "Epoch 00002: val_binary_accuracy did not improve from 0.87222\n",
      "Epoch 3/5\n",
      "866877/866877 [==============================] - 101s 116us/step - loss: 0.2488 - binary_accuracy: 0.9567 - val_loss: 0.4818 - val_binary_accuracy: 0.8735\n",
      "\n",
      "Epoch 00003: val_binary_accuracy improved from 0.87222 to 0.87346, saving model to custom-dense-nn-weights.hdf5\n",
      "Epoch 4/5\n",
      "866877/866877 [==============================] - 101s 117us/step - loss: 0.2361 - binary_accuracy: 0.9573 - val_loss: 0.5013 - val_binary_accuracy: 0.8634\n",
      "\n",
      "Epoch 00004: val_binary_accuracy did not improve from 0.87346\n",
      "Epoch 5/5\n",
      "866877/866877 [==============================] - 101s 117us/step - loss: 0.2334 - binary_accuracy: 0.9570 - val_loss: 0.6023 - val_binary_accuracy: 0.8231\n",
      "\n",
      "Epoch 00005: val_binary_accuracy did not improve from 0.87346\n",
      "Epoch 1/5\n",
      "1072646/1072646 [==============================] - 186s 173us/step - loss: 0.3905 - binary_accuracy: 0.9482\n",
      "Epoch 2/5\n",
      "1072646/1072646 [==============================] - 101s 94us/step - loss: 0.2709 - binary_accuracy: 0.9564\n",
      "Epoch 3/5\n",
      "1072646/1072646 [==============================] - 100s 94us/step - loss: 0.2509 - binary_accuracy: 0.9572\n",
      "Epoch 4/5\n",
      "1072646/1072646 [==============================] - 99s 92us/step - loss: 0.2363 - binary_accuracy: 0.9580\n",
      "Epoch 5/5\n",
      "1072646/1072646 [==============================] - 97s 90us/step - loss: 0.2357 - binary_accuracy: 0.9575\n",
      "Training LR...\n"
     ]
    },
    {
     "name": "stderr",
     "output_type": "stream",
     "text": [
      "[Parallel(n_jobs=1)]: Using backend SequentialBackend with 1 concurrent workers.\n",
      "[Parallel(n_jobs=1)]: Done   1 out of   1 | elapsed:   43.6s finished\n",
      "[Parallel(n_jobs=1)]: Using backend SequentialBackend with 1 concurrent workers.\n",
      "[Parallel(n_jobs=1)]: Done   1 out of   1 | elapsed:   38.5s finished\n"
     ]
    },
    {
     "name": "stdout",
     "output_type": "stream",
     "text": [
      "Training Blender...\n",
      "[LibLinear][LibLinear][LibLinear][LibLinear][LibLinear][LibLinear][LibLinear][LibLinear][LibLinear][LibLinear]"
     ]
    },
    {
     "name": "stderr",
     "output_type": "stream",
     "text": [
      "[Parallel(n_jobs=1)]: Using backend SequentialBackend with 1 concurrent workers.\n"
     ]
    },
    {
     "name": "stdout",
     "output_type": "stream",
     "text": [
      "[LibLinear][LibLinear][LibLinear][LibLinear][LibLinear][LibLinear][LibLinear][LibLinear][LibLinear][LibLinear][LibLinear][LibLinear][LibLinear][LibLinear][LibLinear][LibLinear][LibLinear][LibLinear][LibLinear][LibLinear][LibLinear][LibLinear][LibLinear][LibLinear][LibLinear][LibLinear][LibLinear][LibLinear][LibLinear][LibLinear][LibLinear][LibLinear][LibLinear][LibLinear][LibLinear][LibLinear][LibLinear][LibLinear][LibLinear][LibLinear]"
     ]
    },
    {
     "name": "stderr",
     "output_type": "stream",
     "text": [
      "[Parallel(n_jobs=1)]: Done   5 out of   5 | elapsed:    1.1s finished\n"
     ]
    },
    {
     "name": "stdout",
     "output_type": "stream",
     "text": [
      "           f1      prec    recall      acc model  fold\n",
      "on   0.946065  0.991353  0.904735  0.93735   cnn     2\n",
      "off  0.925276  0.870200  0.987794  0.93735   cnn     2\n",
      "\n",
      "           f1      prec    recall       acc model  fold\n",
      "on   0.950838  0.942414  0.959414  0.939747    nn     2\n",
      "off  0.922193  0.935426  0.909329  0.939747    nn     2\n",
      "\n",
      "           f1      prec    recall       acc model  fold\n",
      "on   0.940028  0.930425  0.949831  0.926395    lr     2\n",
      "off  0.904741  0.919820  0.890148  0.926395    lr     2\n",
      "\n",
      "           f1      prec   recall       acc  model  fold\n",
      "on   0.973247  0.972425  0.97407  0.967477  blend     2\n",
      "off  0.958533  0.959790  0.95728  0.967477  blend     2\n",
      "\n",
      "           f1      prec    recall       acc model  fold\n",
      "on   0.975679  0.979001  0.972379  0.970558  mean     2\n",
      "off  0.962706  0.957722  0.967742  0.970558  mean     2\n",
      "\n",
      "           f1      prec    recall       acc  model  fold\n",
      "on   0.972745  0.969748  0.975761  0.966792  gmean     2\n",
      "off  0.957512  0.962148  0.952921  0.966792  gmean     2\n",
      "\n",
      "First level fold: 3 (53,) (13,)\n",
      "First/Second level fold: 3/0 (42,) (11,)\n",
      "Epoch 1/15\n",
      "345/344 [==============================] - 101s 292ms/step - loss: 3.2458 - binary_accuracy: 0.8758 - val_loss: 1.3957 - val_binary_accuracy: 0.9562\n",
      "\n",
      "Epoch 00001: val_binary_accuracy improved from -inf to 0.95624, saving model to custom-cnn-weights.hdf5\n",
      "Epoch 2/15\n",
      "345/344 [==============================] - 13s 37ms/step - loss: 0.9991 - binary_accuracy: 0.9192 - val_loss: 0.5741 - val_binary_accuracy: 0.9754curacy - ETA: 2s -\n",
      "\n",
      "Epoch 00002: val_binary_accuracy improved from 0.95624 to 0.97543, saving model to custom-cnn-weights.hdf5\n",
      "Epoch 3/15\n",
      "345/344 [==============================] - 13s 37ms/step - loss: 0.5567 - binary_accuracy: 0.9310 - val_loss: 0.3780 - val_binary_accuracy: 0.9731\n",
      "\n",
      "Epoch 00003: val_binary_accuracy did not improve from 0.97543\n",
      "Epoch 4/15\n",
      "345/344 [==============================] - 13s 38ms/step - loss: 0.4229 - binary_accuracy: 0.9370 - val_loss: 0.3297 - val_binary_accuracy: 0.9570\n",
      "\n",
      "Epoch 00004: val_binary_accuracy did not improve from 0.97543\n",
      "Epoch 5/15\n",
      "345/344 [==============================] - 13s 37ms/step - loss: 0.3667 - binary_accuracy: 0.9363 - val_loss: 0.2741 - val_binary_accuracy: 0.9628\n",
      "\n",
      "Epoch 00005: val_binary_accuracy did not improve from 0.97543\n",
      "Epoch 6/15\n",
      "345/344 [==============================] - 13s 37ms/step - loss: 0.3279 - binary_accuracy: 0.9415 - val_loss: 0.2211 - val_binary_accuracy: 0.9750\n",
      "\n",
      "Epoch 00006: val_binary_accuracy did not improve from 0.97543\n",
      "Epoch 7/15\n",
      "345/344 [==============================] - 13s 38ms/step - loss: 0.3023 - binary_accuracy: 0.9426 - val_loss: 0.2003 - val_binary_accuracy: 0.9770: 1s - loss: 0.30\n",
      "\n",
      "Epoch 00007: val_binary_accuracy improved from 0.97543 to 0.97697, saving model to custom-cnn-weights.hdf5\n",
      "Epoch 8/15\n",
      "345/344 [==============================] - 13s 37ms/step - loss: 0.2920 - binary_accuracy: 0.9431 - val_loss: 0.2398 - val_binary_accuracy: 0.9585\n",
      "\n",
      "Epoch 00008: val_binary_accuracy did not improve from 0.97697\n",
      "Epoch 9/15\n",
      "345/344 [==============================] - 13s 38ms/step - loss: 0.2793 - binary_accuracy: 0.9422 - val_loss: 0.2216 - val_binary_accuracy: 0.9635\n",
      "\n",
      "Epoch 00009: val_binary_accuracy did not improve from 0.97697\n",
      "Epoch 10/15\n",
      "345/344 [==============================] - 13s 37ms/step - loss: 0.2758 - binary_accuracy: 0.9414 - val_loss: 0.2025 - val_binary_accuracy: 0.9666\n",
      "\n",
      "Epoch 00010: val_binary_accuracy did not improve from 0.97697\n",
      "Epoch 11/15\n",
      "345/344 [==============================] - 13s 37ms/step - loss: 0.2565 - binary_accuracy: 0.9478 - val_loss: 0.2310 - val_binary_accuracy: 0.9478\n",
      "\n",
      "Epoch 00011: val_binary_accuracy did not improve from 0.97697\n",
      "Epoch 12/15\n",
      "345/344 [==============================] - 13s 37ms/step - loss: 0.2484 - binary_accuracy: 0.9480 - val_loss: 0.2120 - val_binary_accuracy: 0.9574\n",
      "\n",
      "Epoch 00012: val_binary_accuracy did not improve from 0.97697\n",
      "Epoch 13/15\n",
      "345/344 [==============================] - 13s 37ms/step - loss: 0.2437 - binary_accuracy: 0.9477 - val_loss: 0.2490 - val_binary_accuracy: 0.9374\n",
      "\n",
      "Epoch 00013: val_binary_accuracy did not improve from 0.97697\n",
      "Epoch 14/15\n",
      "345/344 [==============================] - 13s 38ms/step - loss: 0.2468 - binary_accuracy: 0.9450 - val_loss: 0.1792 - val_binary_accuracy: 0.9693\n",
      "\n",
      "Epoch 00014: val_binary_accuracy did not improve from 0.97697\n",
      "Epoch 15/15\n",
      "345/344 [==============================] - 13s 37ms/step - loss: 0.2357 - binary_accuracy: 0.9496 - val_loss: 0.1685 - val_binary_accuracy: 0.9731\n",
      "\n",
      "Epoch 00015: val_binary_accuracy did not improve from 0.97697\n",
      "Epoch 1/15\n",
      "427/426 [==============================] - 99s 233ms/step - loss: 1.0509 - binary_accuracy: 0.9091\n",
      "Epoch 2/15\n",
      "427/426 [==============================] - 12s 29ms/step - loss: 0.3581 - binary_accuracy: 0.9350\n",
      "Epoch 3/15\n",
      "427/426 [==============================] - 13s 29ms/step - loss: 0.3064 - binary_accuracy: 0.9384\n",
      "Epoch 4/15\n",
      "427/426 [==============================] - 12s 29ms/step - loss: 0.2730 - binary_accuracy: 0.9433\n",
      "Epoch 5/15\n",
      "427/426 [==============================] - 12s 29ms/step - loss: 0.2576 - binary_accuracy: 0.9453\n",
      "Epoch 6/15\n",
      "427/426 [==============================] - 13s 30ms/step - loss: 0.2500 - binary_accuracy: 0.9467\n",
      "Epoch 7/15\n",
      "427/426 [==============================] - 13s 29ms/step - loss: 0.2436 - binary_accuracy: 0.9480\n",
      "Epoch 8/15\n",
      "427/426 [==============================] - 12s 29ms/step - loss: 0.2395 - binary_accuracy: 0.9479\n",
      "Epoch 9/15\n",
      "427/426 [==============================] - 13s 30ms/step - loss: 0.2333 - binary_accuracy: 0.9462\n",
      "Epoch 10/15\n",
      "427/426 [==============================] - 13s 30ms/step - loss: 0.2340 - binary_accuracy: 0.9465\n",
      "Epoch 11/15\n",
      "427/426 [==============================] - 12s 29ms/step - loss: 0.2255 - binary_accuracy: 0.9478\n",
      "Epoch 12/15\n",
      "427/426 [==============================] - 13s 29ms/step - loss: 0.2242 - binary_accuracy: 0.9496\n",
      "Epoch 13/15\n",
      "427/426 [==============================] - 12s 29ms/step - loss: 0.2239 - binary_accuracy: 0.9506\n",
      "Epoch 14/15\n",
      "427/426 [==============================] - 13s 30ms/step - loss: 0.2164 - binary_accuracy: 0.9510\n",
      "Epoch 15/15\n",
      "427/426 [==============================] - 13s 30ms/step - loss: 0.2124 - binary_accuracy: 0.9530\n",
      "Train on 834189 samples, validate on 162063 samples\n",
      "Epoch 1/5\n",
      "834189/834189 [==============================] - 180s 216us/step - loss: 0.4062 - binary_accuracy: 0.9468 - val_loss: 0.5378 - val_binary_accuracy: 0.8492\n",
      "\n",
      "Epoch 00001: val_binary_accuracy improved from -inf to 0.84921, saving model to custom-dense-nn-weights.hdf5\n",
      "Epoch 2/5\n",
      "834189/834189 [==============================] - 88s 106us/step - loss: 0.2674 - binary_accuracy: 0.9588 - val_loss: 0.5756 - val_binary_accuracy: 0.8483\n",
      "\n",
      "Epoch 00002: val_binary_accuracy did not improve from 0.84921\n",
      "Epoch 3/5\n",
      "834189/834189 [==============================] - 88s 106us/step - loss: 0.2466 - binary_accuracy: 0.9600 - val_loss: 0.5212 - val_binary_accuracy: 0.8480\n",
      "\n",
      "Epoch 00003: val_binary_accuracy did not improve from 0.84921\n",
      "Epoch 4/5\n",
      "834189/834189 [==============================] - 97s 116us/step - loss: 0.2357 - binary_accuracy: 0.9594 - val_loss: 0.5279 - val_binary_accuracy: 0.8468\n",
      "\n",
      "Epoch 00004: val_binary_accuracy did not improve from 0.84921\n",
      "Epoch 5/5\n",
      "834189/834189 [==============================] - 99s 119us/step - loss: 0.2290 - binary_accuracy: 0.9596 - val_loss: 0.5014 - val_binary_accuracy: 0.8464\n",
      "\n",
      "Epoch 00005: val_binary_accuracy did not improve from 0.84921\n",
      "Epoch 1/5\n",
      "996252/996252 [==============================] - 191s 191us/step - loss: 0.3906 - binary_accuracy: 0.9470\n",
      "Epoch 2/5\n",
      "996252/996252 [==============================] - 99s 99us/step - loss: 0.2679 - binary_accuracy: 0.9550\n",
      "Epoch 3/5\n",
      "996252/996252 [==============================] - 99s 99us/step - loss: 0.2497 - binary_accuracy: 0.9559\n",
      "Epoch 4/5\n",
      "996252/996252 [==============================] - 99s 100us/step - loss: 0.2404 - binary_accuracy: 0.9566\n",
      "Epoch 5/5\n",
      "996252/996252 [==============================] - 99s 100us/step - loss: 0.2335 - binary_accuracy: 0.9564\n",
      "Training LR...\n"
     ]
    },
    {
     "name": "stderr",
     "output_type": "stream",
     "text": [
      "[Parallel(n_jobs=1)]: Using backend SequentialBackend with 1 concurrent workers.\n",
      "[Parallel(n_jobs=1)]: Done   1 out of   1 | elapsed:   30.4s finished\n",
      "[Parallel(n_jobs=1)]: Using backend SequentialBackend with 1 concurrent workers.\n",
      "[Parallel(n_jobs=1)]: Done   1 out of   1 | elapsed:   44.0s finished\n"
     ]
    },
    {
     "name": "stdout",
     "output_type": "stream",
     "text": [
      "First/Second level fold: 3/1 (42,) (11,)\n",
      "Epoch 1/15\n",
      "331/330 [==============================] - 107s 324ms/step - loss: 3.3528 - binary_accuracy: 0.8580 - val_loss: 1.5082 - val_binary_accuracy: 0.9613\n",
      "\n",
      "Epoch 00001: val_binary_accuracy improved from -inf to 0.96134, saving model to custom-cnn-weights.hdf5\n",
      "Epoch 2/15\n",
      "331/330 [==============================] - 13s 39ms/step - loss: 1.0766 - binary_accuracy: 0.9231 - val_loss: 0.6283 - val_binary_accuracy: 0.9797\n",
      "\n",
      "Epoch 00002: val_binary_accuracy improved from 0.96134 to 0.97969, saving model to custom-cnn-weights.hdf5\n",
      "Epoch 3/15\n",
      "331/330 [==============================] - 13s 38ms/step - loss: 0.6166 - binary_accuracy: 0.9274 - val_loss: 0.4173 - val_binary_accuracy: 0.9682\n",
      "\n",
      "Epoch 00003: val_binary_accuracy did not improve from 0.97969\n",
      "Epoch 4/15\n",
      "331/330 [==============================] - 13s 39ms/step - loss: 0.4614 - binary_accuracy: 0.9300 - val_loss: 0.3575 - val_binary_accuracy: 0.9646\n",
      "\n",
      "Epoch 00004: val_binary_accuracy did not improve from 0.97969\n",
      "Epoch 5/15\n",
      "331/330 [==============================] - 13s 38ms/step - loss: 0.3897 - binary_accuracy: 0.9359 - val_loss: 0.2797 - val_binary_accuracy: 0.9735\n",
      "\n",
      "Epoch 00005: val_binary_accuracy did not improve from 0.97969\n",
      "Epoch 6/15\n",
      "331/330 [==============================] - 13s 38ms/step - loss: 0.3482 - binary_accuracy: 0.9352 - val_loss: 0.2409 - val_binary_accuracy: 0.9725\n",
      "\n",
      "Epoch 00006: val_binary_accuracy did not improve from 0.97969\n",
      "Epoch 7/15\n",
      "331/330 [==============================] - 13s 38ms/step - loss: 0.3258 - binary_accuracy: 0.9362 - val_loss: 0.2041 - val_binary_accuracy: 0.9843\n",
      "\n",
      "Epoch 00007: val_binary_accuracy improved from 0.97969 to 0.98427, saving model to custom-cnn-weights.hdf5\n",
      "Epoch 8/15\n",
      "331/330 [==============================] - 13s 38ms/step - loss: 0.2964 - binary_accuracy: 0.9414 - val_loss: 0.2248 - val_binary_accuracy: 0.9731\n",
      "\n",
      "Epoch 00008: val_binary_accuracy did not improve from 0.98427\n",
      "Epoch 9/15\n",
      "331/330 [==============================] - 10s 32ms/step - loss: 0.2870 - binary_accuracy: 0.9416 - val_loss: 0.1934 - val_binary_accuracy: 0.9784\n",
      "\n",
      "Epoch 00009: val_binary_accuracy did not improve from 0.98427\n",
      "Epoch 10/15\n",
      "331/330 [==============================] - 10s 32ms/step - loss: 0.2805 - binary_accuracy: 0.9400 - val_loss: 0.1922 - val_binary_accuracy: 0.9718\n",
      "\n",
      "Epoch 00010: val_binary_accuracy did not improve from 0.98427\n",
      "Epoch 11/15\n",
      "331/330 [==============================] - 11s 32ms/step - loss: 0.2705 - binary_accuracy: 0.9414 - val_loss: 0.1908 - val_binary_accuracy: 0.9790\n",
      "\n",
      "Epoch 00011: val_binary_accuracy did not improve from 0.98427\n",
      "Epoch 12/15\n",
      "331/330 [==============================] - 10s 32ms/step - loss: 0.2574 - binary_accuracy: 0.9447 - val_loss: 0.1515 - val_binary_accuracy: 0.9862\n",
      "\n",
      "Epoch 00012: val_binary_accuracy improved from 0.98427 to 0.98624, saving model to custom-cnn-weights.hdf5\n",
      "Epoch 13/15\n",
      "331/330 [==============================] - 11s 32ms/step - loss: 0.2555 - binary_accuracy: 0.9430 - val_loss: 0.1487 - val_binary_accuracy: 0.9869\n",
      "\n",
      "Epoch 00013: val_binary_accuracy improved from 0.98624 to 0.98689, saving model to custom-cnn-weights.hdf5\n",
      "Epoch 14/15\n",
      "331/330 [==============================] - 11s 32ms/step - loss: 0.2503 - binary_accuracy: 0.9445 - val_loss: 0.2968 - val_binary_accuracy: 0.9230\n",
      "\n",
      "Epoch 00014: val_binary_accuracy did not improve from 0.98689\n",
      "Epoch 15/15\n",
      "331/330 [==============================] - 11s 33ms/step - loss: 0.2550 - binary_accuracy: 0.9444 - val_loss: 0.1808 - val_binary_accuracy: 0.9761\n",
      "\n",
      "Epoch 00015: val_binary_accuracy did not improve from 0.98689\n",
      "Epoch 1/15\n",
      "427/426 [==============================] - 102s 238ms/step - loss: 1.1062 - binary_accuracy: 0.9062\n",
      "Epoch 2/15\n",
      "427/426 [==============================] - 12s 29ms/step - loss: 0.3628 - binary_accuracy: 0.9369\n",
      "Epoch 3/15\n",
      "427/426 [==============================] - 13s 29ms/step - loss: 0.3020 - binary_accuracy: 0.9418\n",
      "Epoch 4/15\n",
      "427/426 [==============================] - 12s 29ms/step - loss: 0.2831 - binary_accuracy: 0.9421\n",
      "Epoch 5/15\n",
      "427/426 [==============================] - 12s 29ms/step - loss: 0.2694 - binary_accuracy: 0.9435\n",
      "Epoch 6/15\n",
      "427/426 [==============================] - 12s 29ms/step - loss: 0.2575 - binary_accuracy: 0.9440\n",
      "Epoch 7/15\n",
      "427/426 [==============================] - 12s 29ms/step - loss: 0.2487 - binary_accuracy: 0.9450\n",
      "Epoch 8/15\n",
      "427/426 [==============================] - 12s 29ms/step - loss: 0.2378 - binary_accuracy: 0.9483\n",
      "Epoch 9/15\n",
      "427/426 [==============================] - 13s 30ms/step - loss: 0.2278 - binary_accuracy: 0.9523\n",
      "Epoch 10/15\n",
      "427/426 [==============================] - 12s 29ms/step - loss: 0.2310 - binary_accuracy: 0.9478\n",
      "Epoch 11/15\n",
      "427/426 [==============================] - 13s 29ms/step - loss: 0.2278 - binary_accuracy: 0.9510\n",
      "Epoch 12/15\n",
      "427/426 [==============================] - 13s 30ms/step - loss: 0.2252 - binary_accuracy: 0.9494\n",
      "Epoch 13/15\n",
      "427/426 [==============================] - 13s 30ms/step - loss: 0.2213 - binary_accuracy: 0.9493\n",
      "Epoch 14/15\n",
      "427/426 [==============================] - 13s 30ms/step - loss: 0.2155 - binary_accuracy: 0.9513\n",
      "Epoch 15/15\n",
      "427/426 [==============================] - 13s 30ms/step - loss: 0.2132 - binary_accuracy: 0.9492\n",
      "Train on 736694 samples, validate on 259558 samples\n",
      "Epoch 1/5\n",
      "736694/736694 [==============================] - 183s 249us/step - loss: 0.4206 - binary_accuracy: 0.9415 - val_loss: 0.7520 - val_binary_accuracy: 0.7503\n",
      "\n",
      "Epoch 00001: val_binary_accuracy improved from -inf to 0.75026, saving model to custom-dense-nn-weights.hdf5\n",
      "Epoch 2/5\n",
      "736694/736694 [==============================] - 89s 120us/step - loss: 0.2728 - binary_accuracy: 0.9548 - val_loss: 0.6909 - val_binary_accuracy: 0.7001\n",
      "\n",
      "Epoch 00002: val_binary_accuracy did not improve from 0.75026\n",
      "Epoch 3/5\n",
      "736694/736694 [==============================] - 89s 121us/step - loss: 0.2529 - binary_accuracy: 0.9560 - val_loss: 0.9013 - val_binary_accuracy: 0.6737\n",
      "\n",
      "Epoch 00003: val_binary_accuracy did not improve from 0.75026\n",
      "Epoch 4/5\n",
      "736694/736694 [==============================] - 90s 122us/step - loss: 0.2422 - binary_accuracy: 0.9567 - val_loss: 0.8669 - val_binary_accuracy: 0.6777\n",
      "\n",
      "Epoch 00004: val_binary_accuracy did not improve from 0.75026\n",
      "Epoch 5/5\n",
      "736694/736694 [==============================] - 92s 124us/step - loss: 0.2383 - binary_accuracy: 0.9569 - val_loss: 0.8549 - val_binary_accuracy: 0.6776\n",
      "\n",
      "Epoch 00005: val_binary_accuracy did not improve from 0.75026\n",
      "Epoch 1/5\n"
     ]
    }
   ],
   "source": [
    "%%time\n",
    "\n",
    "utils = reload(utils)\n",
    "break_after_first_fold = False\n",
    "\n",
    "folds_1level = 5\n",
    "folds_2level = 5\n",
    "\n",
    "cv_metrics = []\n",
    "history_list = []\n",
    "\n",
    "cv1 = GroupKFold(n_splits=folds_1level)\n",
    "for fold_i, (other_inds, test_inds) in enumerate(cv1.split(u_groups, groups=u_groups)):\n",
    "    print(f'First level fold: {fold_i}', other_inds.shape, test_inds.shape)\n",
    "    other_u_groups, test_u_groups = other_inds, test_inds\n",
    "    \n",
    "    X_other, y_other, groups_other = utils.make_subset(other_u_groups, X, y, groups)\n",
    "    X_test, y_test, groups_test = utils.make_subset(test_u_groups, X, y, groups)\n",
    "    \n",
    "    X_p_other, y_p_other, groups_p_other = utils.make_subset(other_u_groups, X_p, y_p, groups_p)\n",
    "    X_p_test, y_p_test, groups_p_test = utils.make_subset(test_u_groups, X_p, y_p, groups_p)\n",
    "    \n",
    "#     data_gen = utils.OffSampleImageDataGenerator(**data_gen_args)\n",
    "#     data_gen.fit(X_other)\n",
    "#     X_test = data_gen.standardize(X_test)\n",
    "    \n",
    "    y_other_cv = []\n",
    "    y_other_cv_pred = defaultdict(list)\n",
    "    y_test_cv_pred = defaultdict(list)\n",
    "    cv2 = GroupKFold(n_splits=folds_2level)\n",
    "    for fold_j, (train_inds, valid_inds) in enumerate(cv2.split(other_u_groups, groups=other_u_groups)):\n",
    "        print(f'First/Second level fold: {fold_i}/{fold_j}', train_inds.shape, valid_inds.shape)\n",
    "        train_u_groups, valid_u_groups = other_u_groups[train_inds], other_u_groups[valid_inds]\n",
    "        \n",
    "        X_train, y_train, groups_train = utils.make_subset(train_u_groups, X, y, groups)\n",
    "        X_valid, y_valid, groups_valid = utils.make_subset(valid_u_groups, X, y, groups)\n",
    "        \n",
    "        X_p_train, y_p_train, groups_p_train = utils.make_subset(train_u_groups, X_p, y_p, groups_p)\n",
    "        X_p_valid, y_p_valid, groups_p_valid = utils.make_subset(valid_u_groups, X_p, y_p, groups_p)\n",
    "        \n",
    "        y_other_cv.append(y_valid)  # TODO: take into account groups\n",
    "        \n",
    "        # CNN\n",
    "        epochs = 15\n",
    "        model_cnn = utils.KerasCNN(image_shape=IMAGE_SHAPE)\n",
    "        model_cnn.fit(X_train, y_train, X_valid, y_valid,\n",
    "                      epochs=epochs, batch_size=32, seed=13)\n",
    "        y_valid_pred = model_cnn.predict(X_valid, load_best=True)\n",
    "        y_other_cv_pred['cnn'].append(y_valid_pred)\n",
    "        \n",
    "        # TODO?: train network on training, select best performing on validation, run on test\n",
    "        history = model_cnn.fit(np.concatenate([X_train, X_valid]), np.concatenate([y_train, y_valid]),\n",
    "                                epochs=epochs, batch_size=32, seed=13)\n",
    "        history_list.append(history.history)\n",
    "        y_test_pred = model_cnn.predict(X_test, load_best=False)\n",
    "        y_test_cv_pred['cnn'].append(y_test_pred)\n",
    "        \n",
    "        # NN\n",
    "        epochs = 5\n",
    "        model_nn = utils.KerasNN(feature_n=X_p_train.shape[-1])\n",
    "        model_nn.fit(X_p_train, y_p_train, X_p_valid, y_p_valid,\n",
    "                     epochs=epochs, batch_size=512)\n",
    "        y_p_valid_pred = model_nn.predict(X_p_valid, load_best=True)\n",
    "        y_valid_pred = utils.pixel_corr_predict(y_p_valid_pred, groups_p_valid,\n",
    "                                                X_valid, groups_valid,\n",
    "                                                masks, IMAGE_SHAPE)\n",
    "        y_other_cv_pred['nn'].append(y_valid_pred)\n",
    "        \n",
    "        model_nn.fit(scipy.sparse.vstack([X_p_train, X_p_valid]), np.concatenate([y_p_train, y_p_valid]),\n",
    "                     epochs=epochs, batch_size=512)\n",
    "        y_p_test_pred = model_nn.predict(X_p_test, load_best=False)\n",
    "        y_test_pred = utils.pixel_corr_predict(y_p_test_pred, groups_p_test,\n",
    "                                               X_test, groups_test,\n",
    "                                               masks, IMAGE_SHAPE)\n",
    "        y_test_cv_pred['nn'].append(y_test_pred)\n",
    "        \n",
    "        # LR\n",
    "        print('Training LR...')\n",
    "        model_lr = utils.SKLogisticRegression(n_components=50)\n",
    "        model_lr.fit(X_p_train, y_p_train)\n",
    "        y_p_valid_pred = model_lr.predict(X_p_valid)\n",
    "        y_valid_pred = utils.pixel_corr_predict(y_p_valid_pred, groups_p_valid,\n",
    "                                                X_valid, groups_valid,\n",
    "                                                masks, IMAGE_SHAPE)\n",
    "        y_other_cv_pred['lr'].append(y_valid_pred)\n",
    "        \n",
    "        model_lr.fit(scipy.sparse.vstack([X_p_train, X_p_valid]), np.concatenate([y_p_train, y_p_valid]))\n",
    "        y_p_test_pred = model_lr.predict(X_p_test)\n",
    "        y_test_pred = utils.pixel_corr_predict(y_p_test_pred, groups_p_test,\n",
    "                                               X_test, groups_test,\n",
    "                                               masks, IMAGE_SHAPE)\n",
    "        y_test_cv_pred['lr'].append(y_test_pred)\n",
    "\n",
    "    model_names = ['cnn', 'nn', 'lr']\n",
    "        \n",
    "    y_other_cv = np.concatenate(y_other_cv)\n",
    "    for model_name in model_names:\n",
    "        y_other_cv_pred[model_name] = np.concatenate(y_other_cv_pred[model_name])\n",
    "        y_test_cv_pred[model_name] = np.stack(y_test_cv_pred[model_name], axis=1).mean(axis=1)\n",
    "    \n",
    "    # Blender\n",
    "    print('Training Blender...')\n",
    "    X_blend_train = np.stack([y_other_cv_pred[name] for name in model_names], axis=1)\n",
    "    X_blend_test = np.stack([y_test_cv_pred[name] for name in model_names], axis=1)\n",
    "\n",
    "    blender = sklearn.linear_model.logistic.LogisticRegressionCV(cv=5, solver='liblinear', verbose=1)\n",
    "    blender.fit(X_blend_train, y_other_cv)\n",
    "\n",
    "    y_test_pred = {}\n",
    "    for name in model_names:\n",
    "        y_test_pred[name] = y_test_cv_pred[name]\n",
    "              \n",
    "    y_test_pred['blend'] = blender.predict_proba(X_blend_test)[:,1]\n",
    "    y_test_pred['mean'] = X_blend_test.mean(axis=1)\n",
    "    y_test_pred['gmean'] = scipy.stats.gmean(X_blend_test, axis=1)\n",
    "    \n",
    "    for name, pred in y_test_pred.items():\n",
    "        if len(pred) > 0:\n",
    "            metrics = utils.calc_metrics(y_test, pred)\n",
    "            metrics['model'] = name\n",
    "            metrics['fold'] = fold_i\n",
    "            cv_metrics.append(metrics)\n",
    "            print(metrics, end='\\n\\n')\n",
    "\n",
    "    if break_after_first_fold:\n",
    "        break\n",
    "\n",
    "metrics_df = pd.concat(cv_metrics)\n",
    "metrics_df.to_msgpack('metrics_df.msgpack')\n",
    "pickle.dump(history_list, open('history_list.pkl', 'wb'))"
   ]
  },
  {
   "cell_type": "code",
   "execution_count": null,
   "metadata": {},
   "outputs": [],
   "source": []
  },
  {
   "cell_type": "code",
   "execution_count": 45,
   "metadata": {},
   "outputs": [],
   "source": [
    "# metrics_df = pd.concat(cv_metrics, sort=False)"
   ]
  },
  {
   "cell_type": "code",
   "execution_count": 68,
   "metadata": {},
   "outputs": [
    {
     "data": {
      "text/html": [
       "<div>\n",
       "<style scoped>\n",
       "    .dataframe tbody tr th:only-of-type {\n",
       "        vertical-align: middle;\n",
       "    }\n",
       "\n",
       "    .dataframe tbody tr th {\n",
       "        vertical-align: top;\n",
       "    }\n",
       "\n",
       "    .dataframe thead tr th {\n",
       "        text-align: left;\n",
       "    }\n",
       "\n",
       "    .dataframe thead tr:last-of-type th {\n",
       "        text-align: right;\n",
       "    }\n",
       "</style>\n",
       "<table border=\"1\" class=\"dataframe\">\n",
       "  <thead>\n",
       "    <tr>\n",
       "      <th></th>\n",
       "      <th></th>\n",
       "      <th colspan=\"2\" halign=\"left\">f1</th>\n",
       "      <th colspan=\"2\" halign=\"left\">prec</th>\n",
       "      <th colspan=\"2\" halign=\"left\">recall</th>\n",
       "      <th colspan=\"2\" halign=\"left\">acc</th>\n",
       "      <th colspan=\"2\" halign=\"left\">fold</th>\n",
       "    </tr>\n",
       "    <tr>\n",
       "      <th></th>\n",
       "      <th></th>\n",
       "      <th>mean</th>\n",
       "      <th>std</th>\n",
       "      <th>mean</th>\n",
       "      <th>std</th>\n",
       "      <th>mean</th>\n",
       "      <th>std</th>\n",
       "      <th>mean</th>\n",
       "      <th>std</th>\n",
       "      <th>mean</th>\n",
       "      <th>std</th>\n",
       "    </tr>\n",
       "    <tr>\n",
       "      <th>model</th>\n",
       "      <th>index</th>\n",
       "      <th></th>\n",
       "      <th></th>\n",
       "      <th></th>\n",
       "      <th></th>\n",
       "      <th></th>\n",
       "      <th></th>\n",
       "      <th></th>\n",
       "      <th></th>\n",
       "      <th></th>\n",
       "      <th></th>\n",
       "    </tr>\n",
       "  </thead>\n",
       "  <tbody>\n",
       "    <tr>\n",
       "      <th rowspan=\"2\" valign=\"top\">blend</th>\n",
       "      <th>off</th>\n",
       "      <td>0.976219</td>\n",
       "      <td>0.014539</td>\n",
       "      <td>0.980084</td>\n",
       "      <td>0.013659</td>\n",
       "      <td>0.972665</td>\n",
       "      <td>0.023860</td>\n",
       "      <td>0.979870</td>\n",
       "      <td>0.011997</td>\n",
       "      <td>2</td>\n",
       "      <td>1.581139</td>\n",
       "    </tr>\n",
       "    <tr>\n",
       "      <th>on</th>\n",
       "      <td>0.982465</td>\n",
       "      <td>0.010415</td>\n",
       "      <td>0.979581</td>\n",
       "      <td>0.019055</td>\n",
       "      <td>0.985558</td>\n",
       "      <td>0.009040</td>\n",
       "      <td>0.979870</td>\n",
       "      <td>0.011997</td>\n",
       "      <td>2</td>\n",
       "      <td>1.581139</td>\n",
       "    </tr>\n",
       "    <tr>\n",
       "      <th rowspan=\"2\" valign=\"top\">cnn</th>\n",
       "      <th>off</th>\n",
       "      <td>0.962340</td>\n",
       "      <td>0.023611</td>\n",
       "      <td>0.955065</td>\n",
       "      <td>0.050104</td>\n",
       "      <td>0.971678</td>\n",
       "      <td>0.026717</td>\n",
       "      <td>0.967592</td>\n",
       "      <td>0.019784</td>\n",
       "      <td>2</td>\n",
       "      <td>1.581139</td>\n",
       "    </tr>\n",
       "    <tr>\n",
       "      <th>on</th>\n",
       "      <td>0.971516</td>\n",
       "      <td>0.017064</td>\n",
       "      <td>0.977893</td>\n",
       "      <td>0.022263</td>\n",
       "      <td>0.966303</td>\n",
       "      <td>0.036576</td>\n",
       "      <td>0.967592</td>\n",
       "      <td>0.019784</td>\n",
       "      <td>2</td>\n",
       "      <td>1.581139</td>\n",
       "    </tr>\n",
       "    <tr>\n",
       "      <th rowspan=\"2\" valign=\"top\">gmean</th>\n",
       "      <th>off</th>\n",
       "      <td>0.975847</td>\n",
       "      <td>0.014783</td>\n",
       "      <td>0.980936</td>\n",
       "      <td>0.012553</td>\n",
       "      <td>0.971073</td>\n",
       "      <td>0.024317</td>\n",
       "      <td>0.979602</td>\n",
       "      <td>0.012130</td>\n",
       "      <td>2</td>\n",
       "      <td>1.581139</td>\n",
       "    </tr>\n",
       "    <tr>\n",
       "      <th>on</th>\n",
       "      <td>0.982258</td>\n",
       "      <td>0.010497</td>\n",
       "      <td>0.978503</td>\n",
       "      <td>0.019161</td>\n",
       "      <td>0.986225</td>\n",
       "      <td>0.008176</td>\n",
       "      <td>0.979602</td>\n",
       "      <td>0.012130</td>\n",
       "      <td>2</td>\n",
       "      <td>1.581139</td>\n",
       "    </tr>\n",
       "    <tr>\n",
       "      <th rowspan=\"2\" valign=\"top\">lr</th>\n",
       "      <th>off</th>\n",
       "      <td>0.942047</td>\n",
       "      <td>0.030396</td>\n",
       "      <td>0.941498</td>\n",
       "      <td>0.029186</td>\n",
       "      <td>0.943556</td>\n",
       "      <td>0.046217</td>\n",
       "      <td>0.951658</td>\n",
       "      <td>0.022611</td>\n",
       "      <td>2</td>\n",
       "      <td>1.581139</td>\n",
       "    </tr>\n",
       "    <tr>\n",
       "      <th>on</th>\n",
       "      <td>0.958326</td>\n",
       "      <td>0.017915</td>\n",
       "      <td>0.959939</td>\n",
       "      <td>0.030497</td>\n",
       "      <td>0.957298</td>\n",
       "      <td>0.020294</td>\n",
       "      <td>0.951658</td>\n",
       "      <td>0.022611</td>\n",
       "      <td>2</td>\n",
       "      <td>1.581139</td>\n",
       "    </tr>\n",
       "    <tr>\n",
       "      <th rowspan=\"2\" valign=\"top\">mean</th>\n",
       "      <th>off</th>\n",
       "      <td>0.977708</td>\n",
       "      <td>0.013283</td>\n",
       "      <td>0.979201</td>\n",
       "      <td>0.013803</td>\n",
       "      <td>0.976473</td>\n",
       "      <td>0.021512</td>\n",
       "      <td>0.981041</td>\n",
       "      <td>0.011146</td>\n",
       "      <td>2</td>\n",
       "      <td>1.581139</td>\n",
       "    </tr>\n",
       "    <tr>\n",
       "      <th>on</th>\n",
       "      <td>0.983431</td>\n",
       "      <td>0.009789</td>\n",
       "      <td>0.982168</td>\n",
       "      <td>0.017700</td>\n",
       "      <td>0.984868</td>\n",
       "      <td>0.008969</td>\n",
       "      <td>0.981041</td>\n",
       "      <td>0.011146</td>\n",
       "      <td>2</td>\n",
       "      <td>1.581139</td>\n",
       "    </tr>\n",
       "    <tr>\n",
       "      <th rowspan=\"2\" valign=\"top\">nn</th>\n",
       "      <th>off</th>\n",
       "      <td>0.950174</td>\n",
       "      <td>0.023628</td>\n",
       "      <td>0.943674</td>\n",
       "      <td>0.018506</td>\n",
       "      <td>0.957047</td>\n",
       "      <td>0.033295</td>\n",
       "      <td>0.958105</td>\n",
       "      <td>0.017657</td>\n",
       "      <td>2</td>\n",
       "      <td>1.581139</td>\n",
       "    </tr>\n",
       "    <tr>\n",
       "      <th>on</th>\n",
       "      <td>0.963668</td>\n",
       "      <td>0.013985</td>\n",
       "      <td>0.969708</td>\n",
       "      <td>0.020759</td>\n",
       "      <td>0.957860</td>\n",
       "      <td>0.012472</td>\n",
       "      <td>0.958105</td>\n",
       "      <td>0.017657</td>\n",
       "      <td>2</td>\n",
       "      <td>1.581139</td>\n",
       "    </tr>\n",
       "  </tbody>\n",
       "</table>\n",
       "</div>"
      ],
      "text/plain": [
       "                   f1                prec              recall            \\\n",
       "                 mean       std      mean       std      mean       std   \n",
       "model index                                                               \n",
       "blend off    0.976219  0.014539  0.980084  0.013659  0.972665  0.023860   \n",
       "      on     0.982465  0.010415  0.979581  0.019055  0.985558  0.009040   \n",
       "cnn   off    0.962340  0.023611  0.955065  0.050104  0.971678  0.026717   \n",
       "      on     0.971516  0.017064  0.977893  0.022263  0.966303  0.036576   \n",
       "gmean off    0.975847  0.014783  0.980936  0.012553  0.971073  0.024317   \n",
       "      on     0.982258  0.010497  0.978503  0.019161  0.986225  0.008176   \n",
       "lr    off    0.942047  0.030396  0.941498  0.029186  0.943556  0.046217   \n",
       "      on     0.958326  0.017915  0.959939  0.030497  0.957298  0.020294   \n",
       "mean  off    0.977708  0.013283  0.979201  0.013803  0.976473  0.021512   \n",
       "      on     0.983431  0.009789  0.982168  0.017700  0.984868  0.008969   \n",
       "nn    off    0.950174  0.023628  0.943674  0.018506  0.957047  0.033295   \n",
       "      on     0.963668  0.013985  0.969708  0.020759  0.957860  0.012472   \n",
       "\n",
       "                  acc           fold            \n",
       "                 mean       std mean       std  \n",
       "model index                                     \n",
       "blend off    0.979870  0.011997    2  1.581139  \n",
       "      on     0.979870  0.011997    2  1.581139  \n",
       "cnn   off    0.967592  0.019784    2  1.581139  \n",
       "      on     0.967592  0.019784    2  1.581139  \n",
       "gmean off    0.979602  0.012130    2  1.581139  \n",
       "      on     0.979602  0.012130    2  1.581139  \n",
       "lr    off    0.951658  0.022611    2  1.581139  \n",
       "      on     0.951658  0.022611    2  1.581139  \n",
       "mean  off    0.981041  0.011146    2  1.581139  \n",
       "      on     0.981041  0.011146    2  1.581139  \n",
       "nn    off    0.958105  0.017657    2  1.581139  \n",
       "      on     0.958105  0.017657    2  1.581139  "
      ]
     },
     "execution_count": 68,
     "metadata": {},
     "output_type": "execute_result"
    }
   ],
   "source": [
    "agg_metrics_df = metrics_df.reset_index().groupby(['model', 'index']).agg([np.mean, np.std]).sort_index()\n",
    "agg_metrics_df"
   ]
  },
  {
   "cell_type": "code",
   "execution_count": 73,
   "metadata": {},
   "outputs": [
    {
     "data": {
      "text/html": [
       "<div>\n",
       "<style scoped>\n",
       "    .dataframe tbody tr th:only-of-type {\n",
       "        vertical-align: middle;\n",
       "    }\n",
       "\n",
       "    .dataframe tbody tr th {\n",
       "        vertical-align: top;\n",
       "    }\n",
       "\n",
       "    .dataframe thead tr th {\n",
       "        text-align: left;\n",
       "    }\n",
       "\n",
       "    .dataframe thead tr:last-of-type th {\n",
       "        text-align: right;\n",
       "    }\n",
       "</style>\n",
       "<table border=\"1\" class=\"dataframe\">\n",
       "  <thead>\n",
       "    <tr>\n",
       "      <th></th>\n",
       "      <th colspan=\"2\" halign=\"left\">f1</th>\n",
       "      <th colspan=\"2\" halign=\"left\">prec</th>\n",
       "      <th colspan=\"2\" halign=\"left\">recall</th>\n",
       "      <th colspan=\"2\" halign=\"left\">acc</th>\n",
       "      <th colspan=\"2\" halign=\"left\">fold</th>\n",
       "    </tr>\n",
       "    <tr>\n",
       "      <th></th>\n",
       "      <th>mean</th>\n",
       "      <th>std</th>\n",
       "      <th>mean</th>\n",
       "      <th>std</th>\n",
       "      <th>mean</th>\n",
       "      <th>std</th>\n",
       "      <th>mean</th>\n",
       "      <th>std</th>\n",
       "      <th>mean</th>\n",
       "      <th>std</th>\n",
       "    </tr>\n",
       "    <tr>\n",
       "      <th>index</th>\n",
       "      <th></th>\n",
       "      <th></th>\n",
       "      <th></th>\n",
       "      <th></th>\n",
       "      <th></th>\n",
       "      <th></th>\n",
       "      <th></th>\n",
       "      <th></th>\n",
       "      <th></th>\n",
       "      <th></th>\n",
       "    </tr>\n",
       "  </thead>\n",
       "  <tbody>\n",
       "    <tr>\n",
       "      <th>off</th>\n",
       "      <td>0.977708</td>\n",
       "      <td>0.013283</td>\n",
       "      <td>0.979201</td>\n",
       "      <td>0.013803</td>\n",
       "      <td>0.976473</td>\n",
       "      <td>0.021512</td>\n",
       "      <td>0.981041</td>\n",
       "      <td>0.011146</td>\n",
       "      <td>2</td>\n",
       "      <td>1.581139</td>\n",
       "    </tr>\n",
       "    <tr>\n",
       "      <th>on</th>\n",
       "      <td>0.983431</td>\n",
       "      <td>0.009789</td>\n",
       "      <td>0.982168</td>\n",
       "      <td>0.017700</td>\n",
       "      <td>0.984868</td>\n",
       "      <td>0.008969</td>\n",
       "      <td>0.981041</td>\n",
       "      <td>0.011146</td>\n",
       "      <td>2</td>\n",
       "      <td>1.581139</td>\n",
       "    </tr>\n",
       "  </tbody>\n",
       "</table>\n",
       "</div>"
      ],
      "text/plain": [
       "             f1                prec              recall                 acc  \\\n",
       "           mean       std      mean       std      mean       std      mean   \n",
       "index                                                                         \n",
       "off    0.977708  0.013283  0.979201  0.013803  0.976473  0.021512  0.981041   \n",
       "on     0.983431  0.009789  0.982168  0.017700  0.984868  0.008969  0.981041   \n",
       "\n",
       "                fold            \n",
       "            std mean       std  \n",
       "index                           \n",
       "off    0.011146    2  1.581139  \n",
       "on     0.011146    2  1.581139  "
      ]
     },
     "execution_count": 73,
     "metadata": {},
     "output_type": "execute_result"
    }
   ],
   "source": [
    "agg_metrics_df.loc[('mean',)]"
   ]
  },
  {
   "cell_type": "code",
   "execution_count": null,
   "metadata": {},
   "outputs": [],
   "source": []
  },
  {
   "cell_type": "code",
   "execution_count": 585,
   "metadata": {},
   "outputs": [],
   "source": [
    "# utils.plot_learning_graph(history_list, attempts=2)"
   ]
  },
  {
   "cell_type": "code",
   "execution_count": null,
   "metadata": {},
   "outputs": [],
   "source": []
  },
  {
   "cell_type": "code",
   "execution_count": 114,
   "metadata": {},
   "outputs": [
    {
     "data": {
      "text/html": [
       "<div>\n",
       "<style scoped>\n",
       "    .dataframe tbody tr th:only-of-type {\n",
       "        vertical-align: middle;\n",
       "    }\n",
       "\n",
       "    .dataframe tbody tr th {\n",
       "        vertical-align: top;\n",
       "    }\n",
       "\n",
       "    .dataframe thead tr th {\n",
       "        text-align: left;\n",
       "    }\n",
       "</style>\n",
       "<table border=\"1\" class=\"dataframe\">\n",
       "  <thead>\n",
       "    <tr>\n",
       "      <th></th>\n",
       "      <th colspan=\"2\" halign=\"left\">f1</th>\n",
       "      <th colspan=\"2\" halign=\"left\">prec</th>\n",
       "      <th colspan=\"2\" halign=\"left\">recall</th>\n",
       "      <th colspan=\"2\" halign=\"left\">acc</th>\n",
       "    </tr>\n",
       "    <tr>\n",
       "      <th></th>\n",
       "      <th>mean</th>\n",
       "      <th>std</th>\n",
       "      <th>mean</th>\n",
       "      <th>std</th>\n",
       "      <th>mean</th>\n",
       "      <th>std</th>\n",
       "      <th>mean</th>\n",
       "      <th>std</th>\n",
       "    </tr>\n",
       "  </thead>\n",
       "  <tbody>\n",
       "    <tr>\n",
       "      <th>off</th>\n",
       "      <td>0.958427</td>\n",
       "      <td>0.006822</td>\n",
       "      <td>0.930398</td>\n",
       "      <td>0.011093</td>\n",
       "      <td>0.988280</td>\n",
       "      <td>0.007538</td>\n",
       "      <td>0.962964</td>\n",
       "      <td>0.008548</td>\n",
       "    </tr>\n",
       "    <tr>\n",
       "      <th>on</th>\n",
       "      <td>0.966356</td>\n",
       "      <td>0.010148</td>\n",
       "      <td>0.991119</td>\n",
       "      <td>0.005449</td>\n",
       "      <td>0.942971</td>\n",
       "      <td>0.019093</td>\n",
       "      <td>0.963186</td>\n",
       "      <td>0.008556</td>\n",
       "    </tr>\n",
       "  </tbody>\n",
       "</table>\n",
       "</div>"
      ],
      "text/plain": [
       "           f1                prec              recall                 acc  \\\n",
       "         mean       std      mean       std      mean       std      mean   \n",
       "off  0.958427  0.006822  0.930398  0.011093  0.988280  0.007538  0.962964   \n",
       "on   0.966356  0.010148  0.991119  0.005449  0.942971  0.019093  0.963186   \n",
       "\n",
       "               \n",
       "          std  \n",
       "off  0.008548  \n",
       "on   0.008556  "
      ]
     },
     "execution_count": 114,
     "metadata": {},
     "output_type": "execute_result"
    }
   ],
   "source": [
    "df = metrics_df[metrics_df.attempt == 'avg']\n",
    "df[['f1', 'prec', 'recall', 'acc']].groupby(df.index).agg([np.mean, np.std])"
   ]
  },
  {
   "cell_type": "code",
   "execution_count": 117,
   "metadata": {},
   "outputs": [
    {
     "data": {
      "text/html": [
       "<div>\n",
       "<style scoped>\n",
       "    .dataframe tbody tr th:only-of-type {\n",
       "        vertical-align: middle;\n",
       "    }\n",
       "\n",
       "    .dataframe tbody tr th {\n",
       "        vertical-align: top;\n",
       "    }\n",
       "\n",
       "    .dataframe thead th {\n",
       "        text-align: right;\n",
       "    }\n",
       "</style>\n",
       "<table border=\"1\" class=\"dataframe\">\n",
       "  <thead>\n",
       "    <tr style=\"text-align: right;\">\n",
       "      <th></th>\n",
       "      <th>f1</th>\n",
       "      <th>prec</th>\n",
       "      <th>recall</th>\n",
       "      <th>acc</th>\n",
       "      <th>fold</th>\n",
       "      <th>attempt</th>\n",
       "    </tr>\n",
       "  </thead>\n",
       "  <tbody>\n",
       "    <tr>\n",
       "      <th>on</th>\n",
       "      <td>0.979592</td>\n",
       "      <td>0.996226</td>\n",
       "      <td>0.963504</td>\n",
       "      <td>0.975711</td>\n",
       "      <td>0</td>\n",
       "      <td>avg</td>\n",
       "    </tr>\n",
       "    <tr>\n",
       "      <th>off</th>\n",
       "      <td>0.970007</td>\n",
       "      <td>0.946773</td>\n",
       "      <td>0.994410</td>\n",
       "      <td>0.975711</td>\n",
       "      <td>0</td>\n",
       "      <td>avg</td>\n",
       "    </tr>\n",
       "  </tbody>\n",
       "</table>\n",
       "</div>"
      ],
      "text/plain": [
       "           f1      prec    recall       acc  fold attempt\n",
       "on   0.979592  0.996226  0.963504  0.975711     0     avg\n",
       "off  0.970007  0.946773  0.994410  0.975711     0     avg"
      ]
     },
     "execution_count": 117,
     "metadata": {},
     "output_type": "execute_result"
    }
   ],
   "source": [
    "df[df.fold == 0]"
   ]
  },
  {
   "cell_type": "code",
   "execution_count": 98,
   "metadata": {
    "scrolled": true
   },
   "outputs": [
    {
     "data": {
      "text/html": [
       "<div>\n",
       "<style scoped>\n",
       "    .dataframe tbody tr th:only-of-type {\n",
       "        vertical-align: middle;\n",
       "    }\n",
       "\n",
       "    .dataframe tbody tr th {\n",
       "        vertical-align: top;\n",
       "    }\n",
       "\n",
       "    .dataframe thead tr th {\n",
       "        text-align: left;\n",
       "    }\n",
       "</style>\n",
       "<table border=\"1\" class=\"dataframe\">\n",
       "  <thead>\n",
       "    <tr>\n",
       "      <th></th>\n",
       "      <th colspan=\"2\" halign=\"left\">f1</th>\n",
       "      <th colspan=\"2\" halign=\"left\">prec</th>\n",
       "      <th colspan=\"2\" halign=\"left\">recall</th>\n",
       "      <th colspan=\"2\" halign=\"left\">acc</th>\n",
       "    </tr>\n",
       "    <tr>\n",
       "      <th></th>\n",
       "      <th>mean</th>\n",
       "      <th>std</th>\n",
       "      <th>mean</th>\n",
       "      <th>std</th>\n",
       "      <th>mean</th>\n",
       "      <th>std</th>\n",
       "      <th>mean</th>\n",
       "      <th>std</th>\n",
       "    </tr>\n",
       "  </thead>\n",
       "  <tbody>\n",
       "    <tr>\n",
       "      <th>off</th>\n",
       "      <td>0.968362</td>\n",
       "      <td>0.023722</td>\n",
       "      <td>0.947379</td>\n",
       "      <td>0.039702</td>\n",
       "      <td>0.990839</td>\n",
       "      <td>0.007010</td>\n",
       "      <td>0.973019</td>\n",
       "      <td>0.019323</td>\n",
       "    </tr>\n",
       "    <tr>\n",
       "      <th>on</th>\n",
       "      <td>0.976612</td>\n",
       "      <td>0.016249</td>\n",
       "      <td>0.992963</td>\n",
       "      <td>0.005821</td>\n",
       "      <td>0.960998</td>\n",
       "      <td>0.026827</td>\n",
       "      <td>0.973352</td>\n",
       "      <td>0.018954</td>\n",
       "    </tr>\n",
       "  </tbody>\n",
       "</table>\n",
       "</div>"
      ],
      "text/plain": [
       "           f1                prec              recall                 acc  \\\n",
       "         mean       std      mean       std      mean       std      mean   \n",
       "off  0.968362  0.023722  0.947379  0.039702  0.990839  0.007010  0.973019   \n",
       "on   0.976612  0.016249  0.992963  0.005821  0.960998  0.026827  0.973352   \n",
       "\n",
       "               \n",
       "          std  \n",
       "off  0.019323  \n",
       "on   0.018954  "
      ]
     },
     "execution_count": 98,
     "metadata": {},
     "output_type": "execute_result"
    }
   ],
   "source": [
    "df = metrics_df[metrics_df.attempt == 'avg']\n",
    "df[['f1', 'prec', 'recall', 'acc']].groupby(df.index).agg([np.mean, np.std])"
   ]
  },
  {
   "cell_type": "code",
   "execution_count": 122,
   "metadata": {},
   "outputs": [],
   "source": [
    "def baseline_predict(X, y):\n",
    "    y_pred = []\n",
    "    for img in X:\n",
    "        corr = np.corrcoef(img[:,:,0].flatten(), img[:,:,1].flatten())[0,1]\n",
    "        y_pred.append(corr > 0)\n",
    "    return np.array(y_pred).astype(int)"
   ]
  },
  {
   "cell_type": "code",
   "execution_count": 121,
   "metadata": {},
   "outputs": [
    {
     "data": {
      "text/plain": [
       "0.97704845326532874"
      ]
     },
     "execution_count": 121,
     "metadata": {},
     "output_type": "execute_result"
    }
   ],
   "source": [
    "sklearn.metrics.accuracy_score(y[:,1], y_pred)"
   ]
  },
  {
   "cell_type": "code",
   "execution_count": 123,
   "metadata": {},
   "outputs": [],
   "source": [
    "folds = 5\n",
    "baseline_cv_metrics = []\n",
    "cv1 = GroupKFold(n_splits=folds)\n",
    "for fold_i, (train_inds, test_inds) in enumerate(cv1.split(X, y, groups)):\n",
    "    X_train, y_train = X[train_inds], y[train_inds]\n",
    "    X_test, y_test = X[test_inds], y[test_inds]\n",
    "    \n",
    "    y_pred = baseline_predict(X_test, y_test)\n",
    "    acc = sklearn.metrics.accuracy_score(y_test[:,1], y_pred)\n",
    "    baseline_cv_metrics.append({\n",
    "        'fold': fold_i,\n",
    "        'acc': acc\n",
    "    })\n",
    "base_metrics = pd.DataFrame(baseline_cv_metrics)"
   ]
  },
  {
   "cell_type": "code",
   "execution_count": 126,
   "metadata": {
    "scrolled": true
   },
   "outputs": [
    {
     "data": {
      "text/html": [
       "<div>\n",
       "<style scoped>\n",
       "    .dataframe tbody tr th:only-of-type {\n",
       "        vertical-align: middle;\n",
       "    }\n",
       "\n",
       "    .dataframe tbody tr th {\n",
       "        vertical-align: top;\n",
       "    }\n",
       "\n",
       "    .dataframe thead th {\n",
       "        text-align: right;\n",
       "    }\n",
       "</style>\n",
       "<table border=\"1\" class=\"dataframe\">\n",
       "  <thead>\n",
       "    <tr style=\"text-align: right;\">\n",
       "      <th></th>\n",
       "      <th>acc</th>\n",
       "      <th>fold</th>\n",
       "    </tr>\n",
       "  </thead>\n",
       "  <tbody>\n",
       "    <tr>\n",
       "      <th>0</th>\n",
       "      <td>0.979851</td>\n",
       "      <td>0</td>\n",
       "    </tr>\n",
       "    <tr>\n",
       "      <th>1</th>\n",
       "      <td>0.975725</td>\n",
       "      <td>1</td>\n",
       "    </tr>\n",
       "    <tr>\n",
       "      <th>2</th>\n",
       "      <td>0.962521</td>\n",
       "      <td>2</td>\n",
       "    </tr>\n",
       "    <tr>\n",
       "      <th>3</th>\n",
       "      <td>0.985703</td>\n",
       "      <td>3</td>\n",
       "    </tr>\n",
       "    <tr>\n",
       "      <th>4</th>\n",
       "      <td>0.981347</td>\n",
       "      <td>4</td>\n",
       "    </tr>\n",
       "  </tbody>\n",
       "</table>\n",
       "</div>"
      ],
      "text/plain": [
       "        acc  fold\n",
       "0  0.979851     0\n",
       "1  0.975725     1\n",
       "2  0.962521     2\n",
       "3  0.985703     3\n",
       "4  0.981347     4"
      ]
     },
     "execution_count": 126,
     "metadata": {},
     "output_type": "execute_result"
    }
   ],
   "source": [
    "base_metrics"
   ]
  },
  {
   "cell_type": "code",
   "execution_count": 128,
   "metadata": {},
   "outputs": [
    {
     "data": {
      "text/plain": [
       "mean    0.977029\n",
       "std     0.008860\n",
       "Name: acc, dtype: float64"
      ]
     },
     "execution_count": 128,
     "metadata": {},
     "output_type": "execute_result"
    }
   ],
   "source": [
    "base_metrics.acc.agg([np.mean, np.std])"
   ]
  },
  {
   "cell_type": "code",
   "execution_count": 115,
   "metadata": {
    "scrolled": true
   },
   "outputs": [
    {
     "data": {
      "image/png": "[encoded data removed]",
      "text/plain": [
       "<matplotlib.figure.Figure at 0x7f14f3655470>"
      ]
     },
     "metadata": {},
     "output_type": "display_data"
    },
    {
     "data": {
      "image/png": "[encoded data removed]",
      "text/plain": [
       "<matplotlib.figure.Figure at 0x7f1438f32780>"
      ]
     },
     "metadata": {},
     "output_type": "display_data"
    },
    {
     "data": {
      "image/png": "[encoded data removed]",
      "text/plain": [
       "<matplotlib.figure.Figure at 0x7f1438e676a0>"
      ]
     },
     "metadata": {},
     "output_type": "display_data"
    },
    {
     "data": {
      "image/png": "[encoded data removed]",
      "text/plain": [
       "<matplotlib.figure.Figure at 0x7f1438dc2a90>"
      ]
     },
     "metadata": {},
     "output_type": "display_data"
    },
    {
     "data": {
      "image/png": "[encoded data removed]",
      "text/plain": [
       "<matplotlib.figure.Figure at 0x7f1438afde80>"
      ]
     },
     "metadata": {},
     "output_type": "display_data"
    }
   ],
   "source": [
    "#%run off_sample/utils.py\n",
    "for fold in range(folds):\n",
    "    utils.plot_learning_graph(history_list[fold*attempts:(fold+1)*attempts], attempts)\n",
    "    plt.show()"
   ]
  },
  {
   "cell_type": "markdown",
   "metadata": {
    "heading_collapsed": true
   },
   "source": [
    "### Shallow NN"
   ]
  },
  {
   "cell_type": "code",
   "execution_count": 46,
   "metadata": {
    "hidden": true
   },
   "outputs": [
    {
     "data": {
      "text/plain": [
       "(PosixPath('GS/raw_images'), 66)"
      ]
     },
     "execution_count": 46,
     "metadata": {},
     "output_type": "execute_result"
    }
   ],
   "source": [
    "all_ds_names = [p.name for p in all_paths]\n",
    "gs_path, len(all_paths)"
   ]
  },
  {
   "cell_type": "code",
   "execution_count": 49,
   "metadata": {
    "hidden": true
   },
   "outputs": [
    {
     "data": {
      "text/plain": [
       "(66, 9273)"
      ]
     },
     "execution_count": 49,
     "metadata": {},
     "output_type": "execute_result"
    }
   ],
   "source": [
    "masks = {p.name: utils.load_mask(p) for p in all_paths}\n",
    "ions = utils.create_ion_list(all_paths)\n",
    "len(masks), len(ions)"
   ]
  },
  {
   "cell_type": "code",
   "execution_count": 50,
   "metadata": {
    "hidden": true
   },
   "outputs": [
    {
     "data": {
      "text/plain": [
       "(1285244, 9273)"
      ]
     },
     "execution_count": 50,
     "metadata": {},
     "output_type": "execute_result"
    }
   ],
   "source": [
    "X, y, groups = utils.prepare_pixel_xygroups(all_paths, masks, ions)\n",
    "X = X.tocsr()\n",
    "X.shape"
   ]
  },
  {
   "cell_type": "code",
   "execution_count": 84,
   "metadata": {
    "hidden": true
   },
   "outputs": [
    {
     "name": "stdout",
     "output_type": "stream",
     "text": [
      "Train on 822541 samples, validate on 205348 samples\n",
      "Epoch 1/10\n",
      "822541/822541 [==============================] - 47s 58us/step - loss: 1.0878 - binary_accuracy: 0.8067 - val_loss: 0.7009 - val_binary_accuracy: 0.8621\n",
      "Epoch 2/10\n",
      "822541/822541 [==============================] - 45s 55us/step - loss: 0.3697 - binary_accuracy: 0.9177 - val_loss: 0.4548 - val_binary_accuracy: 0.8402\n",
      "Epoch 3/10\n",
      "822541/822541 [==============================] - 45s 55us/step - loss: 0.2148 - binary_accuracy: 0.9354 - val_loss: 0.4109 - val_binary_accuracy: 0.8082\n",
      "Epoch 4/10\n",
      "822541/822541 [==============================] - 47s 57us/step - loss: 0.1938 - binary_accuracy: 0.9384 - val_loss: 0.4193 - val_binary_accuracy: 0.8074\n",
      "Epoch 5/10\n",
      "822541/822541 [==============================] - 46s 56us/step - loss: 0.1910 - binary_accuracy: 0.9386 - val_loss: 0.3995 - val_binary_accuracy: 0.8297\n",
      "Epoch 6/10\n",
      "822541/822541 [==============================] - 46s 56us/step - loss: 0.1899 - binary_accuracy: 0.9393 - val_loss: 0.3952 - val_binary_accuracy: 0.8406\n",
      "Epoch 7/10\n",
      "822541/822541 [==============================] - 46s 56us/step - loss: 0.1897 - binary_accuracy: 0.9391 - val_loss: 0.3953 - val_binary_accuracy: 0.8477\n",
      "Epoch 8/10\n",
      "822541/822541 [==============================] - 46s 56us/step - loss: 0.1896 - binary_accuracy: 0.9393 - val_loss: 0.3978 - val_binary_accuracy: 0.8296\n",
      "Epoch 9/10\n",
      "822541/822541 [==============================] - 46s 56us/step - loss: 0.1895 - binary_accuracy: 0.9392 - val_loss: 0.4102 - val_binary_accuracy: 0.8114\n",
      "Epoch 10/10\n",
      "822541/822541 [==============================] - 46s 56us/step - loss: 0.1889 - binary_accuracy: 0.9397 - val_loss: 0.3902 - val_binary_accuracy: 0.8562\n"
     ]
    }
   ],
   "source": [
    "folds = 5\n",
    "pred_masks = {}\n",
    "\n",
    "metrics_list = []\n",
    "\n",
    "cv = sklearn.model_selection.GroupKFold(n_splits=folds)\n",
    "for fold_i, (rest_inds, test_inds) in enumerate(cv.split(X, y, groups)):\n",
    "    X_rest, y_rest, groups_rest = X[rest_inds], y[rest_inds], groups[rest_inds]\n",
    "    X_test, y_test, groups_test = X[test_inds], y[test_inds], groups[test_inds]\n",
    "    \n",
    "    cv2 = sklearn.model_selection.GroupKFold(n_splits=5)\n",
    "    train_inds, valid_inds = next(cv2.split(X_rest, y_rest, groups_rest))\n",
    "    X_train, y_train = X_rest[train_inds], y_rest[train_inds]\n",
    "    X_valid, y_valid = X_rest[valid_inds], y_rest[valid_inds]\n",
    "    \n",
    "    # create, fit, predict\n",
    "\n",
    "    acc = sklearn.metrics.accuracy_score(y_img, y_img_pred)\n",
    "    acc_true = sklearn.metrics.accuracy_score(y_img, y_img_pred_true)\n",
    "    m = {\n",
    "        'fold': fold_i,\n",
    "        'acc': acc,\n",
    "        'acc_true_mask': acc_true,\n",
    "    }\n",
    "    metrics_list.append(m)\n",
    "    \n",
    "    break\n",
    "metrics = pd.DataFrame(metrics_list)"
   ]
  },
  {
   "cell_type": "code",
   "execution_count": 85,
   "metadata": {
    "hidden": true
   },
   "outputs": [
    {
     "data": {
      "text/html": [
       "<div>\n",
       "<style scoped>\n",
       "    .dataframe tbody tr th:only-of-type {\n",
       "        vertical-align: middle;\n",
       "    }\n",
       "\n",
       "    .dataframe tbody tr th {\n",
       "        vertical-align: top;\n",
       "    }\n",
       "\n",
       "    .dataframe thead th {\n",
       "        text-align: right;\n",
       "    }\n",
       "</style>\n",
       "<table border=\"1\" class=\"dataframe\">\n",
       "  <thead>\n",
       "    <tr style=\"text-align: right;\">\n",
       "      <th></th>\n",
       "      <th>acc</th>\n",
       "      <th>acc_true_mask</th>\n",
       "      <th>fold</th>\n",
       "    </tr>\n",
       "  </thead>\n",
       "  <tbody>\n",
       "    <tr>\n",
       "      <th>0</th>\n",
       "      <td>0.965045</td>\n",
       "      <td>0.974366</td>\n",
       "      <td>0</td>\n",
       "    </tr>\n",
       "  </tbody>\n",
       "</table>\n",
       "</div>"
      ],
      "text/plain": [
       "        acc  acc_true_mask  fold\n",
       "0  0.965045       0.974366     0"
      ]
     },
     "execution_count": 85,
     "metadata": {},
     "output_type": "execute_result"
    }
   ],
   "source": [
    "metrics"
   ]
  },
  {
   "cell_type": "code",
   "execution_count": 86,
   "metadata": {
    "hidden": true
   },
   "outputs": [
    {
     "data": {
      "text/html": [
       "<div>\n",
       "<style scoped>\n",
       "    .dataframe tbody tr th:only-of-type {\n",
       "        vertical-align: middle;\n",
       "    }\n",
       "\n",
       "    .dataframe tbody tr th {\n",
       "        vertical-align: top;\n",
       "    }\n",
       "\n",
       "    .dataframe thead th {\n",
       "        text-align: right;\n",
       "    }\n",
       "</style>\n",
       "<table border=\"1\" class=\"dataframe\">\n",
       "  <thead>\n",
       "    <tr style=\"text-align: right;\">\n",
       "      <th></th>\n",
       "      <th>acc</th>\n",
       "      <th>acc_true_mask</th>\n",
       "      <th>fold</th>\n",
       "    </tr>\n",
       "  </thead>\n",
       "  <tbody>\n",
       "    <tr>\n",
       "      <th>0</th>\n",
       "      <td>0.965045</td>\n",
       "      <td>0.974366</td>\n",
       "      <td>0</td>\n",
       "    </tr>\n",
       "  </tbody>\n",
       "</table>\n",
       "</div>"
      ],
      "text/plain": [
       "        acc  acc_true_mask  fold\n",
       "0  0.965045       0.974366     0"
      ]
     },
     "execution_count": 86,
     "metadata": {},
     "output_type": "execute_result"
    }
   ],
   "source": [
    "metrics"
   ]
  },
  {
   "cell_type": "code",
   "execution_count": 63,
   "metadata": {
    "hidden": true
   },
   "outputs": [
    {
     "data": {
      "text/plain": [
       "0.96232684221800002"
      ]
     },
     "execution_count": 63,
     "metadata": {},
     "output_type": "execute_result"
    }
   ],
   "source": [
    "np.mean([0.956889018351, 0.949550977285, 0.974595109559, 0.991404781091, 0.939194324804])"
   ]
  },
  {
   "cell_type": "code",
   "execution_count": null,
   "metadata": {
    "hidden": true
   },
   "outputs": [],
   "source": []
  },
  {
   "cell_type": "markdown",
   "metadata": {
    "hidden": true
   },
   "source": [
    "---"
   ]
  }
 ],
 "metadata": {
  "kernelspec": {
   "display_name": "off-smpl",
   "language": "python",
   "name": "off-smpl"
  },
  "language_info": {
   "codemirror_mode": {
    "name": "ipython",
    "version": 3
   },
   "file_extension": ".py",
   "mimetype": "text/x-python",
   "name": "python",
   "nbconvert_exporter": "python",
   "pygments_lexer": "ipython3",
   "version": "3.6.1"
  }
 },
 "nbformat": 4,
 "nbformat_minor": 2
}
