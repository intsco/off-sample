{
 "cells": [
  {
   "cell_type": "code",
   "execution_count": 1,
   "metadata": {
    "collapsed": true
   },
   "outputs": [],
   "source": [
    "%load_ext autoreload\n",
    "%autoreload 1"
   ]
  },
  {
   "cell_type": "code",
   "execution_count": 2,
   "metadata": {},
   "outputs": [
    {
     "name": "stderr",
     "output_type": "stream",
     "text": [
      "Using TensorFlow backend.\n"
     ]
    }
   ],
   "source": [
    "from pathlib import Path\n",
    "import off_sample as utils"
   ]
  },
  {
   "cell_type": "code",
   "execution_count": 3,
   "metadata": {
    "collapsed": true
   },
   "outputs": [],
   "source": [
    "%run off_sample/utils.py"
   ]
  },
  {
   "cell_type": "code",
   "execution_count": 4,
   "metadata": {
    "collapsed": true
   },
   "outputs": [],
   "source": [
    "image_shape = (64, 64, 1)\n",
    "data_path = Path('./GS/raw_images_rect/')"
   ]
  },
  {
   "cell_type": "markdown",
   "metadata": {},
   "source": [
    "# Check Hardware and Tools"
   ]
  },
  {
   "cell_type": "code",
   "execution_count": 5,
   "metadata": {
    "collapsed": true
   },
   "outputs": [],
   "source": [
    "import tensorflow as tf"
   ]
  },
  {
   "cell_type": "code",
   "execution_count": 6,
   "metadata": {},
   "outputs": [
    {
     "data": {
      "text/plain": [
       "'1.10.1'"
      ]
     },
     "execution_count": 6,
     "metadata": {},
     "output_type": "execute_result"
    }
   ],
   "source": [
    "tf.__version__"
   ]
  },
  {
   "cell_type": "code",
   "execution_count": 7,
   "metadata": {
    "collapsed": true
   },
   "outputs": [],
   "source": [
    "from tensorflow.python.client import device_lib"
   ]
  },
  {
   "cell_type": "code",
   "execution_count": 8,
   "metadata": {
    "scrolled": true
   },
   "outputs": [
    {
     "name": "stdout",
     "output_type": "stream",
     "text": [
      "name: \"/device:CPU:0\"\n",
      "device_type: \"CPU\"\n",
      "memory_limit: 268435456\n",
      "locality {\n",
      "}\n",
      "incarnation: 7950389851888842215\n",
      "\n",
      "name: \"/device:GPU:0\"\n",
      "device_type: \"GPU\"\n",
      "memory_limit: 11279997338\n",
      "locality {\n",
      "  bus_id: 1\n",
      "  links {\n",
      "  }\n",
      "}\n",
      "incarnation: 3893615565078330618\n",
      "physical_device_desc: \"device: 0, name: Tesla K80, pci bus id: 0000:00:1e.0, compute capability: 3.7\"\n",
      "\n"
     ]
    }
   ],
   "source": [
    "for d in device_lib.list_local_devices():\n",
    "    print(d)"
   ]
  },
  {
   "cell_type": "code",
   "execution_count": 9,
   "metadata": {},
   "outputs": [
    {
     "data": {
      "text/plain": [
       "('2.2.2', '0.20.2', '1.13.3', '2.0.2', '0.19.2')"
      ]
     },
     "execution_count": 9,
     "metadata": {},
     "output_type": "execute_result"
    }
   ],
   "source": [
    "from skimage import transform\n",
    "import imageio\n",
    "import keras\n",
    "import numpy as np\n",
    "import pandas as pd\n",
    "import sklearn\n",
    "import matplotlib\n",
    "keras.__version__, pd.__version__, np.__version__, matplotlib.__version__, sklearn.__version__"
   ]
  },
  {
   "cell_type": "code",
   "execution_count": 10,
   "metadata": {
    "collapsed": true
   },
   "outputs": [],
   "source": [
    "from matplotlib import pyplot as plt\n",
    "%matplotlib inline"
   ]
  },
  {
   "cell_type": "markdown",
   "metadata": {},
   "source": [
    "# Data Generators"
   ]
  },
  {
   "cell_type": "code",
   "execution_count": 11,
   "metadata": {
    "collapsed": true
   },
   "outputs": [],
   "source": [
    "import random"
   ]
  },
  {
   "cell_type": "code",
   "execution_count": 12,
   "metadata": {
    "collapsed": true
   },
   "outputs": [],
   "source": [
    "def read_resize(img_path):\n",
    "    img = imageio.imread(img_path)[:,:,0]\n",
    "    img = transform.resize(img, image_shape, mode='constant')\n",
    "    img = img / img.max()\n",
    "    return img"
   ]
  },
  {
   "cell_type": "code",
   "execution_count": 13,
   "metadata": {},
   "outputs": [
    {
     "data": {
      "text/plain": [
       "((18245, 64, 64, 1), (18245, 2), (18245,))"
      ]
     },
     "execution_count": 13,
     "metadata": {},
     "output_type": "execute_result"
    }
   ],
   "source": [
    "X_list, y_list, groups = [], [], []\n",
    "\n",
    "for ds_path in data_path.iterdir():\n",
    "    for img_class in ['on', 'off']:\n",
    "        for img_path in (ds_path / img_class).iterdir():\n",
    "            img = read_resize(img_path)\n",
    "\n",
    "            X_list.append(img)\n",
    "            y_list.append(1 if img_class == 'off' else 0)\n",
    "            groups.append(ds_path.name)\n",
    "\n",
    "X = np.stack(X_list)\n",
    "X.setflags(write=False)\n",
    "\n",
    "y = np.stack(y_list)\n",
    "y = y.reshape(y.shape + (1,))\n",
    "y = keras.utils.to_categorical(y, 2)\n",
    "y.setflags(write=False)\n",
    "\n",
    "groups = np.stack(groups)\n",
    "groups.setflags(write=False)\n",
    "\n",
    "X.shape, y.shape, groups.shape"
   ]
  },
  {
   "cell_type": "code",
   "execution_count": 14,
   "metadata": {},
   "outputs": [
    {
     "data": {
      "text/plain": [
       "10010"
      ]
     },
     "execution_count": 14,
     "metadata": {},
     "output_type": "execute_result"
    }
   ],
   "source": [
    "(y[:,0] == 1).sum()"
   ]
  },
  {
   "cell_type": "code",
   "execution_count": 15,
   "metadata": {},
   "outputs": [
    {
     "data": {
      "text/plain": [
       "67"
      ]
     },
     "execution_count": 15,
     "metadata": {},
     "output_type": "execute_result"
    }
   ],
   "source": [
    "u_groups = np.unique(groups)\n",
    "len(u_groups)"
   ]
  },
  {
   "cell_type": "code",
   "execution_count": 16,
   "metadata": {
    "collapsed": true
   },
   "outputs": [],
   "source": [
    "%run off_sample/utils.py"
   ]
  },
  {
   "cell_type": "markdown",
   "metadata": {
    "collapsed": true
   },
   "source": [
    "# Train and Test Model"
   ]
  },
  {
   "cell_type": "code",
   "execution_count": 17,
   "metadata": {
    "collapsed": true
   },
   "outputs": [],
   "source": [
    "import pickle\n",
    "import keras\n",
    "from sklearn.model_selection import GroupKFold\n",
    "from sklearn.model_selection import train_test_split\n",
    "from sklearn.metrics import (roc_curve, roc_auc_score, accuracy_score, f1_score,\n",
    "                             precision_score, recall_score, average_precision_score)"
   ]
  },
  {
   "cell_type": "code",
   "execution_count": 18,
   "metadata": {},
   "outputs": [
    {
     "data": {
      "text/plain": [
       "((53,), (14,))"
      ]
     },
     "execution_count": 18,
     "metadata": {},
     "output_type": "execute_result"
    }
   ],
   "source": [
    "other_u_groups, test_u_groups = train_test_split(u_groups, test_size=0.2, random_state=13)\n",
    "other_u_groups.shape, test_u_groups.shape"
   ]
  },
  {
   "cell_type": "code",
   "execution_count": 19,
   "metadata": {
    "collapsed": true
   },
   "outputs": [],
   "source": [
    "X_other, y_other, groups_other = make_subset(other_u_groups, X, y, groups)\n",
    "X_test, y_test, groups_test = make_subset(test_u_groups, X, y, groups)"
   ]
  },
  {
   "cell_type": "code",
   "execution_count": 20,
   "metadata": {
    "scrolled": true
   },
   "outputs": [
    {
     "data": {
      "text/plain": [
       "((37,), (16,))"
      ]
     },
     "execution_count": 20,
     "metadata": {},
     "output_type": "execute_result"
    }
   ],
   "source": [
    "train_u_groups, valid_u_groups = train_test_split(other_u_groups, test_size=0.3, random_state=13)\n",
    "train_u_groups.shape, valid_u_groups.shape"
   ]
  },
  {
   "cell_type": "markdown",
   "metadata": {},
   "source": [
    "### Dataset Sampling"
   ]
  },
  {
   "cell_type": "code",
   "execution_count": 21,
   "metadata": {
    "collapsed": true
   },
   "outputs": [],
   "source": [
    "X_sample_list = []\n",
    "y_sample_list = []\n",
    "groups_sample_list = []\n",
    "\n",
    "for g in other_u_groups:\n",
    "    g_off = (groups_other == g)&(y_other[:,1] == 1)\n",
    "    g_on = (groups_other == g)&(y_other[:,1] == 0)\n",
    "    \n",
    "    on_inds = np.arange(X_other[g_on].shape[0])\n",
    "    on_sample_inds = np.random.choice(on_inds, int(round(on_inds.shape[0] / 5)), replace=False)\n",
    "    off_inds = np.arange(X_other[g_off].shape[0])\n",
    "    off_sample_inds = np.random.choice(off_inds, int(round(off_inds.shape[0] / 5)), replace=False)\n",
    "    \n",
    "    X_sample_list.append(np.concatenate([X_other[g_on][on_sample_inds],\n",
    "                                         X_other[g_off][off_sample_inds]]))\n",
    "    y_sample_list.append(np.concatenate([y_other[g_on][on_sample_inds],\n",
    "                                         y_other[g_off][off_sample_inds]]))\n",
    "    groups_sample_list.append(np.concatenate([groups_other[g_on][on_sample_inds],\n",
    "                                              groups_other[g_off][off_sample_inds]]))\n",
    "\n",
    "X_sample = np.concatenate(X_sample_list)\n",
    "X_sample.setflags(write=False)\n",
    "y_sample = np.concatenate(y_sample_list)\n",
    "y_sample.setflags(write=False)\n",
    "groups_sample = np.concatenate(groups_sample_list)\n",
    "groups_sample.setflags(write=False)"
   ]
  },
  {
   "cell_type": "code",
   "execution_count": 22,
   "metadata": {},
   "outputs": [
    {
     "data": {
      "text/plain": [
       "((14543, 64, 64, 1), (2908, 64, 64, 1))"
      ]
     },
     "execution_count": 22,
     "metadata": {},
     "output_type": "execute_result"
    }
   ],
   "source": [
    "X_other.shape, X_sample.shape"
   ]
  },
  {
   "cell_type": "code",
   "execution_count": 135,
   "metadata": {
    "collapsed": true
   },
   "outputs": [],
   "source": [
    "class OffSampleImageDataGenerator(ImageDataGenerator):\n",
    "\n",
    "    def standardize(self, x):\n",
    "        return super().standardize(x.copy())"
   ]
  },
  {
   "cell_type": "code",
   "execution_count": 136,
   "metadata": {
    "collapsed": true
   },
   "outputs": [],
   "source": [
    "import math\n",
    "\n",
    "def step_decay(epoch):\n",
    "    initial_rate = 1e-4\n",
    "    drop = 0.5\n",
    "    epochs_drop = 15\n",
    "    lr = initial_rate * math.pow(drop, math.floor(epoch / epochs_drop))\n",
    "    return lr\n",
    "# [step_decay(i) for i in range(30)]"
   ]
  },
  {
   "cell_type": "code",
   "execution_count": 137,
   "metadata": {
    "collapsed": true
   },
   "outputs": [],
   "source": [
    "data_gen = OffSampleImageDataGenerator(\n",
    "    featurewise_center=True,\n",
    "    featurewise_std_normalization=True,\n",
    "    rotation_range=30,\n",
    "    width_shift_range=0.2,\n",
    "    height_shift_range=0.2,\n",
    "    horizontal_flip=True,\n",
    "    vertical_flip=True,\n",
    "    rescale=0.3)"
   ]
  },
  {
   "cell_type": "code",
   "execution_count": 138,
   "metadata": {
    "collapsed": true
   },
   "outputs": [],
   "source": [
    "# validator.best_params_"
   ]
  },
  {
   "cell_type": "code",
   "execution_count": 1,
   "metadata": {
    "scrolled": true
   },
   "outputs": [],
   "source": [
    "%%time\n",
    "from keras.callbacks import LearningRateScheduler, ModelCheckpoint\n",
    "from keras.optimizers import Adam\n",
    "\n",
    "batch_size = 32\n",
    "epochs = 30\n",
    "params = {\n",
    "    'opt': Adam(lr=1e-4),\n",
    "    'l1_a': 0,\n",
    "    'l2_a': 0.1,\n",
    "    'dense_fn': (256, 256),\n",
    "}\n",
    "\n",
    "verbose = 1\n",
    "attempts = 3\n",
    "\n",
    "metrics_list, history_list = [], []\n",
    "\n",
    "for i in range(attempts):\n",
    "    print(f'Attempt: {i}')\n",
    "    \n",
    "    X_train, y_train, _ = make_subset(train_u_groups, X_sample, y_sample, groups_sample)\n",
    "    X_valid, y_valid, _ = make_subset(valid_u_groups, X_sample, y_sample, groups_sample)\n",
    "#     X_train, y_train, _ = make_subset(train_u_groups, X, y, groups)\n",
    "#     X_valid, y_valid, _ = make_subset(valid_u_groups, X, y, groups)\n",
    "     \n",
    "    data_gen.fit(X_train)\n",
    "    X_valid = data_gen.standardize(X_valid)\n",
    "\n",
    "    lr_scheduler = LearningRateScheduler(step_decay, verbose=1)\n",
    "    check_pointer = ModelCheckpoint(f'./weights.best.{i}.hdf5', monitor='val_binary_accuracy',\n",
    "                                    save_best_only=False)\n",
    "    model = create_model(metrics=['binary_accuracy'], **params)\n",
    "    history = model.fit_generator(data_gen.flow(X_train, y_train, batch_size=batch_size),\n",
    "                                  validation_data=(X_valid, y_valid),\n",
    "                                  steps_per_epoch=X_train.shape[0]/batch_size,\n",
    "                                  epochs=epochs, verbose=verbose,\n",
    "                                  callbacks=[check_pointer])\n",
    "    history_list.append(history.history)\n",
    "\n",
    "    y_pred = model.predict(X_valid, verbose=verbose)\n",
    "    metrics = calc_metrics(y_valid, y_pred)\n",
    "    metrics['attempt'] = i\n",
    "    metrics_list.append(metrics)\n",
    "\n",
    "    print(metrics)\n",
    "    print()"
   ]
  },
  {
   "cell_type": "code",
   "execution_count": 215,
   "metadata": {},
   "outputs": [
    {
     "data": {
      "image/png": "[encoded data removed]",
      "text/plain": [
       "<matplotlib.figure.Figure at 0x7f6b362ac198>"
      ]
     },
     "metadata": {},
     "output_type": "display_data"
    }
   ],
   "source": [
    "plot_learning_graph(history_list, attempts)"
   ]
  },
  {
   "cell_type": "code",
   "execution_count": 216,
   "metadata": {},
   "outputs": [
    {
     "name": "stdout",
     "output_type": "stream",
     "text": [
      "3702/3702 [==============================] - 1s 302us/step\n"
     ]
    },
    {
     "data": {
      "text/html": [
       "<div>\n",
       "<style>\n",
       "    .dataframe thead tr:only-child th {\n",
       "        text-align: right;\n",
       "    }\n",
       "\n",
       "    .dataframe thead th {\n",
       "        text-align: left;\n",
       "    }\n",
       "\n",
       "    .dataframe tbody tr th {\n",
       "        vertical-align: top;\n",
       "    }\n",
       "</style>\n",
       "<table border=\"1\" class=\"dataframe\">\n",
       "  <thead>\n",
       "    <tr style=\"text-align: right;\">\n",
       "      <th></th>\n",
       "      <th>f1</th>\n",
       "      <th>prec_recall_score</th>\n",
       "      <th>prec</th>\n",
       "      <th>recall</th>\n",
       "      <th>acc</th>\n",
       "    </tr>\n",
       "  </thead>\n",
       "  <tbody>\n",
       "    <tr>\n",
       "      <th>on</th>\n",
       "      <td>0.948581</td>\n",
       "      <td>0.994993</td>\n",
       "      <td>0.910540</td>\n",
       "      <td>0.989939</td>\n",
       "      <td>0.948136</td>\n",
       "    </tr>\n",
       "    <tr>\n",
       "      <th>off</th>\n",
       "      <td>0.947684</td>\n",
       "      <td>0.993784</td>\n",
       "      <td>0.989755</td>\n",
       "      <td>0.909043</td>\n",
       "      <td>0.948136</td>\n",
       "    </tr>\n",
       "  </tbody>\n",
       "</table>\n",
       "</div>"
      ],
      "text/plain": [
       "           f1  prec_recall_score      prec    recall       acc\n",
       "on   0.948581           0.994993  0.910540  0.989939  0.948136\n",
       "off  0.947684           0.993784  0.989755  0.909043  0.948136"
      ]
     },
     "execution_count": 216,
     "metadata": {},
     "output_type": "execute_result"
    }
   ],
   "source": [
    "X_test, y_test, _ = make_subset(test_u_groups, X, y, groups)\n",
    "evaluate_model(X_test, y_test, model, data_gen)"
   ]
  },
  {
   "cell_type": "code",
   "execution_count": 217,
   "metadata": {},
   "outputs": [
    {
     "name": "stdout",
     "output_type": "stream",
     "text": [
      "0\n",
      "3702/3702 [==============================] - 1s 301us/step\n",
      "           f1  prec_recall_score      prec    recall       acc\n",
      "on   0.938847           0.989872  0.979939  0.901062  0.943274\n",
      "off  0.947103           0.990388  0.913952  0.982750  0.943274\n",
      "1\n",
      "3702/3702 [==============================] - 1s 301us/step\n",
      "           f1  prec_recall_score      prec    recall       acc\n",
      "on   0.971014           0.995545  0.968316  0.973728  0.971907\n",
      "off  0.972746           0.993923  0.975302  0.970204  0.971907\n",
      "2\n",
      "3702/3702 [==============================] - 1s 301us/step\n",
      "           f1  prec_recall_score      prec    recall       acc\n",
      "on   0.948581           0.994993  0.910540  0.989939  0.948136\n",
      "off  0.947684           0.993784  0.989755  0.909043  0.948136\n"
     ]
    }
   ],
   "source": [
    "for i in range(attempts):\n",
    "    print(i)\n",
    "    model.load_weights(filepath=f'weights.best.{i}.hdf5')\n",
    "    X_test, y_test, _ = make_subset(test_u_groups, X, y, groups)\n",
    "    df = evaluate_model(X_test, y_test, model, data_gen)\n",
    "    print(df)"
   ]
  },
  {
   "cell_type": "code",
   "execution_count": 218,
   "metadata": {},
   "outputs": [
    {
     "name": "stdout",
     "output_type": "stream",
     "text": [
      "3702/3702 [==============================] - 1s 301us/step\n",
      "3702/3702 [==============================] - 1s 300us/step\n",
      "3702/3702 [==============================] - 1s 299us/step\n"
     ]
    },
    {
     "data": {
      "text/html": [
       "<div>\n",
       "<style>\n",
       "    .dataframe thead tr:only-child th {\n",
       "        text-align: right;\n",
       "    }\n",
       "\n",
       "    .dataframe thead th {\n",
       "        text-align: left;\n",
       "    }\n",
       "\n",
       "    .dataframe tbody tr th {\n",
       "        vertical-align: top;\n",
       "    }\n",
       "</style>\n",
       "<table border=\"1\" class=\"dataframe\">\n",
       "  <thead>\n",
       "    <tr style=\"text-align: right;\">\n",
       "      <th></th>\n",
       "      <th>f1</th>\n",
       "      <th>prec_recall_score</th>\n",
       "      <th>prec</th>\n",
       "      <th>recall</th>\n",
       "      <th>acc</th>\n",
       "    </tr>\n",
       "  </thead>\n",
       "  <tbody>\n",
       "    <tr>\n",
       "      <th>on</th>\n",
       "      <td>0.978865</td>\n",
       "      <td>0.995407</td>\n",
       "      <td>0.973990</td>\n",
       "      <td>0.983790</td>\n",
       "      <td>0.979471</td>\n",
       "    </tr>\n",
       "    <tr>\n",
       "      <th>off</th>\n",
       "      <td>0.980042</td>\n",
       "      <td>0.994231</td>\n",
       "      <td>0.984697</td>\n",
       "      <td>0.975431</td>\n",
       "      <td>0.979471</td>\n",
       "    </tr>\n",
       "  </tbody>\n",
       "</table>\n",
       "</div>"
      ],
      "text/plain": [
       "           f1  prec_recall_score      prec    recall       acc\n",
       "on   0.978865           0.995407  0.973990  0.983790  0.979471\n",
       "off  0.980042           0.994231  0.984697  0.975431  0.979471"
      ]
     },
     "execution_count": 218,
     "metadata": {},
     "output_type": "execute_result"
    }
   ],
   "source": [
    "y_test_pred = 0\n",
    "for i in range(attempts):\n",
    "    X_test, y_test, _ = make_subset(test_u_groups, X, y, groups)\n",
    "    X_test = data_gen.standardize(X_test)\n",
    "    model.load_weights(filepath=f'weights.best.{i}.hdf5')\n",
    "    y_test_pred += model.predict_proba(X_test, verbose=1)\n",
    "y_test_pred /= attempts\n",
    "calc_metrics(y_test, y_test_pred)"
   ]
  },
  {
   "cell_type": "code",
   "execution_count": 196,
   "metadata": {},
   "outputs": [
    {
     "name": "stdout",
     "output_type": "stream",
     "text": [
      "4779/4779 [==============================] - 1s 247us/step\n",
      "4779/4779 [==============================] - 1s 244us/step\n",
      "4779/4779 [==============================] - 1s 244us/step\n"
     ]
    },
    {
     "data": {
      "text/html": [
       "<div>\n",
       "<style>\n",
       "    .dataframe thead tr:only-child th {\n",
       "        text-align: right;\n",
       "    }\n",
       "\n",
       "    .dataframe thead th {\n",
       "        text-align: left;\n",
       "    }\n",
       "\n",
       "    .dataframe tbody tr th {\n",
       "        vertical-align: top;\n",
       "    }\n",
       "</style>\n",
       "<table border=\"1\" class=\"dataframe\">\n",
       "  <thead>\n",
       "    <tr style=\"text-align: right;\">\n",
       "      <th></th>\n",
       "      <th>f1</th>\n",
       "      <th>prec_recall_score</th>\n",
       "      <th>prec</th>\n",
       "      <th>recall</th>\n",
       "      <th>acc</th>\n",
       "    </tr>\n",
       "  </thead>\n",
       "  <tbody>\n",
       "    <tr>\n",
       "      <th>on</th>\n",
       "      <td>0.804428</td>\n",
       "      <td>0.968858</td>\n",
       "      <td>0.993490</td>\n",
       "      <td>0.675819</td>\n",
       "      <td>0.844737</td>\n",
       "    </tr>\n",
       "    <tr>\n",
       "      <th>off</th>\n",
       "      <td>0.871270</td>\n",
       "      <td>0.972455</td>\n",
       "      <td>0.774283</td>\n",
       "      <td>0.996033</td>\n",
       "      <td>0.844737</td>\n",
       "    </tr>\n",
       "  </tbody>\n",
       "</table>\n",
       "</div>"
      ],
      "text/plain": [
       "           f1  prec_recall_score      prec    recall       acc\n",
       "on   0.804428           0.968858  0.993490  0.675819  0.844737\n",
       "off  0.871270           0.972455  0.774283  0.996033  0.844737"
      ]
     },
     "execution_count": 196,
     "metadata": {},
     "output_type": "execute_result"
    }
   ],
   "source": [
    "y_test_pred = 0\n",
    "for i in range(attempts):\n",
    "    X_test, y_test, _ = make_subset(valid_u_groups, X, y, groups)\n",
    "    X_test = data_gen.standardize(X_test)\n",
    "    model.load_weights(filepath=f'weights.best.{i}.hdf5')\n",
    "    y_test_pred += model.predict_proba(X_test, verbose=1)\n",
    "y_test_pred /= attempts\n",
    "calc_metrics(y_test, y_test_pred)"
   ]
  },
  {
   "cell_type": "code",
   "execution_count": 296,
   "metadata": {
    "collapsed": true
   },
   "outputs": [],
   "source": [
    "# X_valid, y_valid, _ = make_subset(valid_u_groups, X, y, groups)\n",
    "# X_valid = data_gen.standardize(X_valid)\n",
    "# y_valid_pred = model.predict(X_valid, verbose=verbose)\n",
    "# valid_metrics = calc_metrics(y_valid,y_valid_pred)\n",
    "# valid_metrics"
   ]
  },
  {
   "cell_type": "markdown",
   "metadata": {},
   "source": [
    "### Define Model"
   ]
  },
  {
   "cell_type": "code",
   "execution_count": 219,
   "metadata": {
    "collapsed": true
   },
   "outputs": [],
   "source": [
    "import numpy as np\n",
    "from keras.models import Sequential\n",
    "from keras.layers import Dense, Dropout, Activation, Flatten, Conv2D, MaxPool2D\n",
    "from keras.losses import binary_crossentropy\n",
    "from keras.callbacks import EarlyStopping\n",
    "from keras.regularizers import l2, l1_l2\n",
    "from keras.optimizers import SGD, Adam, Nadam, Adamax, Adadelta\n",
    "from keras.layers.normalization import BatchNormalization\n",
    "from keras.preprocessing.image import ImageDataGenerator\n",
    "from keras.callbacks import LearningRateScheduler\n",
    "from collections import OrderedDict\n",
    "import math\n",
    "from keras.metrics import binary_accuracy\n",
    "from keras.wrappers.scikit_learn import KerasClassifier\n",
    "from sklearn.metrics import f1_score\n",
    "\n",
    "image_shape = (64, 64, 1)\n",
    "\n",
    "\n",
    "def create_model(opt=None,\n",
    "                 l1_a=0.01, l2_a=0.01,\n",
    "                 init_filters=8,\n",
    "                 dropout_p=0.5,\n",
    "                 dense_fn=(256, 256),\n",
    "                 act_f='relu',\n",
    "                 kernel_initializer='glorot_uniform',\n",
    "                 metrics=None):\n",
    "    model = Sequential()\n",
    "\n",
    "    strides = (1, 1)\n",
    "    pool_size = (2, 2)\n",
    "\n",
    "    model.add(Conv2D(init_filters, (3, 3), strides=strides, padding='same', input_shape=image_shape,\n",
    "                     kernel_initializer=kernel_initializer, kernel_regularizer=l1_l2(l1_a, l2_a)))\n",
    "    model.add(BatchNormalization())\n",
    "    model.add(Activation(act_f))\n",
    "    model.add(MaxPool2D(pool_size=pool_size))\n",
    "\n",
    "    model.add(Conv2D(init_filters, (3, 3), strides=strides, padding='same',\n",
    "                     kernel_initializer=kernel_initializer, kernel_regularizer=l1_l2(l1_a, l2_a)))\n",
    "    model.add(BatchNormalization())\n",
    "    model.add(Activation(act_f))\n",
    "    model.add(MaxPool2D(pool_size=pool_size))\n",
    "\n",
    "    model.add(Conv2D(init_filters * 2, (3, 3), strides=strides, padding='same',\n",
    "                     kernel_initializer=kernel_initializer, kernel_regularizer=l1_l2(l1_a, l2_a)))\n",
    "    model.add(BatchNormalization())\n",
    "    model.add(Activation(act_f))\n",
    "    model.add(MaxPool2D(pool_size=pool_size))\n",
    "\n",
    "    model.add(Conv2D(init_filters * 4, (3, 3), strides=strides, padding='same',\n",
    "                     kernel_initializer=kernel_initializer, kernel_regularizer=l1_l2(l1_a, l2_a)))\n",
    "    model.add(BatchNormalization())\n",
    "    model.add(Activation(act_f))\n",
    "    model.add(MaxPool2D(pool_size=pool_size))\n",
    "\n",
    "    model.add(Conv2D(init_filters * 8, (3, 3), strides=strides, padding='same',\n",
    "                     kernel_initializer=kernel_initializer, kernel_regularizer=l1_l2(l1_a, l2_a)))\n",
    "    model.add(BatchNormalization())\n",
    "    model.add(Activation(act_f))\n",
    "    model.add(MaxPool2D(pool_size=pool_size))\n",
    "\n",
    "    model.add(Conv2D(init_filters * 16, (2, 2), strides=strides, padding='valid',\n",
    "                     kernel_initializer=kernel_initializer, kernel_regularizer=l1_l2(l1_a, l2_a)))\n",
    "    model.add(BatchNormalization())\n",
    "    model.add(Activation(act_f))\n",
    "\n",
    "    model.add(Flatten())\n",
    "\n",
    "    model.add(Dense(dense_fn[0], kernel_initializer=kernel_initializer, kernel_regularizer=l1_l2(l1_a, l2_a)))\n",
    "    model.add(Activation(act_f))\n",
    "    model.add(Dropout(dropout_p))\n",
    "\n",
    "    model.add(Dense(dense_fn[1], kernel_initializer=kernel_initializer, kernel_regularizer=l1_l2(l1_a, l2_a)))\n",
    "    model.add(Activation(act_f))\n",
    "    model.add(Dropout(dropout_p))\n",
    "\n",
    "    model.add(Dense(2, kernel_initializer=kernel_initializer, kernel_regularizer=l1_l2(l1_a, l2_a)))\n",
    "    model.add(Activation('softmax'))\n",
    "\n",
    "    if not metrics:\n",
    "        metrics = [binary_accuracy]\n",
    "    model.compile(loss=binary_crossentropy,\n",
    "                  optimizer=opt,\n",
    "                  metrics=metrics)\n",
    "    return model\n",
    "\n",
    "\n",
    "import copy\n",
    "from keras.preprocessing.image import ImageDataGenerator\n",
    "\n",
    "\n",
    "class OffSampleImageDataGenerator(ImageDataGenerator):\n",
    "\n",
    "    def standardize(self, x):\n",
    "        return super(OffSampleImageDataGenerator, self).standardize(x.copy())\n",
    "\n",
    "\n",
    "class OffSampleKerasClassifier(KerasClassifier):\n",
    "\n",
    "    def __init__(self, **sk_params):\n",
    "        super().__init__(**sk_params)\n",
    "        self.classes_ = np.arange(2)\n",
    "\n",
    "    def check_params(self, params):\n",
    "        pass\n",
    "\n",
    "    def fit(self, x, y, **kwargs):\n",
    "        self.set_params(**kwargs)\n",
    "\n",
    "        print('create_model args: {}'.format(self.filter_sk_params(create_model)))\n",
    "        self.model = create_model(**self.filter_sk_params(create_model))\n",
    "\n",
    "        self.data_gen = OffSampleImageDataGenerator(\n",
    "            featurewise_center=True,\n",
    "            featurewise_std_normalization=True,\n",
    "            rotation_range=30,\n",
    "            width_shift_range=0.2,\n",
    "            height_shift_range=0.2,\n",
    "            horizontal_flip=True,\n",
    "            vertical_flip=True,\n",
    "            rescale=0.3)\n",
    "        self.data_gen.fit(x)\n",
    "\n",
    "        print('fit_generator args: {}'.format(self.filter_sk_params(Sequential.fit_generator)))\n",
    "        fit_args = copy.deepcopy(self.filter_sk_params(Sequential.fit_generator))\n",
    "        fit_args.update(kwargs)\n",
    "        print('flow args: {}'.format(self.filter_sk_params(ImageDataGenerator.flow)))\n",
    "        flow_args = copy.deepcopy(self.filter_sk_params(ImageDataGenerator.flow))\n",
    "\n",
    "        history = self.model.fit_generator(self.data_gen.flow(x, y, **flow_args),\n",
    "                                           **fit_args)\n",
    "        return history\n",
    "\n",
    "    def _target_class_f1_score(self, x, y, **kwargs):\n",
    "        x = self.data_gen.standardize(x)\n",
    "        y_pred = self.model.predict(x)\n",
    "        y_pred_lab = np.around(y_pred)\n",
    "        return f1_score(y[:, 1], y_pred_lab[:, 1])  # 0 - on, 1 - off\n",
    "\n",
    "    def score(self, x, y, **kwargs):\n",
    "        return self._target_class_f1_score(x, y, **kwargs)\n",
    "\n",
    "    def predict_proba(self, x, **kwargs):\n",
    "        x = self.data_gen.standardize(x)\n",
    "        return KerasClassifier.predict_proba(self, x, **kwargs)"
   ]
  },
  {
   "cell_type": "markdown",
   "metadata": {},
   "source": [
    "# Hyperparameters Random Search"
   ]
  },
  {
   "cell_type": "code",
   "execution_count": 198,
   "metadata": {
    "collapsed": true
   },
   "outputs": [],
   "source": [
    "from keras.wrappers.scikit_learn import KerasClassifier\n",
    "from sklearn.model_selection import RandomizedSearchCV\n",
    "from sklearn.metrics import f1_score\n",
    "from sklearn.model_selection import GroupKFold"
   ]
  },
  {
   "cell_type": "code",
   "execution_count": 199,
   "metadata": {
    "collapsed": true
   },
   "outputs": [],
   "source": [
    "# other_u_groups_sample = other_u_groups[:10]\n",
    "# train_u_groups_sample, valid_u_groups_sample = train_u_groups[:5], valid_u_groups[:2]\n",
    "# other_u_groups_sample, train_u_groups_sample, valid_u_groups_sample"
   ]
  },
  {
   "cell_type": "code",
   "execution_count": 200,
   "metadata": {
    "collapsed": true
   },
   "outputs": [],
   "source": [
    "# X_other, y_other, groups_other = make_subset(other_u_groups, X_sample, y_sample, groups_sample)\n",
    "# X_train, y_train, groups_train = make_subset(train_u_groups_sample, X, y, groups)\n",
    "# X_valid, y_valid, groups_valid = make_subset(valid_u_groups_sample, X, y, groups)"
   ]
  },
  {
   "cell_type": "code",
   "execution_count": 201,
   "metadata": {
    "collapsed": true
   },
   "outputs": [],
   "source": [
    "params_dist = {\n",
    "#     'batch_size': [16, 32, 64],\n",
    "    'batch_size': [32],\n",
    "#     'epochs': [5, 10, 15, 20, 25, 30],\n",
    "    'epochs': [30],\n",
    "#     'opt': [Adam(lr=1e-4), Nadam(lr=2e-3), Adamax(lr=2e-3), Adadelta(lr=1.0)],\n",
    "    'opt': [Adam(lr=1e-4)],\n",
    "#     'opt_alg': [Adam, Nadam, Adamax, Adadelta],\n",
    "#     'opt_lr': [1e-3, 1e-4, 2e-4, 1e-5],\n",
    "#     'opt_lr': [5e-5],\n",
    "#     'l1_a': [1e-1, 1e-2, 1e-3, 1e-4, 0],\n",
    "#     'l2_a': [1e-1, 1e-2, 1e-3, 1e-4, 0],\n",
    "    'l1_a': [0],\n",
    "    'l2_a': [1e-1],\n",
    "#     'init_filters': [2, 4, 8, 16],\n",
    "    'init_filters': [8],\n",
    "#     'dropout_p': [0, 0.25, 0.5, 0.75],\n",
    "    'dropout_p': [0.5],\n",
    "#     'dense_fn': [(128, 128), (128, 256), (256, 256), (256, 512), (512, 512)],\n",
    "    'dense_fn': [(128, 128)],\n",
    "#     'act_f': ['relu', 'elu', 'selu'],\n",
    "    'act_f': ['relu'],\n",
    "#     'kernel_initializer': ['he_uniform', 'he_normal', 'lecun_uniform', 'lecun_normal',\n",
    "#                            'glorot_uniform', 'glorot_normal']\n",
    "    'kernel_initializer': ['glorot_uniform']\n",
    "}"
   ]
  },
  {
   "cell_type": "code",
   "execution_count": 202,
   "metadata": {},
   "outputs": [
    {
     "data": {
      "text/plain": [
       "5"
      ]
     },
     "execution_count": 202,
     "metadata": {},
     "output_type": "execute_result"
    }
   ],
   "source": [
    "def get_comb_n(params_dist):\n",
    "    comb_n = 1\n",
    "    for p, vals in params_dist.items():\n",
    "        comb_n *= len(vals)\n",
    "    return comb_n\n",
    "get_comb_n(params_dist)"
   ]
  },
  {
   "cell_type": "code",
   "execution_count": 203,
   "metadata": {
    "collapsed": true
   },
   "outputs": [],
   "source": [
    "# def make_cv_gen(train_u_groups, valid_u_groups, groups_sample, n=2):\n",
    "#     for _ in range(n):\n",
    "#         train_mask = np.array([g in train_u_groups for g in groups_sample])\n",
    "#         valid_mask = np.array([g in valid_u_groups for g in groups_sample])\n",
    "#         yield train_mask, valid_mask\n",
    "def make_cv_gen(X, y, groups, n=4):\n",
    "    groupkfold = GroupKFold(n)\n",
    "    return groupkfold.split(X, y, groups)"
   ]
  },
  {
   "cell_type": "code",
   "execution_count": 4,
   "metadata": {
    "scrolled": true
   },
   "outputs": [],
   "source": [
    "%%time\n",
    "max_iter = 100\n",
    "kclf = OffSampleKerasClassifier()\n",
    "# cv_gen = make_cv_gen(train_u_groups, valid_u_groups, groups_sample, n=1)\n",
    "cv_gen = make_cv_gen(X_sample, y_sample, groups_sample, n=3)\n",
    "validator = RandomizedSearchCV(kclf, param_distributions=params_dist,\n",
    "                               n_iter=min(get_comb_n(params_dist), max_iter),\n",
    "                               n_jobs=1, cv=cv_gen, random_state=13)\n",
    "validator.fit(X_sample, y_sample);"
   ]
  },
  {
   "cell_type": "code",
   "execution_count": 205,
   "metadata": {},
   "outputs": [
    {
     "data": {
      "text/plain": [
       "({'act_f': 'relu',\n",
       "  'batch_size': 32,\n",
       "  'dense_fn': (128, 128),\n",
       "  'dropout_p': 0.5,\n",
       "  'epochs': 30,\n",
       "  'init_filters': 8,\n",
       "  'kernel_initializer': 'glorot_uniform',\n",
       "  'l1_a': 0,\n",
       "  'l2_a': 0.1,\n",
       "  'opt': <keras.optimizers.Adam at 0x7f6b48318828>},\n",
       " 0.91475369415237318,\n",
       " array([1, 4, 3, 2, 5], dtype=int32))"
      ]
     },
     "execution_count": 205,
     "metadata": {},
     "output_type": "execute_result"
    }
   ],
   "source": [
    "validator.best_params_, validator.best_score_, validator.cv_results_['rank_test_score']"
   ]
  },
  {
   "cell_type": "code",
   "execution_count": 206,
   "metadata": {
    "collapsed": true
   },
   "outputs": [],
   "source": [
    "from copy import deepcopy, copy"
   ]
  },
  {
   "cell_type": "code",
   "execution_count": 207,
   "metadata": {},
   "outputs": [
    {
     "data": {
      "text/html": [
       "<div>\n",
       "<style>\n",
       "    .dataframe thead tr:only-child th {\n",
       "        text-align: right;\n",
       "    }\n",
       "\n",
       "    .dataframe thead th {\n",
       "        text-align: left;\n",
       "    }\n",
       "\n",
       "    .dataframe tbody tr th {\n",
       "        vertical-align: top;\n",
       "    }\n",
       "</style>\n",
       "<table border=\"1\" class=\"dataframe\">\n",
       "  <thead>\n",
       "    <tr style=\"text-align: right;\">\n",
       "      <th></th>\n",
       "      <th>act_f</th>\n",
       "      <th>batch_size</th>\n",
       "      <th>dense_fn</th>\n",
       "      <th>dropout_p</th>\n",
       "      <th>epochs</th>\n",
       "      <th>f1_mean</th>\n",
       "      <th>f1_std</th>\n",
       "      <th>init_filters</th>\n",
       "      <th>kernel_initializer</th>\n",
       "      <th>l1_a</th>\n",
       "      <th>l2_a</th>\n",
       "      <th>opt</th>\n",
       "    </tr>\n",
       "  </thead>\n",
       "  <tbody>\n",
       "    <tr>\n",
       "      <th>0</th>\n",
       "      <td>relu</td>\n",
       "      <td>32</td>\n",
       "      <td>(128, 128)</td>\n",
       "      <td>0.5</td>\n",
       "      <td>30</td>\n",
       "      <td>0.914754</td>\n",
       "      <td>0.026403</td>\n",
       "      <td>8</td>\n",
       "      <td>glorot_uniform</td>\n",
       "      <td>0</td>\n",
       "      <td>0.1</td>\n",
       "      <td>Adam</td>\n",
       "    </tr>\n",
       "    <tr>\n",
       "      <th>3</th>\n",
       "      <td>relu</td>\n",
       "      <td>32</td>\n",
       "      <td>(256, 512)</td>\n",
       "      <td>0.5</td>\n",
       "      <td>30</td>\n",
       "      <td>0.913325</td>\n",
       "      <td>0.028476</td>\n",
       "      <td>8</td>\n",
       "      <td>glorot_uniform</td>\n",
       "      <td>0</td>\n",
       "      <td>0.1</td>\n",
       "      <td>Adam</td>\n",
       "    </tr>\n",
       "    <tr>\n",
       "      <th>2</th>\n",
       "      <td>relu</td>\n",
       "      <td>32</td>\n",
       "      <td>(256, 256)</td>\n",
       "      <td>0.5</td>\n",
       "      <td>30</td>\n",
       "      <td>0.904736</td>\n",
       "      <td>0.020757</td>\n",
       "      <td>8</td>\n",
       "      <td>glorot_uniform</td>\n",
       "      <td>0</td>\n",
       "      <td>0.1</td>\n",
       "      <td>Adam</td>\n",
       "    </tr>\n",
       "    <tr>\n",
       "      <th>1</th>\n",
       "      <td>relu</td>\n",
       "      <td>32</td>\n",
       "      <td>(128, 256)</td>\n",
       "      <td>0.5</td>\n",
       "      <td>30</td>\n",
       "      <td>0.890959</td>\n",
       "      <td>0.014840</td>\n",
       "      <td>8</td>\n",
       "      <td>glorot_uniform</td>\n",
       "      <td>0</td>\n",
       "      <td>0.1</td>\n",
       "      <td>Adam</td>\n",
       "    </tr>\n",
       "    <tr>\n",
       "      <th>4</th>\n",
       "      <td>relu</td>\n",
       "      <td>32</td>\n",
       "      <td>(512, 512)</td>\n",
       "      <td>0.5</td>\n",
       "      <td>30</td>\n",
       "      <td>0.882411</td>\n",
       "      <td>0.017956</td>\n",
       "      <td>8</td>\n",
       "      <td>glorot_uniform</td>\n",
       "      <td>0</td>\n",
       "      <td>0.1</td>\n",
       "      <td>Adam</td>\n",
       "    </tr>\n",
       "  </tbody>\n",
       "</table>\n",
       "</div>"
      ],
      "text/plain": [
       "  act_f  batch_size    dense_fn  dropout_p  epochs   f1_mean    f1_std  \\\n",
       "0  relu          32  (128, 128)        0.5      30  0.914754  0.026403   \n",
       "3  relu          32  (256, 512)        0.5      30  0.913325  0.028476   \n",
       "2  relu          32  (256, 256)        0.5      30  0.904736  0.020757   \n",
       "1  relu          32  (128, 256)        0.5      30  0.890959  0.014840   \n",
       "4  relu          32  (512, 512)        0.5      30  0.882411  0.017956   \n",
       "\n",
       "   init_filters kernel_initializer  l1_a  l2_a   opt  \n",
       "0             8     glorot_uniform     0   0.1  Adam  \n",
       "3             8     glorot_uniform     0   0.1  Adam  \n",
       "2             8     glorot_uniform     0   0.1  Adam  \n",
       "1             8     glorot_uniform     0   0.1  Adam  \n",
       "4             8     glorot_uniform     0   0.1  Adam  "
      ]
     },
     "execution_count": 207,
     "metadata": {},
     "output_type": "execute_result"
    }
   ],
   "source": [
    "rows = []\n",
    "for f1_mean, f1_std, params in  zip(validator.cv_results_['mean_test_score'],\n",
    "                                    validator.cv_results_['std_test_score'],\n",
    "                                    validator.cv_results_['params']):\n",
    "    row = copy(params)\n",
    "    row['opt'] = params['opt'].__class__.__name__\n",
    "    row.update({'f1_mean': f1_mean, 'f1_std': f1_std})\n",
    "    rows.append(row)\n",
    "grid_df = pd.DataFrame(rows).sort_values(by='f1_mean', ascending=False)\n",
    "grid_df"
   ]
  },
  {
   "cell_type": "code",
   "execution_count": 208,
   "metadata": {},
   "outputs": [
    {
     "name": "stdout",
     "output_type": "stream",
     "text": [
      "3702/3702 [==============================] - 11s 3ms/step\n"
     ]
    },
    {
     "data": {
      "text/html": [
       "<div>\n",
       "<style>\n",
       "    .dataframe thead tr:only-child th {\n",
       "        text-align: right;\n",
       "    }\n",
       "\n",
       "    .dataframe thead th {\n",
       "        text-align: left;\n",
       "    }\n",
       "\n",
       "    .dataframe tbody tr th {\n",
       "        vertical-align: top;\n",
       "    }\n",
       "</style>\n",
       "<table border=\"1\" class=\"dataframe\">\n",
       "  <thead>\n",
       "    <tr style=\"text-align: right;\">\n",
       "      <th></th>\n",
       "      <th>f1</th>\n",
       "      <th>prec_recall_score</th>\n",
       "      <th>prec</th>\n",
       "      <th>recall</th>\n",
       "      <th>acc</th>\n",
       "    </tr>\n",
       "  </thead>\n",
       "  <tbody>\n",
       "    <tr>\n",
       "      <th>on</th>\n",
       "      <td>0.637747</td>\n",
       "      <td>0.993540</td>\n",
       "      <td>0.998808</td>\n",
       "      <td>0.468418</td>\n",
       "      <td>0.742842</td>\n",
       "    </tr>\n",
       "    <tr>\n",
       "      <th>off</th>\n",
       "      <td>0.800670</td>\n",
       "      <td>0.993121</td>\n",
       "      <td>0.667831</td>\n",
       "      <td>0.999477</td>\n",
       "      <td>0.742842</td>\n",
       "    </tr>\n",
       "  </tbody>\n",
       "</table>\n",
       "</div>"
      ],
      "text/plain": [
       "           f1  prec_recall_score      prec    recall       acc\n",
       "on   0.637747           0.993540  0.998808  0.468418  0.742842\n",
       "off  0.800670           0.993121  0.667831  0.999477  0.742842"
      ]
     },
     "execution_count": 208,
     "metadata": {},
     "output_type": "execute_result"
    }
   ],
   "source": [
    "# %run off_sample/utils.py\n",
    "X_test, y_test, _ = make_subset(test_u_groups, X, y, groups)\n",
    "evaluate_model(X_test, y_test, validator.best_estimator_)"
   ]
  },
  {
   "cell_type": "code",
   "execution_count": null,
   "metadata": {
    "collapsed": true
   },
   "outputs": [],
   "source": []
  },
  {
   "cell_type": "markdown",
   "metadata": {
    "collapsed": true
   },
   "source": [
    "---"
   ]
  },
  {
   "cell_type": "markdown",
   "metadata": {
    "collapsed": true
   },
   "source": [
    "# Final Model Cross Validation"
   ]
  },
  {
   "cell_type": "code",
   "execution_count": 221,
   "metadata": {
    "collapsed": true
   },
   "outputs": [],
   "source": [
    "data_gen = OffSampleImageDataGenerator(\n",
    "    featurewise_center=True,\n",
    "    featurewise_std_normalization=True,\n",
    "    rotation_range=30,\n",
    "    width_shift_range=0.2,\n",
    "    height_shift_range=0.2,\n",
    "    horizontal_flip=True,\n",
    "    vertical_flip=True,\n",
    "    rescale=0.3)"
   ]
  },
  {
   "cell_type": "code",
   "execution_count": 231,
   "metadata": {
    "collapsed": true
   },
   "outputs": [],
   "source": [
    "batch_size = 32\n",
    "epochs = 15\n",
    "params = {\n",
    "    'opt': Adam(lr=5e-5),\n",
    "    'l1_a': 0,\n",
    "    'l2_a': 0.1,\n",
    "    'dense_fn': (256, 256),\n",
    "}"
   ]
  },
  {
   "cell_type": "code",
   "execution_count": 5,
   "metadata": {
    "scrolled": true
   },
   "outputs": [],
   "source": [
    "%%time\n",
    "folds = 5\n",
    "break_after_first_fold = False\n",
    "attempts = 5\n",
    "\n",
    "cv_metrics = []\n",
    "history_list = []\n",
    "\n",
    "gkfold = GroupKFold(n_splits=folds)\n",
    "for fold_i, (train_inds, valid_inds) in enumerate(gkfold.split(X, y, groups)):\n",
    "    print(f'Fold: {fold_i}', train_inds.shape, valid_inds.shape)\n",
    "    \n",
    "    X_train, y_train = X[train_inds], y[train_inds]\n",
    "    X_valid, y_valid = X[valid_inds], y[valid_inds]\n",
    "    \n",
    "    data_gen.fit(X_train)\n",
    "    X_valid = data_gen.standardize(X_valid)\n",
    "    \n",
    "    y_pred_avg = np.zeros(y_valid.shape)\n",
    "    for i in range(attempts):\n",
    "        print(f'Attempt: {i}')\n",
    "#         lr_scheduler = LearningRateScheduler(step_decay, verbose=1)\n",
    "        model = create_model(metrics=['binary_accuracy'], **params)\n",
    "        history = model.fit_generator(data_gen.flow(X_train, y_train, batch_size=batch_size),\n",
    "                                      validation_data=(X_valid, y_valid),\n",
    "                                      steps_per_epoch=X_train.shape[0]/batch_size,\n",
    "                                      epochs=epochs, verbose=verbose,\n",
    "                                      callbacks=[])\n",
    "        history_list.append(history.history)\n",
    "\n",
    "        y_pred = model.predict(X_valid, verbose=verbose)\n",
    "        y_pred_avg += y_pred\n",
    "        metrics = calc_metrics(y_valid, y_pred)\n",
    "        metrics['fold'] = fold_i\n",
    "        metrics['attempt'] = i\n",
    "        cv_metrics.append(metrics)\n",
    "\n",
    "        print(metrics)\n",
    "        print()\n",
    "    \n",
    "    print('Averaged')\n",
    "    y_pred_avg /= attempts\n",
    "    metrics = calc_metrics(y_valid, y_pred_avg)\n",
    "    metrics['fold'] = fold_i\n",
    "    metrics['attempt'] = 'avg'\n",
    "    cv_metrics.append(metrics)  \n",
    "    print(metrics)\n",
    "    print()\n",
    "\n",
    "    if break_after_first_fold:\n",
    "        break\n",
    "\n",
    "metrics_df = pd.concat(cv_metrics)\n",
    "metrics_df.to_msgpack('metrics_df.msgpack')\n",
    "pickle.dump(history_list, open('history_list.pkl', 'wb'))"
   ]
  },
  {
   "cell_type": "code",
   "execution_count": 225,
   "metadata": {
    "collapsed": true
   },
   "outputs": [],
   "source": [
    "# metrics_df = pd.concat(cv_metrics)"
   ]
  },
  {
   "cell_type": "code",
   "execution_count": 253,
   "metadata": {},
   "outputs": [
    {
     "data": {
      "text/html": [
       "<div>\n",
       "<style>\n",
       "    .dataframe thead tr:only-child th {\n",
       "        text-align: right;\n",
       "    }\n",
       "\n",
       "    .dataframe thead th {\n",
       "        text-align: left;\n",
       "    }\n",
       "\n",
       "    .dataframe tbody tr th {\n",
       "        vertical-align: top;\n",
       "    }\n",
       "</style>\n",
       "<table border=\"1\" class=\"dataframe\">\n",
       "  <thead>\n",
       "    <tr>\n",
       "      <th></th>\n",
       "      <th colspan=\"2\" halign=\"left\">f1</th>\n",
       "      <th colspan=\"2\" halign=\"left\">prec</th>\n",
       "      <th colspan=\"2\" halign=\"left\">recall</th>\n",
       "      <th colspan=\"2\" halign=\"left\">acc</th>\n",
       "    </tr>\n",
       "    <tr>\n",
       "      <th></th>\n",
       "      <th>mean</th>\n",
       "      <th>std</th>\n",
       "      <th>mean</th>\n",
       "      <th>std</th>\n",
       "      <th>mean</th>\n",
       "      <th>std</th>\n",
       "      <th>mean</th>\n",
       "      <th>std</th>\n",
       "    </tr>\n",
       "  </thead>\n",
       "  <tbody>\n",
       "    <tr>\n",
       "      <th>off</th>\n",
       "      <td>0.951942</td>\n",
       "      <td>0.017984</td>\n",
       "      <td>0.945239</td>\n",
       "      <td>0.041833</td>\n",
       "      <td>0.960116</td>\n",
       "      <td>0.019527</td>\n",
       "      <td>0.956549</td>\n",
       "      <td>0.01583</td>\n",
       "    </tr>\n",
       "    <tr>\n",
       "      <th>on</th>\n",
       "      <td>0.960183</td>\n",
       "      <td>0.014291</td>\n",
       "      <td>0.966602</td>\n",
       "      <td>0.016853</td>\n",
       "      <td>0.954793</td>\n",
       "      <td>0.034627</td>\n",
       "      <td>0.956549</td>\n",
       "      <td>0.01583</td>\n",
       "    </tr>\n",
       "  </tbody>\n",
       "</table>\n",
       "</div>"
      ],
      "text/plain": [
       "           f1                prec              recall                 acc  \\\n",
       "         mean       std      mean       std      mean       std      mean   \n",
       "off  0.951942  0.017984  0.945239  0.041833  0.960116  0.019527  0.956549   \n",
       "on   0.960183  0.014291  0.966602  0.016853  0.954793  0.034627  0.956549   \n",
       "\n",
       "              \n",
       "         std  \n",
       "off  0.01583  \n",
       "on   0.01583  "
      ]
     },
     "execution_count": 253,
     "metadata": {},
     "output_type": "execute_result"
    }
   ],
   "source": [
    "df = metrics_df[metrics_df.attempt == 'avg']\n",
    "df[['f1', 'prec', 'recall', 'acc']].groupby(df.index).agg([np.mean, np.std])"
   ]
  },
  {
   "cell_type": "code",
   "execution_count": 251,
   "metadata": {
    "collapsed": true
   },
   "outputs": [],
   "source": [
    "# df = metrics_df #[metrics_df.attempt == 'avg']\n",
    "# df.groupby(df.index).agg([np.mean, np.std])"
   ]
  },
  {
   "cell_type": "code",
   "execution_count": 343,
   "metadata": {
    "collapsed": true
   },
   "outputs": [],
   "source": [
    "# metrics_df[['f1', 'precision', 'recall']].groupby(metrics_df.index).agg((np.mean, np.std))"
   ]
  },
  {
   "cell_type": "code",
   "execution_count": 237,
   "metadata": {},
   "outputs": [
    {
     "data": {
      "text/html": [
       "<div>\n",
       "<style>\n",
       "    .dataframe thead tr:only-child th {\n",
       "        text-align: right;\n",
       "    }\n",
       "\n",
       "    .dataframe thead th {\n",
       "        text-align: left;\n",
       "    }\n",
       "\n",
       "    .dataframe tbody tr th {\n",
       "        vertical-align: top;\n",
       "    }\n",
       "</style>\n",
       "<table border=\"1\" class=\"dataframe\">\n",
       "  <thead>\n",
       "    <tr style=\"text-align: right;\">\n",
       "      <th></th>\n",
       "      <th>f1</th>\n",
       "      <th>prec</th>\n",
       "      <th>recall</th>\n",
       "      <th>fold</th>\n",
       "      <th>attempt</th>\n",
       "    </tr>\n",
       "  </thead>\n",
       "  <tbody>\n",
       "    <tr>\n",
       "      <th>off</th>\n",
       "      <td>0.940616</td>\n",
       "      <td>0.953638</td>\n",
       "      <td>0.927945</td>\n",
       "      <td>0</td>\n",
       "      <td>0</td>\n",
       "    </tr>\n",
       "    <tr>\n",
       "      <th>off</th>\n",
       "      <td>0.952949</td>\n",
       "      <td>0.954146</td>\n",
       "      <td>0.951754</td>\n",
       "      <td>0</td>\n",
       "      <td>1</td>\n",
       "    </tr>\n",
       "    <tr>\n",
       "      <th>off</th>\n",
       "      <td>0.956140</td>\n",
       "      <td>0.956140</td>\n",
       "      <td>0.956140</td>\n",
       "      <td>0</td>\n",
       "      <td>2</td>\n",
       "    </tr>\n",
       "    <tr>\n",
       "      <th>off</th>\n",
       "      <td>0.969641</td>\n",
       "      <td>0.958946</td>\n",
       "      <td>0.980576</td>\n",
       "      <td>0</td>\n",
       "      <td>3</td>\n",
       "    </tr>\n",
       "    <tr>\n",
       "      <th>off</th>\n",
       "      <td>0.968415</td>\n",
       "      <td>0.948348</td>\n",
       "      <td>0.989348</td>\n",
       "      <td>0</td>\n",
       "      <td>4</td>\n",
       "    </tr>\n",
       "    <tr>\n",
       "      <th>off</th>\n",
       "      <td>0.940830</td>\n",
       "      <td>0.969072</td>\n",
       "      <td>0.914188</td>\n",
       "      <td>1</td>\n",
       "      <td>0</td>\n",
       "    </tr>\n",
       "    <tr>\n",
       "      <th>off</th>\n",
       "      <td>0.944046</td>\n",
       "      <td>0.947035</td>\n",
       "      <td>0.941076</td>\n",
       "      <td>1</td>\n",
       "      <td>1</td>\n",
       "    </tr>\n",
       "    <tr>\n",
       "      <th>off</th>\n",
       "      <td>0.956596</td>\n",
       "      <td>0.954960</td>\n",
       "      <td>0.958238</td>\n",
       "      <td>1</td>\n",
       "      <td>2</td>\n",
       "    </tr>\n",
       "    <tr>\n",
       "      <th>off</th>\n",
       "      <td>0.941602</td>\n",
       "      <td>0.916126</td>\n",
       "      <td>0.968535</td>\n",
       "      <td>1</td>\n",
       "      <td>3</td>\n",
       "    </tr>\n",
       "    <tr>\n",
       "      <th>off</th>\n",
       "      <td>0.888191</td>\n",
       "      <td>0.984680</td>\n",
       "      <td>0.808924</td>\n",
       "      <td>1</td>\n",
       "      <td>4</td>\n",
       "    </tr>\n",
       "    <tr>\n",
       "      <th>off</th>\n",
       "      <td>0.921521</td>\n",
       "      <td>0.872316</td>\n",
       "      <td>0.976608</td>\n",
       "      <td>2</td>\n",
       "      <td>0</td>\n",
       "    </tr>\n",
       "    <tr>\n",
       "      <th>off</th>\n",
       "      <td>0.920828</td>\n",
       "      <td>0.866476</td>\n",
       "      <td>0.982456</td>\n",
       "      <td>2</td>\n",
       "      <td>1</td>\n",
       "    </tr>\n",
       "    <tr>\n",
       "      <th>off</th>\n",
       "      <td>0.881776</td>\n",
       "      <td>0.792639</td>\n",
       "      <td>0.993502</td>\n",
       "      <td>2</td>\n",
       "      <td>2</td>\n",
       "    </tr>\n",
       "    <tr>\n",
       "      <th>off</th>\n",
       "      <td>0.913767</td>\n",
       "      <td>0.855040</td>\n",
       "      <td>0.981157</td>\n",
       "      <td>2</td>\n",
       "      <td>3</td>\n",
       "    </tr>\n",
       "    <tr>\n",
       "      <th>off</th>\n",
       "      <td>0.941250</td>\n",
       "      <td>0.911192</td>\n",
       "      <td>0.973359</td>\n",
       "      <td>2</td>\n",
       "      <td>4</td>\n",
       "    </tr>\n",
       "    <tr>\n",
       "      <th>off</th>\n",
       "      <td>0.968044</td>\n",
       "      <td>0.975569</td>\n",
       "      <td>0.960634</td>\n",
       "      <td>3</td>\n",
       "      <td>0</td>\n",
       "    </tr>\n",
       "    <tr>\n",
       "      <th>off</th>\n",
       "      <td>0.915981</td>\n",
       "      <td>0.989841</td>\n",
       "      <td>0.852378</td>\n",
       "      <td>3</td>\n",
       "      <td>1</td>\n",
       "    </tr>\n",
       "    <tr>\n",
       "      <th>off</th>\n",
       "      <td>0.966640</td>\n",
       "      <td>0.959096</td>\n",
       "      <td>0.974303</td>\n",
       "      <td>3</td>\n",
       "      <td>2</td>\n",
       "    </tr>\n",
       "    <tr>\n",
       "      <th>off</th>\n",
       "      <td>0.916667</td>\n",
       "      <td>0.865469</td>\n",
       "      <td>0.974303</td>\n",
       "      <td>3</td>\n",
       "      <td>3</td>\n",
       "    </tr>\n",
       "    <tr>\n",
       "      <th>off</th>\n",
       "      <td>0.947545</td>\n",
       "      <td>0.967521</td>\n",
       "      <td>0.928376</td>\n",
       "      <td>3</td>\n",
       "      <td>4</td>\n",
       "    </tr>\n",
       "    <tr>\n",
       "      <th>off</th>\n",
       "      <td>0.928126</td>\n",
       "      <td>0.927822</td>\n",
       "      <td>0.928431</td>\n",
       "      <td>4</td>\n",
       "      <td>0</td>\n",
       "    </tr>\n",
       "    <tr>\n",
       "      <th>off</th>\n",
       "      <td>0.895501</td>\n",
       "      <td>0.972308</td>\n",
       "      <td>0.829941</td>\n",
       "      <td>4</td>\n",
       "      <td>1</td>\n",
       "    </tr>\n",
       "    <tr>\n",
       "      <th>off</th>\n",
       "      <td>0.918419</td>\n",
       "      <td>0.892260</td>\n",
       "      <td>0.946159</td>\n",
       "      <td>4</td>\n",
       "      <td>2</td>\n",
       "    </tr>\n",
       "    <tr>\n",
       "      <th>off</th>\n",
       "      <td>0.909582</td>\n",
       "      <td>0.935461</td>\n",
       "      <td>0.885095</td>\n",
       "      <td>4</td>\n",
       "      <td>3</td>\n",
       "    </tr>\n",
       "    <tr>\n",
       "      <th>off</th>\n",
       "      <td>0.953496</td>\n",
       "      <td>0.920024</td>\n",
       "      <td>0.989494</td>\n",
       "      <td>4</td>\n",
       "      <td>4</td>\n",
       "    </tr>\n",
       "  </tbody>\n",
       "</table>\n",
       "</div>"
      ],
      "text/plain": [
       "           f1      prec    recall  fold attempt\n",
       "off  0.940616  0.953638  0.927945     0       0\n",
       "off  0.952949  0.954146  0.951754     0       1\n",
       "off  0.956140  0.956140  0.956140     0       2\n",
       "off  0.969641  0.958946  0.980576     0       3\n",
       "off  0.968415  0.948348  0.989348     0       4\n",
       "off  0.940830  0.969072  0.914188     1       0\n",
       "off  0.944046  0.947035  0.941076     1       1\n",
       "off  0.956596  0.954960  0.958238     1       2\n",
       "off  0.941602  0.916126  0.968535     1       3\n",
       "off  0.888191  0.984680  0.808924     1       4\n",
       "off  0.921521  0.872316  0.976608     2       0\n",
       "off  0.920828  0.866476  0.982456     2       1\n",
       "off  0.881776  0.792639  0.993502     2       2\n",
       "off  0.913767  0.855040  0.981157     2       3\n",
       "off  0.941250  0.911192  0.973359     2       4\n",
       "off  0.968044  0.975569  0.960634     3       0\n",
       "off  0.915981  0.989841  0.852378     3       1\n",
       "off  0.966640  0.959096  0.974303     3       2\n",
       "off  0.916667  0.865469  0.974303     3       3\n",
       "off  0.947545  0.967521  0.928376     3       4\n",
       "off  0.928126  0.927822  0.928431     4       0\n",
       "off  0.895501  0.972308  0.829941     4       1\n",
       "off  0.918419  0.892260  0.946159     4       2\n",
       "off  0.909582  0.935461  0.885095     4       3\n",
       "off  0.953496  0.920024  0.989494     4       4"
      ]
     },
     "execution_count": 237,
     "metadata": {},
     "output_type": "execute_result"
    }
   ],
   "source": [
    "df = metrics_df.loc['off']\n",
    "df[df.attempt != 'avg'][['f1', 'prec', 'recall', 'fold', 'attempt']]"
   ]
  },
  {
   "cell_type": "code",
   "execution_count": 238,
   "metadata": {},
   "outputs": [
    {
     "data": {
      "text/html": [
       "<div>\n",
       "<style>\n",
       "    .dataframe thead tr:only-child th {\n",
       "        text-align: right;\n",
       "    }\n",
       "\n",
       "    .dataframe thead th {\n",
       "        text-align: left;\n",
       "    }\n",
       "\n",
       "    .dataframe tbody tr th {\n",
       "        vertical-align: top;\n",
       "    }\n",
       "</style>\n",
       "<table border=\"1\" class=\"dataframe\">\n",
       "  <thead>\n",
       "    <tr style=\"text-align: right;\">\n",
       "      <th></th>\n",
       "      <th>f1</th>\n",
       "      <th>prec_recall_score</th>\n",
       "      <th>prec</th>\n",
       "      <th>recall</th>\n",
       "      <th>acc</th>\n",
       "      <th>fold</th>\n",
       "      <th>attempt</th>\n",
       "    </tr>\n",
       "  </thead>\n",
       "  <tbody>\n",
       "    <tr>\n",
       "      <th>on</th>\n",
       "      <td>0.954446</td>\n",
       "      <td>0.993672</td>\n",
       "      <td>0.944552</td>\n",
       "      <td>0.964549</td>\n",
       "      <td>0.948442</td>\n",
       "      <td>0</td>\n",
       "      <td>0</td>\n",
       "    </tr>\n",
       "    <tr>\n",
       "      <th>on</th>\n",
       "      <td>0.963109</td>\n",
       "      <td>0.993018</td>\n",
       "      <td>0.962162</td>\n",
       "      <td>0.964057</td>\n",
       "      <td>0.958644</td>\n",
       "      <td>0</td>\n",
       "      <td>1</td>\n",
       "    </tr>\n",
       "    <tr>\n",
       "      <th>on</th>\n",
       "      <td>0.965534</td>\n",
       "      <td>0.995055</td>\n",
       "      <td>0.965534</td>\n",
       "      <td>0.965534</td>\n",
       "      <td>0.961401</td>\n",
       "      <td>0</td>\n",
       "      <td>2</td>\n",
       "    </tr>\n",
       "    <tr>\n",
       "      <th>on</th>\n",
       "      <td>0.975658</td>\n",
       "      <td>0.997001</td>\n",
       "      <td>0.984461</td>\n",
       "      <td>0.967011</td>\n",
       "      <td>0.972980</td>\n",
       "      <td>0</td>\n",
       "      <td>3</td>\n",
       "    </tr>\n",
       "    <tr>\n",
       "      <th>on</th>\n",
       "      <td>0.974205</td>\n",
       "      <td>0.997375</td>\n",
       "      <td>0.991335</td>\n",
       "      <td>0.957656</td>\n",
       "      <td>0.971602</td>\n",
       "      <td>0</td>\n",
       "      <td>4</td>\n",
       "    </tr>\n",
       "    <tr>\n",
       "      <th>on</th>\n",
       "      <td>0.974016</td>\n",
       "      <td>0.996935</td>\n",
       "      <td>0.979104</td>\n",
       "      <td>0.968981</td>\n",
       "      <td>0.971050</td>\n",
       "      <td>0</td>\n",
       "      <td>avg</td>\n",
       "    </tr>\n",
       "    <tr>\n",
       "      <th>on</th>\n",
       "      <td>0.949075</td>\n",
       "      <td>0.993585</td>\n",
       "      <td>0.925853</td>\n",
       "      <td>0.973493</td>\n",
       "      <td>0.945261</td>\n",
       "      <td>1</td>\n",
       "      <td>0</td>\n",
       "    </tr>\n",
       "    <tr>\n",
       "      <th>on</th>\n",
       "      <td>0.949469</td>\n",
       "      <td>0.992275</td>\n",
       "      <td>0.946770</td>\n",
       "      <td>0.952183</td>\n",
       "      <td>0.946895</td>\n",
       "      <td>1</td>\n",
       "      <td>1</td>\n",
       "    </tr>\n",
       "    <tr>\n",
       "      <th>on</th>\n",
       "      <td>0.960437</td>\n",
       "      <td>0.994556</td>\n",
       "      <td>0.961940</td>\n",
       "      <td>0.958940</td>\n",
       "      <td>0.958606</td>\n",
       "      <td>1</td>\n",
       "      <td>2</td>\n",
       "    </tr>\n",
       "    <tr>\n",
       "      <th>on</th>\n",
       "      <td>0.943970</td>\n",
       "      <td>0.987799</td>\n",
       "      <td>0.969846</td>\n",
       "      <td>0.919439</td>\n",
       "      <td>0.942810</td>\n",
       "      <td>1</td>\n",
       "      <td>3</td>\n",
       "    </tr>\n",
       "    <tr>\n",
       "      <th>on</th>\n",
       "      <td>0.914423</td>\n",
       "      <td>0.992457</td>\n",
       "      <td>0.850626</td>\n",
       "      <td>0.988565</td>\n",
       "      <td>0.903050</td>\n",
       "      <td>1</td>\n",
       "      <td>4</td>\n",
       "    </tr>\n",
       "    <tr>\n",
       "      <th>on</th>\n",
       "      <td>0.956722</td>\n",
       "      <td>0.994513</td>\n",
       "      <td>0.942958</td>\n",
       "      <td>0.970894</td>\n",
       "      <td>0.953976</td>\n",
       "      <td>1</td>\n",
       "      <td>avg</td>\n",
       "    </tr>\n",
       "    <tr>\n",
       "      <th>on</th>\n",
       "      <td>0.935581</td>\n",
       "      <td>0.990252</td>\n",
       "      <td>0.981003</td>\n",
       "      <td>0.894180</td>\n",
       "      <td>0.929243</td>\n",
       "      <td>2</td>\n",
       "      <td>0</td>\n",
       "    </tr>\n",
       "    <tr>\n",
       "      <th>on</th>\n",
       "      <td>0.934211</td>\n",
       "      <td>0.993835</td>\n",
       "      <td>0.985585</td>\n",
       "      <td>0.887927</td>\n",
       "      <td>0.928137</td>\n",
       "      <td>2</td>\n",
       "      <td>1</td>\n",
       "    </tr>\n",
       "    <tr>\n",
       "      <th>on</th>\n",
       "      <td>0.891189</td>\n",
       "      <td>0.991440</td>\n",
       "      <td>0.994079</td>\n",
       "      <td>0.807600</td>\n",
       "      <td>0.886678</td>\n",
       "      <td>2</td>\n",
       "      <td>2</td>\n",
       "    </tr>\n",
       "    <tr>\n",
       "      <th>on</th>\n",
       "      <td>0.927499</td>\n",
       "      <td>0.991765</td>\n",
       "      <td>0.984341</td>\n",
       "      <td>0.876864</td>\n",
       "      <td>0.921227</td>\n",
       "      <td>2</td>\n",
       "      <td>3</td>\n",
       "    </tr>\n",
       "    <tr>\n",
       "      <th>on</th>\n",
       "      <td>0.953861</td>\n",
       "      <td>0.993297</td>\n",
       "      <td>0.979230</td>\n",
       "      <td>0.929774</td>\n",
       "      <td>0.948314</td>\n",
       "      <td>2</td>\n",
       "      <td>4</td>\n",
       "    </tr>\n",
       "    <tr>\n",
       "      <th>on</th>\n",
       "      <td>0.937405</td>\n",
       "      <td>0.994603</td>\n",
       "      <td>0.986192</td>\n",
       "      <td>0.893218</td>\n",
       "      <td>0.931454</td>\n",
       "      <td>2</td>\n",
       "      <td>avg</td>\n",
       "    </tr>\n",
       "    <tr>\n",
       "      <th>on</th>\n",
       "      <td>0.968867</td>\n",
       "      <td>0.995081</td>\n",
       "      <td>0.961641</td>\n",
       "      <td>0.976203</td>\n",
       "      <td>0.968461</td>\n",
       "      <td>3</td>\n",
       "      <td>0</td>\n",
       "    </tr>\n",
       "    <tr>\n",
       "      <th>on</th>\n",
       "      <td>0.927632</td>\n",
       "      <td>0.995265</td>\n",
       "      <td>0.871612</td>\n",
       "      <td>0.991347</td>\n",
       "      <td>0.922240</td>\n",
       "      <td>3</td>\n",
       "      <td>1</td>\n",
       "    </tr>\n",
       "    <tr>\n",
       "      <th>on</th>\n",
       "      <td>0.966476</td>\n",
       "      <td>0.995421</td>\n",
       "      <td>0.974176</td>\n",
       "      <td>0.958897</td>\n",
       "      <td>0.966558</td>\n",
       "      <td>3</td>\n",
       "      <td>2</td>\n",
       "    </tr>\n",
       "    <tr>\n",
       "      <th>on</th>\n",
       "      <td>0.906574</td>\n",
       "      <td>0.986521</td>\n",
       "      <td>0.970970</td>\n",
       "      <td>0.850189</td>\n",
       "      <td>0.911909</td>\n",
       "      <td>3</td>\n",
       "      <td>3</td>\n",
       "    </tr>\n",
       "    <tr>\n",
       "      <th>on</th>\n",
       "      <td>0.950159</td>\n",
       "      <td>0.992888</td>\n",
       "      <td>0.931877</td>\n",
       "      <td>0.969173</td>\n",
       "      <td>0.948885</td>\n",
       "      <td>3</td>\n",
       "      <td>4</td>\n",
       "    </tr>\n",
       "    <tr>\n",
       "      <th>on</th>\n",
       "      <td>0.969371</td>\n",
       "      <td>0.996495</td>\n",
       "      <td>0.963161</td>\n",
       "      <td>0.975663</td>\n",
       "      <td>0.969005</td>\n",
       "      <td>3</td>\n",
       "      <td>avg</td>\n",
       "    </tr>\n",
       "    <tr>\n",
       "      <th>on</th>\n",
       "      <td>0.948507</td>\n",
       "      <td>0.989943</td>\n",
       "      <td>0.948730</td>\n",
       "      <td>0.948284</td>\n",
       "      <td>0.940000</td>\n",
       "      <td>4</td>\n",
       "      <td>0</td>\n",
       "    </tr>\n",
       "    <tr>\n",
       "      <th>on</th>\n",
       "      <td>0.934108</td>\n",
       "      <td>0.990056</td>\n",
       "      <td>0.889787</td>\n",
       "      <td>0.983075</td>\n",
       "      <td>0.919178</td>\n",
       "      <td>4</td>\n",
       "      <td>1</td>\n",
       "    </tr>\n",
       "    <tr>\n",
       "      <th>on</th>\n",
       "      <td>0.938491</td>\n",
       "      <td>0.987397</td>\n",
       "      <td>0.959705</td>\n",
       "      <td>0.918195</td>\n",
       "      <td>0.929863</td>\n",
       "      <td>4</td>\n",
       "      <td>2</td>\n",
       "    </tr>\n",
       "    <tr>\n",
       "      <th>on</th>\n",
       "      <td>0.938192</td>\n",
       "      <td>0.984786</td>\n",
       "      <td>0.920779</td>\n",
       "      <td>0.956276</td>\n",
       "      <td>0.926575</td>\n",
       "      <td>4</td>\n",
       "      <td>3</td>\n",
       "    </tr>\n",
       "    <tr>\n",
       "      <th>on</th>\n",
       "      <td>0.964484</td>\n",
       "      <td>0.993581</td>\n",
       "      <td>0.992048</td>\n",
       "      <td>0.938411</td>\n",
       "      <td>0.959726</td>\n",
       "      <td>4</td>\n",
       "      <td>4</td>\n",
       "    </tr>\n",
       "    <tr>\n",
       "      <th>on</th>\n",
       "      <td>0.963397</td>\n",
       "      <td>0.994679</td>\n",
       "      <td>0.961593</td>\n",
       "      <td>0.965209</td>\n",
       "      <td>0.957260</td>\n",
       "      <td>4</td>\n",
       "      <td>avg</td>\n",
       "    </tr>\n",
       "  </tbody>\n",
       "</table>\n",
       "</div>"
      ],
      "text/plain": [
       "          f1  prec_recall_score      prec    recall       acc  fold attempt\n",
       "on  0.954446           0.993672  0.944552  0.964549  0.948442     0       0\n",
       "on  0.963109           0.993018  0.962162  0.964057  0.958644     0       1\n",
       "on  0.965534           0.995055  0.965534  0.965534  0.961401     0       2\n",
       "on  0.975658           0.997001  0.984461  0.967011  0.972980     0       3\n",
       "on  0.974205           0.997375  0.991335  0.957656  0.971602     0       4\n",
       "on  0.974016           0.996935  0.979104  0.968981  0.971050     0     avg\n",
       "on  0.949075           0.993585  0.925853  0.973493  0.945261     1       0\n",
       "on  0.949469           0.992275  0.946770  0.952183  0.946895     1       1\n",
       "on  0.960437           0.994556  0.961940  0.958940  0.958606     1       2\n",
       "on  0.943970           0.987799  0.969846  0.919439  0.942810     1       3\n",
       "on  0.914423           0.992457  0.850626  0.988565  0.903050     1       4\n",
       "on  0.956722           0.994513  0.942958  0.970894  0.953976     1     avg\n",
       "on  0.935581           0.990252  0.981003  0.894180  0.929243     2       0\n",
       "on  0.934211           0.993835  0.985585  0.887927  0.928137     2       1\n",
       "on  0.891189           0.991440  0.994079  0.807600  0.886678     2       2\n",
       "on  0.927499           0.991765  0.984341  0.876864  0.921227     2       3\n",
       "on  0.953861           0.993297  0.979230  0.929774  0.948314     2       4\n",
       "on  0.937405           0.994603  0.986192  0.893218  0.931454     2     avg\n",
       "on  0.968867           0.995081  0.961641  0.976203  0.968461     3       0\n",
       "on  0.927632           0.995265  0.871612  0.991347  0.922240     3       1\n",
       "on  0.966476           0.995421  0.974176  0.958897  0.966558     3       2\n",
       "on  0.906574           0.986521  0.970970  0.850189  0.911909     3       3\n",
       "on  0.950159           0.992888  0.931877  0.969173  0.948885     3       4\n",
       "on  0.969371           0.996495  0.963161  0.975663  0.969005     3     avg\n",
       "on  0.948507           0.989943  0.948730  0.948284  0.940000     4       0\n",
       "on  0.934108           0.990056  0.889787  0.983075  0.919178     4       1\n",
       "on  0.938491           0.987397  0.959705  0.918195  0.929863     4       2\n",
       "on  0.938192           0.984786  0.920779  0.956276  0.926575     4       3\n",
       "on  0.964484           0.993581  0.992048  0.938411  0.959726     4       4\n",
       "on  0.963397           0.994679  0.961593  0.965209  0.957260     4     avg"
      ]
     },
     "execution_count": 238,
     "metadata": {},
     "output_type": "execute_result"
    }
   ],
   "source": [
    "metrics_df.loc['on']"
   ]
  },
  {
   "cell_type": "code",
   "execution_count": 254,
   "metadata": {},
   "outputs": [
    {
     "data": {
      "image/png": "[encoded data removed]",
      "text/plain": [
       "<matplotlib.figure.Figure at 0x7f6ba93d92b0>"
      ]
     },
     "metadata": {},
     "output_type": "display_data"
    },
    {
     "data": {
      "image/png": "[encoded data removed]",
      "text/plain": [
       "<matplotlib.figure.Figure at 0x7f6ba9406e80>"
      ]
     },
     "metadata": {},
     "output_type": "display_data"
    },
    {
     "data": {
      "image/png": "[encoded data removed]",
      "text/plain": [
       "<matplotlib.figure.Figure at 0x7f6b70934a90>"
      ]
     },
     "metadata": {},
     "output_type": "display_data"
    },
    {
     "data": {
      "image/png": "[encoded data removed]",
      "text/plain": [
       "<matplotlib.figure.Figure at 0x7f6b59d097b8>"
      ]
     },
     "metadata": {},
     "output_type": "display_data"
    },
    {
     "data": {
      "image/png": "[encoded data removed]",
      "text/plain": [
       "<matplotlib.figure.Figure at 0x7f6b54884a90>"
      ]
     },
     "metadata": {},
     "output_type": "display_data"
    }
   ],
   "source": [
    "#%run off_sample/utils.py\n",
    "for fold in range(folds):\n",
    "    plot_learning_graph(history_list[fold*attempts:(fold+1)*attempts], attempts)\n",
    "    plt.show()"
   ]
  },
  {
   "cell_type": "markdown",
   "metadata": {},
   "source": [
    "---"
   ]
  }
 ],
 "metadata": {
  "kernelspec": {
   "display_name": "off-smpl",
   "language": "python",
   "name": "off-smpl"
  },
  "language_info": {
   "codemirror_mode": {
    "name": "ipython",
    "version": 3
   },
   "file_extension": ".py",
   "mimetype": "text/x-python",
   "name": "python",
   "nbconvert_exporter": "python",
   "pygments_lexer": "ipython3",
   "version": "3.6.1"
  }
 },
 "nbformat": 4,
 "nbformat_minor": 2
}
