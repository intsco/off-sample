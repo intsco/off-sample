{
 "cells": [
  {
   "cell_type": "code",
   "execution_count": 1,
   "metadata": {
    "collapsed": true
   },
   "outputs": [],
   "source": [
    "import sys"
   ]
  },
  {
   "cell_type": "code",
   "execution_count": 2,
   "metadata": {},
   "outputs": [
    {
     "data": {
      "text/plain": [
       "'3.6.1 |Continuum Analytics, Inc.| (default, May 11 2017, 13:09:58) \\n[GCC 4.4.7 20120313 (Red Hat 4.4.7-1)]'"
      ]
     },
     "execution_count": 2,
     "metadata": {},
     "output_type": "execute_result"
    }
   ],
   "source": [
    "sys.version"
   ]
  },
  {
   "cell_type": "code",
   "execution_count": 3,
   "metadata": {},
   "outputs": [
    {
     "name": "stdout",
     "output_type": "stream",
     "text": [
      "Populating the interactive namespace from numpy and matplotlib\n"
     ]
    }
   ],
   "source": [
    "%pylab --no-import-all inline"
   ]
  },
  {
   "cell_type": "code",
   "execution_count": 12,
   "metadata": {},
   "outputs": [],
   "source": [
    "from pathlib import Path\n",
    "from imageio import imread\n",
    "from skimage import transform"
   ]
  },
  {
   "cell_type": "code",
   "execution_count": 378,
   "metadata": {
    "collapsed": true
   },
   "outputs": [],
   "source": [
    "ds_masks_path = Path('GS/ion_image_templates/masks')"
   ]
  },
  {
   "cell_type": "code",
   "execution_count": 30,
   "metadata": {
    "collapsed": true
   },
   "outputs": [],
   "source": [
    "gs_path = Path('GS/raw_images/')"
   ]
  },
  {
   "cell_type": "code",
   "execution_count": 85,
   "metadata": {},
   "outputs": [],
   "source": [
    "gs_ds_paths = list(gs_path.iterdir())"
   ]
  },
  {
   "cell_type": "code",
   "execution_count": 368,
   "metadata": {
    "collapsed": true
   },
   "outputs": [],
   "source": [
    "# masks exist for: [Kidney_280x140_40um_E0, Tumor11]"
   ]
  },
  {
   "cell_type": "code",
   "execution_count": 293,
   "metadata": {
    "scrolled": false
   },
   "outputs": [
    {
     "name": "stdout",
     "output_type": "stream",
     "text": [
      "(70, 88) - Tumor11\n",
      "(94, 95) - ICL//LNTO30_16_1\n",
      "(34, 41) - Tumor41\n",
      "(116, 111) - 161007_WT1S1L1\n",
      "(74, 74) - UoNotreDame//Untreated_6_574\n",
      "(140, 280) - Kidney_280x140_40um_E0\n",
      "(98, 119) - Dataset 16\n",
      "(101, 51) - Row001\n",
      "(92, 151) - Esco1_centroids\n",
      "(119, 164) - Xenograft_3_135um\n",
      "(197, 220) - DESI porcine kidney interface region\n",
      "(137, 228) - HK_S2_N2_20um_New\n",
      "(320, 100) - MPIMM_049_QE_P_BA_CF_sp3\n",
      "(119, 94) - Dataset 4_recal\n",
      "(60, 68) - 12_cylces_75um_new_submission\n",
      "(88, 108) - ICL//LNTO41_17_2\n",
      "(105, 155) - S649 WS21 155x105 15um E110\n",
      "(126, 137) - Dataset 23\n",
      "(126, 90) - Dataset 3\n",
      "(84, 151) - ST-Pseudo_centroids\n"
     ]
    }
   ],
   "source": [
    "for ds_path in gs_ds_paths[:20]:\n",
    "    img_path = next((ds_path / 'on').iterdir())\n",
    "    img_shape = imread(img_path).shape[:2]\n",
    "    print(f\"{img_shape} - {ds_path.name.replace('__', '//')}\")"
   ]
  },
  {
   "cell_type": "markdown",
   "metadata": {},
   "source": [
    "# Load Mask and Ion Images"
   ]
  },
  {
   "cell_type": "code",
   "execution_count": 558,
   "metadata": {
    "collapsed": true
   },
   "outputs": [],
   "source": [
    "def read_image(path, mask=False):\n",
    "    img = imread(path)[:,:,0]\n",
    "    img = img / 255.\n",
    "    return np.around(img).astype(int) if mask else img"
   ]
  },
  {
   "cell_type": "code",
   "execution_count": 573,
   "metadata": {},
   "outputs": [
    {
     "data": {
      "text/plain": [
       "PosixPath('GS/ion_image_templates/masks/Dataset 3.png')"
      ]
     },
     "execution_count": 573,
     "metadata": {},
     "output_type": "execute_result"
    }
   ],
   "source": [
    "mask_path = list(ds_masks_path.iterdir())[0]\n",
    "mask = read_image(mask_path, mask=True)\n",
    "mask_path"
   ]
  },
  {
   "cell_type": "code",
   "execution_count": 574,
   "metadata": {},
   "outputs": [
    {
     "data": {
      "text/plain": [
       "'Dataset 3'"
      ]
     },
     "execution_count": 574,
     "metadata": {},
     "output_type": "execute_result"
    }
   ],
   "source": [
    "ds_name = mask_path.name.split('.')[0]\n",
    "ds_name"
   ]
  },
  {
   "cell_type": "code",
   "execution_count": 680,
   "metadata": {},
   "outputs": [
    {
     "data": {
      "text/plain": [
       "PosixPath('GS/raw_images/161007_WT1S1L1/off/C26H40O6+H.png')"
      ]
     },
     "execution_count": 680,
     "metadata": {},
     "output_type": "execute_result"
    }
   ],
   "source": [
    "img_path = list((gs_path / ds_name / 'off').iterdir())[5]\n",
    "img = read_image(img_path)\n",
    "img_path"
   ]
  },
  {
   "cell_type": "code",
   "execution_count": 681,
   "metadata": {},
   "outputs": [
    {
     "data": {
      "text/plain": [
       "<matplotlib.image.AxesImage at 0x7fe408cd78d0>"
      ]
     },
     "execution_count": 681,
     "metadata": {},
     "output_type": "execute_result"
    },
    {
     "data": {
      "image/png": "[encoded data removed]",
      "text/plain": [
       "<matplotlib.figure.Figure at 0x7fe408d550f0>"
      ]
     },
     "metadata": {},
     "output_type": "display_data"
    }
   ],
   "source": [
    "plt.imshow(mask)"
   ]
  },
  {
   "cell_type": "code",
   "execution_count": 682,
   "metadata": {},
   "outputs": [
    {
     "data": {
      "image/png": "[encoded data removed]",
      "text/plain": [
       "<matplotlib.figure.Figure at 0x7fe408e16780>"
      ]
     },
     "metadata": {},
     "output_type": "display_data"
    }
   ],
   "source": [
    "plt.imshow(img);"
   ]
  },
  {
   "cell_type": "markdown",
   "metadata": {},
   "source": [
    "# Image Match Metrics"
   ]
  },
  {
   "cell_type": "code",
   "execution_count": 611,
   "metadata": {
    "collapsed": true
   },
   "outputs": [],
   "source": [
    "mask_flat, img_flat = mask.flatten(), img.flatten()\n",
    "\n",
    "img_bin = img.copy()\n",
    "img_bin[img_bin > 0] = 1\n",
    "img_bin_flat = img_bin.flatten()\n",
    "\n",
    "img_bin_01 = img.copy()\n",
    "img_bin_01[img_bin_01 > 0.1] = 1\n",
    "img_bin_01_flat = img_bin_01.flatten()\n",
    "\n",
    "img_bin_05 = img.copy()\n",
    "img_bin_05[img_bin_05 > 0.5] = 1\n",
    "img_bin_05_flat = img_bin_05.flatten()"
   ]
  },
  {
   "cell_type": "code",
   "execution_count": 612,
   "metadata": {},
   "outputs": [
    {
     "data": {
      "text/plain": [
       "(-0.63444748695447806,\n",
       " -0.69898215905927685,\n",
       " -0.49766266444357043,\n",
       " -0.61467651900215814)"
      ]
     },
     "execution_count": 612,
     "metadata": {},
     "output_type": "execute_result"
    }
   ],
   "source": [
    "def correlation(x, y):\n",
    "    return np.corrcoef(x, y)[0,1]\n",
    "\n",
    "(correlation(mask_flat, img_flat), correlation(mask_flat, img_bin_flat),\n",
    " correlation(mask_flat, img_bin_01_flat), correlation(mask_flat, img_bin_05_flat))"
   ]
  },
  {
   "cell_type": "code",
   "execution_count": 613,
   "metadata": {},
   "outputs": [
    {
     "data": {
      "text/plain": [
       "0.48544973544973546"
      ]
     },
     "execution_count": 613,
     "metadata": {},
     "output_type": "execute_result"
    }
   ],
   "source": [
    "def mask_area(mask):\n",
    "    return mask.sum() / mask.size\n",
    "\n",
    "mask_a = mask_area(mask)\n",
    "mask_a"
   ]
  },
  {
   "cell_type": "code",
   "execution_count": 614,
   "metadata": {},
   "outputs": [
    {
     "data": {
      "text/plain": [
       "(0.076314700335772714,\n",
       " 0.11889046389053121,\n",
       " 0.032895285503055441,\n",
       " 0.074492769662719435)"
      ]
     },
     "execution_count": 614,
     "metadata": {},
     "output_type": "execute_result"
    }
   ],
   "source": [
    "def cosine_sim(x, y):\n",
    "    return np.dot(x, y) / (np.sqrt(np.dot(x, x)) * np.sqrt(np.dot(y, y)))\n",
    "\n",
    "(cosine_sim(mask_flat, img_flat), cosine_sim(mask_flat, img_bin_flat),\n",
    " cosine_sim(mask_flat, img_bin_01_flat), cosine_sim(mask_flat, img_bin_05_flat))"
   ]
  },
  {
   "cell_type": "code",
   "execution_count": 615,
   "metadata": {},
   "outputs": [
    {
     "data": {
      "text/plain": [
       "(0.73573765911445943, 0.75330361469978369)"
      ]
     },
     "execution_count": 615,
     "metadata": {},
     "output_type": "execute_result"
    }
   ],
   "source": [
    "def l2_normalize(v):\n",
    "    norm = np.sqrt(np.sum(np.square(v)))\n",
    "    return v / norm\n",
    "\n",
    "def euclidean_sim(x, y):   \n",
    "    return 1 / np.sqrt(np.sum((l2_normalize(x) - l2_normalize(y)) ** 2))\n",
    "\n",
    "euclidean_sim(mask_flat, img_flat), euclidean_sim(mask_flat, img_bin_flat)"
   ]
  },
  {
   "cell_type": "code",
   "execution_count": 616,
   "metadata": {},
   "outputs": [
    {
     "data": {
      "text/plain": [
       "(0.016788821580243037,\n",
       " 0.11888624290163033,\n",
       " 0.030070021291230539,\n",
       " 0.016778645041364917)"
      ]
     },
     "execution_count": 616,
     "metadata": {},
     "output_type": "execute_result"
    }
   ],
   "source": [
    "def dice(x, y):\n",
    "    return 2 * np.dot(x, y) / (np.dot(x, x) + np.dot(y, y))\n",
    "\n",
    "(dice(mask_flat, img_flat), dice(mask_flat, img_bin_flat),\n",
    " dice(mask_flat, img_bin_01_flat), dice(mask_flat, img_bin_05_flat))"
   ]
  },
  {
   "cell_type": "code",
   "execution_count": 617,
   "metadata": {},
   "outputs": [
    {
     "data": {
      "text/plain": [
       "(0.0084654734518088692, 0.063199922095627623)"
      ]
     },
     "execution_count": 617,
     "metadata": {},
     "output_type": "execute_result"
    }
   ],
   "source": [
    "def jaccard(x, y):\n",
    "    return np.dot(x, y) / (np.dot(x, x) + np.dot(y, y) - np.dot(x, y))\n",
    "\n",
    "jaccard(mask_flat, img_flat), jaccard(mask_flat, img_bin_flat)"
   ]
  },
  {
   "cell_type": "code",
   "execution_count": 618,
   "metadata": {},
   "outputs": [
    {
     "data": {
      "text/plain": [
       "(0.014713896457765668, 0.38234790059982859, -0.36763400414206293)"
      ]
     },
     "execution_count": 618,
     "metadata": {},
     "output_type": "execute_result"
    }
   ],
   "source": [
    "def img_on_off_area(mask, img, off=True, thr=None):\n",
    "    cl = 1 if off else 0\n",
    "    img_off_size = img[mask == cl].size\n",
    "    if thr is not None:\n",
    "        cl_size = (img[mask == cl] > thr).sum()\n",
    "    else:\n",
    "        cl_size = img[mask == cl].sum()\n",
    "    return cl_size / img_off_size\n",
    "\n",
    "def img_on_off_area_diff(mask, img, thr=None):\n",
    "    off_area = img_on_off_area(mask, img, off=True, thr=thr)\n",
    "    on_area = img_on_off_area(mask, img, off=False, thr=thr)\n",
    "    return off_area - on_area\n",
    "    \n",
    "img_on_off_area(mask, img, off=True, thr=0.1), img_on_off_area(mask, img, off=False, thr=0.1), img_on_off_area_diff(mask, img, thr=0.1)"
   ]
  },
  {
   "cell_type": "code",
   "execution_count": 360,
   "metadata": {},
   "outputs": [
    {
     "data": {
      "text/plain": [
       "(0.51097522734399503, 0.6990999848736954)"
      ]
     },
     "execution_count": 360,
     "metadata": {},
     "output_type": "execute_result"
    }
   ],
   "source": [
    "img_on_off_area(mask, img, off=True, thr=0), img_on_off_area(mask, img, off=False, thr=0)"
   ]
  },
  {
   "cell_type": "code",
   "execution_count": 362,
   "metadata": {},
   "outputs": [
    {
     "data": {
      "text/plain": [
       "(0.016306052053935403, 0.24315534714869158)"
      ]
     },
     "execution_count": 362,
     "metadata": {},
     "output_type": "execute_result"
    }
   ],
   "source": [
    "img_on_off_area(mask, img, off=True, thr=0.1), img_on_off_area(mask, img, off=False, thr=0.1)"
   ]
  },
  {
   "cell_type": "markdown",
   "metadata": {},
   "source": [
    "# Compute Image Match Features"
   ]
  },
  {
   "cell_type": "code",
   "execution_count": 655,
   "metadata": {
    "collapsed": true
   },
   "outputs": [],
   "source": [
    "import pandas as pd\n",
    "from collections import OrderedDict"
   ]
  },
  {
   "cell_type": "code",
   "execution_count": 656,
   "metadata": {},
   "outputs": [],
   "source": [
    "def compute_features(mask, img):\n",
    "    mask_flat, img_flat = mask.flatten(), img.flatten()\n",
    "\n",
    "    img_bin_flat = img_flat.copy()\n",
    "    img_bin_flat[img_bin_flat > 0] = 1\n",
    "\n",
    "    img_bin_01 = img.copy()\n",
    "    img_bin_01[img_bin_01 > 0.1] = 1\n",
    "    img_bin_01_flat = img_bin_01.flatten()\n",
    "    \n",
    "    return {\n",
    "        'off_on_area_diff': img_on_off_area_diff(mask, img, thr=0.1),\n",
    "        'corr': correlation(mask_flat, img_flat),\n",
    "        'corr_bin': correlation(mask_flat, img_bin_flat),\n",
    "        'corr_01_bin': correlation(mask_flat, img_bin_01_flat),\n",
    "        'mask_area': mask_area(mask),\n",
    "        'cosine_sim': cosine_sim(mask_flat, img_flat),\n",
    "        'cosine_sim_bin': cosine_sim(mask_flat, img_bin_flat),\n",
    "        'cosine_sim_01_bin': cosine_sim(mask_flat, img_bin_01_flat),\n",
    "#         'euclidean_sim': euclidean_sim(mask_flat, img_flat),\n",
    "#         'euclidean_sim_bin': euclidean_sim(mask_flat, img_bin_flat),\n",
    "#         'euclidean_sim_01_bin': euclidean_sim(mask_flat, img_bin_01_flat),\n",
    "        'dice': dice(mask_flat, img_flat),\n",
    "        'dice_bin': dice(mask_flat, img_bin_flat),\n",
    "        'dice_01_bin': dice(mask_flat, img_bin_01_flat),\n",
    "        'jaccard': jaccard(mask_flat, img_flat),\n",
    "        'jaccard_bin': jaccard(mask_flat, img_bin_flat),\n",
    "        'jaccard_01_bin': jaccard(mask_flat, img_bin_01_flat)\n",
    "#         'off_area_true': img_on_off_area(mask, img, off=True),\n",
    "#         'on_area_true': img_on_off_area(mask, img, off=False),\n",
    "#         'off_area_true_bin': img_on_off_area(mask, img, off=True, thr=0),\n",
    "#         'on_area_true_bin': img_on_off_area(mask, img, off=False, thr=0),\n",
    "#         'off_area_true_01_bin': img_on_off_area(mask, img, off=True, thr=0.1),\n",
    "#         'on_area_true_01_bin': img_on_off_area(mask, img, off=False, thr=0.1),\n",
    "    }"
   ]
  },
  {
   "cell_type": "code",
   "execution_count": 657,
   "metadata": {},
   "outputs": [
    {
     "name": "stdout",
     "output_type": "stream",
     "text": [
      "Dataset 3\n",
      "........................................................................................................................................................................................................................................................................................................................................................Kidney_280x140_40um_E0\n",
      "..........................................................................................................................................................................DESI porcine kidney interface region\n",
      "............................................................................................................................................................................................................................................................................................................................................................................................................................................................................................Tumor11\n",
      "......................................................................................................................................................................................................................................................................................................................................................................................................................ICL__LNTO41_17_2\n",
      ".......................................................................................................................................................................................Xenograft_3_135um\n",
      "..........................................................................................................................................................................................................................................................................................................................Dataset 16\n",
      "........................................................................................................................................................................................................................................................................................................................................................................................................ICL__LNTO30_16_1\n",
      "......................................................................Dataset 4_recal\n",
      "................................................................................................................................................................................................161007_WT1S1L1\n",
      "........................................................................................................................................................................................"
     ]
    }
   ],
   "source": [
    "ion_images, features_list, labels = [], [], []\n",
    "\n",
    "for mask_path in list(ds_masks_path.iterdir()):\n",
    "    mask = read_image(mask_path, mask=True)\n",
    "    ds_name = mask_path.name.split('.')[0]\n",
    "    print(ds_name)\n",
    "\n",
    "    for label in ['off', 'on']:\n",
    "        for img_path in list((gs_path / ds_name / label).iterdir()):\n",
    "            img = read_image(img_path)\n",
    "            ion_images.append(img)\n",
    "            labels.append(l)\n",
    "            \n",
    "            features = compute_features(mask, img)\n",
    "            features['label'] = label == 'off'\n",
    "            features['group'] = ds_name\n",
    "            features_list.append(features)\n",
    "            print('.', end='')"
   ]
  },
  {
   "cell_type": "code",
   "execution_count": 664,
   "metadata": {},
   "outputs": [
    {
     "data": {
      "text/plain": [
       "(2731, 16)"
      ]
     },
     "execution_count": 664,
     "metadata": {},
     "output_type": "execute_result"
    }
   ],
   "source": [
    "df = pd.DataFrame(features_list)\n",
    "df.shape"
   ]
  },
  {
   "cell_type": "code",
   "execution_count": 665,
   "metadata": {},
   "outputs": [
    {
     "data": {
      "text/html": [
       "<div>\n",
       "<style>\n",
       "    .dataframe thead tr:only-child th {\n",
       "        text-align: right;\n",
       "    }\n",
       "\n",
       "    .dataframe thead th {\n",
       "        text-align: left;\n",
       "    }\n",
       "\n",
       "    .dataframe tbody tr th {\n",
       "        vertical-align: top;\n",
       "    }\n",
       "</style>\n",
       "<table border=\"1\" class=\"dataframe\">\n",
       "  <thead>\n",
       "    <tr style=\"text-align: right;\">\n",
       "      <th></th>\n",
       "      <th>corr</th>\n",
       "      <th>corr_01_bin</th>\n",
       "      <th>corr_bin</th>\n",
       "      <th>cosine_sim</th>\n",
       "      <th>cosine_sim_01_bin</th>\n",
       "      <th>cosine_sim_bin</th>\n",
       "      <th>dice</th>\n",
       "      <th>dice_01_bin</th>\n",
       "      <th>dice_bin</th>\n",
       "      <th>group</th>\n",
       "      <th>jaccard</th>\n",
       "      <th>jaccard_01_bin</th>\n",
       "      <th>jaccard_bin</th>\n",
       "      <th>label</th>\n",
       "      <th>mask_area</th>\n",
       "      <th>off_on_area_diff</th>\n",
       "    </tr>\n",
       "  </thead>\n",
       "  <tbody>\n",
       "    <tr>\n",
       "      <th>0</th>\n",
       "      <td>0.238593</td>\n",
       "      <td>0.231992</td>\n",
       "      <td>0.231661</td>\n",
       "      <td>0.381781</td>\n",
       "      <td>0.388228</td>\n",
       "      <td>0.388074</td>\n",
       "      <td>0.133512</td>\n",
       "      <td>0.301451</td>\n",
       "      <td>0.301406</td>\n",
       "      <td>Dataset 3</td>\n",
       "      <td>0.071531</td>\n",
       "      <td>0.177475</td>\n",
       "      <td>0.177445</td>\n",
       "      <td>True</td>\n",
       "      <td>0.48545</td>\n",
       "      <td>0.145334</td>\n",
       "    </tr>\n",
       "    <tr>\n",
       "      <th>1</th>\n",
       "      <td>0.646367</td>\n",
       "      <td>0.275401</td>\n",
       "      <td>0.203290</td>\n",
       "      <td>0.836911</td>\n",
       "      <td>0.721155</td>\n",
       "      <td>0.707505</td>\n",
       "      <td>0.696523</td>\n",
       "      <td>0.692126</td>\n",
       "      <td>0.674754</td>\n",
       "      <td>Dataset 3</td>\n",
       "      <td>0.534358</td>\n",
       "      <td>0.529200</td>\n",
       "      <td>0.509154</td>\n",
       "      <td>True</td>\n",
       "      <td>0.48545</td>\n",
       "      <td>0.190151</td>\n",
       "    </tr>\n",
       "    <tr>\n",
       "      <th>2</th>\n",
       "      <td>0.291653</td>\n",
       "      <td>0.135411</td>\n",
       "      <td>-0.025922</td>\n",
       "      <td>0.599818</td>\n",
       "      <td>0.545844</td>\n",
       "      <td>0.506372</td>\n",
       "      <td>0.323608</td>\n",
       "      <td>0.545459</td>\n",
       "      <td>0.505258</td>\n",
       "      <td>Dataset 3</td>\n",
       "      <td>0.193038</td>\n",
       "      <td>0.375004</td>\n",
       "      <td>0.338023</td>\n",
       "      <td>True</td>\n",
       "      <td>0.48545</td>\n",
       "      <td>0.145169</td>\n",
       "    </tr>\n",
       "    <tr>\n",
       "      <th>3</th>\n",
       "      <td>0.423671</td>\n",
       "      <td>0.440351</td>\n",
       "      <td>0.346330</td>\n",
       "      <td>0.625398</td>\n",
       "      <td>0.657112</td>\n",
       "      <td>0.631327</td>\n",
       "      <td>0.254562</td>\n",
       "      <td>0.641718</td>\n",
       "      <td>0.628028</td>\n",
       "      <td>Dataset 3</td>\n",
       "      <td>0.145845</td>\n",
       "      <td>0.472448</td>\n",
       "      <td>0.457756</td>\n",
       "      <td>True</td>\n",
       "      <td>0.48545</td>\n",
       "      <td>0.410273</td>\n",
       "    </tr>\n",
       "    <tr>\n",
       "      <th>4</th>\n",
       "      <td>0.619302</td>\n",
       "      <td>0.187256</td>\n",
       "      <td>0.090856</td>\n",
       "      <td>0.825357</td>\n",
       "      <td>0.705285</td>\n",
       "      <td>0.693051</td>\n",
       "      <td>0.690558</td>\n",
       "      <td>0.672260</td>\n",
       "      <td>0.656079</td>\n",
       "      <td>Dataset 3</td>\n",
       "      <td>0.527368</td>\n",
       "      <td>0.506319</td>\n",
       "      <td>0.488182</td>\n",
       "      <td>True</td>\n",
       "      <td>0.48545</td>\n",
       "      <td>0.111207</td>\n",
       "    </tr>\n",
       "  </tbody>\n",
       "</table>\n",
       "</div>"
      ],
      "text/plain": [
       "       corr  corr_01_bin  corr_bin  cosine_sim  cosine_sim_01_bin  \\\n",
       "0  0.238593     0.231992  0.231661    0.381781           0.388228   \n",
       "1  0.646367     0.275401  0.203290    0.836911           0.721155   \n",
       "2  0.291653     0.135411 -0.025922    0.599818           0.545844   \n",
       "3  0.423671     0.440351  0.346330    0.625398           0.657112   \n",
       "4  0.619302     0.187256  0.090856    0.825357           0.705285   \n",
       "\n",
       "   cosine_sim_bin      dice  dice_01_bin  dice_bin      group   jaccard  \\\n",
       "0        0.388074  0.133512     0.301451  0.301406  Dataset 3  0.071531   \n",
       "1        0.707505  0.696523     0.692126  0.674754  Dataset 3  0.534358   \n",
       "2        0.506372  0.323608     0.545459  0.505258  Dataset 3  0.193038   \n",
       "3        0.631327  0.254562     0.641718  0.628028  Dataset 3  0.145845   \n",
       "4        0.693051  0.690558     0.672260  0.656079  Dataset 3  0.527368   \n",
       "\n",
       "   jaccard_01_bin  jaccard_bin  label  mask_area  off_on_area_diff  \n",
       "0        0.177475     0.177445   True    0.48545          0.145334  \n",
       "1        0.529200     0.509154   True    0.48545          0.190151  \n",
       "2        0.375004     0.338023   True    0.48545          0.145169  \n",
       "3        0.472448     0.457756   True    0.48545          0.410273  \n",
       "4        0.506319     0.488182   True    0.48545          0.111207  "
      ]
     },
     "execution_count": 665,
     "metadata": {},
     "output_type": "execute_result"
    }
   ],
   "source": [
    "df.head()"
   ]
  },
  {
   "cell_type": "code",
   "execution_count": 666,
   "metadata": {},
   "outputs": [],
   "source": [
    "df.insert(0, 'off_on_diff', df.off_on_area_diff)"
   ]
  },
  {
   "cell_type": "code",
   "execution_count": 667,
   "metadata": {},
   "outputs": [
    {
     "data": {
      "text/html": [
       "<div>\n",
       "<style>\n",
       "    .dataframe thead tr:only-child th {\n",
       "        text-align: right;\n",
       "    }\n",
       "\n",
       "    .dataframe thead th {\n",
       "        text-align: left;\n",
       "    }\n",
       "\n",
       "    .dataframe tbody tr th {\n",
       "        vertical-align: top;\n",
       "    }\n",
       "</style>\n",
       "<table border=\"1\" class=\"dataframe\">\n",
       "  <thead>\n",
       "    <tr style=\"text-align: right;\">\n",
       "      <th></th>\n",
       "      <th>off_on_diff</th>\n",
       "      <th>corr</th>\n",
       "      <th>corr_01_bin</th>\n",
       "      <th>corr_bin</th>\n",
       "      <th>cosine_sim</th>\n",
       "      <th>cosine_sim_01_bin</th>\n",
       "      <th>cosine_sim_bin</th>\n",
       "      <th>dice</th>\n",
       "      <th>dice_01_bin</th>\n",
       "      <th>dice_bin</th>\n",
       "      <th>group</th>\n",
       "      <th>jaccard</th>\n",
       "      <th>jaccard_01_bin</th>\n",
       "      <th>jaccard_bin</th>\n",
       "      <th>label</th>\n",
       "      <th>mask_area</th>\n",
       "      <th>off_on_area_diff</th>\n",
       "    </tr>\n",
       "  </thead>\n",
       "  <tbody>\n",
       "    <tr>\n",
       "      <th>0</th>\n",
       "      <td>0.145334</td>\n",
       "      <td>0.238593</td>\n",
       "      <td>0.231992</td>\n",
       "      <td>0.231661</td>\n",
       "      <td>0.381781</td>\n",
       "      <td>0.388228</td>\n",
       "      <td>0.388074</td>\n",
       "      <td>0.133512</td>\n",
       "      <td>0.301451</td>\n",
       "      <td>0.301406</td>\n",
       "      <td>Dataset 3</td>\n",
       "      <td>0.071531</td>\n",
       "      <td>0.177475</td>\n",
       "      <td>0.177445</td>\n",
       "      <td>True</td>\n",
       "      <td>0.48545</td>\n",
       "      <td>0.145334</td>\n",
       "    </tr>\n",
       "    <tr>\n",
       "      <th>1</th>\n",
       "      <td>0.190151</td>\n",
       "      <td>0.646367</td>\n",
       "      <td>0.275401</td>\n",
       "      <td>0.203290</td>\n",
       "      <td>0.836911</td>\n",
       "      <td>0.721155</td>\n",
       "      <td>0.707505</td>\n",
       "      <td>0.696523</td>\n",
       "      <td>0.692126</td>\n",
       "      <td>0.674754</td>\n",
       "      <td>Dataset 3</td>\n",
       "      <td>0.534358</td>\n",
       "      <td>0.529200</td>\n",
       "      <td>0.509154</td>\n",
       "      <td>True</td>\n",
       "      <td>0.48545</td>\n",
       "      <td>0.190151</td>\n",
       "    </tr>\n",
       "    <tr>\n",
       "      <th>2</th>\n",
       "      <td>0.145169</td>\n",
       "      <td>0.291653</td>\n",
       "      <td>0.135411</td>\n",
       "      <td>-0.025922</td>\n",
       "      <td>0.599818</td>\n",
       "      <td>0.545844</td>\n",
       "      <td>0.506372</td>\n",
       "      <td>0.323608</td>\n",
       "      <td>0.545459</td>\n",
       "      <td>0.505258</td>\n",
       "      <td>Dataset 3</td>\n",
       "      <td>0.193038</td>\n",
       "      <td>0.375004</td>\n",
       "      <td>0.338023</td>\n",
       "      <td>True</td>\n",
       "      <td>0.48545</td>\n",
       "      <td>0.145169</td>\n",
       "    </tr>\n",
       "    <tr>\n",
       "      <th>3</th>\n",
       "      <td>0.410273</td>\n",
       "      <td>0.423671</td>\n",
       "      <td>0.440351</td>\n",
       "      <td>0.346330</td>\n",
       "      <td>0.625398</td>\n",
       "      <td>0.657112</td>\n",
       "      <td>0.631327</td>\n",
       "      <td>0.254562</td>\n",
       "      <td>0.641718</td>\n",
       "      <td>0.628028</td>\n",
       "      <td>Dataset 3</td>\n",
       "      <td>0.145845</td>\n",
       "      <td>0.472448</td>\n",
       "      <td>0.457756</td>\n",
       "      <td>True</td>\n",
       "      <td>0.48545</td>\n",
       "      <td>0.410273</td>\n",
       "    </tr>\n",
       "    <tr>\n",
       "      <th>4</th>\n",
       "      <td>0.111207</td>\n",
       "      <td>0.619302</td>\n",
       "      <td>0.187256</td>\n",
       "      <td>0.090856</td>\n",
       "      <td>0.825357</td>\n",
       "      <td>0.705285</td>\n",
       "      <td>0.693051</td>\n",
       "      <td>0.690558</td>\n",
       "      <td>0.672260</td>\n",
       "      <td>0.656079</td>\n",
       "      <td>Dataset 3</td>\n",
       "      <td>0.527368</td>\n",
       "      <td>0.506319</td>\n",
       "      <td>0.488182</td>\n",
       "      <td>True</td>\n",
       "      <td>0.48545</td>\n",
       "      <td>0.111207</td>\n",
       "    </tr>\n",
       "  </tbody>\n",
       "</table>\n",
       "</div>"
      ],
      "text/plain": [
       "   off_on_diff      corr  corr_01_bin  corr_bin  cosine_sim  \\\n",
       "0     0.145334  0.238593     0.231992  0.231661    0.381781   \n",
       "1     0.190151  0.646367     0.275401  0.203290    0.836911   \n",
       "2     0.145169  0.291653     0.135411 -0.025922    0.599818   \n",
       "3     0.410273  0.423671     0.440351  0.346330    0.625398   \n",
       "4     0.111207  0.619302     0.187256  0.090856    0.825357   \n",
       "\n",
       "   cosine_sim_01_bin  cosine_sim_bin      dice  dice_01_bin  dice_bin  \\\n",
       "0           0.388228        0.388074  0.133512     0.301451  0.301406   \n",
       "1           0.721155        0.707505  0.696523     0.692126  0.674754   \n",
       "2           0.545844        0.506372  0.323608     0.545459  0.505258   \n",
       "3           0.657112        0.631327  0.254562     0.641718  0.628028   \n",
       "4           0.705285        0.693051  0.690558     0.672260  0.656079   \n",
       "\n",
       "       group   jaccard  jaccard_01_bin  jaccard_bin  label  mask_area  \\\n",
       "0  Dataset 3  0.071531        0.177475     0.177445   True    0.48545   \n",
       "1  Dataset 3  0.534358        0.529200     0.509154   True    0.48545   \n",
       "2  Dataset 3  0.193038        0.375004     0.338023   True    0.48545   \n",
       "3  Dataset 3  0.145845        0.472448     0.457756   True    0.48545   \n",
       "4  Dataset 3  0.527368        0.506319     0.488182   True    0.48545   \n",
       "\n",
       "   off_on_area_diff  \n",
       "0          0.145334  \n",
       "1          0.190151  \n",
       "2          0.145169  \n",
       "3          0.410273  \n",
       "4          0.111207  "
      ]
     },
     "execution_count": 667,
     "metadata": {},
     "output_type": "execute_result"
    }
   ],
   "source": [
    "df.head()"
   ]
  },
  {
   "cell_type": "code",
   "execution_count": 734,
   "metadata": {},
   "outputs": [
    {
     "data": {
      "image/png": "[encoded data removed]",
      "text/plain": [
       "<matplotlib.figure.Figure at 0x7fe4087a51d0>"
      ]
     },
     "metadata": {},
     "output_type": "display_data"
    }
   ],
   "source": [
    "fig, ax = plt.subplots(1, 1, figsize=(10, 7))\n",
    "ax.scatter(df['corr'], df.off_on_area_diff, c=df.label, s=3)\n",
    "ax.set_xlabel('Correlation', fontsize='x-large')\n",
    "ax.set_ylabel('On/Off area diff', fontsize='x-large')\n",
    "ax.legend(['Ion Image'], fontsize='x-large');"
   ]
  },
  {
   "cell_type": "code",
   "execution_count": 648,
   "metadata": {},
   "outputs": [
    {
     "data": {
      "text/plain": [
       "<matplotlib.collections.PathCollection at 0x7fe40a1130b8>"
      ]
     },
     "execution_count": 648,
     "metadata": {},
     "output_type": "execute_result"
    },
    {
     "data": {
      "image/png": "[encoded data removed]",
      "text/plain": [
       "<matplotlib.figure.Figure at 0x7fe409827630>"
      ]
     },
     "metadata": {},
     "output_type": "display_data"
    }
   ],
   "source": [
    "plt.scatter(df['corr'], df.mask_area, c=df.label, s=3)"
   ]
  },
  {
   "cell_type": "markdown",
   "metadata": {},
   "source": [
    "# Train Classifier"
   ]
  },
  {
   "cell_type": "code",
   "execution_count": 668,
   "metadata": {
    "collapsed": true
   },
   "outputs": [],
   "source": [
    "from sklearn.linear_model import LogisticRegression\n",
    "from sklearn.ensemble import RandomForestClassifier, GradientBoostingClassifier\n",
    "from sklearn.model_selection import train_test_split, cross_validate"
   ]
  },
  {
   "cell_type": "code",
   "execution_count": 669,
   "metadata": {},
   "outputs": [
    {
     "data": {
      "text/plain": [
       "((2731, 15), (2731,), (2731,))"
      ]
     },
     "execution_count": 669,
     "metadata": {},
     "output_type": "execute_result"
    }
   ],
   "source": [
    "X = df.drop(['label', 'group'], axis=1).values #[:,:3]\n",
    "y = df.label.values\n",
    "groups = df.group.values\n",
    "X.shape, y.shape, groups.shape"
   ]
  },
  {
   "cell_type": "code",
   "execution_count": 670,
   "metadata": {},
   "outputs": [
    {
     "data": {
      "text/plain": [
       "10"
      ]
     },
     "execution_count": 670,
     "metadata": {},
     "output_type": "execute_result"
    }
   ],
   "source": [
    "u_groups_n = np.unique(groups).shape[0]\n",
    "u_groups_n"
   ]
  },
  {
   "cell_type": "code",
   "execution_count": 671,
   "metadata": {},
   "outputs": [
    {
     "name": "stdout",
     "output_type": "stream",
     "text": [
      "Train: 0.987265637766 0.00120659275603\n",
      "Test: 0.986107234865 0.0141167401566\n"
     ]
    }
   ],
   "source": [
    "clf = LogisticRegression()\n",
    "# clf = RandomForestClassifier(n_estimators=20, max_depth=3, min_samples_split=10)\n",
    "# clf = GradientBoostingClassifier(n_estimators=50, min_samples_split=10, learning_rate=0.05)\n",
    "\n",
    "cv_results = cross_validate(clf, X, y, groups, cv=u_groups_n,\n",
    "                            return_train_score=True, scoring='accuracy')\n",
    "print('Train:', cv_results['train_score'].mean(), cv_results['train_score'].std())\n",
    "print('Test:', cv_results['test_score'].mean(), cv_results['test_score'].std())"
   ]
  },
  {
   "cell_type": "code",
   "execution_count": 672,
   "metadata": {},
   "outputs": [
    {
     "data": {
      "text/plain": [
       "GradientBoostingClassifier(criterion='friedman_mse', init=None,\n",
       "              learning_rate=0.05, loss='deviance', max_depth=3,\n",
       "              max_features=None, max_leaf_nodes=None,\n",
       "              min_impurity_decrease=0.0, min_impurity_split=None,\n",
       "              min_samples_leaf=1, min_samples_split=10,\n",
       "              min_weight_fraction_leaf=0.0, n_estimators=50,\n",
       "              presort='auto', random_state=None, subsample=1.0, verbose=0,\n",
       "              warm_start=False)"
      ]
     },
     "execution_count": 672,
     "metadata": {},
     "output_type": "execute_result"
    }
   ],
   "source": [
    "# clf = RandomForestClassifier(n_estimators=20, max_depth=3, min_samples_split=10)\n",
    "clf = GradientBoostingClassifier(n_estimators=50, min_samples_split=10, learning_rate=0.05)\n",
    "clf.fit(X, y)"
   ]
  },
  {
   "cell_type": "code",
   "execution_count": 732,
   "metadata": {
    "scrolled": false
   },
   "outputs": [
    {
     "data": {
      "image/png": "[encoded data removed]",
      "text/plain": [
       "<matplotlib.figure.Figure at 0x7fe4084b7898>"
      ]
     },
     "metadata": {},
     "output_type": "display_data"
    }
   ],
   "source": [
    "fig, ax = plt.subplots(1, 1, figsize=(10, 4))\n",
    "left_bar_pos = np.arange(len(clf.feature_importances_))\n",
    "ax.bar(left_bar_pos, clf.feature_importances_)\n",
    "xtick_labels = df.drop(['label', 'group'], axis=1).columns.values\n",
    "ax.set_xticks(np.arange(len(xtick_labels)))\n",
    "ax.set_xticklabels(xtick_labels, rotation='vertical', fontsize='x-large');\n",
    "ax.set_ylabel('Importance', fontsize='x-large');"
   ]
  },
  {
   "cell_type": "markdown",
   "metadata": {},
   "source": [
    "### Difficult Cases"
   ]
  },
  {
   "cell_type": "code",
   "execution_count": 739,
   "metadata": {},
   "outputs": [],
   "source": [
    "X_train, X_test, y_train, y_test = train_test_split(X, y, test_size=0.1)"
   ]
  },
  {
   "cell_type": "code",
   "execution_count": 740,
   "metadata": {},
   "outputs": [
    {
     "data": {
      "text/plain": [
       "((2457, 15), (274, 15))"
      ]
     },
     "execution_count": 740,
     "metadata": {},
     "output_type": "execute_result"
    }
   ],
   "source": [
    "X_train.shape, X_test.shape"
   ]
  },
  {
   "cell_type": "code",
   "execution_count": 741,
   "metadata": {},
   "outputs": [
    {
     "data": {
      "text/plain": [
       "LogisticRegression(C=1.0, class_weight=None, dual=False, fit_intercept=True,\n",
       "          intercept_scaling=1, max_iter=100, multi_class='ovr', n_jobs=1,\n",
       "          penalty='l2', random_state=None, solver='liblinear', tol=0.0001,\n",
       "          verbose=0, warm_start=False)"
      ]
     },
     "execution_count": 741,
     "metadata": {},
     "output_type": "execute_result"
    }
   ],
   "source": [
    "clf = LogisticRegression()\n",
    "clf.fit(X_train, y_train)"
   ]
  },
  {
   "cell_type": "code",
   "execution_count": null,
   "metadata": {
    "collapsed": true
   },
   "outputs": [],
   "source": []
  }
 ],
 "metadata": {
  "kernelspec": {
   "display_name": "off-smpl",
   "language": "python",
   "name": "off-smpl"
  },
  "language_info": {
   "codemirror_mode": {
    "name": "ipython",
    "version": 3
   },
   "file_extension": ".py",
   "mimetype": "text/x-python",
   "name": "python",
   "nbconvert_exporter": "python",
   "pygments_lexer": "ipython3",
   "version": "3.6.1"
  }
 },
 "nbformat": 4,
 "nbformat_minor": 2
}
